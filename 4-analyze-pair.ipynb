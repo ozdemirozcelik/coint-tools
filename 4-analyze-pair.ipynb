{
 "cells": [
  {
   "cell_type": "code",
   "execution_count": 731,
   "id": "28e7da0b",
   "metadata": {
    "ExecuteTime": {
     "end_time": "2022-10-18T17:39:37.698246Z",
     "start_time": "2022-10-18T17:39:37.688283Z"
    }
   },
   "outputs": [],
   "source": [
    "import pandas as pd\n",
    "import numpy as np\n",
    "import matplotlib.pyplot as plt\n",
    "\n",
    "# change default plot parameters\n",
    "plt.rcParams['figure.figsize'] = [6, 4]\n",
    "plt.rcParams['figure.dpi'] = 100"
   ]
  },
  {
   "cell_type": "markdown",
   "id": "704bf5f2",
   "metadata": {},
   "source": [
    "### SETUP & READ FILE"
   ]
  },
  {
   "cell_type": "markdown",
   "id": "fd49b25a",
   "metadata": {},
   "source": [
    "#### Setup"
   ]
  },
  {
   "cell_type": "code",
   "execution_count": 732,
   "id": "0fe9a144",
   "metadata": {
    "ExecuteTime": {
     "end_time": "2022-10-18T17:39:37.714246Z",
     "start_time": "2022-10-18T17:39:37.703246Z"
    }
   },
   "outputs": [],
   "source": [
    "# \"0\" to use all available dates, \"1\" for custom dates\n",
    "custom_date = 1\n",
    "\n",
    "# \"1\" to add a regression coefficient α for Y*(t) = β * x*(t) + α\n",
    "enable_regression_coef = 1\n",
    "\n",
    "# number of samples for linear regression\n",
    "# \"0\" to use all datapoints\n",
    "N = 0 "
   ]
  },
  {
   "cell_type": "code",
   "execution_count": 733,
   "id": "365cac44",
   "metadata": {
    "ExecuteTime": {
     "end_time": "2022-10-18T17:39:37.746245Z",
     "start_time": "2022-10-18T17:39:37.718249Z"
    },
    "scrolled": false
   },
   "outputs": [
    {
     "data": {
      "text/html": [
       "<div>\n",
       "<style scoped>\n",
       "    .dataframe tbody tr th:only-of-type {\n",
       "        vertical-align: middle;\n",
       "    }\n",
       "\n",
       "    .dataframe tbody tr th {\n",
       "        vertical-align: top;\n",
       "    }\n",
       "\n",
       "    .dataframe thead th {\n",
       "        text-align: right;\n",
       "    }\n",
       "</style>\n",
       "<table border=\"1\" class=\"dataframe\">\n",
       "  <thead>\n",
       "    <tr style=\"text-align: right;\">\n",
       "      <th></th>\n",
       "      <th>close_x</th>\n",
       "      <th>volume_x</th>\n",
       "      <th>ticker_x</th>\n",
       "      <th>close_y</th>\n",
       "      <th>volume_y</th>\n",
       "      <th>ticker_y</th>\n",
       "    </tr>\n",
       "  </thead>\n",
       "  <tbody>\n",
       "    <tr>\n",
       "      <th>2018-06-01 00:00:00+00:00</th>\n",
       "      <td>35.020000</td>\n",
       "      <td>2505000</td>\n",
       "      <td>OGE</td>\n",
       "      <td>25.299999</td>\n",
       "      <td>2408500</td>\n",
       "      <td>NI</td>\n",
       "    </tr>\n",
       "    <tr>\n",
       "      <th>2018-06-02 00:00:00+00:00</th>\n",
       "      <td>34.380001</td>\n",
       "      <td>1578700</td>\n",
       "      <td>OGE</td>\n",
       "      <td>24.740000</td>\n",
       "      <td>2873500</td>\n",
       "      <td>NI</td>\n",
       "    </tr>\n",
       "    <tr>\n",
       "      <th>2018-06-03 00:00:00+00:00</th>\n",
       "      <td>34.380001</td>\n",
       "      <td>1578700</td>\n",
       "      <td>OGE</td>\n",
       "      <td>24.740000</td>\n",
       "      <td>2873500</td>\n",
       "      <td>NI</td>\n",
       "    </tr>\n",
       "    <tr>\n",
       "      <th>2018-06-04 00:00:00+00:00</th>\n",
       "      <td>34.380001</td>\n",
       "      <td>1578700</td>\n",
       "      <td>OGE</td>\n",
       "      <td>24.740000</td>\n",
       "      <td>2873500</td>\n",
       "      <td>NI</td>\n",
       "    </tr>\n",
       "    <tr>\n",
       "      <th>2018-06-05 00:00:00+00:00</th>\n",
       "      <td>34.490002</td>\n",
       "      <td>1459900</td>\n",
       "      <td>OGE</td>\n",
       "      <td>24.490000</td>\n",
       "      <td>3544100</td>\n",
       "      <td>NI</td>\n",
       "    </tr>\n",
       "  </tbody>\n",
       "</table>\n",
       "</div>"
      ],
      "text/plain": [
       "                             close_x  volume_x ticker_x    close_y  volume_y  \\\n",
       "2018-06-01 00:00:00+00:00  35.020000   2505000      OGE  25.299999   2408500   \n",
       "2018-06-02 00:00:00+00:00  34.380001   1578700      OGE  24.740000   2873500   \n",
       "2018-06-03 00:00:00+00:00  34.380001   1578700      OGE  24.740000   2873500   \n",
       "2018-06-04 00:00:00+00:00  34.380001   1578700      OGE  24.740000   2873500   \n",
       "2018-06-05 00:00:00+00:00  34.490002   1459900      OGE  24.490000   3544100   \n",
       "\n",
       "                          ticker_y  \n",
       "2018-06-01 00:00:00+00:00       NI  \n",
       "2018-06-02 00:00:00+00:00       NI  \n",
       "2018-06-03 00:00:00+00:00       NI  \n",
       "2018-06-04 00:00:00+00:00       NI  \n",
       "2018-06-05 00:00:00+00:00       NI  "
      ]
     },
     "execution_count": 733,
     "metadata": {},
     "output_type": "execute_result"
    }
   ],
   "source": [
    "if custom_date:\n",
    "    df = pd.read_pickle(\"saved_custom.pkl\")\n",
    "else:\n",
    "    df = pd.read_pickle(\"saved.pkl\")  \n",
    "\n",
    "df.head()"
   ]
  },
  {
   "cell_type": "markdown",
   "id": "140ddc28",
   "metadata": {},
   "source": [
    "### CORRELATION & VISUAL OBSERVATION"
   ]
  },
  {
   "cell_type": "code",
   "execution_count": 734,
   "id": "acff138a",
   "metadata": {
    "ExecuteTime": {
     "end_time": "2022-10-18T17:39:37.778247Z",
     "start_time": "2022-10-18T17:39:37.752247Z"
    }
   },
   "outputs": [
    {
     "name": "stdout",
     "output_type": "stream",
     "text": [
      "Corr. Matrix:\n",
      "         OGE       NI\n",
      "OGE  1.00000  0.90092\n",
      "NI   0.90092  1.00000\n"
     ]
    }
   ],
   "source": [
    "df_corr = df[['close_x','close_y']]\n",
    "df_corr = df_corr.rename(columns={\"close_x\": df.ticker_x[0], \"close_y\": df.ticker_y[0]})\n",
    "print('Corr. Matrix:')\n",
    "print(df_corr.corr(method='pearson'))"
   ]
  },
  {
   "cell_type": "code",
   "execution_count": 735,
   "id": "54eb7dff",
   "metadata": {
    "ExecuteTime": {
     "end_time": "2022-10-18T17:39:38.233108Z",
     "start_time": "2022-10-18T17:39:37.796246Z"
    }
   },
   "outputs": [
    {
     "data": {
      "text/plain": [
       "<matplotlib.legend.Legend at 0x1bd9df037c0>"
      ]
     },
     "execution_count": 735,
     "metadata": {},
     "output_type": "execute_result"
    },
    {
     "data": {
      "image/png": "[encoded data removed]",
      "text/plain": [
       "<Figure size 500x300 with 1 Axes>"
      ]
     },
     "metadata": {
      "needs_background": "light"
     },
     "output_type": "display_data"
    }
   ],
   "source": [
    "# change current plot parameters. use it before defining the plot\n",
    "_ = plt.figure(figsize=(5,3))\n",
    "\n",
    "df.close_x.plot(label=df.ticker_x[0])\n",
    "df.close_y.plot(label=df.ticker_y[0])\n",
    "plt.legend()"
   ]
  },
  {
   "cell_type": "code",
   "execution_count": 736,
   "id": "afe56696",
   "metadata": {
    "ExecuteTime": {
     "end_time": "2022-10-18T17:39:38.829823Z",
     "start_time": "2022-10-18T17:39:38.236074Z"
    }
   },
   "outputs": [
    {
     "data": {
      "image/png": "[encoded data removed]",
      "text/plain": [
       "<Figure size 600x400 with 1 Axes>"
      ]
     },
     "metadata": {
      "needs_background": "light"
     },
     "output_type": "display_data"
    }
   ],
   "source": [
    "import seaborn as sb\n",
    "\n",
    "# seaborn is nice to visualize a linear fit\n",
    "#sb.scatterplot(\"close_x\", \"close_y\", s=30, edgecolor=\"none\", data=df)\n",
    "scplot = sb.regplot(x=\"close_x\", y=\"close_y\", data=df, scatter_kws={\"color\": \"red\"}, line_kws={\"color\": \"black\"});\n",
    "scplot.set(xlabel=df.ticker_x[0], ylabel=df.ticker_y[0])\n",
    " \n",
    "# or you can enable to use pandas, but you should dray the regression line separately\n",
    "# plt.scatter(df.close_y,df.close_x)\n",
    "# plt.xlabel(df.ticker_x[0])\n",
    "# plt.ylabel(df.ticker_y[0])\n",
    "\n",
    "plt.show()"
   ]
  },
  {
   "cell_type": "markdown",
   "id": "ce47bf83",
   "metadata": {},
   "source": [
    "### ORTHOGONAL SPREAD ANALYSIS"
   ]
  },
  {
   "cell_type": "code",
   "execution_count": 737,
   "id": "93678944",
   "metadata": {
    "ExecuteTime": {
     "end_time": "2022-10-18T17:39:38.877824Z",
     "start_time": "2022-10-18T17:39:38.837838Z"
    }
   },
   "outputs": [
    {
     "name": "stdout",
     "output_type": "stream",
     "text": [
      "β * x(t) + α\n",
      "COEF β: 0.4040484625337593\n",
      "COEF α: 10.902419828756821\n",
      "\u001b[43;1mHEDGE: 0.4\u001b[0m\n",
      "EQUATION: NI=0.4*OGE+10.9\n"
     ]
    },
    {
     "name": "stderr",
     "output_type": "stream",
     "text": [
      "C:\\Users\\DELL\\anaconda3\\lib\\site-packages\\statsmodels\\tsa\\tsatools.py:142: FutureWarning: In a future version of pandas all arguments of concat except for the argument 'objs' will be keyword-only\n",
      "  x = pd.concat(x[::order], 1)\n"
     ]
    }
   ],
   "source": [
    "import statsmodels.api as sm\n",
    "\n",
    "#  implement Ordinary Least Squares(OLS) method of linear regression\n",
    "#  Y*(t) = β * x*(t) + α\n",
    "\n",
    "if N>0: # for the recent N rows\n",
    "    Y = df.close_y.iloc[-N:]\n",
    "    X = df.close_x.iloc[-N:]\n",
    "else:\n",
    "    Y = df.close_y\n",
    "    X = df.close_x\n",
    "\n",
    "# ENABLE if you want to add a regression coefficient α\n",
    "if enable_regression_coef:\n",
    "    X = sm.add_constant(X)\n",
    "\n",
    "model = sm.OLS(Y, X) # for the last 90 rows\n",
    "model = model.fit()\n",
    "\n",
    "# get the model coef\n",
    "if len(model.params) == 1:\n",
    "    print(\"β * x(t)\")\n",
    "    print(f\"COEF β: {model.params[0]}\")\n",
    "    hedge = round(float(model.params[0]),2)\n",
    "    print(f\"\\u001b[43;1mHEDGE: {hedge}\\u001b[0m\")\n",
    "    alfa = 0\n",
    "else:\n",
    "# get the model coef with regression coefficient α\n",
    "    print(\"β * x(t) + α\")\n",
    "    print(f\"COEF β: {model.params[1]}\")\n",
    "    hedge = round(float(model.params[1]),2)\n",
    "    print(f\"COEF α: {model.params[0]}\")\n",
    "    alfa = round(float(model.params[0]),2)\n",
    "    print(f\"\\u001b[43;1mHEDGE: {hedge}\\u001b[0m\")\n",
    "    \n",
    "if hedge<0:\n",
    "    print(\"\\u001b[41;1mAvoid pairs with negative β\\u001b[0m\")\n",
    "     \n",
    "# print pair equation\n",
    "print(f\"EQUATION: {df.ticker_y[0]}={hedge}*{df.ticker_x[0]}{'+' + str(round(alfa,1)) if alfa>0 else ''}\")\n",
    "# enable to see the model summary\n",
    "# model.summary()"
   ]
  },
  {
   "cell_type": "markdown",
   "id": "40cef634",
   "metadata": {},
   "source": [
    "### ORTHOGONAL RESIDUALS"
   ]
  },
  {
   "cell_type": "code",
   "execution_count": 738,
   "id": "a2c389b6",
   "metadata": {
    "ExecuteTime": {
     "end_time": "2022-10-18T17:39:39.353382Z",
     "start_time": "2022-10-18T17:39:38.881826Z"
    },
    "scrolled": true
   },
   "outputs": [
    {
     "name": "stdout",
     "output_type": "stream",
     "text": [
      "mean : 0.15120820744541347 | std dev : 0.9548594638607731\n",
      "min : -2.2079998016357436 | max : 3.500000762939452\n"
     ]
    },
    {
     "data": {
      "image/png": "[encoded data removed]",
      "text/plain": [
       "<Figure size 500x300 with 1 Axes>"
      ]
     },
     "metadata": {
      "needs_background": "light"
     },
     "output_type": "display_data"
    }
   ],
   "source": [
    "# spread y(t) - β * x(t) - α\n",
    "spread = df['spread'] = df.close_y - hedge * df.close_x - alfa\n",
    "df['mean_spread'] = spread.mean()\n",
    "\n",
    "# lower and upper bounds\n",
    "std_spread = spread.std()\n",
    "df['std_upper'] = df['mean_spread'] + std_spread\n",
    "df['std_lower'] = df['mean_spread'] - std_spread\n",
    "\n",
    "print(f\"mean : {spread.mean()} | std dev : {std_spread}\")\n",
    "print(f\"min : {spread.min()} | max : {spread.max()}\")\n",
    "\n",
    "\n",
    "# plot\n",
    "# change current plot parameters. use it before defining the plot\n",
    "_ = plt.figure(figsize=(5,3))\n",
    "\n",
    "# df[['spread','mean_spread','std_lower','std_upper']].plot()\n",
    "df.spread.plot(label='spread', color='red')\n",
    "df.mean_spread.plot(label='mean', color='black')\n",
    "plt.fill_between(df.index, df.std_lower, df.std_upper, facecolor='green', alpha=0.3);\n"
   ]
  },
  {
   "cell_type": "markdown",
   "id": "306da587",
   "metadata": {},
   "source": [
    "### UNIT ROOT TEST"
   ]
  },
  {
   "cell_type": "markdown",
   "id": "9ee87bb0",
   "metadata": {},
   "source": [
    "#### Augmented Dickey-Fuller Unit Root Test"
   ]
  },
  {
   "cell_type": "code",
   "execution_count": 739,
   "id": "3447e012",
   "metadata": {
    "ExecuteTime": {
     "end_time": "2022-10-18T17:39:39.431381Z",
     "start_time": "2022-10-18T17:39:39.357383Z"
    }
   },
   "outputs": [
    {
     "name": "stdout",
     "output_type": "stream",
     "text": [
      "test stat. : -4.532025422520792\n",
      "p-value: 0.00017203505088725447\n",
      "critical values: {'1%': -3.4353669981294908, '5%': -2.8637555937483143, '10%': -2.5679495948256252}\n",
      "95% CONFIDENCE: \u001b[42;1mPASSED (H0 rejected, the time series is stationary)\u001b[0m\n",
      "99% CONFIDENCE: \u001b[42;1mPASSED (H0 rejected, the time series is stationary)\u001b[0m\n"
     ]
    }
   ],
   "source": [
    "# The Augmented Dickey-Fuller test can be used to test for a unit root\n",
    "# The ADF test expands the Dickey-Fuller test equation to include high order regressive process in the model.\n",
    "\n",
    "# Null Hypothesis: No cointegration\n",
    "# Decision Rule:Reject the null hypothesis if the  test statistic is less than the critical value\n",
    "\n",
    "# The presence of a unit root is one cause for non-stationarity\n",
    "# An ideal time series has stationarity.\n",
    "# That means that a shift in time doesn’t cause a change in the shape of the distribution. \n",
    "# Data points are often non-stationary or have means, variances, and covariances that change over time.\n",
    "# Non-stationary behaviors can be trends, cycles, random walks, or combinations of the three.\n",
    "# Non-stationary data, as a rule, are unpredictable and cannot be modeled or forecasted.\n",
    "\n",
    "\n",
    "from statsmodels.tsa.stattools import adfuller\n",
    "\n",
    "# By default, lag value is 12*(nobs/100)^{1/4}, where nobs is the number of observations in the series.\n",
    "# But, optionally you can specify either the maximum number of lags with maxlags parameter\n",
    "# or let the algorithm compute the optimal number iteratively. This can be done by setting the autolag='AIC'\n",
    "#adf = adfuller(df.spread, maxlag = 1)\n",
    "adf = adfuller(df.spread, autolag='AIC')\n",
    "\n",
    "# show test statistic\n",
    "print(f\"test stat. : {adf[0]}\")\n",
    "stat = adf[0]\n",
    "\n",
    "# show pvalue\n",
    "# The p-value only tells you how likely the data you have observed is to have occurred under the null hypothesis.\n",
    "# If the p-value is below your threshold of significance (typically p < 0.05), then you can reject the null hypothesis, but this does not necessarily mean that your alternative hypothesis is true.\n",
    "print(f\"p-value: {adf[1]}\")\n",
    "\n",
    "# show critical values\n",
    "print(f\"critical values: {adf[4]}\")\n",
    "critical_values = adf[4]\n",
    "\n",
    "# print pair equation\n",
    "import sys\n",
    "green_bg = '\\u001b[42;1m'\n",
    "red_bg = '\\u001b[41;1m'\n",
    "reset_bg = '\\u001b[0m' \n",
    "print(f\"95% CONFIDENCE: {green_bg + 'PASSED (H0 rejected, the time series is stationary)' if critical_values['5%']>stat else red_bg + ' FAILED (residuals seem to contain a unit root, the time series is non-stationary)'}{reset_bg}\")\n",
    "print(f\"99% CONFIDENCE: {green_bg + 'PASSED (H0 rejected, the time series is stationary)' if critical_values['1%']>stat else red_bg + ' FAILED (residuals seem to contain a unit root, the time series is non-stationary)'}{reset_bg}\")"
   ]
  },
  {
   "cell_type": "markdown",
   "id": "683ccacf",
   "metadata": {},
   "source": [
    "#### Phillips-Perron Unit Root Test"
   ]
  },
  {
   "cell_type": "code",
   "execution_count": 740,
   "id": "deb88064",
   "metadata": {
    "ExecuteTime": {
     "end_time": "2022-10-18T17:39:39.479385Z",
     "start_time": "2022-10-18T17:39:39.436382Z"
    }
   },
   "outputs": [
    {
     "name": "stdout",
     "output_type": "stream",
     "text": [
      "test stat. : -51.113491158706466\n",
      "p-value: 7.011016397218582e-05\n",
      "critical values: {'1%': -29.180128031663482, '5%': -21.611785754221387, '10%': -18.17373750886075}\n",
      "95% CONFIDENCE: \u001b[42;1mPASSED (H0 rejected, the time series is stationary)\u001b[0m\n",
      "99% CONFIDENCE: \u001b[42;1mPASSED (H0 rejected, the time series is stationary)\u001b[0m\n"
     ]
    }
   ],
   "source": [
    "# Phillips-Perron unit root test\n",
    "# https://arch.readthedocs.io/en/latest/unitroot/generated/arch.unitroot.PhillipsPerron.html\n",
    "\n",
    "#A great advantage of Philips-Perron test is that it is non-parametric,\n",
    "#i.e. it does not require to select the level of serial correlation as in ADF.\n",
    "#It rather takes the same estimation scheme as in DF test, but corrects the statistic\n",
    "#to conduct for autocorrelations and heteroscedasticity (HAC type corrections).\n",
    "\n",
    "#The main disadvantage of the PP test is that it is based on asymptotic theory.\n",
    "#Therefore it works well only in large samples that are indeed luxury if not it\n",
    "# comes for financial time series data. And it also shares\n",
    "# disadvantages of ADF tests: sensitivity to structural breaks, poor small sample power\n",
    "# too often resulting in unit root conclusions.\n",
    "\n",
    "\n",
    "# Parameters\n",
    "# y{ndarray, Series}: The data to test for a unit root\n",
    "\n",
    "# lagsint, optional\n",
    "# The number of lags to use in the Newey-West estimator of the long-run covariance. If omitted or None, the lag length is set automatically to 12 * (nobs/100) ** (1/4)\n",
    "\n",
    "# trend{“n”, “c”, “ct”}, optional\n",
    "# The trend component to include in the test\n",
    "\n",
    "# “n” - No trend components\n",
    "# “c” - Include a constant (Default)\n",
    "# “ct” - Include a constant and linear time trend\n",
    "\n",
    "# test_type{“tau”, “rho”}\n",
    "# The test to use when computing the test statistic. “tau” is based on the t-stat and “rho” uses a test based on nobs times the re-centered regression coefficien\n",
    "\n",
    "import arch.unitroot as at\n",
    "pp = at.PhillipsPerron(df.spread, trend='ct', test_type='rho')\n",
    "stat = pp.stat\n",
    "print(f\"test stat. : {pp.stat}\")\n",
    "print(f\"p-value: {pp.pvalue}\")\n",
    "print(f\"critical values: {pp.critical_values}\")\n",
    "critical_values = pp.critical_values\n",
    "\n",
    "\n",
    "# print pair equation\n",
    "import sys\n",
    "green_bg = '\\u001b[42;1m'\n",
    "red_bg = '\\u001b[41;1m'\n",
    "reset_bg = '\\u001b[0m' \n",
    "print(f\"95% CONFIDENCE: {green_bg + 'PASSED (H0 rejected, the time series is stationary)' if critical_values['5%']>stat else red_bg + ' FAILED (residuals seem to contain a unit root, the time series is non-stationary)'}{reset_bg}\")\n",
    "print(f\"99% CONFIDENCE: {green_bg + 'PASSED (H0 rejected, the time series is stationary)' if critical_values['1%']>stat else red_bg + ' FAILED (residuals seem to contain a unit root, the time series is non-stationary)'}{reset_bg}\")\n"
   ]
  },
  {
   "cell_type": "markdown",
   "id": "94791e07",
   "metadata": {},
   "source": [
    "#### Engle-Granger Two-Step Cointegration Test"
   ]
  },
  {
   "cell_type": "code",
   "execution_count": 741,
   "id": "ead9b9e8",
   "metadata": {
    "ExecuteTime": {
     "end_time": "2022-10-18T17:39:39.619379Z",
     "start_time": "2022-10-18T17:39:39.484383Z"
    }
   },
   "outputs": [
    {
     "name": "stdout",
     "output_type": "stream",
     "text": [
      "t-stat. : -3.939817775061645\n",
      "p-value: 0.008733329899878628\n",
      "critical values: [-3.90481977 -3.34079817 -3.04768914]\n",
      "95% CONFIDENCE: \u001b[42;1mPASSED (there is cointegrating relationship)\u001b[0m\n",
      "99% CONFIDENCE: \u001b[42;1mPASSED (there is cointegrating relationship)\u001b[0m\n"
     ]
    }
   ],
   "source": [
    "# This uses the augmented Engle-Granger two-step cointegration test.\n",
    "# Constant or trend is included in 1st stage regression, i.e. in cointegrating equation.\n",
    "# The Null hypothesis is that there is no cointegration, the alternative hypothesis is that\n",
    "# there is cointegrating relationship. If the pvalue is small, below a critical size, then\n",
    "#we can reject the hypothesis that there is no cointegrating relationship.\n",
    "\n",
    "from statsmodels.tsa.stattools import coint\n",
    "# coint,p,_= coint(df.close_x,df.close_y)\n",
    "coint = coint(df.close_x,df.close_y)\n",
    "\n",
    "stat = coint[0]\n",
    "critical_values = coint[2]\n",
    "\n",
    "print(f\"t-stat. : {stat}\")\n",
    "print(f\"p-value: {coint[1]}\")\n",
    "print(f\"critical values: {critical_values}\")\n",
    "\n",
    "# print pair equation\n",
    "import sys\n",
    "green_bg = '\\u001b[42;1m'\n",
    "red_bg = '\\u001b[41;1m'\n",
    "reset_bg = '\\u001b[0m' \n",
    "print(f\"95% CONFIDENCE: {green_bg + 'PASSED (there is cointegrating relationship)' if critical_values[1]>stat else red_bg + ' FAILED (there is no cointegration)'}{reset_bg}\")\n",
    "print(f\"99% CONFIDENCE: {green_bg + 'PASSED (there is cointegrating relationship)' if critical_values[0]>stat else red_bg + ' FAILED (there is no cointegration)'}{reset_bg}\")\n"
   ]
  },
  {
   "cell_type": "code",
   "execution_count": null,
   "id": "90d7013a",
   "metadata": {},
   "outputs": [],
   "source": []
  }
 ],
 "metadata": {
  "kernelspec": {
   "display_name": "Python 3 (ipykernel)",
   "language": "python",
   "name": "python3"
  },
  "language_info": {
   "codemirror_mode": {
    "name": "ipython",
    "version": 3
   },
   "file_extension": ".py",
   "mimetype": "text/x-python",
   "name": "python",
   "nbconvert_exporter": "python",
   "pygments_lexer": "ipython3",
   "version": "3.9.7"
  }
 },
 "nbformat": 4,
 "nbformat_minor": 5
}
