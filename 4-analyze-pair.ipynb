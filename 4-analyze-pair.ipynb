{
 "cells": [
  {
   "cell_type": "markdown",
   "id": "946c77e4",
   "metadata": {},
   "source": [
    "This step is to analyze the pair which we have selected in the previous step."
   ]
  },
  {
   "cell_type": "code",
   "execution_count": 1073,
   "id": "b3809211",
   "metadata": {
    "ExecuteTime": {
     "end_time": "2022-10-21T18:12:14.473347Z",
     "start_time": "2022-10-21T18:12:14.422338Z"
    }
   },
   "outputs": [],
   "source": [
    "import pandas as pd\n",
    "import numpy as np\n",
    "import matplotlib.pyplot as plt\n",
    "\n",
    "# change default plot parameters\n",
    "plt.rcParams['figure.figsize'] = [6, 4]\n",
    "plt.rcParams['figure.dpi'] = 100"
   ]
  },
  {
   "cell_type": "markdown",
   "id": "6a14d26d",
   "metadata": {},
   "source": [
    "### SETUP & READ FILE"
   ]
  },
  {
   "cell_type": "markdown",
   "id": "27a0a7f9",
   "metadata": {},
   "source": [
    "#### Setup"
   ]
  },
  {
   "cell_type": "code",
   "execution_count": 1074,
   "id": "4a0a7acc",
   "metadata": {
    "ExecuteTime": {
     "end_time": "2022-10-21T18:12:14.505354Z",
     "start_time": "2022-10-21T18:12:14.486373Z"
    }
   },
   "outputs": [],
   "source": [
    "# \"0\" to use all available dates, \"1\" for custom dates\n",
    "custom_date = 0\n",
    "\n",
    "# \"1\" to add a regression coefficient α for Y*(t) = β * x*(t) + α\n",
    "enable_regression_coef = 0\n",
    "\n",
    "# number of samples for linear regression\n",
    "# \"0\" to use all datapoints\n",
    "N = 90"
   ]
  },
  {
   "cell_type": "code",
   "execution_count": 1075,
   "id": "365cac44",
   "metadata": {
    "ExecuteTime": {
     "end_time": "2022-10-21T18:12:14.648356Z",
     "start_time": "2022-10-21T18:12:14.511356Z"
    },
    "scrolled": false
   },
   "outputs": [
    {
     "data": {
      "text/html": [
       "<div>\n",
       "<style scoped>\n",
       "    .dataframe tbody tr th:only-of-type {\n",
       "        vertical-align: middle;\n",
       "    }\n",
       "\n",
       "    .dataframe tbody tr th {\n",
       "        vertical-align: top;\n",
       "    }\n",
       "\n",
       "    .dataframe thead th {\n",
       "        text-align: right;\n",
       "    }\n",
       "</style>\n",
       "<table border=\"1\" class=\"dataframe\">\n",
       "  <thead>\n",
       "    <tr style=\"text-align: right;\">\n",
       "      <th></th>\n",
       "      <th>close_x</th>\n",
       "      <th>volume_x</th>\n",
       "      <th>ticker_x</th>\n",
       "      <th>close_y</th>\n",
       "      <th>volume_y</th>\n",
       "      <th>ticker_y</th>\n",
       "    </tr>\n",
       "    <tr>\n",
       "      <th>datetime</th>\n",
       "      <th></th>\n",
       "      <th></th>\n",
       "      <th></th>\n",
       "      <th></th>\n",
       "      <th></th>\n",
       "      <th></th>\n",
       "    </tr>\n",
       "  </thead>\n",
       "  <tbody>\n",
       "    <tr>\n",
       "      <th>2021-10-21 04:00:00+00:00</th>\n",
       "      <td>26.510000</td>\n",
       "      <td>3389700</td>\n",
       "      <td>CNP</td>\n",
       "      <td>19.100000</td>\n",
       "      <td>2516600</td>\n",
       "      <td>VST</td>\n",
       "    </tr>\n",
       "    <tr>\n",
       "      <th>2021-10-22 04:00:00+00:00</th>\n",
       "      <td>26.540001</td>\n",
       "      <td>5155500</td>\n",
       "      <td>CNP</td>\n",
       "      <td>19.110001</td>\n",
       "      <td>2656300</td>\n",
       "      <td>VST</td>\n",
       "    </tr>\n",
       "    <tr>\n",
       "      <th>2021-10-25 04:00:00+00:00</th>\n",
       "      <td>26.770000</td>\n",
       "      <td>3868000</td>\n",
       "      <td>CNP</td>\n",
       "      <td>19.500000</td>\n",
       "      <td>6030600</td>\n",
       "      <td>VST</td>\n",
       "    </tr>\n",
       "    <tr>\n",
       "      <th>2021-10-26 04:00:00+00:00</th>\n",
       "      <td>26.680000</td>\n",
       "      <td>2946000</td>\n",
       "      <td>CNP</td>\n",
       "      <td>19.500000</td>\n",
       "      <td>3051200</td>\n",
       "      <td>VST</td>\n",
       "    </tr>\n",
       "    <tr>\n",
       "      <th>2021-10-27 04:00:00+00:00</th>\n",
       "      <td>26.309999</td>\n",
       "      <td>3292000</td>\n",
       "      <td>CNP</td>\n",
       "      <td>19.660000</td>\n",
       "      <td>3035100</td>\n",
       "      <td>VST</td>\n",
       "    </tr>\n",
       "  </tbody>\n",
       "</table>\n",
       "</div>"
      ],
      "text/plain": [
       "                             close_x  volume_x ticker_x    close_y  volume_y  \\\n",
       "datetime                                                                       \n",
       "2021-10-21 04:00:00+00:00  26.510000   3389700      CNP  19.100000   2516600   \n",
       "2021-10-22 04:00:00+00:00  26.540001   5155500      CNP  19.110001   2656300   \n",
       "2021-10-25 04:00:00+00:00  26.770000   3868000      CNP  19.500000   6030600   \n",
       "2021-10-26 04:00:00+00:00  26.680000   2946000      CNP  19.500000   3051200   \n",
       "2021-10-27 04:00:00+00:00  26.309999   3292000      CNP  19.660000   3035100   \n",
       "\n",
       "                          ticker_y  \n",
       "datetime                            \n",
       "2021-10-21 04:00:00+00:00      VST  \n",
       "2021-10-22 04:00:00+00:00      VST  \n",
       "2021-10-25 04:00:00+00:00      VST  \n",
       "2021-10-26 04:00:00+00:00      VST  \n",
       "2021-10-27 04:00:00+00:00      VST  "
      ]
     },
     "execution_count": 1075,
     "metadata": {},
     "output_type": "execute_result"
    }
   ],
   "source": [
    "if custom_date:\n",
    "    df = pd.read_pickle(\"saved_custom.pkl\")\n",
    "else:\n",
    "    df = pd.read_pickle(\"saved.pkl\")  \n",
    "\n",
    "df.head()"
   ]
  },
  {
   "cell_type": "markdown",
   "id": "b93f0019",
   "metadata": {},
   "source": [
    "### CORRELATION & VISUAL OBSERVATION"
   ]
  },
  {
   "cell_type": "code",
   "execution_count": 1076,
   "id": "b4b7710d",
   "metadata": {
    "ExecuteTime": {
     "end_time": "2022-10-21T18:12:14.742876Z",
     "start_time": "2022-10-21T18:12:14.655356Z"
    }
   },
   "outputs": [
    {
     "name": "stdout",
     "output_type": "stream",
     "text": [
      "Corr. Matrix:\n",
      "          CNP       VST\n",
      "CNP  1.000000  0.888371\n",
      "VST  0.888371  1.000000\n"
     ]
    }
   ],
   "source": [
    "df_corr = df[['close_x','close_y']]\n",
    "df_corr = df_corr.rename(columns={\"close_x\": df.ticker_x[0], \"close_y\": df.ticker_y[0]})\n",
    "print('Corr. Matrix:')\n",
    "print(df_corr.corr(method='pearson'))"
   ]
  },
  {
   "cell_type": "code",
   "execution_count": 1077,
   "id": "54eb7dff",
   "metadata": {
    "ExecuteTime": {
     "end_time": "2022-10-21T18:12:15.197442Z",
     "start_time": "2022-10-21T18:12:14.754409Z"
    }
   },
   "outputs": [
    {
     "data": {
      "text/plain": [
       "<matplotlib.legend.Legend at 0x1bda2285850>"
      ]
     },
     "execution_count": 1077,
     "metadata": {},
     "output_type": "execute_result"
    },
    {
     "data": {
      "image/png": "[encoded data removed]",
      "text/plain": [
       "<Figure size 500x300 with 1 Axes>"
      ]
     },
     "metadata": {
      "needs_background": "light"
     },
     "output_type": "display_data"
    }
   ],
   "source": [
    "# change current plot parameters. use it before defining the plot\n",
    "_ = plt.figure(figsize=(5,3))\n",
    "\n",
    "df.close_x.plot(label=df.ticker_x[0])\n",
    "df.close_y.plot(label=df.ticker_y[0])\n",
    "plt.legend()"
   ]
  },
  {
   "cell_type": "code",
   "execution_count": 1078,
   "id": "afe56696",
   "metadata": {
    "ExecuteTime": {
     "end_time": "2022-10-21T18:12:15.658150Z",
     "start_time": "2022-10-21T18:12:15.202445Z"
    }
   },
   "outputs": [
    {
     "data": {
      "image/png": "[encoded data removed]",
      "text/plain": [
       "<Figure size 600x400 with 1 Axes>"
      ]
     },
     "metadata": {
      "needs_background": "light"
     },
     "output_type": "display_data"
    }
   ],
   "source": [
    "import seaborn as sb\n",
    "\n",
    "# seaborn is nice to visualize a linear fit\n",
    "#sb.scatterplot(\"close_x\", \"close_y\", s=30, edgecolor=\"none\", data=df)\n",
    "scplot = sb.regplot(x=\"close_x\", y=\"close_y\", data=df, scatter_kws={\"color\": \"red\"}, line_kws={\"color\": \"black\"});\n",
    "scplot.set(xlabel=df.ticker_x[0], ylabel=df.ticker_y[0])\n",
    " \n",
    "# or you can enable to use pandas, but you should dray the regression line separately\n",
    "# plt.scatter(df.close_y,df.close_x)\n",
    "# plt.xlabel(df.ticker_x[0])\n",
    "# plt.ylabel(df.ticker_y[0])\n",
    "\n",
    "plt.show()"
   ]
  },
  {
   "cell_type": "markdown",
   "id": "cc26d378",
   "metadata": {},
   "source": [
    "### ORTHOGONAL SPREAD ANALYSIS"
   ]
  },
  {
   "cell_type": "code",
   "execution_count": 1079,
   "id": "93678944",
   "metadata": {
    "ExecuteTime": {
     "end_time": "2022-10-21T18:12:17.309046Z",
     "start_time": "2022-10-21T18:12:15.668144Z"
    }
   },
   "outputs": [
    {
     "name": "stdout",
     "output_type": "stream",
     "text": [
      "β * x(t)\n",
      "COEF β: 0.7845595160499302\n",
      "\u001b[43;1mHEDGE: 0.78\u001b[0m\n",
      "EQUATION: VST=0.78*CNP\n"
     ]
    }
   ],
   "source": [
    "import statsmodels.api as sm\n",
    "\n",
    "#  implement Ordinary Least Squares(OLS) method of linear regression\n",
    "#  Y*(t) = β * x*(t) + α\n",
    "\n",
    "if N>0: # for the recent N rows\n",
    "    Y = df.close_y.iloc[-N:]\n",
    "    X = df.close_x.iloc[-N:]\n",
    "else:\n",
    "    Y = df.close_y\n",
    "    X = df.close_x\n",
    "\n",
    "# ENABLE if you want to add a regression coefficient α\n",
    "if enable_regression_coef:\n",
    "    X = sm.add_constant(X)\n",
    "\n",
    "model = sm.OLS(Y, X) # for the last N rows\n",
    "model = model.fit()\n",
    "\n",
    "# get the model coef\n",
    "if len(model.params) == 1:\n",
    "    print(\"β * x(t)\")\n",
    "    print(f\"COEF β: {model.params[0]}\")\n",
    "    hedge = round(float(model.params[0]),2)\n",
    "    print(f\"\\u001b[43;1mHEDGE: {hedge}\\u001b[0m\")\n",
    "    alfa = 0\n",
    "else:\n",
    "# get the model coef with regression coefficient α\n",
    "    print(\"β * x(t) + α\")\n",
    "    print(f\"COEF β: {model.params[1]}\")\n",
    "    hedge = round(float(model.params[1]),2)\n",
    "    print(f\"COEF α: {model.params[0]}\")\n",
    "    alfa = round(float(model.params[0]),2)\n",
    "    print(f\"\\u001b[43;1mHEDGE: {hedge}\\u001b[0m\")\n",
    "    \n",
    "if hedge<0:\n",
    "    print(\"\\u001b[41;1mAvoid pairs with negative β\\u001b[0m\")\n",
    "     \n",
    "# print pair equation\n",
    "print(f\"EQUATION: {df.ticker_y[0]}={hedge}*{df.ticker_x[0]}{'+' + str(round(alfa,1)) if alfa>0 else ''}\")\n",
    "# enable to see the model summary\n",
    "# model.summary()"
   ]
  },
  {
   "cell_type": "markdown",
   "id": "9116dce0",
   "metadata": {},
   "source": [
    "### ORTHOGONAL RESIDUALS"
   ]
  },
  {
   "cell_type": "code",
   "execution_count": 1080,
   "id": "a2c389b6",
   "metadata": {
    "ExecuteTime": {
     "end_time": "2022-10-21T18:12:17.702103Z",
     "start_time": "2022-10-21T18:12:17.314052Z"
    },
    "scrolled": true
   },
   "outputs": [
    {
     "name": "stdout",
     "output_type": "stream",
     "text": [
      "mean : 0.16668533958465132 | std dev : 0.8704923169267118\n",
      "min : -1.5912001037597712 | max : 2.650601196289063\n"
     ]
    },
    {
     "data": {
      "image/png": "[encoded data removed]",
      "text/plain": [
       "<Figure size 500x300 with 1 Axes>"
      ]
     },
     "metadata": {
      "needs_background": "light"
     },
     "output_type": "display_data"
    }
   ],
   "source": [
    "# spread y(t) - β * x(t) - α\n",
    "spread = df['spread'] = df.close_y - hedge * df.close_x - alfa\n",
    "df['mean_spread'] = spread.mean()\n",
    "\n",
    "# lower and upper bounds\n",
    "std_spread = spread.std()\n",
    "df['std_upper'] = df['mean_spread'] + std_spread\n",
    "df['std_lower'] = df['mean_spread'] - std_spread\n",
    "\n",
    "print(f\"mean : {spread.mean()} | std dev : {std_spread}\")\n",
    "print(f\"min : {spread.min()} | max : {spread.max()}\")\n",
    "\n",
    "\n",
    "# plot\n",
    "# change current plot parameters. use it before defining the plot\n",
    "_ = plt.figure(figsize=(5,3))\n",
    "\n",
    "# df[['spread','mean_spread','std_lower','std_upper']].plot()\n",
    "df.spread.plot(label='spread', color='red')\n",
    "df.mean_spread.plot(label='mean', color='black')\n",
    "plt.fill_between(df.index, df.std_lower, df.std_upper, facecolor='green', alpha=0.3);\n"
   ]
  },
  {
   "cell_type": "markdown",
   "id": "279358f5",
   "metadata": {},
   "source": [
    "### UNIT ROOT TEST"
   ]
  },
  {
   "cell_type": "markdown",
   "id": "be40615e",
   "metadata": {},
   "source": [
    "#### Augmented Dickey-Fuller Unit Root Test"
   ]
  },
  {
   "cell_type": "code",
   "execution_count": 1081,
   "id": "3447e012",
   "metadata": {
    "ExecuteTime": {
     "end_time": "2022-10-21T18:12:17.796627Z",
     "start_time": "2022-10-21T18:12:17.715117Z"
    }
   },
   "outputs": [
    {
     "name": "stdout",
     "output_type": "stream",
     "text": [
      "test stat. : -4.190416552151226\n",
      "p-value: 0.000683949265743782\n",
      "critical values: {'1%': -3.4565688966099373, '5%': -2.8730786194395455, '10%': -2.5729189953388762}\n",
      "90% CONFIDENCE: \u001b[42;1mPASSED\u001b[0m\n",
      "95% CONFIDENCE: \u001b[42;1mPASSED (H0 rejected, the time series is stationary)\u001b[0m\n",
      "99% CONFIDENCE: \u001b[42;1mPASSED (H0 rejected, the time series is stationary)\u001b[0m\n"
     ]
    }
   ],
   "source": [
    "# The Augmented Dickey-Fuller test can be used to test for a unit root\n",
    "# The ADF test expands the Dickey-Fuller test equation to include high order regressive process in the model.\n",
    "\n",
    "# Null Hypothesis: No cointegration\n",
    "# Decision Rule:Reject the null hypothesis if the  test statistic is less than the critical value\n",
    "\n",
    "# The presence of a unit root is one cause for non-stationarity\n",
    "# An ideal time series has stationarity.\n",
    "# That means that a shift in time doesn’t cause a change in the shape of the distribution. \n",
    "# Data points are often non-stationary or have means, variances, and covariances that change over time.\n",
    "# Non-stationary behaviors can be trends, cycles, random walks, or combinations of the three.\n",
    "# Non-stationary data, as a rule, are unpredictable and cannot be modeled or forecasted.\n",
    "\n",
    "\n",
    "from statsmodels.tsa.stattools import adfuller\n",
    "\n",
    "# By default, lag value is 12*(nobs/100)^{1/4}, where nobs is the number of observations in the series.\n",
    "# But, optionally you can specify either the maximum number of lags with maxlags parameter\n",
    "# or let the algorithm compute the optimal number iteratively. This can be done by setting the autolag='AIC'\n",
    "#adf = adfuller(df.spread, maxlag = 1)\n",
    "adf = adfuller(df.spread, autolag='AIC')\n",
    "\n",
    "# show test statistic\n",
    "print(f\"test stat. : {adf[0]}\")\n",
    "stat = adf[0]\n",
    "\n",
    "# show pvalue\n",
    "# The p-value only tells you how likely the data you have observed is to have occurred under the null hypothesis.\n",
    "# If the p-value is below your threshold of significance (typically p < 0.05), then you can reject the null hypothesis, but this does not necessarily mean that your alternative hypothesis is true.\n",
    "print(f\"p-value: {adf[1]}\")\n",
    "\n",
    "# show critical values\n",
    "print(f\"critical values: {adf[4]}\")\n",
    "critical_values = adf[4]\n",
    "\n",
    "# print pair equation\n",
    "import sys\n",
    "green_bg = '\\u001b[42;1m'\n",
    "red_bg = '\\u001b[41;1m'\n",
    "reset_bg = '\\u001b[0m' \n",
    "print(f\"90% CONFIDENCE: {green_bg + 'PASSED' if critical_values['10%']>stat else red_bg + ' FAILED'}{reset_bg}\")\n",
    "print(f\"95% CONFIDENCE: {green_bg + 'PASSED (H0 rejected, the time series is stationary)' if critical_values['5%']>stat else red_bg + ' FAILED (residuals seem to contain a unit root, the time series is non-stationary)'}{reset_bg}\")\n",
    "print(f\"99% CONFIDENCE: {green_bg + 'PASSED (H0 rejected, the time series is stationary)' if critical_values['1%']>stat else red_bg + ' FAILED (residuals seem to contain a unit root, the time series is non-stationary)'}{reset_bg}\")"
   ]
  },
  {
   "cell_type": "markdown",
   "id": "c0a4f793",
   "metadata": {},
   "source": [
    "#### Phillips-Perron Unit Root Test"
   ]
  },
  {
   "cell_type": "code",
   "execution_count": 1082,
   "id": "0575c316",
   "metadata": {
    "ExecuteTime": {
     "end_time": "2022-10-21T18:12:17.859626Z",
     "start_time": "2022-10-21T18:12:17.816635Z"
    }
   },
   "outputs": [
    {
     "name": "stdout",
     "output_type": "stream",
     "text": [
      "test stat. : -32.8633849013544\n",
      "p-value: 0.004509087417857464\n",
      "critical values: {'1%': -28.453090945125442, '5%': -21.20222464396881, '10%': -17.879443586181424}\n",
      "90% CONFIDENCE: \u001b[42;1mPASSED\u001b[0m\n",
      "95% CONFIDENCE: \u001b[42;1mPASSED (H0 rejected, the time series is stationary)\u001b[0m\n",
      "99% CONFIDENCE: \u001b[42;1mPASSED (H0 rejected, the time series is stationary)\u001b[0m\n"
     ]
    }
   ],
   "source": [
    "# Phillips-Perron unit root test\n",
    "# https://arch.readthedocs.io/en/latest/unitroot/generated/arch.unitroot.PhillipsPerron.html\n",
    "\n",
    "#A great advantage of Philips-Perron test is that it is non-parametric,\n",
    "#i.e. it does not require to select the level of serial correlation as in ADF.\n",
    "#It rather takes the same estimation scheme as in DF test, but corrects the statistic\n",
    "#to conduct for autocorrelations and heteroscedasticity (HAC type corrections).\n",
    "\n",
    "#The main disadvantage of the PP test is that it is based on asymptotic theory.\n",
    "#Therefore it works well only in large samples that are indeed luxury if not it\n",
    "# comes for financial time series data. And it also shares\n",
    "# disadvantages of ADF tests: sensitivity to structural breaks, poor small sample power\n",
    "# too often resulting in unit root conclusions.\n",
    "\n",
    "\n",
    "# Parameters\n",
    "# y{ndarray, Series}: The data to test for a unit root\n",
    "\n",
    "# lagsint, optional\n",
    "# The number of lags to use in the Newey-West estimator of the long-run covariance. If omitted or None, the lag length is set automatically to 12 * (nobs/100) ** (1/4)\n",
    "\n",
    "# trend{“n”, “c”, “ct”}, optional\n",
    "# The trend component to include in the test\n",
    "\n",
    "# “n” - No trend components\n",
    "# “c” - Include a constant (Default)\n",
    "# “ct” - Include a constant and linear time trend\n",
    "\n",
    "# test_type{“tau”, “rho”}\n",
    "# The test to use when computing the test statistic. “tau” is based on the t-stat and “rho” uses a test based on nobs times the re-centered regression coefficien\n",
    "\n",
    "import arch.unitroot as at\n",
    "pp = at.PhillipsPerron(df.spread, trend='ct', test_type='rho')\n",
    "stat = pp.stat\n",
    "print(f\"test stat. : {pp.stat}\")\n",
    "print(f\"p-value: {pp.pvalue}\")\n",
    "print(f\"critical values: {pp.critical_values}\")\n",
    "critical_values = pp.critical_values\n",
    "\n",
    "\n",
    "# print pair equation\n",
    "import sys\n",
    "green_bg = '\\u001b[42;1m'\n",
    "red_bg = '\\u001b[41;1m'\n",
    "reset_bg = '\\u001b[0m' \n",
    "print(f\"90% CONFIDENCE: {green_bg + 'PASSED' if critical_values['10%']>stat else red_bg + ' FAILED'}{reset_bg}\")\n",
    "print(f\"95% CONFIDENCE: {green_bg + 'PASSED (H0 rejected, the time series is stationary)' if critical_values['5%']>stat else red_bg + ' FAILED (residuals seem to contain a unit root, the time series is non-stationary)'}{reset_bg}\")\n",
    "print(f\"99% CONFIDENCE: {green_bg + 'PASSED (H0 rejected, the time series is stationary)' if critical_values['1%']>stat else red_bg + ' FAILED (residuals seem to contain a unit root, the time series is non-stationary)'}{reset_bg}\")\n"
   ]
  },
  {
   "cell_type": "markdown",
   "id": "a87cac8a",
   "metadata": {},
   "source": [
    "#### Engle-Granger Two-Step Cointegration Test"
   ]
  },
  {
   "cell_type": "code",
   "execution_count": 1083,
   "id": "cae97853",
   "metadata": {
    "ExecuteTime": {
     "end_time": "2022-10-21T18:12:17.954625Z",
     "start_time": "2022-10-21T18:12:17.864635Z"
    }
   },
   "outputs": [
    {
     "name": "stdout",
     "output_type": "stream",
     "text": [
      "t-stat. : -3.680584400161413\n",
      "p-value: 0.0194053295201022\n",
      "critical values: [-3.94042787 -3.36048387 -3.06132299]\n",
      "90% CONFIDENCE: \u001b[42;1mPASSED\u001b[0m\n",
      "95% CONFIDENCE: \u001b[42;1mPASSED (there is cointegrating relationship)\u001b[0m\n",
      "99% CONFIDENCE: \u001b[41;1m FAILED (there is no cointegration)\u001b[0m\n"
     ]
    }
   ],
   "source": [
    "# This uses the augmented Engle-Granger two-step cointegration test.\n",
    "# Constant or trend is included in 1st stage regression, i.e. in cointegrating equation.\n",
    "# The Null hypothesis is that there is no cointegration, the alternative hypothesis is that\n",
    "# there is cointegrating relationship. If the pvalue is small, below a critical size, then\n",
    "#we can reject the hypothesis that there is no cointegrating relationship.\n",
    "\n",
    "from statsmodels.tsa.stattools import coint\n",
    "# coint,p,_= coint(df.close_x,df.close_y)\n",
    "coint = coint(df.close_x,df.close_y)\n",
    "\n",
    "stat = coint[0]\n",
    "critical_values = coint[2]\n",
    "\n",
    "print(f\"t-stat. : {stat}\")\n",
    "print(f\"p-value: {coint[1]}\")\n",
    "print(f\"critical values: {critical_values}\")\n",
    "\n",
    "# print pair equation\n",
    "import sys\n",
    "green_bg = '\\u001b[42;1m'\n",
    "red_bg = '\\u001b[41;1m'\n",
    "reset_bg = '\\u001b[0m' \n",
    "print(f\"90% CONFIDENCE: {green_bg + 'PASSED' if critical_values[2]>stat else red_bg + ' FAILED'}{reset_bg}\")\n",
    "print(f\"95% CONFIDENCE: {green_bg + 'PASSED (there is cointegrating relationship)' if critical_values[1]>stat else red_bg + ' FAILED (there is no cointegration)'}{reset_bg}\")\n",
    "print(f\"99% CONFIDENCE: {green_bg + 'PASSED (there is cointegrating relationship)' if critical_values[0]>stat else red_bg + ' FAILED (there is no cointegration)'}{reset_bg}\")\n"
   ]
  }
 ],
 "metadata": {
  "kernelspec": {
   "display_name": "Python 3 (ipykernel)",
   "language": "python",
   "name": "python3"
  },
  "language_info": {
   "codemirror_mode": {
    "name": "ipython",
    "version": 3
   },
   "file_extension": ".py",
   "mimetype": "text/x-python",
   "name": "python",
   "nbconvert_exporter": "python",
   "pygments_lexer": "ipython3",
   "version": "3.9.7"
  }
 },
 "nbformat": 4,
 "nbformat_minor": 5
}
