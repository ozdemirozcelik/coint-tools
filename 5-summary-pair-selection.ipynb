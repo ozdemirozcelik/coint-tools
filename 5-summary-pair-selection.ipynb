{
 "cells": [
  {
   "cell_type": "markdown",
   "id": "6bef6f00",
   "metadata": {},
   "source": [
    "We will do cointegration & unit root tests for all of the selected pairs, and eliminate some of them."
   ]
  },
  {
   "cell_type": "code",
   "execution_count": 1213,
   "id": "ef68c313",
   "metadata": {
    "ExecuteTime": {
     "end_time": "2022-10-29T22:50:26.513130Z",
     "start_time": "2022-10-29T22:50:26.471360Z"
    }
   },
   "outputs": [],
   "source": [
    "import numpy as np\n",
    "import pandas as pd\n",
    "import pickle\n",
    "import matplotlib.pyplot as plt\n",
    "from pathlib import Path\n",
    "import seaborn\n",
    "from statsmodels.tsa.stattools import coint\n",
    "from statsmodels.tsa.stattools import adfuller\n",
    "import statsmodels.api as sm\n",
    "import arch.unitroot as at"
   ]
  },
  {
   "cell_type": "markdown",
   "id": "9a554428",
   "metadata": {},
   "source": [
    "### GET ALL TICKERS & PAIRS"
   ]
  },
  {
   "cell_type": "code",
   "execution_count": 1214,
   "id": "c858c353",
   "metadata": {
    "ExecuteTime": {
     "end_time": "2022-10-29T22:50:26.622098Z",
     "start_time": "2022-10-29T22:50:26.520100Z"
    }
   },
   "outputs": [
    {
     "name": "stdout",
     "output_type": "stream",
     "text": [
      "8 pairs\n"
     ]
    },
    {
     "data": {
      "text/plain": [
       "[('AEE', 'DUK'),\n",
       " ('AEP', 'CNP'),\n",
       " ('AEP', 'OGE'),\n",
       " ('AEP', 'VST'),\n",
       " ('CMS', 'DUK'),\n",
       " ('CNP', 'VST'),\n",
       " ('ED', 'VST'),\n",
       " ('OGE', 'XEL')]"
      ]
     },
     "execution_count": 1214,
     "metadata": {},
     "output_type": "execute_result"
    }
   ],
   "source": [
    "df = pd.read_pickle(\"pairs_to_download.pkl\")\n",
    "\n",
    "tickers_list = list(df.index.union(df.columns))\n",
    "\n",
    "x_list = df.index.tolist()\n",
    "y_list = df.columns.tolist()\n",
    "\n",
    "pairs_list = [] # list of pairs as tuples (A,B)\n",
    "\n",
    "for i in range(len(x_list)):\n",
    "    for j in range(len(y_list)):\n",
    "        if df.iloc[i,j]>0:\n",
    "            pairs_list.append((x_list[i], y_list[j]))\n",
    "\n",
    "print(f\"{len(pairs_list)} pairs\")\n",
    "pairs_list"
   ]
  },
  {
   "cell_type": "markdown",
   "id": "19a57ef6",
   "metadata": {},
   "source": [
    "### GET TICKER PRICES"
   ]
  },
  {
   "cell_type": "code",
   "execution_count": 1215,
   "id": "c46d6e3a",
   "metadata": {
    "ExecuteTime": {
     "end_time": "2022-10-29T22:50:26.779666Z",
     "start_time": "2022-10-29T22:50:26.628100Z"
    }
   },
   "outputs": [
    {
     "data": {
      "text/html": [
       "<div>\n",
       "<style scoped>\n",
       "    .dataframe tbody tr th:only-of-type {\n",
       "        vertical-align: middle;\n",
       "    }\n",
       "\n",
       "    .dataframe tbody tr th {\n",
       "        vertical-align: top;\n",
       "    }\n",
       "\n",
       "    .dataframe thead th {\n",
       "        text-align: right;\n",
       "    }\n",
       "</style>\n",
       "<table border=\"1\" class=\"dataframe\">\n",
       "  <thead>\n",
       "    <tr style=\"text-align: right;\">\n",
       "      <th></th>\n",
       "      <th>AEE</th>\n",
       "      <th>AEP</th>\n",
       "      <th>CMS</th>\n",
       "      <th>CNP</th>\n",
       "      <th>DUK</th>\n",
       "      <th>ED</th>\n",
       "      <th>OGE</th>\n",
       "      <th>VST</th>\n",
       "      <th>XEL</th>\n",
       "    </tr>\n",
       "    <tr>\n",
       "      <th>Date</th>\n",
       "      <th></th>\n",
       "      <th></th>\n",
       "      <th></th>\n",
       "      <th></th>\n",
       "      <th></th>\n",
       "      <th></th>\n",
       "      <th></th>\n",
       "      <th></th>\n",
       "      <th></th>\n",
       "    </tr>\n",
       "  </thead>\n",
       "  <tbody>\n",
       "    <tr>\n",
       "      <th>2021-10-29 00:00:00-04:00</th>\n",
       "      <td>84.290001</td>\n",
       "      <td>84.709999</td>\n",
       "      <td>60.349998</td>\n",
       "      <td>26.040001</td>\n",
       "      <td>102.010002</td>\n",
       "      <td>75.400002</td>\n",
       "      <td>34.070000</td>\n",
       "      <td>19.590000</td>\n",
       "      <td>64.589996</td>\n",
       "    </tr>\n",
       "    <tr>\n",
       "      <th>2021-11-01 00:00:00-04:00</th>\n",
       "      <td>84.279999</td>\n",
       "      <td>85.129997</td>\n",
       "      <td>60.290001</td>\n",
       "      <td>26.290001</td>\n",
       "      <td>102.309998</td>\n",
       "      <td>76.110001</td>\n",
       "      <td>34.669998</td>\n",
       "      <td>20.010000</td>\n",
       "      <td>64.500000</td>\n",
       "    </tr>\n",
       "    <tr>\n",
       "      <th>2021-11-02 00:00:00-04:00</th>\n",
       "      <td>84.330002</td>\n",
       "      <td>85.300003</td>\n",
       "      <td>60.439999</td>\n",
       "      <td>26.190001</td>\n",
       "      <td>102.449997</td>\n",
       "      <td>76.440002</td>\n",
       "      <td>34.480000</td>\n",
       "      <td>19.870001</td>\n",
       "      <td>64.709999</td>\n",
       "    </tr>\n",
       "    <tr>\n",
       "      <th>2021-11-03 00:00:00-04:00</th>\n",
       "      <td>84.190002</td>\n",
       "      <td>84.930000</td>\n",
       "      <td>60.150002</td>\n",
       "      <td>26.290001</td>\n",
       "      <td>102.540001</td>\n",
       "      <td>76.980003</td>\n",
       "      <td>34.590000</td>\n",
       "      <td>19.680000</td>\n",
       "      <td>63.500000</td>\n",
       "    </tr>\n",
       "    <tr>\n",
       "      <th>2021-11-04 00:00:00-04:00</th>\n",
       "      <td>84.370003</td>\n",
       "      <td>83.889999</td>\n",
       "      <td>60.020000</td>\n",
       "      <td>26.500000</td>\n",
       "      <td>101.019997</td>\n",
       "      <td>76.279999</td>\n",
       "      <td>34.160000</td>\n",
       "      <td>19.209999</td>\n",
       "      <td>63.070000</td>\n",
       "    </tr>\n",
       "    <tr>\n",
       "      <th>...</th>\n",
       "      <td>...</td>\n",
       "      <td>...</td>\n",
       "      <td>...</td>\n",
       "      <td>...</td>\n",
       "      <td>...</td>\n",
       "      <td>...</td>\n",
       "      <td>...</td>\n",
       "      <td>...</td>\n",
       "      <td>...</td>\n",
       "    </tr>\n",
       "    <tr>\n",
       "      <th>2022-10-24 00:00:00-04:00</th>\n",
       "      <td>77.870003</td>\n",
       "      <td>86.000000</td>\n",
       "      <td>54.619999</td>\n",
       "      <td>27.209999</td>\n",
       "      <td>88.690002</td>\n",
       "      <td>84.690002</td>\n",
       "      <td>35.029999</td>\n",
       "      <td>21.490000</td>\n",
       "      <td>61.580002</td>\n",
       "    </tr>\n",
       "    <tr>\n",
       "      <th>2022-10-25 00:00:00-04:00</th>\n",
       "      <td>79.519997</td>\n",
       "      <td>87.419998</td>\n",
       "      <td>55.750000</td>\n",
       "      <td>27.650000</td>\n",
       "      <td>90.239998</td>\n",
       "      <td>85.849998</td>\n",
       "      <td>35.959999</td>\n",
       "      <td>21.990000</td>\n",
       "      <td>62.400002</td>\n",
       "    </tr>\n",
       "    <tr>\n",
       "      <th>2022-10-26 00:00:00-04:00</th>\n",
       "      <td>79.510002</td>\n",
       "      <td>87.449997</td>\n",
       "      <td>55.900002</td>\n",
       "      <td>27.600000</td>\n",
       "      <td>90.809998</td>\n",
       "      <td>85.739998</td>\n",
       "      <td>35.950001</td>\n",
       "      <td>21.900000</td>\n",
       "      <td>62.570000</td>\n",
       "    </tr>\n",
       "    <tr>\n",
       "      <th>2022-10-27 00:00:00-04:00</th>\n",
       "      <td>80.279999</td>\n",
       "      <td>87.180000</td>\n",
       "      <td>56.599998</td>\n",
       "      <td>27.990000</td>\n",
       "      <td>91.040001</td>\n",
       "      <td>86.419998</td>\n",
       "      <td>36.000000</td>\n",
       "      <td>21.980000</td>\n",
       "      <td>63.250000</td>\n",
       "    </tr>\n",
       "    <tr>\n",
       "      <th>2022-10-28 00:00:00-04:00</th>\n",
       "      <td>82.330002</td>\n",
       "      <td>89.400002</td>\n",
       "      <td>57.919998</td>\n",
       "      <td>28.809999</td>\n",
       "      <td>94.000000</td>\n",
       "      <td>88.449997</td>\n",
       "      <td>36.910000</td>\n",
       "      <td>22.980000</td>\n",
       "      <td>65.370003</td>\n",
       "    </tr>\n",
       "  </tbody>\n",
       "</table>\n",
       "<p>252 rows × 9 columns</p>\n",
       "</div>"
      ],
      "text/plain": [
       "                                 AEE        AEP        CMS        CNP  \\\n",
       "Date                                                                    \n",
       "2021-10-29 00:00:00-04:00  84.290001  84.709999  60.349998  26.040001   \n",
       "2021-11-01 00:00:00-04:00  84.279999  85.129997  60.290001  26.290001   \n",
       "2021-11-02 00:00:00-04:00  84.330002  85.300003  60.439999  26.190001   \n",
       "2021-11-03 00:00:00-04:00  84.190002  84.930000  60.150002  26.290001   \n",
       "2021-11-04 00:00:00-04:00  84.370003  83.889999  60.020000  26.500000   \n",
       "...                              ...        ...        ...        ...   \n",
       "2022-10-24 00:00:00-04:00  77.870003  86.000000  54.619999  27.209999   \n",
       "2022-10-25 00:00:00-04:00  79.519997  87.419998  55.750000  27.650000   \n",
       "2022-10-26 00:00:00-04:00  79.510002  87.449997  55.900002  27.600000   \n",
       "2022-10-27 00:00:00-04:00  80.279999  87.180000  56.599998  27.990000   \n",
       "2022-10-28 00:00:00-04:00  82.330002  89.400002  57.919998  28.809999   \n",
       "\n",
       "                                  DUK         ED        OGE        VST  \\\n",
       "Date                                                                     \n",
       "2021-10-29 00:00:00-04:00  102.010002  75.400002  34.070000  19.590000   \n",
       "2021-11-01 00:00:00-04:00  102.309998  76.110001  34.669998  20.010000   \n",
       "2021-11-02 00:00:00-04:00  102.449997  76.440002  34.480000  19.870001   \n",
       "2021-11-03 00:00:00-04:00  102.540001  76.980003  34.590000  19.680000   \n",
       "2021-11-04 00:00:00-04:00  101.019997  76.279999  34.160000  19.209999   \n",
       "...                               ...        ...        ...        ...   \n",
       "2022-10-24 00:00:00-04:00   88.690002  84.690002  35.029999  21.490000   \n",
       "2022-10-25 00:00:00-04:00   90.239998  85.849998  35.959999  21.990000   \n",
       "2022-10-26 00:00:00-04:00   90.809998  85.739998  35.950001  21.900000   \n",
       "2022-10-27 00:00:00-04:00   91.040001  86.419998  36.000000  21.980000   \n",
       "2022-10-28 00:00:00-04:00   94.000000  88.449997  36.910000  22.980000   \n",
       "\n",
       "                                 XEL  \n",
       "Date                                  \n",
       "2021-10-29 00:00:00-04:00  64.589996  \n",
       "2021-11-01 00:00:00-04:00  64.500000  \n",
       "2021-11-02 00:00:00-04:00  64.709999  \n",
       "2021-11-03 00:00:00-04:00  63.500000  \n",
       "2021-11-04 00:00:00-04:00  63.070000  \n",
       "...                              ...  \n",
       "2022-10-24 00:00:00-04:00  61.580002  \n",
       "2022-10-25 00:00:00-04:00  62.400002  \n",
       "2022-10-26 00:00:00-04:00  62.570000  \n",
       "2022-10-27 00:00:00-04:00  63.250000  \n",
       "2022-10-28 00:00:00-04:00  65.370003  \n",
       "\n",
       "[252 rows x 9 columns]"
      ]
     },
     "execution_count": 1215,
     "metadata": {},
     "output_type": "execute_result"
    }
   ],
   "source": [
    "prices= pd.read_pickle(\"close_prices.pkl\")[tickers_list] \n",
    "prices"
   ]
  },
  {
   "cell_type": "markdown",
   "id": "cc33ecd5",
   "metadata": {},
   "source": [
    "### TESTS"
   ]
  },
  {
   "cell_type": "markdown",
   "id": "f0f8939d",
   "metadata": {},
   "source": [
    "#### COINTEGRATION TEST"
   ]
  },
  {
   "cell_type": "markdown",
   "id": "7b58cbd2",
   "metadata": {},
   "source": [
    "Define a function to loop through the tickers and do a cointegration test for each combination"
   ]
  },
  {
   "cell_type": "code",
   "execution_count": 1216,
   "id": "758f698b",
   "metadata": {
    "ExecuteTime": {
     "end_time": "2022-10-29T22:50:26.828669Z",
     "start_time": "2022-10-29T22:50:26.785669Z"
    }
   },
   "outputs": [],
   "source": [
    "def cointegration_test(data, p_value=0.05):\n",
    "    n = data.shape[1]\n",
    "    # create matrix to be filled later\n",
    "    stats = np.zeros((n, n))\n",
    "    pvalues = np.ones((n, n))\n",
    "    confints = np.zeros((n, n))\n",
    "    keys = data.keys() # get the info axis, returns columns if object is a dataframe\n",
    "    pairs = []\n",
    "    for i in range(n):\n",
    "        for j in range(i+1, n):\n",
    "            result = coint(data[keys[i]], data[keys[j]])\n",
    "            test_stat = result[0]\n",
    "            pvalue = result[1]\n",
    "            stats[i, j] = test_stat\n",
    "            pvalues[i, j] = pvalue\n",
    "            \n",
    "            if pvalue < p_value: # pick only statistically significant ones\n",
    "                pairs.append((keys[i], keys[j]))\n",
    "                if result[2][0]>test_stat:\n",
    "                    confints[i, j]=0.99 \n",
    "                elif result[2][1]>test_stat:\n",
    "                    confints[i, j]=0.95\n",
    "                elif result[2][2]>test_stat:\n",
    "                    confints[i, j]=0.90\n",
    "                else:\n",
    "                    confints[i, j]=1-pvalue               \n",
    "    return stats, pvalues, pairs, confints"
   ]
  },
  {
   "cell_type": "markdown",
   "id": "da8ac22f",
   "metadata": {},
   "source": [
    "Perform Test"
   ]
  },
  {
   "cell_type": "code",
   "execution_count": 1217,
   "id": "3905a4b8",
   "metadata": {
    "ExecuteTime": {
     "end_time": "2022-10-29T22:50:27.508878Z",
     "start_time": "2022-10-29T22:50:26.847668Z"
    },
    "scrolled": true
   },
   "outputs": [],
   "source": [
    "p_value = 0.05  # A p-value less than 0.05 is typically considered to be statistically significant\n",
    "\n",
    "scores, pvalues, pairs, confints = cointegration_test(prices,p_value)"
   ]
  },
  {
   "cell_type": "markdown",
   "id": "b12888a3",
   "metadata": {},
   "source": [
    "HeatMap"
   ]
  },
  {
   "cell_type": "code",
   "execution_count": 1218,
   "id": "ab576bd6",
   "metadata": {
    "ExecuteTime": {
     "end_time": "2022-10-29T22:50:27.978710Z",
     "start_time": "2022-10-29T22:50:27.511881Z"
    }
   },
   "outputs": [
    {
     "name": "stdout",
     "output_type": "stream",
     "text": [
      "remaining 8 pairs from 8\n"
     ]
    },
    {
     "data": {
      "text/html": [
       "<style type=\"text/css\">\n",
       "#T_85ccd_row0_col0, #T_85ccd_row0_col2, #T_85ccd_row0_col3, #T_85ccd_row0_col4, #T_85ccd_row1_col1, #T_85ccd_row1_col4, #T_85ccd_row2_col0, #T_85ccd_row2_col2, #T_85ccd_row2_col3, #T_85ccd_row2_col4, #T_85ccd_row3_col0, #T_85ccd_row3_col1, #T_85ccd_row3_col2, #T_85ccd_row3_col4, #T_85ccd_row4_col0, #T_85ccd_row4_col1, #T_85ccd_row4_col2, #T_85ccd_row4_col4, #T_85ccd_row5_col0, #T_85ccd_row5_col1, #T_85ccd_row5_col2, #T_85ccd_row5_col3 {\n",
       "  color: white;\n",
       "}\n",
       "#T_85ccd_row0_col1, #T_85ccd_row1_col0, #T_85ccd_row1_col2, #T_85ccd_row1_col3, #T_85ccd_row3_col3, #T_85ccd_row5_col4 {\n",
       "  color: white;\n",
       "  background-color: yellow;\n",
       "  color: black;\n",
       "}\n",
       "#T_85ccd_row2_col1, #T_85ccd_row4_col3 {\n",
       "  background-color: green;\n",
       "}\n",
       "</style>\n",
       "<table id=\"T_85ccd_\">\n",
       "  <thead>\n",
       "    <tr>\n",
       "      <th class=\"blank level0\" >&nbsp;</th>\n",
       "      <th class=\"col_heading level0 col0\" >CNP</th>\n",
       "      <th class=\"col_heading level0 col1\" >DUK</th>\n",
       "      <th class=\"col_heading level0 col2\" >OGE</th>\n",
       "      <th class=\"col_heading level0 col3\" >VST</th>\n",
       "      <th class=\"col_heading level0 col4\" >XEL</th>\n",
       "    </tr>\n",
       "  </thead>\n",
       "  <tbody>\n",
       "    <tr>\n",
       "      <th id=\"T_85ccd_level0_row0\" class=\"row_heading level0 row0\" >AEE</th>\n",
       "      <td id=\"T_85ccd_row0_col0\" class=\"data row0 col0\" >nan</td>\n",
       "      <td id=\"T_85ccd_row0_col1\" class=\"data row0 col1\" >0.95</td>\n",
       "      <td id=\"T_85ccd_row0_col2\" class=\"data row0 col2\" >nan</td>\n",
       "      <td id=\"T_85ccd_row0_col3\" class=\"data row0 col3\" >nan</td>\n",
       "      <td id=\"T_85ccd_row0_col4\" class=\"data row0 col4\" >nan</td>\n",
       "    </tr>\n",
       "    <tr>\n",
       "      <th id=\"T_85ccd_level0_row1\" class=\"row_heading level0 row1\" >AEP</th>\n",
       "      <td id=\"T_85ccd_row1_col0\" class=\"data row1 col0\" >0.95</td>\n",
       "      <td id=\"T_85ccd_row1_col1\" class=\"data row1 col1\" >nan</td>\n",
       "      <td id=\"T_85ccd_row1_col2\" class=\"data row1 col2\" >0.95</td>\n",
       "      <td id=\"T_85ccd_row1_col3\" class=\"data row1 col3\" >0.95</td>\n",
       "      <td id=\"T_85ccd_row1_col4\" class=\"data row1 col4\" >nan</td>\n",
       "    </tr>\n",
       "    <tr>\n",
       "      <th id=\"T_85ccd_level0_row2\" class=\"row_heading level0 row2\" >CMS</th>\n",
       "      <td id=\"T_85ccd_row2_col0\" class=\"data row2 col0\" >nan</td>\n",
       "      <td id=\"T_85ccd_row2_col1\" class=\"data row2 col1\" >0.99</td>\n",
       "      <td id=\"T_85ccd_row2_col2\" class=\"data row2 col2\" >nan</td>\n",
       "      <td id=\"T_85ccd_row2_col3\" class=\"data row2 col3\" >nan</td>\n",
       "      <td id=\"T_85ccd_row2_col4\" class=\"data row2 col4\" >nan</td>\n",
       "    </tr>\n",
       "    <tr>\n",
       "      <th id=\"T_85ccd_level0_row3\" class=\"row_heading level0 row3\" >CNP</th>\n",
       "      <td id=\"T_85ccd_row3_col0\" class=\"data row3 col0\" >nan</td>\n",
       "      <td id=\"T_85ccd_row3_col1\" class=\"data row3 col1\" >nan</td>\n",
       "      <td id=\"T_85ccd_row3_col2\" class=\"data row3 col2\" >nan</td>\n",
       "      <td id=\"T_85ccd_row3_col3\" class=\"data row3 col3\" >0.95</td>\n",
       "      <td id=\"T_85ccd_row3_col4\" class=\"data row3 col4\" >nan</td>\n",
       "    </tr>\n",
       "    <tr>\n",
       "      <th id=\"T_85ccd_level0_row4\" class=\"row_heading level0 row4\" >ED</th>\n",
       "      <td id=\"T_85ccd_row4_col0\" class=\"data row4 col0\" >nan</td>\n",
       "      <td id=\"T_85ccd_row4_col1\" class=\"data row4 col1\" >nan</td>\n",
       "      <td id=\"T_85ccd_row4_col2\" class=\"data row4 col2\" >nan</td>\n",
       "      <td id=\"T_85ccd_row4_col3\" class=\"data row4 col3\" >0.99</td>\n",
       "      <td id=\"T_85ccd_row4_col4\" class=\"data row4 col4\" >nan</td>\n",
       "    </tr>\n",
       "    <tr>\n",
       "      <th id=\"T_85ccd_level0_row5\" class=\"row_heading level0 row5\" >OGE</th>\n",
       "      <td id=\"T_85ccd_row5_col0\" class=\"data row5 col0\" >nan</td>\n",
       "      <td id=\"T_85ccd_row5_col1\" class=\"data row5 col1\" >nan</td>\n",
       "      <td id=\"T_85ccd_row5_col2\" class=\"data row5 col2\" >nan</td>\n",
       "      <td id=\"T_85ccd_row5_col3\" class=\"data row5 col3\" >nan</td>\n",
       "      <td id=\"T_85ccd_row5_col4\" class=\"data row5 col4\" >0.95</td>\n",
       "    </tr>\n",
       "  </tbody>\n",
       "</table>\n"
      ],
      "text/plain": [
       "<pandas.io.formats.style.Styler at 0x23a8f2fd970>"
      ]
     },
     "execution_count": 1218,
     "metadata": {},
     "output_type": "execute_result"
    },
    {
     "data": {
      "image/png": "[encoded data removed]",
      "text/plain": [
       "<Figure size 720x720 with 2 Axes>"
      ]
     },
     "metadata": {
      "needs_background": "light"
     },
     "output_type": "display_data"
    }
   ],
   "source": [
    "# mask_matrix = (pvalues >= p_value) # possible to increase the level of significance\n",
    "conf_int = 0.90\n",
    "mask_matrix = (confints < conf_int) # possible to increase the level of significance\n",
    "\n",
    "mask_df = pd.DataFrame(mask_matrix, index= tickers_list, columns = tickers_list)\n",
    "pvalues_df = pd.DataFrame(pvalues, index= tickers_list, columns = tickers_list)\n",
    "confints_df = pd.DataFrame(confints, index= tickers_list, columns = tickers_list)\n",
    "\n",
    "df_p = pvalues_df[~mask_df].dropna(how='all', axis=1)\n",
    "df_p = df_p.dropna(how='all')\n",
    "\n",
    "df_c = confints_df[~mask_df].dropna(how='all', axis=1)\n",
    "df_c = df_c.dropna(how='all')\n",
    "\n",
    "\n",
    "def green_apply(x):\n",
    "    green = {True: \"background-color: green\", False: \"color : white\"}\n",
    "    is_color = (x > 0.95).replace(green)\n",
    "    return is_color\n",
    "\n",
    "def yellow_apply(x):\n",
    "    yellow = {True: \"background-color: yellow; color : black\"}\n",
    "    is_color = (x <= 0.95).replace(yellow)\n",
    "    return is_color\n",
    "\n",
    "# kept it here although we don't expect to see any red backgroud\n",
    "def red_apply(x):\n",
    "    red = {True: \"background-color: red;\"}\n",
    "    is_color = (x <= 0.90).replace(red)\n",
    "    return is_color\n",
    "\n",
    "fig, ax = plt.subplots(figsize=(10, 10))\n",
    "seaborn.heatmap(\n",
    "    df_c,\n",
    "    xticklabels=df_c.columns,\n",
    "    yticklabels=df_c.index,\n",
    "    cmap=\"RdYlGn\",\n",
    "    square=True,\n",
    "    vmin=0.90,\n",
    "    vmax=0.99\n",
    ")\n",
    "\n",
    "print(f\"remaining {df_c.count().sum()} pairs from {len(pairs_list)}\")\n",
    "\n",
    "df_c.style.format(precision=2)\\\n",
    ".apply(green_apply)\\\n",
    ".apply(yellow_apply)\\\n",
    ".apply(red_apply)"
   ]
  },
  {
   "cell_type": "markdown",
   "id": "487009d1",
   "metadata": {
    "ExecuteTime": {
     "end_time": "2022-10-26T23:06:29.483742Z",
     "start_time": "2022-10-26T23:06:29.467257Z"
    }
   },
   "source": [
    "#### UNIT ROOT TESTS"
   ]
  },
  {
   "cell_type": "markdown",
   "id": "6625aa8f",
   "metadata": {},
   "source": [
    "Loop through pairs & perform tests:"
   ]
  },
  {
   "cell_type": "code",
   "execution_count": 1219,
   "id": "8a3168ee",
   "metadata": {
    "ExecuteTime": {
     "end_time": "2022-10-29T22:50:28.241404Z",
     "start_time": "2022-10-29T22:50:27.983711Z"
    }
   },
   "outputs": [],
   "source": [
    "df_c_adf = df_c.copy()\n",
    "df_c_pp = df_c.copy()\n",
    "hedges ={}\n",
    "\n",
    "N=90\n",
    "enable_regression_coef = 0\n",
    "\n",
    "# get new pairs\n",
    "x_list = df_c.index.tolist()\n",
    "y_list = df_c.columns.tolist()\n",
    "\n",
    "pairs_list = [] # list of pairs as tuples (A,B)\n",
    "\n",
    "for i in range(len(x_list)):\n",
    "    for j in range(len(y_list)):\n",
    "        if df.iloc[i,j]>0:\n",
    "            pairs_list.append((x_list[i], y_list[j]))\n",
    "\n",
    "for i in range(len(pairs_list)):\n",
    "    ticker1, ticker2 = list(pairs_list[i])[0], list(pairs_list[i])[1]\n",
    "    prices_pair= prices[list(pairs_list[i])]\n",
    "    \n",
    "    ###HEDGE###\n",
    "    \n",
    "    if N>0:\n",
    "        Y = prices_pair[ticker2].iloc[-N:]\n",
    "        X = prices_pair[ticker1].iloc[-N:]\n",
    "    else:\n",
    "        Y = prices_pair[ticker2]\n",
    "        X = prices_pair[ticker1]\n",
    "\n",
    "    if enable_regression_coef:\n",
    "        X = sm.add_constant(X)\n",
    "\n",
    "    model = sm.OLS(Y, X)\n",
    "    model = model.fit()\n",
    "\n",
    "    if len(model.params) == 1:\n",
    "        hedge = round(float(model.params[0]),2)\n",
    "        alfa = 0\n",
    "    else:\n",
    "        hedge = round(float(model.params[1]),2)\n",
    "        alfa = round(float(model.params[0]),2)\n",
    "    \n",
    "    hedges[(ticker1, ticker2)]=hedge\n",
    "    # print pair equation\n",
    "    #print(f\"EQUATION: {ticker2}={hedge}*{ticker1}{'+' + str(round(alfa,1)) if alfa>0 else ''}\")\n",
    "\n",
    "    ###SPREAD###\n",
    "\n",
    "    prices_pair_s = prices_pair.copy()\n",
    "    spread = prices_pair_s['spread'] = prices_pair[ticker2] - hedge * prices_pair[ticker1] - alfa\n",
    "    \n",
    "    ###ADF###\n",
    "    \n",
    "    adf = adfuller(prices_pair_s.spread, autolag='AIC')\n",
    "    test_stat_df = adf[0]\n",
    "    critical_values_df = adf[4]\n",
    "\n",
    "    if critical_values_df['1%']>test_stat_df:\n",
    "        df_c_adf.loc[(ticker1,ticker2)]=0.99 \n",
    "    elif critical_values_df['5%']>test_stat_df:\n",
    "        df_c_adf.loc[(ticker1,ticker2)]=0.95\n",
    "    elif critical_values_df['10%']>test_stat_df:\n",
    "        df_c_adf.loc[(ticker1,ticker2)]=0.90\n",
    "        \n",
    "    ###PP###  \n",
    "          \n",
    "    pp = at.PhillipsPerron(prices_pair_s.spread, trend='ct', test_type='rho')\n",
    "    test_stat_pp = pp.stat\n",
    "    critical_values_pp = pp.critical_values\n",
    "\n",
    "    if critical_values_pp['1%']>test_stat_pp:\n",
    "        df_c_pp.loc[(ticker1,ticker2)]=0.99 \n",
    "    elif critical_values_pp['5%']>test_stat_pp:\n",
    "        df_c_pp.loc[(ticker1,ticker2)]=0.95\n",
    "    elif critical_values['10%']>test_stat_pp:\n",
    "        df_c_pp.loc[(ticker1,ticker2)]=0.90"
   ]
  },
  {
   "cell_type": "markdown",
   "id": "71e64b2a",
   "metadata": {},
   "source": [
    "Heatmap ADF"
   ]
  },
  {
   "cell_type": "code",
   "execution_count": 1220,
   "id": "1afabc14",
   "metadata": {
    "ExecuteTime": {
     "end_time": "2022-10-29T22:50:28.615520Z",
     "start_time": "2022-10-29T22:50:28.244410Z"
    }
   },
   "outputs": [
    {
     "data": {
      "text/html": [
       "<style type=\"text/css\">\n",
       "#T_a2161_row0_col0, #T_a2161_row0_col2, #T_a2161_row0_col3, #T_a2161_row0_col4, #T_a2161_row1_col1, #T_a2161_row1_col4, #T_a2161_row2_col0, #T_a2161_row2_col2, #T_a2161_row2_col3, #T_a2161_row2_col4, #T_a2161_row3_col0, #T_a2161_row3_col1, #T_a2161_row3_col2, #T_a2161_row3_col4, #T_a2161_row4_col0, #T_a2161_row4_col1, #T_a2161_row4_col2, #T_a2161_row4_col4, #T_a2161_row5_col0, #T_a2161_row5_col1, #T_a2161_row5_col2, #T_a2161_row5_col3 {\n",
       "  color: white;\n",
       "}\n",
       "#T_a2161_row0_col1, #T_a2161_row1_col0 {\n",
       "  color: white;\n",
       "  background-color: yellow;\n",
       "  color: black;\n",
       "}\n",
       "#T_a2161_row1_col2 {\n",
       "  color: white;\n",
       "  background-color: yellow;\n",
       "  color: black;\n",
       "  background-color: red;\n",
       "}\n",
       "#T_a2161_row1_col3, #T_a2161_row2_col1, #T_a2161_row3_col3, #T_a2161_row4_col3, #T_a2161_row5_col4 {\n",
       "  background-color: green;\n",
       "}\n",
       "</style>\n",
       "<table id=\"T_a2161_\">\n",
       "  <thead>\n",
       "    <tr>\n",
       "      <th class=\"blank level0\" >&nbsp;</th>\n",
       "      <th class=\"col_heading level0 col0\" >CNP</th>\n",
       "      <th class=\"col_heading level0 col1\" >DUK</th>\n",
       "      <th class=\"col_heading level0 col2\" >OGE</th>\n",
       "      <th class=\"col_heading level0 col3\" >VST</th>\n",
       "      <th class=\"col_heading level0 col4\" >XEL</th>\n",
       "    </tr>\n",
       "  </thead>\n",
       "  <tbody>\n",
       "    <tr>\n",
       "      <th id=\"T_a2161_level0_row0\" class=\"row_heading level0 row0\" >AEE</th>\n",
       "      <td id=\"T_a2161_row0_col0\" class=\"data row0 col0\" >nan</td>\n",
       "      <td id=\"T_a2161_row0_col1\" class=\"data row0 col1\" >0.95</td>\n",
       "      <td id=\"T_a2161_row0_col2\" class=\"data row0 col2\" >nan</td>\n",
       "      <td id=\"T_a2161_row0_col3\" class=\"data row0 col3\" >nan</td>\n",
       "      <td id=\"T_a2161_row0_col4\" class=\"data row0 col4\" >nan</td>\n",
       "    </tr>\n",
       "    <tr>\n",
       "      <th id=\"T_a2161_level0_row1\" class=\"row_heading level0 row1\" >AEP</th>\n",
       "      <td id=\"T_a2161_row1_col0\" class=\"data row1 col0\" >0.95</td>\n",
       "      <td id=\"T_a2161_row1_col1\" class=\"data row1 col1\" >nan</td>\n",
       "      <td id=\"T_a2161_row1_col2\" class=\"data row1 col2\" >0.90</td>\n",
       "      <td id=\"T_a2161_row1_col3\" class=\"data row1 col3\" >0.99</td>\n",
       "      <td id=\"T_a2161_row1_col4\" class=\"data row1 col4\" >nan</td>\n",
       "    </tr>\n",
       "    <tr>\n",
       "      <th id=\"T_a2161_level0_row2\" class=\"row_heading level0 row2\" >CMS</th>\n",
       "      <td id=\"T_a2161_row2_col0\" class=\"data row2 col0\" >nan</td>\n",
       "      <td id=\"T_a2161_row2_col1\" class=\"data row2 col1\" >0.99</td>\n",
       "      <td id=\"T_a2161_row2_col2\" class=\"data row2 col2\" >nan</td>\n",
       "      <td id=\"T_a2161_row2_col3\" class=\"data row2 col3\" >nan</td>\n",
       "      <td id=\"T_a2161_row2_col4\" class=\"data row2 col4\" >nan</td>\n",
       "    </tr>\n",
       "    <tr>\n",
       "      <th id=\"T_a2161_level0_row3\" class=\"row_heading level0 row3\" >CNP</th>\n",
       "      <td id=\"T_a2161_row3_col0\" class=\"data row3 col0\" >nan</td>\n",
       "      <td id=\"T_a2161_row3_col1\" class=\"data row3 col1\" >nan</td>\n",
       "      <td id=\"T_a2161_row3_col2\" class=\"data row3 col2\" >nan</td>\n",
       "      <td id=\"T_a2161_row3_col3\" class=\"data row3 col3\" >0.99</td>\n",
       "      <td id=\"T_a2161_row3_col4\" class=\"data row3 col4\" >nan</td>\n",
       "    </tr>\n",
       "    <tr>\n",
       "      <th id=\"T_a2161_level0_row4\" class=\"row_heading level0 row4\" >ED</th>\n",
       "      <td id=\"T_a2161_row4_col0\" class=\"data row4 col0\" >nan</td>\n",
       "      <td id=\"T_a2161_row4_col1\" class=\"data row4 col1\" >nan</td>\n",
       "      <td id=\"T_a2161_row4_col2\" class=\"data row4 col2\" >nan</td>\n",
       "      <td id=\"T_a2161_row4_col3\" class=\"data row4 col3\" >0.99</td>\n",
       "      <td id=\"T_a2161_row4_col4\" class=\"data row4 col4\" >nan</td>\n",
       "    </tr>\n",
       "    <tr>\n",
       "      <th id=\"T_a2161_level0_row5\" class=\"row_heading level0 row5\" >OGE</th>\n",
       "      <td id=\"T_a2161_row5_col0\" class=\"data row5 col0\" >nan</td>\n",
       "      <td id=\"T_a2161_row5_col1\" class=\"data row5 col1\" >nan</td>\n",
       "      <td id=\"T_a2161_row5_col2\" class=\"data row5 col2\" >nan</td>\n",
       "      <td id=\"T_a2161_row5_col3\" class=\"data row5 col3\" >nan</td>\n",
       "      <td id=\"T_a2161_row5_col4\" class=\"data row5 col4\" >0.99</td>\n",
       "    </tr>\n",
       "  </tbody>\n",
       "</table>\n"
      ],
      "text/plain": [
       "<pandas.io.formats.style.Styler at 0x23a8e027160>"
      ]
     },
     "execution_count": 1220,
     "metadata": {},
     "output_type": "execute_result"
    },
    {
     "data": {
      "image/png": "[encoded data removed]",
      "text/plain": [
       "<Figure size 720x720 with 2 Axes>"
      ]
     },
     "metadata": {
      "needs_background": "light"
     },
     "output_type": "display_data"
    }
   ],
   "source": [
    "conf_int = 0.95\n",
    "\n",
    "def green_apply(x):\n",
    "    green = {True: \"background-color: green\", False: \"color : white\"}\n",
    "    is_color = (x > conf_int).replace(green)\n",
    "    return is_color\n",
    "\n",
    "def yellow_apply(x):\n",
    "    yellow = {True: \"background-color: yellow; color : black\"}\n",
    "    is_color = (x <= conf_int).replace(yellow)\n",
    "    return is_color\n",
    "\n",
    "def red_apply(x):\n",
    "    red = {True: \"background-color: red\"}\n",
    "    is_color = (x <= 0.90).replace(red)\n",
    "    return is_color\n",
    "\n",
    "fig, ax = plt.subplots(figsize=(10, 10))\n",
    "seaborn.heatmap(\n",
    "    df_c_adf,\n",
    "    xticklabels=df_c.columns,\n",
    "    yticklabels=df_c.index,\n",
    "    cmap=\"RdYlGn\",\n",
    "    #mask=(df_c_adf < conf_int),\n",
    "    square=True,\n",
    "    vmin=0.90,\n",
    "    vmax=0.99\n",
    ")\n",
    "df_c_adf.style.format(precision=2)\\\n",
    ".apply(green_apply)\\\n",
    ".apply(yellow_apply)\\\n",
    ".apply(red_apply)"
   ]
  },
  {
   "cell_type": "markdown",
   "id": "63015880",
   "metadata": {},
   "source": [
    "Heatmap PP"
   ]
  },
  {
   "cell_type": "code",
   "execution_count": 1221,
   "id": "0f3f84d0",
   "metadata": {
    "ExecuteTime": {
     "end_time": "2022-10-29T22:50:29.048518Z",
     "start_time": "2022-10-29T22:50:28.621520Z"
    }
   },
   "outputs": [
    {
     "data": {
      "text/html": [
       "<style type=\"text/css\">\n",
       "#T_c1e11_row0_col0, #T_c1e11_row0_col2, #T_c1e11_row0_col3, #T_c1e11_row0_col4, #T_c1e11_row1_col1, #T_c1e11_row1_col4, #T_c1e11_row2_col0, #T_c1e11_row2_col2, #T_c1e11_row2_col3, #T_c1e11_row2_col4, #T_c1e11_row3_col0, #T_c1e11_row3_col1, #T_c1e11_row3_col2, #T_c1e11_row3_col4, #T_c1e11_row4_col0, #T_c1e11_row4_col1, #T_c1e11_row4_col2, #T_c1e11_row4_col4, #T_c1e11_row5_col0, #T_c1e11_row5_col1, #T_c1e11_row5_col2, #T_c1e11_row5_col3 {\n",
       "  color: white;\n",
       "}\n",
       "#T_c1e11_row0_col1, #T_c1e11_row1_col2 {\n",
       "  color: white;\n",
       "  background-color: yellow;\n",
       "  color: black;\n",
       "  background-color: red;\n",
       "}\n",
       "#T_c1e11_row1_col0, #T_c1e11_row2_col1 {\n",
       "  color: white;\n",
       "  background-color: yellow;\n",
       "  color: black;\n",
       "}\n",
       "#T_c1e11_row1_col3, #T_c1e11_row3_col3, #T_c1e11_row4_col3, #T_c1e11_row5_col4 {\n",
       "  background-color: green;\n",
       "}\n",
       "</style>\n",
       "<table id=\"T_c1e11_\">\n",
       "  <thead>\n",
       "    <tr>\n",
       "      <th class=\"blank level0\" >&nbsp;</th>\n",
       "      <th class=\"col_heading level0 col0\" >CNP</th>\n",
       "      <th class=\"col_heading level0 col1\" >DUK</th>\n",
       "      <th class=\"col_heading level0 col2\" >OGE</th>\n",
       "      <th class=\"col_heading level0 col3\" >VST</th>\n",
       "      <th class=\"col_heading level0 col4\" >XEL</th>\n",
       "    </tr>\n",
       "  </thead>\n",
       "  <tbody>\n",
       "    <tr>\n",
       "      <th id=\"T_c1e11_level0_row0\" class=\"row_heading level0 row0\" >AEE</th>\n",
       "      <td id=\"T_c1e11_row0_col0\" class=\"data row0 col0\" >nan</td>\n",
       "      <td id=\"T_c1e11_row0_col1\" class=\"data row0 col1\" >0.90</td>\n",
       "      <td id=\"T_c1e11_row0_col2\" class=\"data row0 col2\" >nan</td>\n",
       "      <td id=\"T_c1e11_row0_col3\" class=\"data row0 col3\" >nan</td>\n",
       "      <td id=\"T_c1e11_row0_col4\" class=\"data row0 col4\" >nan</td>\n",
       "    </tr>\n",
       "    <tr>\n",
       "      <th id=\"T_c1e11_level0_row1\" class=\"row_heading level0 row1\" >AEP</th>\n",
       "      <td id=\"T_c1e11_row1_col0\" class=\"data row1 col0\" >0.95</td>\n",
       "      <td id=\"T_c1e11_row1_col1\" class=\"data row1 col1\" >nan</td>\n",
       "      <td id=\"T_c1e11_row1_col2\" class=\"data row1 col2\" >0.90</td>\n",
       "      <td id=\"T_c1e11_row1_col3\" class=\"data row1 col3\" >0.99</td>\n",
       "      <td id=\"T_c1e11_row1_col4\" class=\"data row1 col4\" >nan</td>\n",
       "    </tr>\n",
       "    <tr>\n",
       "      <th id=\"T_c1e11_level0_row2\" class=\"row_heading level0 row2\" >CMS</th>\n",
       "      <td id=\"T_c1e11_row2_col0\" class=\"data row2 col0\" >nan</td>\n",
       "      <td id=\"T_c1e11_row2_col1\" class=\"data row2 col1\" >0.95</td>\n",
       "      <td id=\"T_c1e11_row2_col2\" class=\"data row2 col2\" >nan</td>\n",
       "      <td id=\"T_c1e11_row2_col3\" class=\"data row2 col3\" >nan</td>\n",
       "      <td id=\"T_c1e11_row2_col4\" class=\"data row2 col4\" >nan</td>\n",
       "    </tr>\n",
       "    <tr>\n",
       "      <th id=\"T_c1e11_level0_row3\" class=\"row_heading level0 row3\" >CNP</th>\n",
       "      <td id=\"T_c1e11_row3_col0\" class=\"data row3 col0\" >nan</td>\n",
       "      <td id=\"T_c1e11_row3_col1\" class=\"data row3 col1\" >nan</td>\n",
       "      <td id=\"T_c1e11_row3_col2\" class=\"data row3 col2\" >nan</td>\n",
       "      <td id=\"T_c1e11_row3_col3\" class=\"data row3 col3\" >0.99</td>\n",
       "      <td id=\"T_c1e11_row3_col4\" class=\"data row3 col4\" >nan</td>\n",
       "    </tr>\n",
       "    <tr>\n",
       "      <th id=\"T_c1e11_level0_row4\" class=\"row_heading level0 row4\" >ED</th>\n",
       "      <td id=\"T_c1e11_row4_col0\" class=\"data row4 col0\" >nan</td>\n",
       "      <td id=\"T_c1e11_row4_col1\" class=\"data row4 col1\" >nan</td>\n",
       "      <td id=\"T_c1e11_row4_col2\" class=\"data row4 col2\" >nan</td>\n",
       "      <td id=\"T_c1e11_row4_col3\" class=\"data row4 col3\" >0.99</td>\n",
       "      <td id=\"T_c1e11_row4_col4\" class=\"data row4 col4\" >nan</td>\n",
       "    </tr>\n",
       "    <tr>\n",
       "      <th id=\"T_c1e11_level0_row5\" class=\"row_heading level0 row5\" >OGE</th>\n",
       "      <td id=\"T_c1e11_row5_col0\" class=\"data row5 col0\" >nan</td>\n",
       "      <td id=\"T_c1e11_row5_col1\" class=\"data row5 col1\" >nan</td>\n",
       "      <td id=\"T_c1e11_row5_col2\" class=\"data row5 col2\" >nan</td>\n",
       "      <td id=\"T_c1e11_row5_col3\" class=\"data row5 col3\" >nan</td>\n",
       "      <td id=\"T_c1e11_row5_col4\" class=\"data row5 col4\" >0.99</td>\n",
       "    </tr>\n",
       "  </tbody>\n",
       "</table>\n"
      ],
      "text/plain": [
       "<pandas.io.formats.style.Styler at 0x23a8d99dd00>"
      ]
     },
     "execution_count": 1221,
     "metadata": {},
     "output_type": "execute_result"
    },
    {
     "data": {
      "image/png": "[encoded data removed]",
      "text/plain": [
       "<Figure size 720x720 with 2 Axes>"
      ]
     },
     "metadata": {
      "needs_background": "light"
     },
     "output_type": "display_data"
    }
   ],
   "source": [
    "conf_int = 0.95\n",
    "\n",
    "def green_apply(x):\n",
    "    green = {True: \"background-color: green\", False: \"color : white\"}\n",
    "    is_color = (x > conf_int).replace(green)\n",
    "    return is_color\n",
    "\n",
    "def yellow_apply(x):\n",
    "    yellow = {True: \"background-color: yellow; color : black\"}\n",
    "    is_color = (x <= conf_int).replace(yellow)\n",
    "    return is_color\n",
    "\n",
    "def red_apply(x):\n",
    "    red = {True: \"background-color: red\"}\n",
    "    is_color = (x <= 0.90).replace(red)\n",
    "    return is_color\n",
    "\n",
    "fig, ax = plt.subplots(figsize=(10, 10))\n",
    "seaborn.heatmap(\n",
    "    df_c_pp,\n",
    "    xticklabels=df_p.columns,\n",
    "    yticklabels=df_p.index,\n",
    "    cmap=\"RdYlGn\",\n",
    "    #mask=(df_c_adf < conf_int),\n",
    "    square=True,\n",
    "    vmin=0.90,\n",
    "    vmax=0.99\n",
    ")\n",
    "df_c_pp.style.format(precision=2)\\\n",
    ".apply(green_apply)\\\n",
    ".apply(yellow_apply)\\\n",
    ".apply(red_apply)"
   ]
  },
  {
   "cell_type": "markdown",
   "id": "dd8507f0",
   "metadata": {
    "ExecuteTime": {
     "end_time": "2022-10-26T23:10:13.032744Z",
     "start_time": "2022-10-26T23:10:13.021748Z"
    }
   },
   "source": [
    "#### DROP PAIRS"
   ]
  },
  {
   "cell_type": "markdown",
   "id": "57fad369",
   "metadata": {
    "ExecuteTime": {
     "end_time": "2022-10-26T20:47:43.842333Z",
     "start_time": "2022-10-26T20:47:43.835334Z"
    }
   },
   "source": [
    "Drop all %90 conf int values"
   ]
  },
  {
   "cell_type": "code",
   "execution_count": 1222,
   "id": "eb97bcbb",
   "metadata": {
    "ExecuteTime": {
     "end_time": "2022-10-29T22:50:29.141524Z",
     "start_time": "2022-10-29T22:50:29.051524Z"
    }
   },
   "outputs": [
    {
     "name": "stdout",
     "output_type": "stream",
     "text": [
      "dropped pairs:\n",
      "{('AEE', 'DUK'), ('AEP', 'OGE')}\n",
      "remaining 6 pairs from 8\n"
     ]
    },
    {
     "data": {
      "text/plain": [
       "[('CMS', 'DUK'),\n",
       " ('CNP', 'VST'),\n",
       " ('OGE', 'XEL'),\n",
       " ('AEP', 'VST'),\n",
       " ('ED', 'VST'),\n",
       " ('AEP', 'CNP')]"
      ]
     },
     "execution_count": 1222,
     "metadata": {},
     "output_type": "execute_result"
    }
   ],
   "source": [
    "# check for %90 conf intervals\n",
    "mask_90 = df_c.isin([0.90])\n",
    "mask_90_pp = df_c_pp.isin([0.90])\n",
    "mask_90_adf = df_c_adf.isin([0.90])\n",
    "\n",
    "# get col names\n",
    "cols= mask_90.any()\n",
    "cols_pp = mask_90_pp.any()\n",
    "cols_adf= mask_90_adf.any()\n",
    "columns = list(cols[cols == True].index)\n",
    "columns_pp = list(cols_pp[cols_pp == True].index)\n",
    "columns_adf = list(cols_adf[cols_adf == True].index)\n",
    "\n",
    "drop_pairs_list= []\n",
    "\n",
    "# get rows\n",
    "for col in columns:\n",
    "    rows = list(mask_90[col][mask_90[col] == True].index)\n",
    "    for row in rows:\n",
    "        drop_pairs_list.append((row, col))\n",
    "\n",
    "for col in columns_adf:\n",
    "    rows = list(mask_90_adf[col][mask_90_adf[col] == True].index)\n",
    "    for row in rows:\n",
    "        drop_pairs_list.append((row, col))\n",
    "\n",
    "for col in columns_pp:\n",
    "    rows = list(mask_90_pp[col][mask_90_pp[col] == True].index)\n",
    "    for row in rows:\n",
    "        drop_pairs_list.append((row, col))\n",
    "        \n",
    "print(\"dropped pairs:\")\n",
    "drop_pairs_list = list(set(drop_pairs_list))\n",
    "print(set(drop_pairs_list))\n",
    "\n",
    "new_pairs_list = list(set(pairs_list) - set(drop_pairs_list))\n",
    "\n",
    "print(f\"remaining {len(new_pairs_list)} pairs from {df_c.count().sum()}\")\n",
    "list(new_pairs_list)"
   ]
  },
  {
   "cell_type": "code",
   "execution_count": 1223,
   "id": "4331e83e",
   "metadata": {
    "ExecuteTime": {
     "end_time": "2022-10-29T22:50:29.173527Z",
     "start_time": "2022-10-29T22:50:29.145522Z"
    }
   },
   "outputs": [
    {
     "name": "stdout",
     "output_type": "stream",
     "text": [
      "selected: \n",
      "EQUATION: DUK=1.6*CMS\n",
      "EQUATION: VST=0.78*CNP\n",
      "EQUATION: XEL=1.79*OGE\n",
      "EQUATION: VST=0.25*AEP\n",
      "EQUATION: VST=0.25*ED\n",
      "EQUATION: CNP=0.32*AEP\n",
      "dropped: \n",
      "EQUATION: DUK=1.17*AEE\n",
      "EQUATION: OGE=0.41*AEP\n"
     ]
    }
   ],
   "source": [
    "pairs_final ={}\n",
    "dropped_final ={}\n",
    "\n",
    "print(\"selected: \")\n",
    "for i in range(len(new_pairs_list)):\n",
    "    # print pair equation\n",
    "    pairs_final[new_pairs_list[i]] = hedges[new_pairs_list[i]]\n",
    "    print(f\"EQUATION: {new_pairs_list[i][1]}={hedges[new_pairs_list[i]]}*{new_pairs_list[i][0]}\")\n",
    "\n",
    "print(\"dropped: \")\n",
    "for i in range(len(drop_pairs_list)):\n",
    "    dropped_final[drop_pairs_list[i]] = hedges[drop_pairs_list[i]]\n",
    "    print(f\"EQUATION: {drop_pairs_list[i][1]}={hedges[drop_pairs_list[i]]}*{drop_pairs_list[i][0]}\")"
   ]
  },
  {
   "cell_type": "markdown",
   "id": "788b7d4e",
   "metadata": {},
   "source": [
    "Save to file to be used for the next step"
   ]
  },
  {
   "cell_type": "code",
   "execution_count": 1224,
   "id": "2e811d67",
   "metadata": {
    "ExecuteTime": {
     "end_time": "2022-10-29T22:50:29.222527Z",
     "start_time": "2022-10-29T22:50:29.194535Z"
    }
   },
   "outputs": [],
   "source": [
    "with open('pairs_final.pkl', 'wb') as f:\n",
    "    pickle.dump(pairs_final, f)\n",
    "with open('pairs_dropped.pkl', 'wb') as f:\n",
    "    pickle.dump(dropped_final, f)"
   ]
  },
  {
   "cell_type": "markdown",
   "id": "9e937f35",
   "metadata": {
    "ExecuteTime": {
     "end_time": "2022-10-26T20:47:44.014336Z",
     "start_time": "2022-10-26T20:47:44.001333Z"
    }
   },
   "source": [
    "#### Exercise\n",
    "Drop if a pair has more than one %90 conf. out of 3 tests; i.e 2 or more %95 or %99 remains"
   ]
  },
  {
   "cell_type": "code",
   "execution_count": 1225,
   "id": "739f5b87",
   "metadata": {
    "ExecuteTime": {
     "end_time": "2022-10-29T22:50:29.298520Z",
     "start_time": "2022-10-29T22:50:29.245523Z"
    }
   },
   "outputs": [
    {
     "name": "stdout",
     "output_type": "stream",
     "text": [
      "dropped pairs:\n",
      "{('AEP', 'OGE')}\n",
      "remaining 7 pairs from 8\n"
     ]
    },
    {
     "data": {
      "text/plain": [
       "[('CMS', 'DUK'),\n",
       " ('CNP', 'VST'),\n",
       " ('OGE', 'XEL'),\n",
       " ('AEP', 'VST'),\n",
       " ('ED', 'VST'),\n",
       " ('AEE', 'DUK'),\n",
       " ('AEP', 'CNP')]"
      ]
     },
     "execution_count": 1225,
     "metadata": {},
     "output_type": "execute_result"
    }
   ],
   "source": [
    "# check for %90 conf intervals\n",
    "mask_90 = df_c.isin([0.90])\n",
    "mask_90_pp = df_c_pp.isin([0.90])\n",
    "mask_90_adf = df_c_adf.isin([0.90])\n",
    "\n",
    "# get col names\n",
    "cols= mask_90.any()\n",
    "cols_pp = mask_90_pp.any()\n",
    "cols_adf= mask_90_adf.any()\n",
    "columns = list(cols[cols == True].index)\n",
    "columns_pp = list(cols_pp[cols_pp == True].index)\n",
    "columns_adf = list(cols_adf[cols_adf == True].index)\n",
    "\n",
    "drop_pairs_1= []\n",
    "drop_pairs_2= []\n",
    "drop_pairs_3= []\n",
    "\n",
    "# get rows\n",
    "for col in columns:\n",
    "    rows = list(mask_90[col][mask_90[col] == True].index)\n",
    "    for row in rows:\n",
    "        drop_pairs_1.append((row, col))\n",
    "\n",
    "for col in columns_adf:\n",
    "    rows = list(mask_90_adf[col][mask_90_adf[col] == True].index)\n",
    "    for row in rows:\n",
    "        drop_pairs_2.append((row, col))\n",
    "\n",
    "for col in columns_pp:\n",
    "    rows = list(mask_90_pp[col][mask_90_pp[col] == True].index)\n",
    "    for row in rows:\n",
    "        drop_pairs_3.append((row, col))\n",
    "        \n",
    "drop_set = (set(drop_pairs_1) & set(drop_pairs_2)) | (set(drop_pairs_1) & set(drop_pairs_3)) | (set(drop_pairs_2) & set(drop_pairs_3))\n",
    "                                                                                                  \n",
    "print(\"dropped pairs:\")\n",
    "print(set(drop_set))\n",
    "\n",
    "new_pairs_list = set(pairs_list) - set(drop_set)\n",
    "\n",
    "print(f\"remaining {len(new_pairs_list)} pairs from {df_c.count().sum()}\")\n",
    "list(new_pairs_list)"
   ]
  },
  {
   "cell_type": "markdown",
   "id": "9d69e81d",
   "metadata": {
    "ExecuteTime": {
     "end_time": "2022-10-26T20:47:44.091334Z",
     "start_time": "2022-10-26T20:47:44.086334Z"
    }
   },
   "source": [
    "#### Exercize\n",
    "Drop based on conf. int. difference"
   ]
  },
  {
   "cell_type": "code",
   "execution_count": 1226,
   "id": "621663ec",
   "metadata": {
    "ExecuteTime": {
     "end_time": "2022-10-29T22:50:29.549278Z",
     "start_time": "2022-10-29T22:50:29.314518Z"
    }
   },
   "outputs": [
    {
     "data": {
      "text/html": [
       "<style type=\"text/css\">\n",
       "#T_c79e6_row0_col0, #T_c79e6_row0_col1, #T_c79e6_row0_col2, #T_c79e6_row0_col3, #T_c79e6_row0_col4, #T_c79e6_row1_col0, #T_c79e6_row1_col1, #T_c79e6_row1_col4, #T_c79e6_row2_col0, #T_c79e6_row2_col1, #T_c79e6_row2_col2, #T_c79e6_row2_col3, #T_c79e6_row2_col4, #T_c79e6_row3_col0, #T_c79e6_row3_col1, #T_c79e6_row3_col2, #T_c79e6_row3_col4, #T_c79e6_row4_col0, #T_c79e6_row4_col1, #T_c79e6_row4_col2, #T_c79e6_row4_col3, #T_c79e6_row4_col4, #T_c79e6_row5_col0, #T_c79e6_row5_col1, #T_c79e6_row5_col2, #T_c79e6_row5_col3 {\n",
       "  color: white;\n",
       "}\n",
       "#T_c79e6_row1_col2 {\n",
       "  color: white;\n",
       "  background-color: yellow;\n",
       "  color: black;\n",
       "  background-color: red;\n",
       "}\n",
       "#T_c79e6_row1_col3, #T_c79e6_row3_col3, #T_c79e6_row5_col4 {\n",
       "  background-color: green;\n",
       "}\n",
       "</style>\n",
       "<table id=\"T_c79e6_\">\n",
       "  <thead>\n",
       "    <tr>\n",
       "      <th class=\"blank level0\" >&nbsp;</th>\n",
       "      <th class=\"col_heading level0 col0\" >CNP</th>\n",
       "      <th class=\"col_heading level0 col1\" >DUK</th>\n",
       "      <th class=\"col_heading level0 col2\" >OGE</th>\n",
       "      <th class=\"col_heading level0 col3\" >VST</th>\n",
       "      <th class=\"col_heading level0 col4\" >XEL</th>\n",
       "    </tr>\n",
       "  </thead>\n",
       "  <tbody>\n",
       "    <tr>\n",
       "      <th id=\"T_c79e6_level0_row0\" class=\"row_heading level0 row0\" >AEE</th>\n",
       "      <td id=\"T_c79e6_row0_col0\" class=\"data row0 col0\" >nan</td>\n",
       "      <td id=\"T_c79e6_row0_col1\" class=\"data row0 col1\" >nan</td>\n",
       "      <td id=\"T_c79e6_row0_col2\" class=\"data row0 col2\" >nan</td>\n",
       "      <td id=\"T_c79e6_row0_col3\" class=\"data row0 col3\" >nan</td>\n",
       "      <td id=\"T_c79e6_row0_col4\" class=\"data row0 col4\" >nan</td>\n",
       "    </tr>\n",
       "    <tr>\n",
       "      <th id=\"T_c79e6_level0_row1\" class=\"row_heading level0 row1\" >AEP</th>\n",
       "      <td id=\"T_c79e6_row1_col0\" class=\"data row1 col0\" >nan</td>\n",
       "      <td id=\"T_c79e6_row1_col1\" class=\"data row1 col1\" >nan</td>\n",
       "      <td id=\"T_c79e6_row1_col2\" class=\"data row1 col2\" >-0.05</td>\n",
       "      <td id=\"T_c79e6_row1_col3\" class=\"data row1 col3\" >0.04</td>\n",
       "      <td id=\"T_c79e6_row1_col4\" class=\"data row1 col4\" >nan</td>\n",
       "    </tr>\n",
       "    <tr>\n",
       "      <th id=\"T_c79e6_level0_row2\" class=\"row_heading level0 row2\" >CMS</th>\n",
       "      <td id=\"T_c79e6_row2_col0\" class=\"data row2 col0\" >nan</td>\n",
       "      <td id=\"T_c79e6_row2_col1\" class=\"data row2 col1\" >nan</td>\n",
       "      <td id=\"T_c79e6_row2_col2\" class=\"data row2 col2\" >nan</td>\n",
       "      <td id=\"T_c79e6_row2_col3\" class=\"data row2 col3\" >nan</td>\n",
       "      <td id=\"T_c79e6_row2_col4\" class=\"data row2 col4\" >nan</td>\n",
       "    </tr>\n",
       "    <tr>\n",
       "      <th id=\"T_c79e6_level0_row3\" class=\"row_heading level0 row3\" >CNP</th>\n",
       "      <td id=\"T_c79e6_row3_col0\" class=\"data row3 col0\" >nan</td>\n",
       "      <td id=\"T_c79e6_row3_col1\" class=\"data row3 col1\" >nan</td>\n",
       "      <td id=\"T_c79e6_row3_col2\" class=\"data row3 col2\" >nan</td>\n",
       "      <td id=\"T_c79e6_row3_col3\" class=\"data row3 col3\" >0.04</td>\n",
       "      <td id=\"T_c79e6_row3_col4\" class=\"data row3 col4\" >nan</td>\n",
       "    </tr>\n",
       "    <tr>\n",
       "      <th id=\"T_c79e6_level0_row4\" class=\"row_heading level0 row4\" >ED</th>\n",
       "      <td id=\"T_c79e6_row4_col0\" class=\"data row4 col0\" >nan</td>\n",
       "      <td id=\"T_c79e6_row4_col1\" class=\"data row4 col1\" >nan</td>\n",
       "      <td id=\"T_c79e6_row4_col2\" class=\"data row4 col2\" >nan</td>\n",
       "      <td id=\"T_c79e6_row4_col3\" class=\"data row4 col3\" >nan</td>\n",
       "      <td id=\"T_c79e6_row4_col4\" class=\"data row4 col4\" >nan</td>\n",
       "    </tr>\n",
       "    <tr>\n",
       "      <th id=\"T_c79e6_level0_row5\" class=\"row_heading level0 row5\" >OGE</th>\n",
       "      <td id=\"T_c79e6_row5_col0\" class=\"data row5 col0\" >nan</td>\n",
       "      <td id=\"T_c79e6_row5_col1\" class=\"data row5 col1\" >nan</td>\n",
       "      <td id=\"T_c79e6_row5_col2\" class=\"data row5 col2\" >nan</td>\n",
       "      <td id=\"T_c79e6_row5_col3\" class=\"data row5 col3\" >nan</td>\n",
       "      <td id=\"T_c79e6_row5_col4\" class=\"data row5 col4\" >0.04</td>\n",
       "    </tr>\n",
       "  </tbody>\n",
       "</table>\n"
      ],
      "text/plain": [
       "<pandas.io.formats.style.Styler at 0x23a8d32f640>"
      ]
     },
     "metadata": {},
     "output_type": "display_data"
    },
    {
     "data": {
      "text/html": [
       "<style type=\"text/css\">\n",
       "#T_c7d65_row0_col0, #T_c7d65_row0_col2, #T_c7d65_row0_col3, #T_c7d65_row0_col4, #T_c7d65_row1_col0, #T_c7d65_row1_col1, #T_c7d65_row1_col4, #T_c7d65_row2_col0, #T_c7d65_row2_col2, #T_c7d65_row2_col3, #T_c7d65_row2_col4, #T_c7d65_row3_col0, #T_c7d65_row3_col1, #T_c7d65_row3_col2, #T_c7d65_row3_col4, #T_c7d65_row4_col0, #T_c7d65_row4_col1, #T_c7d65_row4_col2, #T_c7d65_row4_col3, #T_c7d65_row4_col4, #T_c7d65_row5_col0, #T_c7d65_row5_col1, #T_c7d65_row5_col2, #T_c7d65_row5_col3 {\n",
       "  color: white;\n",
       "}\n",
       "#T_c7d65_row0_col1, #T_c7d65_row1_col2 {\n",
       "  color: white;\n",
       "  background-color: yellow;\n",
       "  color: black;\n",
       "  background-color: red;\n",
       "}\n",
       "#T_c7d65_row1_col3, #T_c7d65_row3_col3, #T_c7d65_row5_col4 {\n",
       "  background-color: green;\n",
       "}\n",
       "#T_c7d65_row2_col1 {\n",
       "  color: white;\n",
       "  background-color: yellow;\n",
       "  color: black;\n",
       "}\n",
       "</style>\n",
       "<table id=\"T_c7d65_\">\n",
       "  <thead>\n",
       "    <tr>\n",
       "      <th class=\"blank level0\" >&nbsp;</th>\n",
       "      <th class=\"col_heading level0 col0\" >CNP</th>\n",
       "      <th class=\"col_heading level0 col1\" >DUK</th>\n",
       "      <th class=\"col_heading level0 col2\" >OGE</th>\n",
       "      <th class=\"col_heading level0 col3\" >VST</th>\n",
       "      <th class=\"col_heading level0 col4\" >XEL</th>\n",
       "    </tr>\n",
       "  </thead>\n",
       "  <tbody>\n",
       "    <tr>\n",
       "      <th id=\"T_c7d65_level0_row0\" class=\"row_heading level0 row0\" >AEE</th>\n",
       "      <td id=\"T_c7d65_row0_col0\" class=\"data row0 col0\" >nan</td>\n",
       "      <td id=\"T_c7d65_row0_col1\" class=\"data row0 col1\" >-0.05</td>\n",
       "      <td id=\"T_c7d65_row0_col2\" class=\"data row0 col2\" >nan</td>\n",
       "      <td id=\"T_c7d65_row0_col3\" class=\"data row0 col3\" >nan</td>\n",
       "      <td id=\"T_c7d65_row0_col4\" class=\"data row0 col4\" >nan</td>\n",
       "    </tr>\n",
       "    <tr>\n",
       "      <th id=\"T_c7d65_level0_row1\" class=\"row_heading level0 row1\" >AEP</th>\n",
       "      <td id=\"T_c7d65_row1_col0\" class=\"data row1 col0\" >nan</td>\n",
       "      <td id=\"T_c7d65_row1_col1\" class=\"data row1 col1\" >nan</td>\n",
       "      <td id=\"T_c7d65_row1_col2\" class=\"data row1 col2\" >-0.05</td>\n",
       "      <td id=\"T_c7d65_row1_col3\" class=\"data row1 col3\" >0.04</td>\n",
       "      <td id=\"T_c7d65_row1_col4\" class=\"data row1 col4\" >nan</td>\n",
       "    </tr>\n",
       "    <tr>\n",
       "      <th id=\"T_c7d65_level0_row2\" class=\"row_heading level0 row2\" >CMS</th>\n",
       "      <td id=\"T_c7d65_row2_col0\" class=\"data row2 col0\" >nan</td>\n",
       "      <td id=\"T_c7d65_row2_col1\" class=\"data row2 col1\" >-0.04</td>\n",
       "      <td id=\"T_c7d65_row2_col2\" class=\"data row2 col2\" >nan</td>\n",
       "      <td id=\"T_c7d65_row2_col3\" class=\"data row2 col3\" >nan</td>\n",
       "      <td id=\"T_c7d65_row2_col4\" class=\"data row2 col4\" >nan</td>\n",
       "    </tr>\n",
       "    <tr>\n",
       "      <th id=\"T_c7d65_level0_row3\" class=\"row_heading level0 row3\" >CNP</th>\n",
       "      <td id=\"T_c7d65_row3_col0\" class=\"data row3 col0\" >nan</td>\n",
       "      <td id=\"T_c7d65_row3_col1\" class=\"data row3 col1\" >nan</td>\n",
       "      <td id=\"T_c7d65_row3_col2\" class=\"data row3 col2\" >nan</td>\n",
       "      <td id=\"T_c7d65_row3_col3\" class=\"data row3 col3\" >0.04</td>\n",
       "      <td id=\"T_c7d65_row3_col4\" class=\"data row3 col4\" >nan</td>\n",
       "    </tr>\n",
       "    <tr>\n",
       "      <th id=\"T_c7d65_level0_row4\" class=\"row_heading level0 row4\" >ED</th>\n",
       "      <td id=\"T_c7d65_row4_col0\" class=\"data row4 col0\" >nan</td>\n",
       "      <td id=\"T_c7d65_row4_col1\" class=\"data row4 col1\" >nan</td>\n",
       "      <td id=\"T_c7d65_row4_col2\" class=\"data row4 col2\" >nan</td>\n",
       "      <td id=\"T_c7d65_row4_col3\" class=\"data row4 col3\" >nan</td>\n",
       "      <td id=\"T_c7d65_row4_col4\" class=\"data row4 col4\" >nan</td>\n",
       "    </tr>\n",
       "    <tr>\n",
       "      <th id=\"T_c7d65_level0_row5\" class=\"row_heading level0 row5\" >OGE</th>\n",
       "      <td id=\"T_c7d65_row5_col0\" class=\"data row5 col0\" >nan</td>\n",
       "      <td id=\"T_c7d65_row5_col1\" class=\"data row5 col1\" >nan</td>\n",
       "      <td id=\"T_c7d65_row5_col2\" class=\"data row5 col2\" >nan</td>\n",
       "      <td id=\"T_c7d65_row5_col3\" class=\"data row5 col3\" >nan</td>\n",
       "      <td id=\"T_c7d65_row5_col4\" class=\"data row5 col4\" >0.04</td>\n",
       "    </tr>\n",
       "  </tbody>\n",
       "</table>\n"
      ],
      "text/plain": [
       "<pandas.io.formats.style.Styler at 0x23a88684cd0>"
      ]
     },
     "metadata": {},
     "output_type": "display_data"
    },
    {
     "name": "stdout",
     "output_type": "stream",
     "text": [
      "dropped pairs:\n",
      "[('AEP', 'OGE'), ('AEE', 'DUK'), ('AEP', 'OGE')]\n",
      "remaining 6 pairs from 8\n"
     ]
    },
    {
     "data": {
      "text/plain": [
       "[('CMS', 'DUK'),\n",
       " ('CNP', 'VST'),\n",
       " ('OGE', 'XEL'),\n",
       " ('AEP', 'VST'),\n",
       " ('ED', 'VST'),\n",
       " ('AEP', 'CNP')]"
      ]
     },
     "execution_count": 1226,
     "metadata": {},
     "output_type": "execute_result"
    }
   ],
   "source": [
    "# let's eliminate the pairs if any of its test result drops to %90\n",
    "\n",
    "# keep green from %95 to %99\n",
    "def green_apply(x):\n",
    "    color = {True: \"background-color: green\", False: \"color : white\"}\n",
    "    is_color = (x > 0).replace(color)\n",
    "    return is_color\n",
    "# keep yellow (from %99 to %95)\n",
    "def yellow_apply(x):\n",
    "    color = {True: \"background-color: yellow; color : black\"}\n",
    "    is_color = (x <= -0.04).replace(color)\n",
    "    return is_color\n",
    "# drop red (from %99-%95 to %90)\n",
    "def red_apply(x):\n",
    "    color = {True: \"background-color: red\"}\n",
    "    is_color = (x <= -0.05).replace(color)\n",
    "    return is_color\n",
    "\n",
    "df_diff_adf = df_c_adf.subtract(df_c).round(2)\n",
    "df_diff_adf = df_diff_adf.replace(0, np.nan)\n",
    "\n",
    "df_diff_pp = df_c_pp.subtract(df_c).round(2)\n",
    "df_diff_pp = df_diff_pp.replace(0, np.nan)\n",
    "\n",
    "display(df_diff_adf.style.format(precision=2)\\\n",
    "        .apply(green_apply)\\\n",
    "        .apply(yellow_apply)\\\n",
    "        .apply(red_apply))\n",
    "\n",
    "display(df_diff_pp.style.format(precision=2)\\\n",
    "        .apply(green_apply)\\\n",
    "        .apply(yellow_apply)\\\n",
    "        .apply(red_apply))\n",
    "\n",
    "x_list = df_c.index.tolist()\n",
    "y_list = df_c.columns.tolist()\n",
    "\n",
    "drop_pairs_list = []\n",
    "\n",
    "for i in range(len(x_list)):\n",
    "    for j in range(len(y_list)):\n",
    "        # print(x_list[i] + \"-\" + y_list[j])\n",
    "        if df_diff_adf.iloc[i,j]< -0.04:  # eliminate id drops to %90\n",
    "            drop_pairs_list.append((x_list[i], y_list[j]))\n",
    "\n",
    "for i in range(len(x_list)):\n",
    "    for j in range(len(y_list)):\n",
    "        if df_diff_pp.iloc[i,j]< -0.04:  # eliminate id drops to %90\n",
    "            drop_pairs_list.append((x_list[i], y_list[j]))\n",
    "                      \n",
    "print(\"dropped pairs:\")\n",
    "print(drop_pairs_list)\n",
    "\n",
    "new_pairs_list = set(pairs_list) - set(drop_pairs_list)\n",
    "\n",
    "print(f\"remaining {len(new_pairs_list)} pairs from {df_c.count().sum()}\")\n",
    "list(new_pairs_list)"
   ]
  },
  {
   "cell_type": "markdown",
   "id": "87102fcc",
   "metadata": {
    "ExecuteTime": {
     "end_time": "2022-10-26T20:47:44.359333Z",
     "start_time": "2022-10-26T20:47:44.348356Z"
    }
   },
   "source": [
    "#### Exercise\n",
    "Show unique tickers in the list of selected pairs"
   ]
  },
  {
   "cell_type": "code",
   "execution_count": 1227,
   "id": "cd932ccf",
   "metadata": {
    "ExecuteTime": {
     "end_time": "2022-10-29T22:50:29.581319Z",
     "start_time": "2022-10-29T22:50:29.555283Z"
    }
   },
   "outputs": [
    {
     "name": "stdout",
     "output_type": "stream",
     "text": [
      "total 8 tickers\n"
     ]
    },
    {
     "data": {
      "text/plain": [
       "{'AEP', 'CMS', 'CNP', 'DUK', 'ED', 'OGE', 'VST', 'XEL'}"
      ]
     },
     "execution_count": 1227,
     "metadata": {},
     "output_type": "execute_result"
    }
   ],
   "source": [
    "import itertools\n",
    "chain = itertools.chain(*new_pairs_list)\n",
    "new_tickers = set(chain)\n",
    "print(f\"total {len(set(new_tickers))} tickers\")\n",
    "new_tickers"
   ]
  }
 ],
 "metadata": {
  "kernelspec": {
   "display_name": "Python 3 (ipykernel)",
   "language": "python",
   "name": "python3"
  },
  "language_info": {
   "codemirror_mode": {
    "name": "ipython",
    "version": 3
   },
   "file_extension": ".py",
   "mimetype": "text/x-python",
   "name": "python",
   "nbconvert_exporter": "python",
   "pygments_lexer": "ipython3",
   "version": "3.9.7"
  }
 },
 "nbformat": 4,
 "nbformat_minor": 5
}
