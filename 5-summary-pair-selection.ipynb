{
 "cells": [
  {
   "cell_type": "markdown",
   "id": "3c81f209",
   "metadata": {},
   "source": [
    "We will do cointegration & unit root tests for all of the selected pairs, and eliminate some of them."
   ]
  },
  {
   "cell_type": "code",
   "execution_count": 318,
   "id": "8117edec",
   "metadata": {
    "ExecuteTime": {
     "end_time": "2022-11-01T17:35:39.195060Z",
     "start_time": "2022-11-01T17:35:39.127082Z"
    }
   },
   "outputs": [],
   "source": [
    "import numpy as np\n",
    "import pandas as pd\n",
    "import pickle\n",
    "import matplotlib.pyplot as plt\n",
    "from pathlib import Path\n",
    "import seaborn\n",
    "from statsmodels.tsa.stattools import coint\n",
    "from statsmodels.tsa.stattools import adfuller\n",
    "import statsmodels.api as sm\n",
    "import arch.unitroot as at"
   ]
  },
  {
   "cell_type": "markdown",
   "id": "78404615",
   "metadata": {
    "ExecuteTime": {
     "end_time": "2022-10-31T05:24:26.150290Z",
     "start_time": "2022-10-31T05:24:26.134290Z"
    }
   },
   "source": [
    "### SETUP"
   ]
  },
  {
   "cell_type": "markdown",
   "id": "04fbcad8",
   "metadata": {},
   "source": [
    "Define intervals to drop:"
   ]
  },
  {
   "cell_type": "code",
   "execution_count": 319,
   "id": "406125c7",
   "metadata": {
    "ExecuteTime": {
     "end_time": "2022-11-01T17:35:39.238057Z",
     "start_time": "2022-11-01T17:35:39.215059Z"
    }
   },
   "outputs": [],
   "source": [
    "conf_int_to_drop = [0.90]  # drop list for intervals\n",
    "# conf_int_to_drop = [0.90, 0.95]  # drop list for intervals"
   ]
  },
  {
   "cell_type": "markdown",
   "id": "1db8746a",
   "metadata": {},
   "source": [
    "### GET ALL TICKERS & PAIRS"
   ]
  },
  {
   "cell_type": "code",
   "execution_count": 320,
   "id": "705261e6",
   "metadata": {
    "ExecuteTime": {
     "end_time": "2022-11-01T17:35:39.394912Z",
     "start_time": "2022-11-01T17:35:39.249059Z"
    }
   },
   "outputs": [
    {
     "name": "stdout",
     "output_type": "stream",
     "text": [
      "10 pairs\n"
     ]
    },
    {
     "data": {
      "text/plain": [
       "[('APO', 'BEN'),\n",
       " ('APO', 'C'),\n",
       " ('APO', 'STT'),\n",
       " ('BAC', 'STT'),\n",
       " ('BEN', 'KKR'),\n",
       " ('BX', 'COF'),\n",
       " ('BX', 'USB'),\n",
       " ('COF', 'USB'),\n",
       " ('RF', 'SCHW'),\n",
       " ('RF', 'STT')]"
      ]
     },
     "execution_count": 320,
     "metadata": {},
     "output_type": "execute_result"
    }
   ],
   "source": [
    "df = pd.read_pickle(\"pairs_to_download.pkl\")\n",
    "\n",
    "tickers_list = list(df.index.union(df.columns))\n",
    "\n",
    "x_list = df.index.tolist()\n",
    "y_list = df.columns.tolist()\n",
    "\n",
    "pairs_list = [] # list of pairs as tuples (A,B)\n",
    "\n",
    "for i in range(len(x_list)):\n",
    "    for j in range(len(y_list)):\n",
    "        if df.iloc[i,j]>0:\n",
    "            pairs_list.append((x_list[i], y_list[j]))\n",
    "\n",
    "print(f\"{len(pairs_list)} pairs\")\n",
    "pairs_list"
   ]
  },
  {
   "cell_type": "markdown",
   "id": "02231c80",
   "metadata": {},
   "source": [
    "### GET TICKER PRICES"
   ]
  },
  {
   "cell_type": "code",
   "execution_count": 321,
   "id": "6931923a",
   "metadata": {
    "ExecuteTime": {
     "end_time": "2022-11-01T17:35:39.642934Z",
     "start_time": "2022-11-01T17:35:39.401910Z"
    }
   },
   "outputs": [
    {
     "data": {
      "text/html": [
       "<div>\n",
       "<style scoped>\n",
       "    .dataframe tbody tr th:only-of-type {\n",
       "        vertical-align: middle;\n",
       "    }\n",
       "\n",
       "    .dataframe tbody tr th {\n",
       "        vertical-align: top;\n",
       "    }\n",
       "\n",
       "    .dataframe thead th {\n",
       "        text-align: right;\n",
       "    }\n",
       "</style>\n",
       "<table border=\"1\" class=\"dataframe\">\n",
       "  <thead>\n",
       "    <tr style=\"text-align: right;\">\n",
       "      <th></th>\n",
       "      <th>APO</th>\n",
       "      <th>BAC</th>\n",
       "      <th>BEN</th>\n",
       "      <th>BX</th>\n",
       "      <th>C</th>\n",
       "      <th>COF</th>\n",
       "      <th>KKR</th>\n",
       "      <th>RF</th>\n",
       "      <th>SCHW</th>\n",
       "      <th>STT</th>\n",
       "      <th>USB</th>\n",
       "    </tr>\n",
       "    <tr>\n",
       "      <th>Date</th>\n",
       "      <th></th>\n",
       "      <th></th>\n",
       "      <th></th>\n",
       "      <th></th>\n",
       "      <th></th>\n",
       "      <th></th>\n",
       "      <th></th>\n",
       "      <th></th>\n",
       "      <th></th>\n",
       "      <th></th>\n",
       "      <th></th>\n",
       "    </tr>\n",
       "  </thead>\n",
       "  <tbody>\n",
       "    <tr>\n",
       "      <th>2021-11-01 00:00:00-04:00</th>\n",
       "      <td>76.330002</td>\n",
       "      <td>47.849998</td>\n",
       "      <td>35.150002</td>\n",
       "      <td>137.570007</td>\n",
       "      <td>69.610001</td>\n",
       "      <td>153.009995</td>\n",
       "      <td>77.650002</td>\n",
       "      <td>24.150000</td>\n",
       "      <td>81.870003</td>\n",
       "      <td>99.330002</td>\n",
       "      <td>60.779999</td>\n",
       "    </tr>\n",
       "    <tr>\n",
       "      <th>2021-11-02 00:00:00-04:00</th>\n",
       "      <td>76.419998</td>\n",
       "      <td>47.880001</td>\n",
       "      <td>37.680000</td>\n",
       "      <td>143.929993</td>\n",
       "      <td>68.599998</td>\n",
       "      <td>151.910004</td>\n",
       "      <td>80.760002</td>\n",
       "      <td>23.959999</td>\n",
       "      <td>81.769997</td>\n",
       "      <td>99.440002</td>\n",
       "      <td>60.860001</td>\n",
       "    </tr>\n",
       "    <tr>\n",
       "      <th>2021-11-03 00:00:00-04:00</th>\n",
       "      <td>77.970001</td>\n",
       "      <td>48.369999</td>\n",
       "      <td>37.250000</td>\n",
       "      <td>144.500000</td>\n",
       "      <td>69.000000</td>\n",
       "      <td>153.899994</td>\n",
       "      <td>83.400002</td>\n",
       "      <td>24.709999</td>\n",
       "      <td>83.330002</td>\n",
       "      <td>99.599998</td>\n",
       "      <td>61.830002</td>\n",
       "    </tr>\n",
       "    <tr>\n",
       "      <th>2021-11-04 00:00:00-04:00</th>\n",
       "      <td>77.290001</td>\n",
       "      <td>47.330002</td>\n",
       "      <td>36.270000</td>\n",
       "      <td>144.529999</td>\n",
       "      <td>67.000000</td>\n",
       "      <td>153.460007</td>\n",
       "      <td>81.080002</td>\n",
       "      <td>24.270000</td>\n",
       "      <td>81.449997</td>\n",
       "      <td>96.529999</td>\n",
       "      <td>60.279999</td>\n",
       "    </tr>\n",
       "    <tr>\n",
       "      <th>2021-11-05 00:00:00-04:00</th>\n",
       "      <td>76.940002</td>\n",
       "      <td>46.970001</td>\n",
       "      <td>35.880001</td>\n",
       "      <td>142.550003</td>\n",
       "      <td>66.989998</td>\n",
       "      <td>154.869995</td>\n",
       "      <td>80.279999</td>\n",
       "      <td>24.309999</td>\n",
       "      <td>81.150002</td>\n",
       "      <td>95.669998</td>\n",
       "      <td>60.689999</td>\n",
       "    </tr>\n",
       "    <tr>\n",
       "      <th>...</th>\n",
       "      <td>...</td>\n",
       "      <td>...</td>\n",
       "      <td>...</td>\n",
       "      <td>...</td>\n",
       "      <td>...</td>\n",
       "      <td>...</td>\n",
       "      <td>...</td>\n",
       "      <td>...</td>\n",
       "      <td>...</td>\n",
       "      <td>...</td>\n",
       "      <td>...</td>\n",
       "    </tr>\n",
       "    <tr>\n",
       "      <th>2022-10-26 00:00:00-04:00</th>\n",
       "      <td>54.139999</td>\n",
       "      <td>35.700001</td>\n",
       "      <td>23.450001</td>\n",
       "      <td>92.739998</td>\n",
       "      <td>45.410000</td>\n",
       "      <td>101.919998</td>\n",
       "      <td>48.240002</td>\n",
       "      <td>21.290001</td>\n",
       "      <td>72.949997</td>\n",
       "      <td>72.279999</td>\n",
       "      <td>42.389999</td>\n",
       "    </tr>\n",
       "    <tr>\n",
       "      <th>2022-10-27 00:00:00-04:00</th>\n",
       "      <td>54.290001</td>\n",
       "      <td>35.869999</td>\n",
       "      <td>23.309999</td>\n",
       "      <td>93.449997</td>\n",
       "      <td>45.439999</td>\n",
       "      <td>102.129997</td>\n",
       "      <td>48.730000</td>\n",
       "      <td>21.549999</td>\n",
       "      <td>77.330002</td>\n",
       "      <td>73.099998</td>\n",
       "      <td>42.080002</td>\n",
       "    </tr>\n",
       "    <tr>\n",
       "      <th>2022-10-28 00:00:00-04:00</th>\n",
       "      <td>55.630001</td>\n",
       "      <td>36.180000</td>\n",
       "      <td>23.719999</td>\n",
       "      <td>93.180000</td>\n",
       "      <td>46.130001</td>\n",
       "      <td>107.099998</td>\n",
       "      <td>49.380001</td>\n",
       "      <td>21.850000</td>\n",
       "      <td>80.190002</td>\n",
       "      <td>74.779999</td>\n",
       "      <td>42.860001</td>\n",
       "    </tr>\n",
       "    <tr>\n",
       "      <th>2022-10-31 00:00:00-04:00</th>\n",
       "      <td>55.360001</td>\n",
       "      <td>36.040001</td>\n",
       "      <td>23.450001</td>\n",
       "      <td>91.139999</td>\n",
       "      <td>45.860001</td>\n",
       "      <td>106.019997</td>\n",
       "      <td>48.630001</td>\n",
       "      <td>21.950001</td>\n",
       "      <td>79.669998</td>\n",
       "      <td>74.000000</td>\n",
       "      <td>42.450001</td>\n",
       "    </tr>\n",
       "    <tr>\n",
       "      <th>2022-11-01 00:00:00-04:00</th>\n",
       "      <td>57.130001</td>\n",
       "      <td>36.154999</td>\n",
       "      <td>22.360001</td>\n",
       "      <td>92.290001</td>\n",
       "      <td>46.290001</td>\n",
       "      <td>107.175003</td>\n",
       "      <td>49.555000</td>\n",
       "      <td>22.245001</td>\n",
       "      <td>79.550003</td>\n",
       "      <td>74.839996</td>\n",
       "      <td>43.095001</td>\n",
       "    </tr>\n",
       "  </tbody>\n",
       "</table>\n",
       "<p>253 rows × 11 columns</p>\n",
       "</div>"
      ],
      "text/plain": [
       "                                 APO        BAC        BEN          BX  \\\n",
       "Date                                                                     \n",
       "2021-11-01 00:00:00-04:00  76.330002  47.849998  35.150002  137.570007   \n",
       "2021-11-02 00:00:00-04:00  76.419998  47.880001  37.680000  143.929993   \n",
       "2021-11-03 00:00:00-04:00  77.970001  48.369999  37.250000  144.500000   \n",
       "2021-11-04 00:00:00-04:00  77.290001  47.330002  36.270000  144.529999   \n",
       "2021-11-05 00:00:00-04:00  76.940002  46.970001  35.880001  142.550003   \n",
       "...                              ...        ...        ...         ...   \n",
       "2022-10-26 00:00:00-04:00  54.139999  35.700001  23.450001   92.739998   \n",
       "2022-10-27 00:00:00-04:00  54.290001  35.869999  23.309999   93.449997   \n",
       "2022-10-28 00:00:00-04:00  55.630001  36.180000  23.719999   93.180000   \n",
       "2022-10-31 00:00:00-04:00  55.360001  36.040001  23.450001   91.139999   \n",
       "2022-11-01 00:00:00-04:00  57.130001  36.154999  22.360001   92.290001   \n",
       "\n",
       "                                   C         COF        KKR         RF  \\\n",
       "Date                                                                     \n",
       "2021-11-01 00:00:00-04:00  69.610001  153.009995  77.650002  24.150000   \n",
       "2021-11-02 00:00:00-04:00  68.599998  151.910004  80.760002  23.959999   \n",
       "2021-11-03 00:00:00-04:00  69.000000  153.899994  83.400002  24.709999   \n",
       "2021-11-04 00:00:00-04:00  67.000000  153.460007  81.080002  24.270000   \n",
       "2021-11-05 00:00:00-04:00  66.989998  154.869995  80.279999  24.309999   \n",
       "...                              ...         ...        ...        ...   \n",
       "2022-10-26 00:00:00-04:00  45.410000  101.919998  48.240002  21.290001   \n",
       "2022-10-27 00:00:00-04:00  45.439999  102.129997  48.730000  21.549999   \n",
       "2022-10-28 00:00:00-04:00  46.130001  107.099998  49.380001  21.850000   \n",
       "2022-10-31 00:00:00-04:00  45.860001  106.019997  48.630001  21.950001   \n",
       "2022-11-01 00:00:00-04:00  46.290001  107.175003  49.555000  22.245001   \n",
       "\n",
       "                                SCHW        STT        USB  \n",
       "Date                                                        \n",
       "2021-11-01 00:00:00-04:00  81.870003  99.330002  60.779999  \n",
       "2021-11-02 00:00:00-04:00  81.769997  99.440002  60.860001  \n",
       "2021-11-03 00:00:00-04:00  83.330002  99.599998  61.830002  \n",
       "2021-11-04 00:00:00-04:00  81.449997  96.529999  60.279999  \n",
       "2021-11-05 00:00:00-04:00  81.150002  95.669998  60.689999  \n",
       "...                              ...        ...        ...  \n",
       "2022-10-26 00:00:00-04:00  72.949997  72.279999  42.389999  \n",
       "2022-10-27 00:00:00-04:00  77.330002  73.099998  42.080002  \n",
       "2022-10-28 00:00:00-04:00  80.190002  74.779999  42.860001  \n",
       "2022-10-31 00:00:00-04:00  79.669998  74.000000  42.450001  \n",
       "2022-11-01 00:00:00-04:00  79.550003  74.839996  43.095001  \n",
       "\n",
       "[253 rows x 11 columns]"
      ]
     },
     "execution_count": 321,
     "metadata": {},
     "output_type": "execute_result"
    }
   ],
   "source": [
    "prices= pd.read_pickle(\"close_prices.pkl\")[tickers_list] \n",
    "prices"
   ]
  },
  {
   "cell_type": "markdown",
   "id": "69a9761d",
   "metadata": {},
   "source": [
    "### TESTS"
   ]
  },
  {
   "cell_type": "markdown",
   "id": "70df1c20",
   "metadata": {},
   "source": [
    "#### COINTEGRATION TEST"
   ]
  },
  {
   "cell_type": "markdown",
   "id": "2f4a9750",
   "metadata": {},
   "source": [
    "Define a function to loop through the tickers and do a cointegration test for each combination"
   ]
  },
  {
   "cell_type": "code",
   "execution_count": 322,
   "id": "7ed449fd",
   "metadata": {
    "ExecuteTime": {
     "end_time": "2022-11-01T17:35:39.707446Z",
     "start_time": "2022-11-01T17:35:39.664954Z"
    }
   },
   "outputs": [],
   "source": [
    "def cointegration_test(data, p_value=0.05):\n",
    "    n = data.shape[1]\n",
    "    # create matrix to be filled later\n",
    "    stats = np.zeros((n, n))\n",
    "    pvalues = np.ones((n, n))\n",
    "    confints = np.zeros((n, n))\n",
    "    keys = data.keys() # get the info axis, returns columns if object is a dataframe\n",
    "    pairs = []\n",
    "    for i in range(n):\n",
    "        for j in range(i+1, n):\n",
    "            result = coint(data[keys[i]], data[keys[j]])\n",
    "            test_stat = result[0]\n",
    "            pvalue = result[1]\n",
    "            stats[i, j] = test_stat\n",
    "            pvalues[i, j] = pvalue\n",
    "            \n",
    "            if pvalue < p_value: # pick only statistically significant ones\n",
    "                pairs.append((keys[i], keys[j]))\n",
    "                if result[2][0]>test_stat:\n",
    "                    confints[i, j]=0.99 \n",
    "                elif result[2][1]>test_stat:\n",
    "                    confints[i, j]=0.95\n",
    "                elif result[2][2]>test_stat:\n",
    "                    confints[i, j]=0.90\n",
    "                else:\n",
    "                    confints[i, j]=1-pvalue               \n",
    "    return stats, pvalues, pairs, confints"
   ]
  },
  {
   "cell_type": "markdown",
   "id": "ee1b8941",
   "metadata": {},
   "source": [
    "Perform Test"
   ]
  },
  {
   "cell_type": "code",
   "execution_count": 323,
   "id": "43632afc",
   "metadata": {
    "ExecuteTime": {
     "end_time": "2022-11-01T17:35:41.181960Z",
     "start_time": "2022-11-01T17:35:39.727509Z"
    },
    "scrolled": true
   },
   "outputs": [],
   "source": [
    "p_value = 0.05  # A p-value less than 0.05 is typically considered to be statistically significant\n",
    "\n",
    "scores, pvalues, pairs, confints = cointegration_test(prices,p_value)"
   ]
  },
  {
   "cell_type": "markdown",
   "id": "f11106b6",
   "metadata": {},
   "source": [
    "HeatMap"
   ]
  },
  {
   "cell_type": "code",
   "execution_count": 324,
   "id": "b21a4a93",
   "metadata": {
    "ExecuteTime": {
     "end_time": "2022-11-01T17:35:42.061420Z",
     "start_time": "2022-11-01T17:35:41.185970Z"
    }
   },
   "outputs": [
    {
     "name": "stdout",
     "output_type": "stream",
     "text": [
      "remaining 10 pairs from 10\n"
     ]
    },
    {
     "data": {
      "text/html": [
       "<style type=\"text/css\">\n",
       "#T_fb8a0_row0_col0, #T_fb8a0_row0_col1, #T_fb8a0_row0_col5, #T_fb8a0_row3_col2, #T_fb8a0_row3_col6, #T_fb8a0_row4_col6, #T_fb8a0_row5_col4, #T_fb8a0_row5_col5 {\n",
       "  color: white;\n",
       "  background-color: yellow;\n",
       "  color: black;\n",
       "}\n",
       "#T_fb8a0_row0_col2, #T_fb8a0_row0_col3, #T_fb8a0_row0_col4, #T_fb8a0_row0_col6, #T_fb8a0_row1_col0, #T_fb8a0_row1_col1, #T_fb8a0_row1_col2, #T_fb8a0_row1_col3, #T_fb8a0_row1_col4, #T_fb8a0_row1_col6, #T_fb8a0_row2_col0, #T_fb8a0_row2_col1, #T_fb8a0_row2_col2, #T_fb8a0_row2_col4, #T_fb8a0_row2_col5, #T_fb8a0_row2_col6, #T_fb8a0_row3_col0, #T_fb8a0_row3_col1, #T_fb8a0_row3_col3, #T_fb8a0_row3_col4, #T_fb8a0_row3_col5, #T_fb8a0_row4_col0, #T_fb8a0_row4_col1, #T_fb8a0_row4_col2, #T_fb8a0_row4_col3, #T_fb8a0_row4_col4, #T_fb8a0_row4_col5, #T_fb8a0_row5_col0, #T_fb8a0_row5_col1, #T_fb8a0_row5_col2, #T_fb8a0_row5_col3, #T_fb8a0_row5_col6 {\n",
       "  color: white;\n",
       "}\n",
       "#T_fb8a0_row1_col5, #T_fb8a0_row2_col3 {\n",
       "  background-color: green;\n",
       "}\n",
       "</style>\n",
       "<table id=\"T_fb8a0_\">\n",
       "  <thead>\n",
       "    <tr>\n",
       "      <th class=\"blank level0\" >&nbsp;</th>\n",
       "      <th class=\"col_heading level0 col0\" >BEN</th>\n",
       "      <th class=\"col_heading level0 col1\" >C</th>\n",
       "      <th class=\"col_heading level0 col2\" >COF</th>\n",
       "      <th class=\"col_heading level0 col3\" >KKR</th>\n",
       "      <th class=\"col_heading level0 col4\" >SCHW</th>\n",
       "      <th class=\"col_heading level0 col5\" >STT</th>\n",
       "      <th class=\"col_heading level0 col6\" >USB</th>\n",
       "    </tr>\n",
       "  </thead>\n",
       "  <tbody>\n",
       "    <tr>\n",
       "      <th id=\"T_fb8a0_level0_row0\" class=\"row_heading level0 row0\" >APO</th>\n",
       "      <td id=\"T_fb8a0_row0_col0\" class=\"data row0 col0\" >0.95</td>\n",
       "      <td id=\"T_fb8a0_row0_col1\" class=\"data row0 col1\" >0.95</td>\n",
       "      <td id=\"T_fb8a0_row0_col2\" class=\"data row0 col2\" >nan</td>\n",
       "      <td id=\"T_fb8a0_row0_col3\" class=\"data row0 col3\" >nan</td>\n",
       "      <td id=\"T_fb8a0_row0_col4\" class=\"data row0 col4\" >nan</td>\n",
       "      <td id=\"T_fb8a0_row0_col5\" class=\"data row0 col5\" >0.95</td>\n",
       "      <td id=\"T_fb8a0_row0_col6\" class=\"data row0 col6\" >nan</td>\n",
       "    </tr>\n",
       "    <tr>\n",
       "      <th id=\"T_fb8a0_level0_row1\" class=\"row_heading level0 row1\" >BAC</th>\n",
       "      <td id=\"T_fb8a0_row1_col0\" class=\"data row1 col0\" >nan</td>\n",
       "      <td id=\"T_fb8a0_row1_col1\" class=\"data row1 col1\" >nan</td>\n",
       "      <td id=\"T_fb8a0_row1_col2\" class=\"data row1 col2\" >nan</td>\n",
       "      <td id=\"T_fb8a0_row1_col3\" class=\"data row1 col3\" >nan</td>\n",
       "      <td id=\"T_fb8a0_row1_col4\" class=\"data row1 col4\" >nan</td>\n",
       "      <td id=\"T_fb8a0_row1_col5\" class=\"data row1 col5\" >0.99</td>\n",
       "      <td id=\"T_fb8a0_row1_col6\" class=\"data row1 col6\" >nan</td>\n",
       "    </tr>\n",
       "    <tr>\n",
       "      <th id=\"T_fb8a0_level0_row2\" class=\"row_heading level0 row2\" >BEN</th>\n",
       "      <td id=\"T_fb8a0_row2_col0\" class=\"data row2 col0\" >nan</td>\n",
       "      <td id=\"T_fb8a0_row2_col1\" class=\"data row2 col1\" >nan</td>\n",
       "      <td id=\"T_fb8a0_row2_col2\" class=\"data row2 col2\" >nan</td>\n",
       "      <td id=\"T_fb8a0_row2_col3\" class=\"data row2 col3\" >0.99</td>\n",
       "      <td id=\"T_fb8a0_row2_col4\" class=\"data row2 col4\" >nan</td>\n",
       "      <td id=\"T_fb8a0_row2_col5\" class=\"data row2 col5\" >nan</td>\n",
       "      <td id=\"T_fb8a0_row2_col6\" class=\"data row2 col6\" >nan</td>\n",
       "    </tr>\n",
       "    <tr>\n",
       "      <th id=\"T_fb8a0_level0_row3\" class=\"row_heading level0 row3\" >BX</th>\n",
       "      <td id=\"T_fb8a0_row3_col0\" class=\"data row3 col0\" >nan</td>\n",
       "      <td id=\"T_fb8a0_row3_col1\" class=\"data row3 col1\" >nan</td>\n",
       "      <td id=\"T_fb8a0_row3_col2\" class=\"data row3 col2\" >0.95</td>\n",
       "      <td id=\"T_fb8a0_row3_col3\" class=\"data row3 col3\" >nan</td>\n",
       "      <td id=\"T_fb8a0_row3_col4\" class=\"data row3 col4\" >nan</td>\n",
       "      <td id=\"T_fb8a0_row3_col5\" class=\"data row3 col5\" >nan</td>\n",
       "      <td id=\"T_fb8a0_row3_col6\" class=\"data row3 col6\" >0.95</td>\n",
       "    </tr>\n",
       "    <tr>\n",
       "      <th id=\"T_fb8a0_level0_row4\" class=\"row_heading level0 row4\" >COF</th>\n",
       "      <td id=\"T_fb8a0_row4_col0\" class=\"data row4 col0\" >nan</td>\n",
       "      <td id=\"T_fb8a0_row4_col1\" class=\"data row4 col1\" >nan</td>\n",
       "      <td id=\"T_fb8a0_row4_col2\" class=\"data row4 col2\" >nan</td>\n",
       "      <td id=\"T_fb8a0_row4_col3\" class=\"data row4 col3\" >nan</td>\n",
       "      <td id=\"T_fb8a0_row4_col4\" class=\"data row4 col4\" >nan</td>\n",
       "      <td id=\"T_fb8a0_row4_col5\" class=\"data row4 col5\" >nan</td>\n",
       "      <td id=\"T_fb8a0_row4_col6\" class=\"data row4 col6\" >0.95</td>\n",
       "    </tr>\n",
       "    <tr>\n",
       "      <th id=\"T_fb8a0_level0_row5\" class=\"row_heading level0 row5\" >RF</th>\n",
       "      <td id=\"T_fb8a0_row5_col0\" class=\"data row5 col0\" >nan</td>\n",
       "      <td id=\"T_fb8a0_row5_col1\" class=\"data row5 col1\" >nan</td>\n",
       "      <td id=\"T_fb8a0_row5_col2\" class=\"data row5 col2\" >nan</td>\n",
       "      <td id=\"T_fb8a0_row5_col3\" class=\"data row5 col3\" >nan</td>\n",
       "      <td id=\"T_fb8a0_row5_col4\" class=\"data row5 col4\" >0.95</td>\n",
       "      <td id=\"T_fb8a0_row5_col5\" class=\"data row5 col5\" >0.95</td>\n",
       "      <td id=\"T_fb8a0_row5_col6\" class=\"data row5 col6\" >nan</td>\n",
       "    </tr>\n",
       "  </tbody>\n",
       "</table>\n"
      ],
      "text/plain": [
       "<pandas.io.formats.style.Styler at 0x158e971a430>"
      ]
     },
     "execution_count": 324,
     "metadata": {},
     "output_type": "execute_result"
    },
    {
     "data": {
      "image/png": "[encoded data removed]",
      "text/plain": [
       "<Figure size 720x720 with 2 Axes>"
      ]
     },
     "metadata": {
      "needs_background": "light"
     },
     "output_type": "display_data"
    }
   ],
   "source": [
    "# mask_matrix = (pvalues >= p_value) # possible to increase the level of significance\n",
    "conf_int = 0.90\n",
    "mask_matrix = (confints < conf_int) # possible to increase the level of significance\n",
    "\n",
    "mask_df = pd.DataFrame(mask_matrix, index= tickers_list, columns = tickers_list)\n",
    "pvalues_df = pd.DataFrame(pvalues, index= tickers_list, columns = tickers_list)\n",
    "confints_df = pd.DataFrame(confints, index= tickers_list, columns = tickers_list)\n",
    "\n",
    "df_p = pvalues_df[~mask_df].dropna(how='all', axis=1)\n",
    "df_p = df_p.dropna(how='all')\n",
    "\n",
    "df_c = confints_df[~mask_df].dropna(how='all', axis=1)\n",
    "df_c = df_c.dropna(how='all')\n",
    "\n",
    "\n",
    "def green_apply(x):\n",
    "    green = {True: \"background-color: green\", False: \"color : white\"}\n",
    "    is_color = (x > 0.95).replace(green)\n",
    "    return is_color\n",
    "\n",
    "def yellow_apply(x):\n",
    "    yellow = {True: \"background-color: yellow; color : black\"}\n",
    "    is_color = (x <= 0.95).replace(yellow)\n",
    "    return is_color\n",
    "\n",
    "# kept it here although we don't expect to see any red backgroud\n",
    "def red_apply(x):\n",
    "    red = {True: \"background-color: red;\"}\n",
    "    is_color = (x <= 0.90).replace(red)\n",
    "    return is_color\n",
    "\n",
    "fig, ax = plt.subplots(figsize=(10, 10))\n",
    "seaborn.heatmap(\n",
    "    df_c,\n",
    "    xticklabels=df_c.columns,\n",
    "    yticklabels=df_c.index,\n",
    "    cmap=\"summer_r\",\n",
    "    square=True,\n",
    "    vmin=0.90,\n",
    "    vmax=0.99\n",
    ")\n",
    "\n",
    "print(f\"remaining {df_c.count().sum()} pairs from {len(pairs_list)}\")\n",
    "\n",
    "df_c.style.format(precision=2)\\\n",
    ".apply(green_apply)\\\n",
    ".apply(yellow_apply)\\\n",
    ".apply(red_apply)"
   ]
  },
  {
   "cell_type": "markdown",
   "id": "5155b8ce",
   "metadata": {
    "ExecuteTime": {
     "end_time": "2022-10-26T23:06:29.483742Z",
     "start_time": "2022-10-26T23:06:29.467257Z"
    }
   },
   "source": [
    "#### UNIT ROOT TESTS"
   ]
  },
  {
   "cell_type": "markdown",
   "id": "145cd366",
   "metadata": {},
   "source": [
    "Loop through pairs & perform tests:"
   ]
  },
  {
   "cell_type": "code",
   "execution_count": 325,
   "id": "215faa1f",
   "metadata": {
    "ExecuteTime": {
     "end_time": "2022-11-01T17:35:42.409416Z",
     "start_time": "2022-11-01T17:35:42.066416Z"
    }
   },
   "outputs": [],
   "source": [
    "df_c_adf = df_c.copy()\n",
    "df_c_pp = df_c.copy()\n",
    "hedges ={}\n",
    "\n",
    "N=90\n",
    "enable_regression_coef = 0\n",
    "\n",
    "# get new pairs\n",
    "x_list = df_c.index.tolist()\n",
    "y_list = df_c.columns.tolist()\n",
    "\n",
    "pairs_list = [] # list of pairs as tuples (A,B)\n",
    "\n",
    "for i in range(len(x_list)):\n",
    "    for j in range(len(y_list)):\n",
    "        if df.iloc[i,j]>0:\n",
    "            pairs_list.append((x_list[i], y_list[j]))\n",
    "\n",
    "for i in range(len(pairs_list)):\n",
    "    ticker1, ticker2 = list(pairs_list[i])[0], list(pairs_list[i])[1]\n",
    "    prices_pair= prices[list(pairs_list[i])]\n",
    "    \n",
    "    ###HEDGE###\n",
    "    \n",
    "    if N>0:\n",
    "        Y = prices_pair[ticker2].iloc[-N:]\n",
    "        X = prices_pair[ticker1].iloc[-N:]\n",
    "    else:\n",
    "        Y = prices_pair[ticker2]\n",
    "        X = prices_pair[ticker1]\n",
    "\n",
    "    if enable_regression_coef:\n",
    "        X = sm.add_constant(X)\n",
    "\n",
    "    model = sm.OLS(Y, X)\n",
    "    model = model.fit()\n",
    "\n",
    "    if len(model.params) == 1:\n",
    "        hedge = round(float(model.params[0]),2)\n",
    "        alfa = 0\n",
    "    else:\n",
    "        hedge = round(float(model.params[1]),2)\n",
    "        alfa = round(float(model.params[0]),2)\n",
    "    \n",
    "    hedges[(ticker1, ticker2)]=hedge\n",
    "    # print pair equation\n",
    "    #print(f\"EQUATION: {ticker2}={hedge}*{ticker1}{'+' + str(round(alfa,1)) if alfa>0 else ''}\")\n",
    "\n",
    "    ###SPREAD###\n",
    "\n",
    "    prices_pair_s = prices_pair.copy()\n",
    "    spread = prices_pair_s['spread'] = prices_pair[ticker2] - hedge * prices_pair[ticker1] - alfa\n",
    "    \n",
    "    ###ADF###\n",
    "    \n",
    "    adf = adfuller(prices_pair_s.spread, autolag='AIC')\n",
    "    test_stat_df = adf[0]\n",
    "    critical_values_df = adf[4]\n",
    "\n",
    "    if critical_values_df['1%']>test_stat_df:\n",
    "        df_c_adf.loc[(ticker1,ticker2)]=0.99 \n",
    "    elif critical_values_df['5%']>test_stat_df:\n",
    "        df_c_adf.loc[(ticker1,ticker2)]=0.95\n",
    "    elif critical_values_df['10%']>test_stat_df:\n",
    "        df_c_adf.loc[(ticker1,ticker2)]=0.90\n",
    "        \n",
    "    ###PP###  \n",
    "          \n",
    "    pp = at.PhillipsPerron(prices_pair_s.spread, trend='ct', test_type='rho')\n",
    "    test_stat_pp = pp.stat\n",
    "    critical_values_pp = pp.critical_values\n",
    "\n",
    "    if critical_values_pp['1%']>test_stat_pp:\n",
    "        df_c_pp.loc[(ticker1,ticker2)]=0.99 \n",
    "    elif critical_values_pp['5%']>test_stat_pp:\n",
    "        df_c_pp.loc[(ticker1,ticker2)]=0.95\n",
    "    elif critical_values_pp['10%']>test_stat_pp:\n",
    "        df_c_pp.loc[(ticker1,ticker2)]=0.90"
   ]
  },
  {
   "cell_type": "markdown",
   "id": "92acd52a",
   "metadata": {},
   "source": [
    "Heatmap ADF"
   ]
  },
  {
   "cell_type": "code",
   "execution_count": 326,
   "id": "af038f02",
   "metadata": {
    "ExecuteTime": {
     "end_time": "2022-11-01T17:35:42.949417Z",
     "start_time": "2022-11-01T17:35:42.412625Z"
    }
   },
   "outputs": [
    {
     "data": {
      "text/html": [
       "<style type=\"text/css\">\n",
       "#T_72f84_row0_col0, #T_72f84_row0_col1, #T_72f84_row0_col5, #T_72f84_row3_col2, #T_72f84_row4_col6, #T_72f84_row5_col4, #T_72f84_row5_col5 {\n",
       "  color: white;\n",
       "  background-color: yellow;\n",
       "  color: black;\n",
       "}\n",
       "#T_72f84_row0_col2, #T_72f84_row0_col3, #T_72f84_row0_col4, #T_72f84_row0_col6, #T_72f84_row1_col0, #T_72f84_row1_col1, #T_72f84_row1_col2, #T_72f84_row1_col3, #T_72f84_row1_col4, #T_72f84_row1_col6, #T_72f84_row2_col0, #T_72f84_row2_col1, #T_72f84_row2_col2, #T_72f84_row2_col4, #T_72f84_row2_col5, #T_72f84_row2_col6, #T_72f84_row3_col0, #T_72f84_row3_col1, #T_72f84_row3_col3, #T_72f84_row3_col4, #T_72f84_row3_col5, #T_72f84_row4_col0, #T_72f84_row4_col1, #T_72f84_row4_col2, #T_72f84_row4_col3, #T_72f84_row4_col4, #T_72f84_row4_col5, #T_72f84_row5_col0, #T_72f84_row5_col1, #T_72f84_row5_col2, #T_72f84_row5_col3, #T_72f84_row5_col6 {\n",
       "  color: white;\n",
       "}\n",
       "#T_72f84_row1_col5, #T_72f84_row2_col3, #T_72f84_row3_col6 {\n",
       "  background-color: green;\n",
       "}\n",
       "</style>\n",
       "<table id=\"T_72f84_\">\n",
       "  <thead>\n",
       "    <tr>\n",
       "      <th class=\"blank level0\" >&nbsp;</th>\n",
       "      <th class=\"col_heading level0 col0\" >BEN</th>\n",
       "      <th class=\"col_heading level0 col1\" >C</th>\n",
       "      <th class=\"col_heading level0 col2\" >COF</th>\n",
       "      <th class=\"col_heading level0 col3\" >KKR</th>\n",
       "      <th class=\"col_heading level0 col4\" >SCHW</th>\n",
       "      <th class=\"col_heading level0 col5\" >STT</th>\n",
       "      <th class=\"col_heading level0 col6\" >USB</th>\n",
       "    </tr>\n",
       "  </thead>\n",
       "  <tbody>\n",
       "    <tr>\n",
       "      <th id=\"T_72f84_level0_row0\" class=\"row_heading level0 row0\" >APO</th>\n",
       "      <td id=\"T_72f84_row0_col0\" class=\"data row0 col0\" >0.95</td>\n",
       "      <td id=\"T_72f84_row0_col1\" class=\"data row0 col1\" >0.95</td>\n",
       "      <td id=\"T_72f84_row0_col2\" class=\"data row0 col2\" >nan</td>\n",
       "      <td id=\"T_72f84_row0_col3\" class=\"data row0 col3\" >nan</td>\n",
       "      <td id=\"T_72f84_row0_col4\" class=\"data row0 col4\" >nan</td>\n",
       "      <td id=\"T_72f84_row0_col5\" class=\"data row0 col5\" >0.95</td>\n",
       "      <td id=\"T_72f84_row0_col6\" class=\"data row0 col6\" >nan</td>\n",
       "    </tr>\n",
       "    <tr>\n",
       "      <th id=\"T_72f84_level0_row1\" class=\"row_heading level0 row1\" >BAC</th>\n",
       "      <td id=\"T_72f84_row1_col0\" class=\"data row1 col0\" >nan</td>\n",
       "      <td id=\"T_72f84_row1_col1\" class=\"data row1 col1\" >nan</td>\n",
       "      <td id=\"T_72f84_row1_col2\" class=\"data row1 col2\" >nan</td>\n",
       "      <td id=\"T_72f84_row1_col3\" class=\"data row1 col3\" >nan</td>\n",
       "      <td id=\"T_72f84_row1_col4\" class=\"data row1 col4\" >nan</td>\n",
       "      <td id=\"T_72f84_row1_col5\" class=\"data row1 col5\" >0.99</td>\n",
       "      <td id=\"T_72f84_row1_col6\" class=\"data row1 col6\" >nan</td>\n",
       "    </tr>\n",
       "    <tr>\n",
       "      <th id=\"T_72f84_level0_row2\" class=\"row_heading level0 row2\" >BEN</th>\n",
       "      <td id=\"T_72f84_row2_col0\" class=\"data row2 col0\" >nan</td>\n",
       "      <td id=\"T_72f84_row2_col1\" class=\"data row2 col1\" >nan</td>\n",
       "      <td id=\"T_72f84_row2_col2\" class=\"data row2 col2\" >nan</td>\n",
       "      <td id=\"T_72f84_row2_col3\" class=\"data row2 col3\" >0.99</td>\n",
       "      <td id=\"T_72f84_row2_col4\" class=\"data row2 col4\" >nan</td>\n",
       "      <td id=\"T_72f84_row2_col5\" class=\"data row2 col5\" >nan</td>\n",
       "      <td id=\"T_72f84_row2_col6\" class=\"data row2 col6\" >nan</td>\n",
       "    </tr>\n",
       "    <tr>\n",
       "      <th id=\"T_72f84_level0_row3\" class=\"row_heading level0 row3\" >BX</th>\n",
       "      <td id=\"T_72f84_row3_col0\" class=\"data row3 col0\" >nan</td>\n",
       "      <td id=\"T_72f84_row3_col1\" class=\"data row3 col1\" >nan</td>\n",
       "      <td id=\"T_72f84_row3_col2\" class=\"data row3 col2\" >0.95</td>\n",
       "      <td id=\"T_72f84_row3_col3\" class=\"data row3 col3\" >nan</td>\n",
       "      <td id=\"T_72f84_row3_col4\" class=\"data row3 col4\" >nan</td>\n",
       "      <td id=\"T_72f84_row3_col5\" class=\"data row3 col5\" >nan</td>\n",
       "      <td id=\"T_72f84_row3_col6\" class=\"data row3 col6\" >0.99</td>\n",
       "    </tr>\n",
       "    <tr>\n",
       "      <th id=\"T_72f84_level0_row4\" class=\"row_heading level0 row4\" >COF</th>\n",
       "      <td id=\"T_72f84_row4_col0\" class=\"data row4 col0\" >nan</td>\n",
       "      <td id=\"T_72f84_row4_col1\" class=\"data row4 col1\" >nan</td>\n",
       "      <td id=\"T_72f84_row4_col2\" class=\"data row4 col2\" >nan</td>\n",
       "      <td id=\"T_72f84_row4_col3\" class=\"data row4 col3\" >nan</td>\n",
       "      <td id=\"T_72f84_row4_col4\" class=\"data row4 col4\" >nan</td>\n",
       "      <td id=\"T_72f84_row4_col5\" class=\"data row4 col5\" >nan</td>\n",
       "      <td id=\"T_72f84_row4_col6\" class=\"data row4 col6\" >0.95</td>\n",
       "    </tr>\n",
       "    <tr>\n",
       "      <th id=\"T_72f84_level0_row5\" class=\"row_heading level0 row5\" >RF</th>\n",
       "      <td id=\"T_72f84_row5_col0\" class=\"data row5 col0\" >nan</td>\n",
       "      <td id=\"T_72f84_row5_col1\" class=\"data row5 col1\" >nan</td>\n",
       "      <td id=\"T_72f84_row5_col2\" class=\"data row5 col2\" >nan</td>\n",
       "      <td id=\"T_72f84_row5_col3\" class=\"data row5 col3\" >nan</td>\n",
       "      <td id=\"T_72f84_row5_col4\" class=\"data row5 col4\" >0.95</td>\n",
       "      <td id=\"T_72f84_row5_col5\" class=\"data row5 col5\" >0.95</td>\n",
       "      <td id=\"T_72f84_row5_col6\" class=\"data row5 col6\" >nan</td>\n",
       "    </tr>\n",
       "  </tbody>\n",
       "</table>\n"
      ],
      "text/plain": [
       "<pandas.io.formats.style.Styler at 0x158e7e54580>"
      ]
     },
     "execution_count": 326,
     "metadata": {},
     "output_type": "execute_result"
    },
    {
     "data": {
      "image/png": "[encoded data removed]",
      "text/plain": [
       "<Figure size 720x720 with 2 Axes>"
      ]
     },
     "metadata": {
      "needs_background": "light"
     },
     "output_type": "display_data"
    }
   ],
   "source": [
    "conf_int = 0.95\n",
    "\n",
    "def green_apply(x):\n",
    "    green = {True: \"background-color: green\", False: \"color : white\"}\n",
    "    is_color = (x > conf_int).replace(green)\n",
    "    return is_color\n",
    "\n",
    "def yellow_apply(x):\n",
    "    yellow = {True: \"background-color: yellow; color : black\"}\n",
    "    is_color = (x <= conf_int).replace(yellow)\n",
    "    return is_color\n",
    "\n",
    "def red_apply(x):\n",
    "    red = {True: \"background-color: red\"}\n",
    "    is_color = (x <= 0.90).replace(red)\n",
    "    return is_color\n",
    "\n",
    "fig, ax = plt.subplots(figsize=(10, 10))\n",
    "seaborn.heatmap(\n",
    "    df_c_adf,\n",
    "    xticklabels=df_c.columns,\n",
    "    yticklabels=df_c.index,\n",
    "    cmap=\"RdYlGn\",\n",
    "    #mask=(df_c_adf < conf_int),\n",
    "    square=True,\n",
    "    vmin=0.90,\n",
    "    vmax=0.99\n",
    ")\n",
    "df_c_adf.style.format(precision=2)\\\n",
    ".apply(green_apply)\\\n",
    ".apply(yellow_apply)\\\n",
    ".apply(red_apply)"
   ]
  },
  {
   "cell_type": "markdown",
   "id": "62db9b7b",
   "metadata": {},
   "source": [
    "Heatmap PP"
   ]
  },
  {
   "cell_type": "code",
   "execution_count": 327,
   "id": "072d3cfa",
   "metadata": {
    "ExecuteTime": {
     "end_time": "2022-11-01T17:35:43.635987Z",
     "start_time": "2022-11-01T17:35:42.953405Z"
    }
   },
   "outputs": [
    {
     "data": {
      "text/html": [
       "<style type=\"text/css\">\n",
       "#T_0fff8_row0_col0, #T_0fff8_row0_col1, #T_0fff8_row0_col5, #T_0fff8_row3_col6, #T_0fff8_row4_col6, #T_0fff8_row5_col4, #T_0fff8_row5_col5 {\n",
       "  color: white;\n",
       "  background-color: yellow;\n",
       "  color: black;\n",
       "}\n",
       "#T_0fff8_row0_col2, #T_0fff8_row0_col3, #T_0fff8_row0_col4, #T_0fff8_row0_col6, #T_0fff8_row1_col0, #T_0fff8_row1_col1, #T_0fff8_row1_col2, #T_0fff8_row1_col3, #T_0fff8_row1_col4, #T_0fff8_row1_col6, #T_0fff8_row2_col0, #T_0fff8_row2_col1, #T_0fff8_row2_col2, #T_0fff8_row2_col4, #T_0fff8_row2_col5, #T_0fff8_row2_col6, #T_0fff8_row3_col0, #T_0fff8_row3_col1, #T_0fff8_row3_col3, #T_0fff8_row3_col4, #T_0fff8_row3_col5, #T_0fff8_row4_col0, #T_0fff8_row4_col1, #T_0fff8_row4_col2, #T_0fff8_row4_col3, #T_0fff8_row4_col4, #T_0fff8_row4_col5, #T_0fff8_row5_col0, #T_0fff8_row5_col1, #T_0fff8_row5_col2, #T_0fff8_row5_col3, #T_0fff8_row5_col6 {\n",
       "  color: white;\n",
       "}\n",
       "#T_0fff8_row1_col5 {\n",
       "  background-color: green;\n",
       "}\n",
       "#T_0fff8_row2_col3, #T_0fff8_row3_col2 {\n",
       "  color: white;\n",
       "  background-color: yellow;\n",
       "  color: black;\n",
       "  background-color: red;\n",
       "}\n",
       "</style>\n",
       "<table id=\"T_0fff8_\">\n",
       "  <thead>\n",
       "    <tr>\n",
       "      <th class=\"blank level0\" >&nbsp;</th>\n",
       "      <th class=\"col_heading level0 col0\" >BEN</th>\n",
       "      <th class=\"col_heading level0 col1\" >C</th>\n",
       "      <th class=\"col_heading level0 col2\" >COF</th>\n",
       "      <th class=\"col_heading level0 col3\" >KKR</th>\n",
       "      <th class=\"col_heading level0 col4\" >SCHW</th>\n",
       "      <th class=\"col_heading level0 col5\" >STT</th>\n",
       "      <th class=\"col_heading level0 col6\" >USB</th>\n",
       "    </tr>\n",
       "  </thead>\n",
       "  <tbody>\n",
       "    <tr>\n",
       "      <th id=\"T_0fff8_level0_row0\" class=\"row_heading level0 row0\" >APO</th>\n",
       "      <td id=\"T_0fff8_row0_col0\" class=\"data row0 col0\" >0.95</td>\n",
       "      <td id=\"T_0fff8_row0_col1\" class=\"data row0 col1\" >0.95</td>\n",
       "      <td id=\"T_0fff8_row0_col2\" class=\"data row0 col2\" >nan</td>\n",
       "      <td id=\"T_0fff8_row0_col3\" class=\"data row0 col3\" >nan</td>\n",
       "      <td id=\"T_0fff8_row0_col4\" class=\"data row0 col4\" >nan</td>\n",
       "      <td id=\"T_0fff8_row0_col5\" class=\"data row0 col5\" >0.95</td>\n",
       "      <td id=\"T_0fff8_row0_col6\" class=\"data row0 col6\" >nan</td>\n",
       "    </tr>\n",
       "    <tr>\n",
       "      <th id=\"T_0fff8_level0_row1\" class=\"row_heading level0 row1\" >BAC</th>\n",
       "      <td id=\"T_0fff8_row1_col0\" class=\"data row1 col0\" >nan</td>\n",
       "      <td id=\"T_0fff8_row1_col1\" class=\"data row1 col1\" >nan</td>\n",
       "      <td id=\"T_0fff8_row1_col2\" class=\"data row1 col2\" >nan</td>\n",
       "      <td id=\"T_0fff8_row1_col3\" class=\"data row1 col3\" >nan</td>\n",
       "      <td id=\"T_0fff8_row1_col4\" class=\"data row1 col4\" >nan</td>\n",
       "      <td id=\"T_0fff8_row1_col5\" class=\"data row1 col5\" >0.99</td>\n",
       "      <td id=\"T_0fff8_row1_col6\" class=\"data row1 col6\" >nan</td>\n",
       "    </tr>\n",
       "    <tr>\n",
       "      <th id=\"T_0fff8_level0_row2\" class=\"row_heading level0 row2\" >BEN</th>\n",
       "      <td id=\"T_0fff8_row2_col0\" class=\"data row2 col0\" >nan</td>\n",
       "      <td id=\"T_0fff8_row2_col1\" class=\"data row2 col1\" >nan</td>\n",
       "      <td id=\"T_0fff8_row2_col2\" class=\"data row2 col2\" >nan</td>\n",
       "      <td id=\"T_0fff8_row2_col3\" class=\"data row2 col3\" >0.90</td>\n",
       "      <td id=\"T_0fff8_row2_col4\" class=\"data row2 col4\" >nan</td>\n",
       "      <td id=\"T_0fff8_row2_col5\" class=\"data row2 col5\" >nan</td>\n",
       "      <td id=\"T_0fff8_row2_col6\" class=\"data row2 col6\" >nan</td>\n",
       "    </tr>\n",
       "    <tr>\n",
       "      <th id=\"T_0fff8_level0_row3\" class=\"row_heading level0 row3\" >BX</th>\n",
       "      <td id=\"T_0fff8_row3_col0\" class=\"data row3 col0\" >nan</td>\n",
       "      <td id=\"T_0fff8_row3_col1\" class=\"data row3 col1\" >nan</td>\n",
       "      <td id=\"T_0fff8_row3_col2\" class=\"data row3 col2\" >0.90</td>\n",
       "      <td id=\"T_0fff8_row3_col3\" class=\"data row3 col3\" >nan</td>\n",
       "      <td id=\"T_0fff8_row3_col4\" class=\"data row3 col4\" >nan</td>\n",
       "      <td id=\"T_0fff8_row3_col5\" class=\"data row3 col5\" >nan</td>\n",
       "      <td id=\"T_0fff8_row3_col6\" class=\"data row3 col6\" >0.95</td>\n",
       "    </tr>\n",
       "    <tr>\n",
       "      <th id=\"T_0fff8_level0_row4\" class=\"row_heading level0 row4\" >COF</th>\n",
       "      <td id=\"T_0fff8_row4_col0\" class=\"data row4 col0\" >nan</td>\n",
       "      <td id=\"T_0fff8_row4_col1\" class=\"data row4 col1\" >nan</td>\n",
       "      <td id=\"T_0fff8_row4_col2\" class=\"data row4 col2\" >nan</td>\n",
       "      <td id=\"T_0fff8_row4_col3\" class=\"data row4 col3\" >nan</td>\n",
       "      <td id=\"T_0fff8_row4_col4\" class=\"data row4 col4\" >nan</td>\n",
       "      <td id=\"T_0fff8_row4_col5\" class=\"data row4 col5\" >nan</td>\n",
       "      <td id=\"T_0fff8_row4_col6\" class=\"data row4 col6\" >0.95</td>\n",
       "    </tr>\n",
       "    <tr>\n",
       "      <th id=\"T_0fff8_level0_row5\" class=\"row_heading level0 row5\" >RF</th>\n",
       "      <td id=\"T_0fff8_row5_col0\" class=\"data row5 col0\" >nan</td>\n",
       "      <td id=\"T_0fff8_row5_col1\" class=\"data row5 col1\" >nan</td>\n",
       "      <td id=\"T_0fff8_row5_col2\" class=\"data row5 col2\" >nan</td>\n",
       "      <td id=\"T_0fff8_row5_col3\" class=\"data row5 col3\" >nan</td>\n",
       "      <td id=\"T_0fff8_row5_col4\" class=\"data row5 col4\" >0.95</td>\n",
       "      <td id=\"T_0fff8_row5_col5\" class=\"data row5 col5\" >0.95</td>\n",
       "      <td id=\"T_0fff8_row5_col6\" class=\"data row5 col6\" >nan</td>\n",
       "    </tr>\n",
       "  </tbody>\n",
       "</table>\n"
      ],
      "text/plain": [
       "<pandas.io.formats.style.Styler at 0x158e977b670>"
      ]
     },
     "execution_count": 327,
     "metadata": {},
     "output_type": "execute_result"
    },
    {
     "data": {
      "image/png": "[encoded data removed]",
      "text/plain": [
       "<Figure size 720x720 with 2 Axes>"
      ]
     },
     "metadata": {
      "needs_background": "light"
     },
     "output_type": "display_data"
    }
   ],
   "source": [
    "conf_int = 0.95\n",
    "\n",
    "def green_apply(x):\n",
    "    green = {True: \"background-color: green\", False: \"color : white\"}\n",
    "    is_color = (x > conf_int).replace(green)\n",
    "    return is_color\n",
    "\n",
    "def yellow_apply(x):\n",
    "    yellow = {True: \"background-color: yellow; color : black\"}\n",
    "    is_color = (x <= conf_int).replace(yellow)\n",
    "    return is_color\n",
    "\n",
    "def red_apply(x):\n",
    "    red = {True: \"background-color: red\"}\n",
    "    is_color = (x <= 0.90).replace(red)\n",
    "    return is_color\n",
    "\n",
    "fig, ax = plt.subplots(figsize=(10, 10))\n",
    "seaborn.heatmap(\n",
    "    df_c_pp,\n",
    "    xticklabels=df_p.columns,\n",
    "    yticklabels=df_p.index,\n",
    "    cmap=\"RdYlGn\",\n",
    "    #mask=(df_c_adf < conf_int),\n",
    "    square=True,\n",
    "    vmin=0.90,\n",
    "    vmax=0.99\n",
    ")\n",
    "df_c_pp.style.format(precision=2)\\\n",
    ".apply(green_apply)\\\n",
    ".apply(yellow_apply)\\\n",
    ".apply(red_apply)"
   ]
  },
  {
   "cell_type": "markdown",
   "id": "dc6412e4",
   "metadata": {
    "ExecuteTime": {
     "end_time": "2022-10-26T23:10:13.032744Z",
     "start_time": "2022-10-26T23:10:13.021748Z"
    }
   },
   "source": [
    "#### DROP PAIRS"
   ]
  },
  {
   "cell_type": "markdown",
   "id": "27d43d91",
   "metadata": {
    "ExecuteTime": {
     "end_time": "2022-10-26T20:47:43.842333Z",
     "start_time": "2022-10-26T20:47:43.835334Z"
    }
   },
   "source": [
    "Drop all %90 conf int values"
   ]
  },
  {
   "cell_type": "code",
   "execution_count": 328,
   "id": "ac14915d",
   "metadata": {
    "ExecuteTime": {
     "end_time": "2022-11-01T17:35:43.684990Z",
     "start_time": "2022-11-01T17:35:43.641989Z"
    }
   },
   "outputs": [],
   "source": [
    "# conf_int_to_drop = [0.90, 0.95]  # drop list for intervals"
   ]
  },
  {
   "cell_type": "code",
   "execution_count": 329,
   "id": "688cc9a2",
   "metadata": {
    "ExecuteTime": {
     "end_time": "2022-11-01T17:35:43.794911Z",
     "start_time": "2022-11-01T17:35:43.697009Z"
    }
   },
   "outputs": [
    {
     "name": "stdout",
     "output_type": "stream",
     "text": [
      "dropped pairs:\n",
      "{('BX', 'COF'), ('BEN', 'KKR')}\n",
      "remaining 8 pairs from 10\n"
     ]
    },
    {
     "data": {
      "text/plain": [
       "[('RF', 'STT'),\n",
       " ('APO', 'C'),\n",
       " ('BAC', 'STT'),\n",
       " ('APO', 'STT'),\n",
       " ('BX', 'USB'),\n",
       " ('RF', 'SCHW'),\n",
       " ('APO', 'BEN'),\n",
       " ('COF', 'USB')]"
      ]
     },
     "execution_count": 329,
     "metadata": {},
     "output_type": "execute_result"
    }
   ],
   "source": [
    "# check for %90 conf intervals\n",
    "mask_90 = df_c.isin(conf_int_to_drop)\n",
    "mask_90_pp = df_c_pp.isin(conf_int_to_drop)\n",
    "mask_90_adf = df_c_adf.isin(conf_int_to_drop)\n",
    "\n",
    "# get col names\n",
    "cols= mask_90.any()\n",
    "cols_pp = mask_90_pp.any()\n",
    "cols_adf= mask_90_adf.any()\n",
    "columns = list(cols[cols == True].index)\n",
    "columns_pp = list(cols_pp[cols_pp == True].index)\n",
    "columns_adf = list(cols_adf[cols_adf == True].index)\n",
    "\n",
    "drop_pairs_list= []\n",
    "\n",
    "# get rows\n",
    "for col in columns:\n",
    "    rows = list(mask_90[col][mask_90[col] == True].index)\n",
    "    for row in rows:\n",
    "        drop_pairs_list.append((row, col))\n",
    "\n",
    "for col in columns_adf:\n",
    "    rows = list(mask_90_adf[col][mask_90_adf[col] == True].index)\n",
    "    for row in rows:\n",
    "        drop_pairs_list.append((row, col))\n",
    "\n",
    "for col in columns_pp:\n",
    "    rows = list(mask_90_pp[col][mask_90_pp[col] == True].index)\n",
    "    for row in rows:\n",
    "        drop_pairs_list.append((row, col))\n",
    "        \n",
    "print(\"dropped pairs:\")\n",
    "drop_pairs_list = list(set(drop_pairs_list))\n",
    "print(set(drop_pairs_list))\n",
    "\n",
    "new_pairs_list = list(set(pairs_list) - set(drop_pairs_list))\n",
    "\n",
    "print(f\"remaining {len(new_pairs_list)} pairs from {df_c.count().sum()}\")\n",
    "list(new_pairs_list)"
   ]
  },
  {
   "cell_type": "code",
   "execution_count": 330,
   "id": "cc417444",
   "metadata": {
    "ExecuteTime": {
     "end_time": "2022-11-01T17:35:43.860910Z",
     "start_time": "2022-11-01T17:35:43.801910Z"
    }
   },
   "outputs": [
    {
     "name": "stdout",
     "output_type": "stream",
     "text": [
      "selected: \n",
      "EQUATION: STT=3.23*RF\n",
      "EQUATION: C=0.89*APO\n",
      "EQUATION: STT=2.03*BAC\n",
      "EQUATION: STT=1.26*APO\n",
      "EQUATION: USB=0.48*BX\n",
      "EQUATION: SCHW=3.34*RF\n",
      "EQUATION: BEN=0.46*APO\n",
      "EQUATION: USB=0.43*COF\n",
      "dropped: \n",
      "EQUATION: COF=1.1*BX\n",
      "EQUATION: KKR=1.98*BEN\n"
     ]
    }
   ],
   "source": [
    "pairs_final ={}\n",
    "dropped_final ={}\n",
    "\n",
    "print(\"selected: \")\n",
    "for i in range(len(new_pairs_list)):\n",
    "    # print pair equation\n",
    "    pairs_final[new_pairs_list[i]] = hedges[new_pairs_list[i]]\n",
    "    print(f\"EQUATION: {new_pairs_list[i][1]}={hedges[new_pairs_list[i]]}*{new_pairs_list[i][0]}\")\n",
    "\n",
    "print(\"dropped: \")\n",
    "for i in range(len(drop_pairs_list)):\n",
    "    dropped_final[drop_pairs_list[i]] = hedges[drop_pairs_list[i]]\n",
    "    print(f\"EQUATION: {drop_pairs_list[i][1]}={hedges[drop_pairs_list[i]]}*{drop_pairs_list[i][0]}\")"
   ]
  },
  {
   "cell_type": "markdown",
   "id": "ec737630",
   "metadata": {},
   "source": [
    "Save to file to be used for the next step"
   ]
  },
  {
   "cell_type": "code",
   "execution_count": 331,
   "id": "d81d6f8e",
   "metadata": {
    "ExecuteTime": {
     "end_time": "2022-11-01T17:35:44.016443Z",
     "start_time": "2022-11-01T17:35:43.919912Z"
    }
   },
   "outputs": [],
   "source": [
    "with open('pairs_final.pkl', 'wb') as f:\n",
    "    pickle.dump(pairs_final, f)\n",
    "with open('pairs_dropped.pkl', 'wb') as f:\n",
    "    pickle.dump(dropped_final, f)"
   ]
  },
  {
   "cell_type": "markdown",
   "id": "5733f72b",
   "metadata": {
    "ExecuteTime": {
     "end_time": "2022-10-26T20:47:44.014336Z",
     "start_time": "2022-10-26T20:47:44.001333Z"
    }
   },
   "source": [
    "#### Exercise\n",
    "Drop if a pair has more than one %90 conf. out of 3 tests; i.e 2 or more %95 or %99 remains"
   ]
  },
  {
   "cell_type": "code",
   "execution_count": 332,
   "id": "e5d347df",
   "metadata": {
    "ExecuteTime": {
     "end_time": "2022-11-01T17:35:44.185670Z",
     "start_time": "2022-11-01T17:35:44.031674Z"
    }
   },
   "outputs": [
    {
     "name": "stdout",
     "output_type": "stream",
     "text": [
      "dropped pairs:\n",
      "set()\n",
      "remaining 10 pairs from 10\n"
     ]
    },
    {
     "data": {
      "text/plain": [
       "[('COF', 'USB'),\n",
       " ('BEN', 'KKR'),\n",
       " ('RF', 'STT'),\n",
       " ('APO', 'C'),\n",
       " ('BX', 'COF'),\n",
       " ('APO', 'STT'),\n",
       " ('BX', 'USB'),\n",
       " ('RF', 'SCHW'),\n",
       " ('APO', 'BEN'),\n",
       " ('BAC', 'STT')]"
      ]
     },
     "execution_count": 332,
     "metadata": {},
     "output_type": "execute_result"
    }
   ],
   "source": [
    "# check for %90 conf intervals\n",
    "mask_90 = df_c.isin([0.90])\n",
    "mask_90_pp = df_c_pp.isin([0.90])\n",
    "mask_90_adf = df_c_adf.isin([0.90])\n",
    "\n",
    "# get col names\n",
    "cols= mask_90.any()\n",
    "cols_pp = mask_90_pp.any()\n",
    "cols_adf= mask_90_adf.any()\n",
    "columns = list(cols[cols == True].index)\n",
    "columns_pp = list(cols_pp[cols_pp == True].index)\n",
    "columns_adf = list(cols_adf[cols_adf == True].index)\n",
    "\n",
    "drop_pairs_1= []\n",
    "drop_pairs_2= []\n",
    "drop_pairs_3= []\n",
    "\n",
    "# get rows\n",
    "for col in columns:\n",
    "    rows = list(mask_90[col][mask_90[col] == True].index)\n",
    "    for row in rows:\n",
    "        drop_pairs_1.append((row, col))\n",
    "\n",
    "for col in columns_adf:\n",
    "    rows = list(mask_90_adf[col][mask_90_adf[col] == True].index)\n",
    "    for row in rows:\n",
    "        drop_pairs_2.append((row, col))\n",
    "\n",
    "for col in columns_pp:\n",
    "    rows = list(mask_90_pp[col][mask_90_pp[col] == True].index)\n",
    "    for row in rows:\n",
    "        drop_pairs_3.append((row, col))\n",
    "        \n",
    "drop_set = (set(drop_pairs_1) & set(drop_pairs_2)) | (set(drop_pairs_1) & set(drop_pairs_3)) | (set(drop_pairs_2) & set(drop_pairs_3))\n",
    "                                                                                                  \n",
    "print(\"dropped pairs:\")\n",
    "print(set(drop_set))\n",
    "\n",
    "new_pairs_list = set(pairs_list) - set(drop_set)\n",
    "\n",
    "print(f\"remaining {len(new_pairs_list)} pairs from {df_c.count().sum()}\")\n",
    "list(new_pairs_list)"
   ]
  },
  {
   "cell_type": "markdown",
   "id": "3e4cf716",
   "metadata": {
    "ExecuteTime": {
     "end_time": "2022-10-26T20:47:44.091334Z",
     "start_time": "2022-10-26T20:47:44.086334Z"
    }
   },
   "source": [
    "#### Exercise\n",
    "Drop based on conf. int. difference"
   ]
  },
  {
   "cell_type": "code",
   "execution_count": 333,
   "id": "5f9536d0",
   "metadata": {
    "ExecuteTime": {
     "end_time": "2022-11-01T17:35:44.735171Z",
     "start_time": "2022-11-01T17:35:44.196668Z"
    }
   },
   "outputs": [
    {
     "data": {
      "text/html": [
       "<style type=\"text/css\">\n",
       "#T_3d60e_row0_col0, #T_3d60e_row0_col1, #T_3d60e_row0_col2, #T_3d60e_row0_col3, #T_3d60e_row0_col4, #T_3d60e_row0_col5, #T_3d60e_row0_col6, #T_3d60e_row1_col0, #T_3d60e_row1_col1, #T_3d60e_row1_col2, #T_3d60e_row1_col3, #T_3d60e_row1_col4, #T_3d60e_row1_col5, #T_3d60e_row1_col6, #T_3d60e_row2_col0, #T_3d60e_row2_col1, #T_3d60e_row2_col2, #T_3d60e_row2_col3, #T_3d60e_row2_col4, #T_3d60e_row2_col5, #T_3d60e_row2_col6, #T_3d60e_row3_col0, #T_3d60e_row3_col1, #T_3d60e_row3_col2, #T_3d60e_row3_col3, #T_3d60e_row3_col4, #T_3d60e_row3_col5, #T_3d60e_row4_col0, #T_3d60e_row4_col1, #T_3d60e_row4_col2, #T_3d60e_row4_col3, #T_3d60e_row4_col4, #T_3d60e_row4_col5, #T_3d60e_row4_col6, #T_3d60e_row5_col0, #T_3d60e_row5_col1, #T_3d60e_row5_col2, #T_3d60e_row5_col3, #T_3d60e_row5_col4, #T_3d60e_row5_col5, #T_3d60e_row5_col6 {\n",
       "  color: white;\n",
       "}\n",
       "#T_3d60e_row3_col6 {\n",
       "  background-color: green;\n",
       "}\n",
       "</style>\n",
       "<table id=\"T_3d60e_\">\n",
       "  <thead>\n",
       "    <tr>\n",
       "      <th class=\"blank level0\" >&nbsp;</th>\n",
       "      <th class=\"col_heading level0 col0\" >BEN</th>\n",
       "      <th class=\"col_heading level0 col1\" >C</th>\n",
       "      <th class=\"col_heading level0 col2\" >COF</th>\n",
       "      <th class=\"col_heading level0 col3\" >KKR</th>\n",
       "      <th class=\"col_heading level0 col4\" >SCHW</th>\n",
       "      <th class=\"col_heading level0 col5\" >STT</th>\n",
       "      <th class=\"col_heading level0 col6\" >USB</th>\n",
       "    </tr>\n",
       "  </thead>\n",
       "  <tbody>\n",
       "    <tr>\n",
       "      <th id=\"T_3d60e_level0_row0\" class=\"row_heading level0 row0\" >APO</th>\n",
       "      <td id=\"T_3d60e_row0_col0\" class=\"data row0 col0\" >nan</td>\n",
       "      <td id=\"T_3d60e_row0_col1\" class=\"data row0 col1\" >nan</td>\n",
       "      <td id=\"T_3d60e_row0_col2\" class=\"data row0 col2\" >nan</td>\n",
       "      <td id=\"T_3d60e_row0_col3\" class=\"data row0 col3\" >nan</td>\n",
       "      <td id=\"T_3d60e_row0_col4\" class=\"data row0 col4\" >nan</td>\n",
       "      <td id=\"T_3d60e_row0_col5\" class=\"data row0 col5\" >nan</td>\n",
       "      <td id=\"T_3d60e_row0_col6\" class=\"data row0 col6\" >nan</td>\n",
       "    </tr>\n",
       "    <tr>\n",
       "      <th id=\"T_3d60e_level0_row1\" class=\"row_heading level0 row1\" >BAC</th>\n",
       "      <td id=\"T_3d60e_row1_col0\" class=\"data row1 col0\" >nan</td>\n",
       "      <td id=\"T_3d60e_row1_col1\" class=\"data row1 col1\" >nan</td>\n",
       "      <td id=\"T_3d60e_row1_col2\" class=\"data row1 col2\" >nan</td>\n",
       "      <td id=\"T_3d60e_row1_col3\" class=\"data row1 col3\" >nan</td>\n",
       "      <td id=\"T_3d60e_row1_col4\" class=\"data row1 col4\" >nan</td>\n",
       "      <td id=\"T_3d60e_row1_col5\" class=\"data row1 col5\" >nan</td>\n",
       "      <td id=\"T_3d60e_row1_col6\" class=\"data row1 col6\" >nan</td>\n",
       "    </tr>\n",
       "    <tr>\n",
       "      <th id=\"T_3d60e_level0_row2\" class=\"row_heading level0 row2\" >BEN</th>\n",
       "      <td id=\"T_3d60e_row2_col0\" class=\"data row2 col0\" >nan</td>\n",
       "      <td id=\"T_3d60e_row2_col1\" class=\"data row2 col1\" >nan</td>\n",
       "      <td id=\"T_3d60e_row2_col2\" class=\"data row2 col2\" >nan</td>\n",
       "      <td id=\"T_3d60e_row2_col3\" class=\"data row2 col3\" >nan</td>\n",
       "      <td id=\"T_3d60e_row2_col4\" class=\"data row2 col4\" >nan</td>\n",
       "      <td id=\"T_3d60e_row2_col5\" class=\"data row2 col5\" >nan</td>\n",
       "      <td id=\"T_3d60e_row2_col6\" class=\"data row2 col6\" >nan</td>\n",
       "    </tr>\n",
       "    <tr>\n",
       "      <th id=\"T_3d60e_level0_row3\" class=\"row_heading level0 row3\" >BX</th>\n",
       "      <td id=\"T_3d60e_row3_col0\" class=\"data row3 col0\" >nan</td>\n",
       "      <td id=\"T_3d60e_row3_col1\" class=\"data row3 col1\" >nan</td>\n",
       "      <td id=\"T_3d60e_row3_col2\" class=\"data row3 col2\" >nan</td>\n",
       "      <td id=\"T_3d60e_row3_col3\" class=\"data row3 col3\" >nan</td>\n",
       "      <td id=\"T_3d60e_row3_col4\" class=\"data row3 col4\" >nan</td>\n",
       "      <td id=\"T_3d60e_row3_col5\" class=\"data row3 col5\" >nan</td>\n",
       "      <td id=\"T_3d60e_row3_col6\" class=\"data row3 col6\" >0.04</td>\n",
       "    </tr>\n",
       "    <tr>\n",
       "      <th id=\"T_3d60e_level0_row4\" class=\"row_heading level0 row4\" >COF</th>\n",
       "      <td id=\"T_3d60e_row4_col0\" class=\"data row4 col0\" >nan</td>\n",
       "      <td id=\"T_3d60e_row4_col1\" class=\"data row4 col1\" >nan</td>\n",
       "      <td id=\"T_3d60e_row4_col2\" class=\"data row4 col2\" >nan</td>\n",
       "      <td id=\"T_3d60e_row4_col3\" class=\"data row4 col3\" >nan</td>\n",
       "      <td id=\"T_3d60e_row4_col4\" class=\"data row4 col4\" >nan</td>\n",
       "      <td id=\"T_3d60e_row4_col5\" class=\"data row4 col5\" >nan</td>\n",
       "      <td id=\"T_3d60e_row4_col6\" class=\"data row4 col6\" >nan</td>\n",
       "    </tr>\n",
       "    <tr>\n",
       "      <th id=\"T_3d60e_level0_row5\" class=\"row_heading level0 row5\" >RF</th>\n",
       "      <td id=\"T_3d60e_row5_col0\" class=\"data row5 col0\" >nan</td>\n",
       "      <td id=\"T_3d60e_row5_col1\" class=\"data row5 col1\" >nan</td>\n",
       "      <td id=\"T_3d60e_row5_col2\" class=\"data row5 col2\" >nan</td>\n",
       "      <td id=\"T_3d60e_row5_col3\" class=\"data row5 col3\" >nan</td>\n",
       "      <td id=\"T_3d60e_row5_col4\" class=\"data row5 col4\" >nan</td>\n",
       "      <td id=\"T_3d60e_row5_col5\" class=\"data row5 col5\" >nan</td>\n",
       "      <td id=\"T_3d60e_row5_col6\" class=\"data row5 col6\" >nan</td>\n",
       "    </tr>\n",
       "  </tbody>\n",
       "</table>\n"
      ],
      "text/plain": [
       "<pandas.io.formats.style.Styler at 0x158e9b72100>"
      ]
     },
     "metadata": {},
     "output_type": "display_data"
    },
    {
     "data": {
      "text/html": [
       "<style type=\"text/css\">\n",
       "#T_f00a6_row0_col0, #T_f00a6_row0_col1, #T_f00a6_row0_col2, #T_f00a6_row0_col3, #T_f00a6_row0_col4, #T_f00a6_row0_col5, #T_f00a6_row0_col6, #T_f00a6_row1_col0, #T_f00a6_row1_col1, #T_f00a6_row1_col2, #T_f00a6_row1_col3, #T_f00a6_row1_col4, #T_f00a6_row1_col5, #T_f00a6_row1_col6, #T_f00a6_row2_col0, #T_f00a6_row2_col1, #T_f00a6_row2_col2, #T_f00a6_row2_col4, #T_f00a6_row2_col5, #T_f00a6_row2_col6, #T_f00a6_row3_col0, #T_f00a6_row3_col1, #T_f00a6_row3_col3, #T_f00a6_row3_col4, #T_f00a6_row3_col5, #T_f00a6_row3_col6, #T_f00a6_row4_col0, #T_f00a6_row4_col1, #T_f00a6_row4_col2, #T_f00a6_row4_col3, #T_f00a6_row4_col4, #T_f00a6_row4_col5, #T_f00a6_row4_col6, #T_f00a6_row5_col0, #T_f00a6_row5_col1, #T_f00a6_row5_col2, #T_f00a6_row5_col3, #T_f00a6_row5_col4, #T_f00a6_row5_col5, #T_f00a6_row5_col6 {\n",
       "  color: white;\n",
       "}\n",
       "#T_f00a6_row2_col3, #T_f00a6_row3_col2 {\n",
       "  color: white;\n",
       "  background-color: yellow;\n",
       "  color: black;\n",
       "  background-color: red;\n",
       "}\n",
       "</style>\n",
       "<table id=\"T_f00a6_\">\n",
       "  <thead>\n",
       "    <tr>\n",
       "      <th class=\"blank level0\" >&nbsp;</th>\n",
       "      <th class=\"col_heading level0 col0\" >BEN</th>\n",
       "      <th class=\"col_heading level0 col1\" >C</th>\n",
       "      <th class=\"col_heading level0 col2\" >COF</th>\n",
       "      <th class=\"col_heading level0 col3\" >KKR</th>\n",
       "      <th class=\"col_heading level0 col4\" >SCHW</th>\n",
       "      <th class=\"col_heading level0 col5\" >STT</th>\n",
       "      <th class=\"col_heading level0 col6\" >USB</th>\n",
       "    </tr>\n",
       "  </thead>\n",
       "  <tbody>\n",
       "    <tr>\n",
       "      <th id=\"T_f00a6_level0_row0\" class=\"row_heading level0 row0\" >APO</th>\n",
       "      <td id=\"T_f00a6_row0_col0\" class=\"data row0 col0\" >nan</td>\n",
       "      <td id=\"T_f00a6_row0_col1\" class=\"data row0 col1\" >nan</td>\n",
       "      <td id=\"T_f00a6_row0_col2\" class=\"data row0 col2\" >nan</td>\n",
       "      <td id=\"T_f00a6_row0_col3\" class=\"data row0 col3\" >nan</td>\n",
       "      <td id=\"T_f00a6_row0_col4\" class=\"data row0 col4\" >nan</td>\n",
       "      <td id=\"T_f00a6_row0_col5\" class=\"data row0 col5\" >nan</td>\n",
       "      <td id=\"T_f00a6_row0_col6\" class=\"data row0 col6\" >nan</td>\n",
       "    </tr>\n",
       "    <tr>\n",
       "      <th id=\"T_f00a6_level0_row1\" class=\"row_heading level0 row1\" >BAC</th>\n",
       "      <td id=\"T_f00a6_row1_col0\" class=\"data row1 col0\" >nan</td>\n",
       "      <td id=\"T_f00a6_row1_col1\" class=\"data row1 col1\" >nan</td>\n",
       "      <td id=\"T_f00a6_row1_col2\" class=\"data row1 col2\" >nan</td>\n",
       "      <td id=\"T_f00a6_row1_col3\" class=\"data row1 col3\" >nan</td>\n",
       "      <td id=\"T_f00a6_row1_col4\" class=\"data row1 col4\" >nan</td>\n",
       "      <td id=\"T_f00a6_row1_col5\" class=\"data row1 col5\" >nan</td>\n",
       "      <td id=\"T_f00a6_row1_col6\" class=\"data row1 col6\" >nan</td>\n",
       "    </tr>\n",
       "    <tr>\n",
       "      <th id=\"T_f00a6_level0_row2\" class=\"row_heading level0 row2\" >BEN</th>\n",
       "      <td id=\"T_f00a6_row2_col0\" class=\"data row2 col0\" >nan</td>\n",
       "      <td id=\"T_f00a6_row2_col1\" class=\"data row2 col1\" >nan</td>\n",
       "      <td id=\"T_f00a6_row2_col2\" class=\"data row2 col2\" >nan</td>\n",
       "      <td id=\"T_f00a6_row2_col3\" class=\"data row2 col3\" >-0.09</td>\n",
       "      <td id=\"T_f00a6_row2_col4\" class=\"data row2 col4\" >nan</td>\n",
       "      <td id=\"T_f00a6_row2_col5\" class=\"data row2 col5\" >nan</td>\n",
       "      <td id=\"T_f00a6_row2_col6\" class=\"data row2 col6\" >nan</td>\n",
       "    </tr>\n",
       "    <tr>\n",
       "      <th id=\"T_f00a6_level0_row3\" class=\"row_heading level0 row3\" >BX</th>\n",
       "      <td id=\"T_f00a6_row3_col0\" class=\"data row3 col0\" >nan</td>\n",
       "      <td id=\"T_f00a6_row3_col1\" class=\"data row3 col1\" >nan</td>\n",
       "      <td id=\"T_f00a6_row3_col2\" class=\"data row3 col2\" >-0.05</td>\n",
       "      <td id=\"T_f00a6_row3_col3\" class=\"data row3 col3\" >nan</td>\n",
       "      <td id=\"T_f00a6_row3_col4\" class=\"data row3 col4\" >nan</td>\n",
       "      <td id=\"T_f00a6_row3_col5\" class=\"data row3 col5\" >nan</td>\n",
       "      <td id=\"T_f00a6_row3_col6\" class=\"data row3 col6\" >nan</td>\n",
       "    </tr>\n",
       "    <tr>\n",
       "      <th id=\"T_f00a6_level0_row4\" class=\"row_heading level0 row4\" >COF</th>\n",
       "      <td id=\"T_f00a6_row4_col0\" class=\"data row4 col0\" >nan</td>\n",
       "      <td id=\"T_f00a6_row4_col1\" class=\"data row4 col1\" >nan</td>\n",
       "      <td id=\"T_f00a6_row4_col2\" class=\"data row4 col2\" >nan</td>\n",
       "      <td id=\"T_f00a6_row4_col3\" class=\"data row4 col3\" >nan</td>\n",
       "      <td id=\"T_f00a6_row4_col4\" class=\"data row4 col4\" >nan</td>\n",
       "      <td id=\"T_f00a6_row4_col5\" class=\"data row4 col5\" >nan</td>\n",
       "      <td id=\"T_f00a6_row4_col6\" class=\"data row4 col6\" >nan</td>\n",
       "    </tr>\n",
       "    <tr>\n",
       "      <th id=\"T_f00a6_level0_row5\" class=\"row_heading level0 row5\" >RF</th>\n",
       "      <td id=\"T_f00a6_row5_col0\" class=\"data row5 col0\" >nan</td>\n",
       "      <td id=\"T_f00a6_row5_col1\" class=\"data row5 col1\" >nan</td>\n",
       "      <td id=\"T_f00a6_row5_col2\" class=\"data row5 col2\" >nan</td>\n",
       "      <td id=\"T_f00a6_row5_col3\" class=\"data row5 col3\" >nan</td>\n",
       "      <td id=\"T_f00a6_row5_col4\" class=\"data row5 col4\" >nan</td>\n",
       "      <td id=\"T_f00a6_row5_col5\" class=\"data row5 col5\" >nan</td>\n",
       "      <td id=\"T_f00a6_row5_col6\" class=\"data row5 col6\" >nan</td>\n",
       "    </tr>\n",
       "  </tbody>\n",
       "</table>\n"
      ],
      "text/plain": [
       "<pandas.io.formats.style.Styler at 0x158e90c40a0>"
      ]
     },
     "metadata": {},
     "output_type": "display_data"
    },
    {
     "name": "stdout",
     "output_type": "stream",
     "text": [
      "dropped pairs:\n",
      "[('BEN', 'KKR'), ('BX', 'COF')]\n",
      "remaining 8 pairs from 10\n"
     ]
    },
    {
     "data": {
      "text/plain": [
       "[('RF', 'STT'),\n",
       " ('APO', 'C'),\n",
       " ('BAC', 'STT'),\n",
       " ('APO', 'STT'),\n",
       " ('BX', 'USB'),\n",
       " ('RF', 'SCHW'),\n",
       " ('APO', 'BEN'),\n",
       " ('COF', 'USB')]"
      ]
     },
     "execution_count": 333,
     "metadata": {},
     "output_type": "execute_result"
    }
   ],
   "source": [
    "# let's eliminate the pairs if any of its test result drops to %90\n",
    "\n",
    "# keep green from %95 to %99\n",
    "def green_apply(x):\n",
    "    color = {True: \"background-color: green\", False: \"color : white\"}\n",
    "    is_color = (x > 0).replace(color)\n",
    "    return is_color\n",
    "# keep yellow (from %99 to %95)\n",
    "def yellow_apply(x):\n",
    "    color = {True: \"background-color: yellow; color : black\"}\n",
    "    is_color = (x <= -0.04).replace(color)\n",
    "    return is_color\n",
    "# drop red (from %99-%95 to %90)\n",
    "def red_apply(x):\n",
    "    color = {True: \"background-color: red\"}\n",
    "    is_color = (x <= -0.05).replace(color)\n",
    "    return is_color\n",
    "\n",
    "df_diff_adf = df_c_adf.subtract(df_c).round(2)\n",
    "df_diff_adf = df_diff_adf.replace(0, np.nan)\n",
    "\n",
    "df_diff_pp = df_c_pp.subtract(df_c).round(2)\n",
    "df_diff_pp = df_diff_pp.replace(0, np.nan)\n",
    "\n",
    "display(df_diff_adf.style.format(precision=2)\\\n",
    "        .apply(green_apply)\\\n",
    "        .apply(yellow_apply)\\\n",
    "        .apply(red_apply))\n",
    "\n",
    "display(df_diff_pp.style.format(precision=2)\\\n",
    "        .apply(green_apply)\\\n",
    "        .apply(yellow_apply)\\\n",
    "        .apply(red_apply))\n",
    "\n",
    "x_list = df_c.index.tolist()\n",
    "y_list = df_c.columns.tolist()\n",
    "\n",
    "drop_pairs_list = []\n",
    "\n",
    "for i in range(len(x_list)):\n",
    "    for j in range(len(y_list)):\n",
    "        # print(x_list[i] + \"-\" + y_list[j])\n",
    "        if df_diff_adf.iloc[i,j]< -0.04:  # eliminate id drops to %90\n",
    "            drop_pairs_list.append((x_list[i], y_list[j]))\n",
    "\n",
    "for i in range(len(x_list)):\n",
    "    for j in range(len(y_list)):\n",
    "        if df_diff_pp.iloc[i,j]< -0.04:  # eliminate id drops to %90\n",
    "            drop_pairs_list.append((x_list[i], y_list[j]))\n",
    "                      \n",
    "print(\"dropped pairs:\")\n",
    "print(drop_pairs_list)\n",
    "\n",
    "new_pairs_list = set(pairs_list) - set(drop_pairs_list)\n",
    "\n",
    "print(f\"remaining {len(new_pairs_list)} pairs from {df_c.count().sum()}\")\n",
    "list(new_pairs_list)"
   ]
  },
  {
   "cell_type": "markdown",
   "id": "34e1d91f",
   "metadata": {
    "ExecuteTime": {
     "end_time": "2022-10-26T20:47:44.359333Z",
     "start_time": "2022-10-26T20:47:44.348356Z"
    }
   },
   "source": [
    "#### Exercise\n",
    "Show unique tickers in the list of selected pairs"
   ]
  },
  {
   "cell_type": "code",
   "execution_count": 334,
   "id": "7c55071a",
   "metadata": {
    "ExecuteTime": {
     "end_time": "2022-11-01T17:35:44.794169Z",
     "start_time": "2022-11-01T17:35:44.770150Z"
    }
   },
   "outputs": [
    {
     "name": "stdout",
     "output_type": "stream",
     "text": [
      "total 10 tickers\n"
     ]
    },
    {
     "data": {
      "text/plain": [
       "{'APO', 'BAC', 'BEN', 'BX', 'C', 'COF', 'RF', 'SCHW', 'STT', 'USB'}"
      ]
     },
     "execution_count": 334,
     "metadata": {},
     "output_type": "execute_result"
    }
   ],
   "source": [
    "import itertools\n",
    "chain = itertools.chain(*new_pairs_list)\n",
    "new_tickers = set(chain)\n",
    "print(f\"total {len(set(new_tickers))} tickers\")\n",
    "new_tickers"
   ]
  }
 ],
 "metadata": {
  "kernelspec": {
   "display_name": "Python 3 (ipykernel)",
   "language": "python",
   "name": "python3"
  },
  "language_info": {
   "codemirror_mode": {
    "name": "ipython",
    "version": 3
   },
   "file_extension": ".py",
   "mimetype": "text/x-python",
   "name": "python",
   "nbconvert_exporter": "python",
   "pygments_lexer": "ipython3",
   "version": "3.9.7"
  }
 },
 "nbformat": 4,
 "nbformat_minor": 5
}
