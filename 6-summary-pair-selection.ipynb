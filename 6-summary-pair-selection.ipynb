{
 "cells": [
  {
   "cell_type": "markdown",
   "id": "a442a555",
   "metadata": {},
   "source": [
    "We will do cointegration & unit root tests for all of the selected pairs, and eliminate some of them."
   ]
  },
  {
   "cell_type": "code",
   "execution_count": 1005,
   "id": "85aaf24e",
   "metadata": {
    "ExecuteTime": {
     "end_time": "2022-10-26T22:59:33.559928Z",
     "start_time": "2022-10-26T22:59:33.543934Z"
    }
   },
   "outputs": [],
   "source": [
    "import numpy as np\n",
    "import pandas as pd\n",
    "import pickle\n",
    "import matplotlib.pyplot as plt\n",
    "from pathlib import Path\n",
    "import seaborn\n",
    "from statsmodels.tsa.stattools import coint\n",
    "from statsmodels.tsa.stattools import adfuller\n",
    "import statsmodels.api as sm\n",
    "import arch.unitroot as at"
   ]
  },
  {
   "cell_type": "markdown",
   "id": "71be8514",
   "metadata": {},
   "source": [
    "### GET ALL TICKERS & PAIRS"
   ]
  },
  {
   "cell_type": "code",
   "execution_count": 1006,
   "id": "c8916e4f",
   "metadata": {
    "ExecuteTime": {
     "end_time": "2022-10-26T23:00:27.181739Z",
     "start_time": "2022-10-26T23:00:27.149754Z"
    }
   },
   "outputs": [
    {
     "name": "stdout",
     "output_type": "stream",
     "text": [
      "10 pairs\n"
     ]
    },
    {
     "data": {
      "text/plain": [
       "[('AEE', 'DUK'),\n",
       " ('AEP', 'CNP'),\n",
       " ('AEP', 'VST'),\n",
       " ('CMS', 'DUK'),\n",
       " ('CNP', 'VST'),\n",
       " ('ED', 'VST'),\n",
       " ('NRG', 'VST'),\n",
       " ('OGE', 'XEL'),\n",
       " ('SO', 'VST'),\n",
       " ('VST', 'WEC')]"
      ]
     },
     "execution_count": 1006,
     "metadata": {},
     "output_type": "execute_result"
    }
   ],
   "source": [
    "df = pd.read_pickle(\"pairs_to_download.pkl\")\n",
    "\n",
    "tickers_list = list(df.index.union(df.columns))\n",
    "\n",
    "x_list = df.index.tolist()\n",
    "y_list = df.columns.tolist()\n",
    "\n",
    "pairs_list = [] # list of pairs as tuples (A,B)\n",
    "\n",
    "for i in range(len(x_list)):\n",
    "    for j in range(len(y_list)):\n",
    "        if df.iloc[i,j]>0:\n",
    "            pairs_list.append((x_list[i], y_list[j]))\n",
    "\n",
    "print(f\"{len(pairs_list)} pairs\")\n",
    "pairs_list"
   ]
  },
  {
   "cell_type": "markdown",
   "id": "31df7f38",
   "metadata": {},
   "source": [
    "### GET TICKER PRICES"
   ]
  },
  {
   "cell_type": "code",
   "execution_count": 1007,
   "id": "d5ae2733",
   "metadata": {
    "ExecuteTime": {
     "end_time": "2022-10-26T23:02:36.905325Z",
     "start_time": "2022-10-26T23:02:36.854799Z"
    }
   },
   "outputs": [
    {
     "data": {
      "text/html": [
       "<div>\n",
       "<style scoped>\n",
       "    .dataframe tbody tr th:only-of-type {\n",
       "        vertical-align: middle;\n",
       "    }\n",
       "\n",
       "    .dataframe tbody tr th {\n",
       "        vertical-align: top;\n",
       "    }\n",
       "\n",
       "    .dataframe thead th {\n",
       "        text-align: right;\n",
       "    }\n",
       "</style>\n",
       "<table border=\"1\" class=\"dataframe\">\n",
       "  <thead>\n",
       "    <tr style=\"text-align: right;\">\n",
       "      <th></th>\n",
       "      <th>AEE</th>\n",
       "      <th>AEP</th>\n",
       "      <th>CMS</th>\n",
       "      <th>CNP</th>\n",
       "      <th>DUK</th>\n",
       "      <th>ED</th>\n",
       "      <th>NRG</th>\n",
       "      <th>OGE</th>\n",
       "      <th>SO</th>\n",
       "      <th>VST</th>\n",
       "      <th>WEC</th>\n",
       "      <th>XEL</th>\n",
       "    </tr>\n",
       "    <tr>\n",
       "      <th>Date</th>\n",
       "      <th></th>\n",
       "      <th></th>\n",
       "      <th></th>\n",
       "      <th></th>\n",
       "      <th></th>\n",
       "      <th></th>\n",
       "      <th></th>\n",
       "      <th></th>\n",
       "      <th></th>\n",
       "      <th></th>\n",
       "      <th></th>\n",
       "      <th></th>\n",
       "    </tr>\n",
       "  </thead>\n",
       "  <tbody>\n",
       "    <tr>\n",
       "      <th>2021-10-27 00:00:00-04:00</th>\n",
       "      <td>84.459999</td>\n",
       "      <td>84.300003</td>\n",
       "      <td>60.349998</td>\n",
       "      <td>26.309999</td>\n",
       "      <td>102.760002</td>\n",
       "      <td>75.989998</td>\n",
       "      <td>40.580002</td>\n",
       "      <td>34.049999</td>\n",
       "      <td>62.639999</td>\n",
       "      <td>19.660000</td>\n",
       "      <td>89.970001</td>\n",
       "      <td>63.389999</td>\n",
       "    </tr>\n",
       "    <tr>\n",
       "      <th>2021-10-28 00:00:00-04:00</th>\n",
       "      <td>84.809998</td>\n",
       "      <td>84.709999</td>\n",
       "      <td>60.720001</td>\n",
       "      <td>26.290001</td>\n",
       "      <td>102.489998</td>\n",
       "      <td>76.290001</td>\n",
       "      <td>40.860001</td>\n",
       "      <td>34.070000</td>\n",
       "      <td>62.740002</td>\n",
       "      <td>19.850000</td>\n",
       "      <td>90.510002</td>\n",
       "      <td>64.330002</td>\n",
       "    </tr>\n",
       "    <tr>\n",
       "      <th>2021-10-29 00:00:00-04:00</th>\n",
       "      <td>84.290001</td>\n",
       "      <td>84.709999</td>\n",
       "      <td>60.349998</td>\n",
       "      <td>26.040001</td>\n",
       "      <td>102.010002</td>\n",
       "      <td>75.400002</td>\n",
       "      <td>39.889999</td>\n",
       "      <td>34.070000</td>\n",
       "      <td>62.320000</td>\n",
       "      <td>19.590000</td>\n",
       "      <td>90.059998</td>\n",
       "      <td>64.589996</td>\n",
       "    </tr>\n",
       "    <tr>\n",
       "      <th>2021-11-01 00:00:00-04:00</th>\n",
       "      <td>84.279999</td>\n",
       "      <td>85.129997</td>\n",
       "      <td>60.290001</td>\n",
       "      <td>26.290001</td>\n",
       "      <td>102.309998</td>\n",
       "      <td>76.110001</td>\n",
       "      <td>40.459999</td>\n",
       "      <td>34.669998</td>\n",
       "      <td>62.480000</td>\n",
       "      <td>20.010000</td>\n",
       "      <td>90.339996</td>\n",
       "      <td>64.500000</td>\n",
       "    </tr>\n",
       "    <tr>\n",
       "      <th>2021-11-02 00:00:00-04:00</th>\n",
       "      <td>84.330002</td>\n",
       "      <td>85.300003</td>\n",
       "      <td>60.439999</td>\n",
       "      <td>26.190001</td>\n",
       "      <td>102.449997</td>\n",
       "      <td>76.440002</td>\n",
       "      <td>39.540001</td>\n",
       "      <td>34.480000</td>\n",
       "      <td>62.490002</td>\n",
       "      <td>19.870001</td>\n",
       "      <td>90.889999</td>\n",
       "      <td>64.709999</td>\n",
       "    </tr>\n",
       "    <tr>\n",
       "      <th>...</th>\n",
       "      <td>...</td>\n",
       "      <td>...</td>\n",
       "      <td>...</td>\n",
       "      <td>...</td>\n",
       "      <td>...</td>\n",
       "      <td>...</td>\n",
       "      <td>...</td>\n",
       "      <td>...</td>\n",
       "      <td>...</td>\n",
       "      <td>...</td>\n",
       "      <td>...</td>\n",
       "      <td>...</td>\n",
       "    </tr>\n",
       "    <tr>\n",
       "      <th>2022-10-20 00:00:00-04:00</th>\n",
       "      <td>76.620003</td>\n",
       "      <td>83.930000</td>\n",
       "      <td>53.970001</td>\n",
       "      <td>26.600000</td>\n",
       "      <td>87.230003</td>\n",
       "      <td>83.419998</td>\n",
       "      <td>40.720001</td>\n",
       "      <td>34.360001</td>\n",
       "      <td>63.500000</td>\n",
       "      <td>21.520000</td>\n",
       "      <td>85.440002</td>\n",
       "      <td>59.730000</td>\n",
       "    </tr>\n",
       "    <tr>\n",
       "      <th>2022-10-21 00:00:00-04:00</th>\n",
       "      <td>77.580002</td>\n",
       "      <td>85.629997</td>\n",
       "      <td>54.430000</td>\n",
       "      <td>27.010000</td>\n",
       "      <td>88.459999</td>\n",
       "      <td>84.870003</td>\n",
       "      <td>42.360001</td>\n",
       "      <td>34.970001</td>\n",
       "      <td>64.500000</td>\n",
       "      <td>21.750000</td>\n",
       "      <td>86.650002</td>\n",
       "      <td>60.900002</td>\n",
       "    </tr>\n",
       "    <tr>\n",
       "      <th>2022-10-24 00:00:00-04:00</th>\n",
       "      <td>77.870003</td>\n",
       "      <td>86.000000</td>\n",
       "      <td>54.619999</td>\n",
       "      <td>27.209999</td>\n",
       "      <td>88.690002</td>\n",
       "      <td>84.690002</td>\n",
       "      <td>42.990002</td>\n",
       "      <td>35.029999</td>\n",
       "      <td>64.589996</td>\n",
       "      <td>21.490000</td>\n",
       "      <td>86.760002</td>\n",
       "      <td>61.580002</td>\n",
       "    </tr>\n",
       "    <tr>\n",
       "      <th>2022-10-25 00:00:00-04:00</th>\n",
       "      <td>79.519997</td>\n",
       "      <td>87.419998</td>\n",
       "      <td>55.750000</td>\n",
       "      <td>27.650000</td>\n",
       "      <td>90.239998</td>\n",
       "      <td>85.849998</td>\n",
       "      <td>43.639999</td>\n",
       "      <td>35.959999</td>\n",
       "      <td>65.720001</td>\n",
       "      <td>21.990000</td>\n",
       "      <td>87.769997</td>\n",
       "      <td>62.400002</td>\n",
       "    </tr>\n",
       "    <tr>\n",
       "      <th>2022-10-26 00:00:00-04:00</th>\n",
       "      <td>79.510002</td>\n",
       "      <td>87.449997</td>\n",
       "      <td>55.900002</td>\n",
       "      <td>27.600000</td>\n",
       "      <td>90.809998</td>\n",
       "      <td>85.739998</td>\n",
       "      <td>43.150002</td>\n",
       "      <td>35.950001</td>\n",
       "      <td>65.639999</td>\n",
       "      <td>21.900000</td>\n",
       "      <td>88.080002</td>\n",
       "      <td>62.570000</td>\n",
       "    </tr>\n",
       "  </tbody>\n",
       "</table>\n",
       "<p>252 rows × 12 columns</p>\n",
       "</div>"
      ],
      "text/plain": [
       "                                 AEE        AEP        CMS        CNP  \\\n",
       "Date                                                                    \n",
       "2021-10-27 00:00:00-04:00  84.459999  84.300003  60.349998  26.309999   \n",
       "2021-10-28 00:00:00-04:00  84.809998  84.709999  60.720001  26.290001   \n",
       "2021-10-29 00:00:00-04:00  84.290001  84.709999  60.349998  26.040001   \n",
       "2021-11-01 00:00:00-04:00  84.279999  85.129997  60.290001  26.290001   \n",
       "2021-11-02 00:00:00-04:00  84.330002  85.300003  60.439999  26.190001   \n",
       "...                              ...        ...        ...        ...   \n",
       "2022-10-20 00:00:00-04:00  76.620003  83.930000  53.970001  26.600000   \n",
       "2022-10-21 00:00:00-04:00  77.580002  85.629997  54.430000  27.010000   \n",
       "2022-10-24 00:00:00-04:00  77.870003  86.000000  54.619999  27.209999   \n",
       "2022-10-25 00:00:00-04:00  79.519997  87.419998  55.750000  27.650000   \n",
       "2022-10-26 00:00:00-04:00  79.510002  87.449997  55.900002  27.600000   \n",
       "\n",
       "                                  DUK         ED        NRG        OGE  \\\n",
       "Date                                                                     \n",
       "2021-10-27 00:00:00-04:00  102.760002  75.989998  40.580002  34.049999   \n",
       "2021-10-28 00:00:00-04:00  102.489998  76.290001  40.860001  34.070000   \n",
       "2021-10-29 00:00:00-04:00  102.010002  75.400002  39.889999  34.070000   \n",
       "2021-11-01 00:00:00-04:00  102.309998  76.110001  40.459999  34.669998   \n",
       "2021-11-02 00:00:00-04:00  102.449997  76.440002  39.540001  34.480000   \n",
       "...                               ...        ...        ...        ...   \n",
       "2022-10-20 00:00:00-04:00   87.230003  83.419998  40.720001  34.360001   \n",
       "2022-10-21 00:00:00-04:00   88.459999  84.870003  42.360001  34.970001   \n",
       "2022-10-24 00:00:00-04:00   88.690002  84.690002  42.990002  35.029999   \n",
       "2022-10-25 00:00:00-04:00   90.239998  85.849998  43.639999  35.959999   \n",
       "2022-10-26 00:00:00-04:00   90.809998  85.739998  43.150002  35.950001   \n",
       "\n",
       "                                  SO        VST        WEC        XEL  \n",
       "Date                                                                   \n",
       "2021-10-27 00:00:00-04:00  62.639999  19.660000  89.970001  63.389999  \n",
       "2021-10-28 00:00:00-04:00  62.740002  19.850000  90.510002  64.330002  \n",
       "2021-10-29 00:00:00-04:00  62.320000  19.590000  90.059998  64.589996  \n",
       "2021-11-01 00:00:00-04:00  62.480000  20.010000  90.339996  64.500000  \n",
       "2021-11-02 00:00:00-04:00  62.490002  19.870001  90.889999  64.709999  \n",
       "...                              ...        ...        ...        ...  \n",
       "2022-10-20 00:00:00-04:00  63.500000  21.520000  85.440002  59.730000  \n",
       "2022-10-21 00:00:00-04:00  64.500000  21.750000  86.650002  60.900002  \n",
       "2022-10-24 00:00:00-04:00  64.589996  21.490000  86.760002  61.580002  \n",
       "2022-10-25 00:00:00-04:00  65.720001  21.990000  87.769997  62.400002  \n",
       "2022-10-26 00:00:00-04:00  65.639999  21.900000  88.080002  62.570000  \n",
       "\n",
       "[252 rows x 12 columns]"
      ]
     },
     "execution_count": 1007,
     "metadata": {},
     "output_type": "execute_result"
    }
   ],
   "source": [
    "prices= pd.read_pickle(\"close_prices.pkl\")[tickers_list] \n",
    "prices"
   ]
  },
  {
   "cell_type": "markdown",
   "id": "a272c289",
   "metadata": {},
   "source": [
    "### TESTS"
   ]
  },
  {
   "cell_type": "markdown",
   "id": "56018599",
   "metadata": {},
   "source": [
    "#### COINTEGRATION TEST"
   ]
  },
  {
   "cell_type": "markdown",
   "id": "693ae4bf",
   "metadata": {},
   "source": [
    "Define a function to loop through the tickers and do a cointegration test for each combination"
   ]
  },
  {
   "cell_type": "code",
   "execution_count": 1008,
   "id": "92fd67e1",
   "metadata": {
    "ExecuteTime": {
     "end_time": "2022-10-26T23:04:07.262752Z",
     "start_time": "2022-10-26T23:04:07.240756Z"
    }
   },
   "outputs": [],
   "source": [
    "def cointegration_test(data, p_value=0.05):\n",
    "    n = data.shape[1]\n",
    "    # create matrix to be filled later\n",
    "    stats = np.zeros((n, n))\n",
    "    pvalues = np.ones((n, n))\n",
    "    confints = np.zeros((n, n))\n",
    "    keys = data.keys() # get the info axis, returns columns if object is a dataframe\n",
    "    pairs = []\n",
    "    for i in range(n):\n",
    "        for j in range(i+1, n):\n",
    "            result = coint(data[keys[i]], data[keys[j]])\n",
    "            test_stat = result[0]\n",
    "            pvalue = result[1]\n",
    "            stats[i, j] = test_stat\n",
    "            pvalues[i, j] = pvalue\n",
    "            \n",
    "            if pvalue < p_value: # pick only statistically significant ones\n",
    "                pairs.append((keys[i], keys[j]))\n",
    "                if result[2][0]>test_stat:\n",
    "                    confints[i, j]=0.99 \n",
    "                elif result[2][1]>test_stat:\n",
    "                    confints[i, j]=0.95\n",
    "                elif result[2][2]>test_stat:\n",
    "                    confints[i, j]=0.90\n",
    "                else:\n",
    "                    confints[i, j]=1-pvalue               \n",
    "    return stats, pvalues, pairs, confints"
   ]
  },
  {
   "cell_type": "markdown",
   "id": "4436b0a8",
   "metadata": {},
   "source": [
    "Perform Test"
   ]
  },
  {
   "cell_type": "code",
   "execution_count": 988,
   "id": "11f3d31a",
   "metadata": {
    "ExecuteTime": {
     "end_time": "2022-10-26T20:47:40.204161Z",
     "start_time": "2022-10-26T20:47:36.116451Z"
    },
    "scrolled": true
   },
   "outputs": [],
   "source": [
    "p_value = 0.05  # A p-value less than 0.05 is typically considered to be statistically significant\n",
    "\n",
    "scores, pvalues, pairs, confints = cointegration_test(prices,p_value)"
   ]
  },
  {
   "cell_type": "markdown",
   "id": "b1d14a5e",
   "metadata": {},
   "source": [
    "HeatMap"
   ]
  },
  {
   "cell_type": "code",
   "execution_count": 990,
   "id": "6dd1e37f",
   "metadata": {
    "ExecuteTime": {
     "end_time": "2022-10-26T20:47:41.462976Z",
     "start_time": "2022-10-26T20:47:40.252161Z"
    }
   },
   "outputs": [
    {
     "name": "stdout",
     "output_type": "stream",
     "text": [
      "remaining 10 pairs from 10\n"
     ]
    },
    {
     "data": {
      "text/html": [
       "<style type=\"text/css\">\n",
       "#T_5ec71_row0_col0, #T_5ec71_row0_col2, #T_5ec71_row0_col3, #T_5ec71_row0_col4, #T_5ec71_row1_col1, #T_5ec71_row1_col3, #T_5ec71_row1_col4, #T_5ec71_row2_col0, #T_5ec71_row2_col2, #T_5ec71_row2_col3, #T_5ec71_row2_col4, #T_5ec71_row3_col0, #T_5ec71_row3_col1, #T_5ec71_row3_col3, #T_5ec71_row3_col4, #T_5ec71_row4_col0, #T_5ec71_row4_col1, #T_5ec71_row4_col3, #T_5ec71_row4_col4, #T_5ec71_row5_col0, #T_5ec71_row5_col1, #T_5ec71_row5_col3, #T_5ec71_row5_col4, #T_5ec71_row6_col0, #T_5ec71_row6_col1, #T_5ec71_row6_col2, #T_5ec71_row6_col3, #T_5ec71_row7_col0, #T_5ec71_row7_col1, #T_5ec71_row7_col3, #T_5ec71_row7_col4, #T_5ec71_row8_col0, #T_5ec71_row8_col1, #T_5ec71_row8_col2, #T_5ec71_row8_col4 {\n",
       "  color: white;\n",
       "}\n",
       "#T_5ec71_row0_col1, #T_5ec71_row1_col0, #T_5ec71_row1_col2, #T_5ec71_row3_col2, #T_5ec71_row5_col2, #T_5ec71_row7_col2, #T_5ec71_row8_col3 {\n",
       "  color: white;\n",
       "  background-color: yellow;\n",
       "  color: black;\n",
       "}\n",
       "#T_5ec71_row2_col1, #T_5ec71_row4_col2 {\n",
       "  background-color: green;\n",
       "}\n",
       "#T_5ec71_row6_col4 {\n",
       "  color: white;\n",
       "  background-color: yellow;\n",
       "  color: black;\n",
       "  background-color: red;\n",
       "}\n",
       "</style>\n",
       "<table id=\"T_5ec71_\">\n",
       "  <thead>\n",
       "    <tr>\n",
       "      <th class=\"blank level0\" >&nbsp;</th>\n",
       "      <th class=\"col_heading level0 col0\" >CNP</th>\n",
       "      <th class=\"col_heading level0 col1\" >DUK</th>\n",
       "      <th class=\"col_heading level0 col2\" >VST</th>\n",
       "      <th class=\"col_heading level0 col3\" >WEC</th>\n",
       "      <th class=\"col_heading level0 col4\" >XEL</th>\n",
       "    </tr>\n",
       "  </thead>\n",
       "  <tbody>\n",
       "    <tr>\n",
       "      <th id=\"T_5ec71_level0_row0\" class=\"row_heading level0 row0\" >AEE</th>\n",
       "      <td id=\"T_5ec71_row0_col0\" class=\"data row0 col0\" >nan</td>\n",
       "      <td id=\"T_5ec71_row0_col1\" class=\"data row0 col1\" >0.95</td>\n",
       "      <td id=\"T_5ec71_row0_col2\" class=\"data row0 col2\" >nan</td>\n",
       "      <td id=\"T_5ec71_row0_col3\" class=\"data row0 col3\" >nan</td>\n",
       "      <td id=\"T_5ec71_row0_col4\" class=\"data row0 col4\" >nan</td>\n",
       "    </tr>\n",
       "    <tr>\n",
       "      <th id=\"T_5ec71_level0_row1\" class=\"row_heading level0 row1\" >AEP</th>\n",
       "      <td id=\"T_5ec71_row1_col0\" class=\"data row1 col0\" >0.95</td>\n",
       "      <td id=\"T_5ec71_row1_col1\" class=\"data row1 col1\" >nan</td>\n",
       "      <td id=\"T_5ec71_row1_col2\" class=\"data row1 col2\" >0.95</td>\n",
       "      <td id=\"T_5ec71_row1_col3\" class=\"data row1 col3\" >nan</td>\n",
       "      <td id=\"T_5ec71_row1_col4\" class=\"data row1 col4\" >nan</td>\n",
       "    </tr>\n",
       "    <tr>\n",
       "      <th id=\"T_5ec71_level0_row2\" class=\"row_heading level0 row2\" >CMS</th>\n",
       "      <td id=\"T_5ec71_row2_col0\" class=\"data row2 col0\" >nan</td>\n",
       "      <td id=\"T_5ec71_row2_col1\" class=\"data row2 col1\" >0.99</td>\n",
       "      <td id=\"T_5ec71_row2_col2\" class=\"data row2 col2\" >nan</td>\n",
       "      <td id=\"T_5ec71_row2_col3\" class=\"data row2 col3\" >nan</td>\n",
       "      <td id=\"T_5ec71_row2_col4\" class=\"data row2 col4\" >nan</td>\n",
       "    </tr>\n",
       "    <tr>\n",
       "      <th id=\"T_5ec71_level0_row3\" class=\"row_heading level0 row3\" >CNP</th>\n",
       "      <td id=\"T_5ec71_row3_col0\" class=\"data row3 col0\" >nan</td>\n",
       "      <td id=\"T_5ec71_row3_col1\" class=\"data row3 col1\" >nan</td>\n",
       "      <td id=\"T_5ec71_row3_col2\" class=\"data row3 col2\" >0.95</td>\n",
       "      <td id=\"T_5ec71_row3_col3\" class=\"data row3 col3\" >nan</td>\n",
       "      <td id=\"T_5ec71_row3_col4\" class=\"data row3 col4\" >nan</td>\n",
       "    </tr>\n",
       "    <tr>\n",
       "      <th id=\"T_5ec71_level0_row4\" class=\"row_heading level0 row4\" >ED</th>\n",
       "      <td id=\"T_5ec71_row4_col0\" class=\"data row4 col0\" >nan</td>\n",
       "      <td id=\"T_5ec71_row4_col1\" class=\"data row4 col1\" >nan</td>\n",
       "      <td id=\"T_5ec71_row4_col2\" class=\"data row4 col2\" >0.99</td>\n",
       "      <td id=\"T_5ec71_row4_col3\" class=\"data row4 col3\" >nan</td>\n",
       "      <td id=\"T_5ec71_row4_col4\" class=\"data row4 col4\" >nan</td>\n",
       "    </tr>\n",
       "    <tr>\n",
       "      <th id=\"T_5ec71_level0_row5\" class=\"row_heading level0 row5\" >NRG</th>\n",
       "      <td id=\"T_5ec71_row5_col0\" class=\"data row5 col0\" >nan</td>\n",
       "      <td id=\"T_5ec71_row5_col1\" class=\"data row5 col1\" >nan</td>\n",
       "      <td id=\"T_5ec71_row5_col2\" class=\"data row5 col2\" >0.95</td>\n",
       "      <td id=\"T_5ec71_row5_col3\" class=\"data row5 col3\" >nan</td>\n",
       "      <td id=\"T_5ec71_row5_col4\" class=\"data row5 col4\" >nan</td>\n",
       "    </tr>\n",
       "    <tr>\n",
       "      <th id=\"T_5ec71_level0_row6\" class=\"row_heading level0 row6\" >OGE</th>\n",
       "      <td id=\"T_5ec71_row6_col0\" class=\"data row6 col0\" >nan</td>\n",
       "      <td id=\"T_5ec71_row6_col1\" class=\"data row6 col1\" >nan</td>\n",
       "      <td id=\"T_5ec71_row6_col2\" class=\"data row6 col2\" >nan</td>\n",
       "      <td id=\"T_5ec71_row6_col3\" class=\"data row6 col3\" >nan</td>\n",
       "      <td id=\"T_5ec71_row6_col4\" class=\"data row6 col4\" >0.90</td>\n",
       "    </tr>\n",
       "    <tr>\n",
       "      <th id=\"T_5ec71_level0_row7\" class=\"row_heading level0 row7\" >SO</th>\n",
       "      <td id=\"T_5ec71_row7_col0\" class=\"data row7 col0\" >nan</td>\n",
       "      <td id=\"T_5ec71_row7_col1\" class=\"data row7 col1\" >nan</td>\n",
       "      <td id=\"T_5ec71_row7_col2\" class=\"data row7 col2\" >0.95</td>\n",
       "      <td id=\"T_5ec71_row7_col3\" class=\"data row7 col3\" >nan</td>\n",
       "      <td id=\"T_5ec71_row7_col4\" class=\"data row7 col4\" >nan</td>\n",
       "    </tr>\n",
       "    <tr>\n",
       "      <th id=\"T_5ec71_level0_row8\" class=\"row_heading level0 row8\" >VST</th>\n",
       "      <td id=\"T_5ec71_row8_col0\" class=\"data row8 col0\" >nan</td>\n",
       "      <td id=\"T_5ec71_row8_col1\" class=\"data row8 col1\" >nan</td>\n",
       "      <td id=\"T_5ec71_row8_col2\" class=\"data row8 col2\" >nan</td>\n",
       "      <td id=\"T_5ec71_row8_col3\" class=\"data row8 col3\" >0.95</td>\n",
       "      <td id=\"T_5ec71_row8_col4\" class=\"data row8 col4\" >nan</td>\n",
       "    </tr>\n",
       "  </tbody>\n",
       "</table>\n"
      ],
      "text/plain": [
       "<pandas.io.formats.style.Styler at 0x23a8e834160>"
      ]
     },
     "execution_count": 990,
     "metadata": {},
     "output_type": "execute_result"
    },
    {
     "data": {
      "image/png": "[encoded data removed]",
      "text/plain": [
       "<Figure size 720x720 with 2 Axes>"
      ]
     },
     "metadata": {
      "needs_background": "light"
     },
     "output_type": "display_data"
    }
   ],
   "source": [
    "# mask_matrix = (pvalues >= p_value) # possible to increase the level of significance\n",
    "conf_int = 0.90\n",
    "mask_matrix = (confints < conf_int) # possible to increase the level of significance\n",
    "\n",
    "mask_df = pd.DataFrame(mask_matrix, index= tickers_list, columns = tickers_list)\n",
    "pvalues_df = pd.DataFrame(pvalues, index= tickers_list, columns = tickers_list)\n",
    "confints_df = pd.DataFrame(confints, index= tickers_list, columns = tickers_list)\n",
    "\n",
    "df_p = pvalues_df[~mask_df].dropna(how='all', axis=1)\n",
    "df_p = df_p.dropna(how='all')\n",
    "\n",
    "df_c = confints_df[~mask_df].dropna(how='all', axis=1)\n",
    "df_c = df_c.dropna(how='all')\n",
    "\n",
    "\n",
    "def green_apply(x):\n",
    "    green = {True: \"background-color: green\", False: \"color : white\"}\n",
    "    is_color = (x > 0.95).replace(green)\n",
    "    return is_color\n",
    "\n",
    "def yellow_apply(x):\n",
    "    yellow = {True: \"background-color: yellow; color : black\"}\n",
    "    is_color = (x <= 0.95).replace(yellow)\n",
    "    return is_color\n",
    "\n",
    "# kept it here although we don't expect to see any red backgroud\n",
    "def red_apply(x):\n",
    "    red = {True: \"background-color: red;\"}\n",
    "    is_color = (x <= 0.90).replace(red)\n",
    "    return is_color\n",
    "\n",
    "fig, ax = plt.subplots(figsize=(10, 10))\n",
    "seaborn.heatmap(\n",
    "    df_c,\n",
    "    xticklabels=df_c.columns,\n",
    "    yticklabels=df_c.index,\n",
    "    cmap=\"summer_r\",\n",
    "    square=True\n",
    ")\n",
    "\n",
    "print(f\"remaining {df_c.count().sum()} pairs from {len(pairs_list)}\")\n",
    "\n",
    "df_c.style.format(precision=2)\\\n",
    ".apply(green_apply)\\\n",
    ".apply(yellow_apply)\\\n",
    ".apply(red_apply)"
   ]
  },
  {
   "cell_type": "markdown",
   "id": "fe5b451b",
   "metadata": {
    "ExecuteTime": {
     "end_time": "2022-10-26T23:06:29.483742Z",
     "start_time": "2022-10-26T23:06:29.467257Z"
    }
   },
   "source": [
    "#### UNIT ROOT TESTS"
   ]
  },
  {
   "cell_type": "markdown",
   "id": "b9b89bb6",
   "metadata": {},
   "source": [
    "Loop through pairs & perform tests:"
   ]
  },
  {
   "cell_type": "code",
   "execution_count": 1010,
   "id": "641db3ec",
   "metadata": {
    "ExecuteTime": {
     "end_time": "2022-10-26T23:08:28.265244Z",
     "start_time": "2022-10-26T23:08:27.944249Z"
    }
   },
   "outputs": [],
   "source": [
    "df_c_adf = df_c.copy()\n",
    "df_c_pp = df_c.copy()\n",
    "hedges ={}\n",
    "\n",
    "N=90\n",
    "enable_regression_coef = 0\n",
    "\n",
    "# get new pairs\n",
    "x_list = df_c.index.tolist()\n",
    "y_list = df_c.columns.tolist()\n",
    "\n",
    "pairs_list = [] # list of pairs as tuples (A,B)\n",
    "\n",
    "for i in range(len(x_list)):\n",
    "    for j in range(len(y_list)):\n",
    "        if df.iloc[i,j]>0:\n",
    "            pairs_list.append((x_list[i], y_list[j]))\n",
    "\n",
    "for i in range(len(pairs_list)):\n",
    "    ticker1, ticker2 = list(pairs_list[i])[0], list(pairs_list[i])[1]\n",
    "    prices_pair= prices[list(pairs_list[i])]\n",
    "    \n",
    "    ###HEDGE###\n",
    "    \n",
    "    if N>0:\n",
    "        Y = prices_pair[ticker2].iloc[-N:]\n",
    "        X = prices_pair[ticker1].iloc[-N:]\n",
    "    else:\n",
    "        Y = prices_pair[ticker2]\n",
    "        X = prices_pair[ticker1]\n",
    "\n",
    "    if enable_regression_coef:\n",
    "        X = sm.add_constant(X)\n",
    "\n",
    "    model = sm.OLS(Y, X)\n",
    "    model = model.fit()\n",
    "\n",
    "    if len(model.params) == 1:\n",
    "        hedge = round(float(model.params[0]),2)\n",
    "        alfa = 0\n",
    "    else:\n",
    "        hedge = round(float(model.params[1]),2)\n",
    "        alfa = round(float(model.params[0]),2)\n",
    "    \n",
    "    hedges[(ticker1, ticker2)]=hedge\n",
    "    # print pair equation\n",
    "    #print(f\"EQUATION: {ticker2}={hedge}*{ticker1}{'+' + str(round(alfa,1)) if alfa>0 else ''}\")\n",
    "\n",
    "    ###SPREAD###\n",
    "\n",
    "    prices_pair_s = prices_pair.copy()\n",
    "    spread = prices_pair_s['spread'] = prices_pair[ticker2] - hedge * prices_pair[ticker1] - alfa\n",
    "    \n",
    "    ###ADF###\n",
    "    \n",
    "    adf = adfuller(prices_pair_s.spread, autolag='AIC')\n",
    "    test_stat_df = adf[0]\n",
    "    critical_values_df = adf[4]\n",
    "\n",
    "    if critical_values_df['1%']>test_stat_df:\n",
    "        df_c_adf.loc[(ticker1,ticker2)]=0.99 \n",
    "    elif critical_values_df['5%']>test_stat_df:\n",
    "        df_c_adf.loc[(ticker1,ticker2)]=0.95\n",
    "    elif critical_values_df['10%']>test_stat_df:\n",
    "        df_c_adf.loc[(ticker1,ticker2)]=0.90\n",
    "        \n",
    "    ###PP###  \n",
    "          \n",
    "    pp = at.PhillipsPerron(prices_pair_s.spread, trend='ct', test_type='rho')\n",
    "    test_stat_pp = pp.stat\n",
    "    critical_values_pp = pp.critical_values\n",
    "\n",
    "    if critical_values_pp['1%']>test_stat_pp:\n",
    "        df_c_pp.loc[(ticker1,ticker2)]=0.99 \n",
    "    elif critical_values_pp['5%']>test_stat_pp:\n",
    "        df_c_pp.loc[(ticker1,ticker2)]=0.95\n",
    "    elif critical_values['10%']>test_stat_pp:\n",
    "        df_c_pp.loc[(ticker1,ticker2)]=0.90"
   ]
  },
  {
   "cell_type": "markdown",
   "id": "ca654e01",
   "metadata": {},
   "source": [
    "Heatmap ADF"
   ]
  },
  {
   "cell_type": "code",
   "execution_count": 993,
   "id": "783f62af",
   "metadata": {
    "ExecuteTime": {
     "end_time": "2022-10-26T20:47:42.993705Z",
     "start_time": "2022-10-26T20:47:42.303661Z"
    }
   },
   "outputs": [
    {
     "data": {
      "text/html": [
       "<style type=\"text/css\">\n",
       "#T_d6a63_row0_col0, #T_d6a63_row0_col2, #T_d6a63_row0_col3, #T_d6a63_row0_col4, #T_d6a63_row1_col1, #T_d6a63_row1_col3, #T_d6a63_row1_col4, #T_d6a63_row2_col0, #T_d6a63_row2_col2, #T_d6a63_row2_col3, #T_d6a63_row2_col4, #T_d6a63_row3_col0, #T_d6a63_row3_col1, #T_d6a63_row3_col3, #T_d6a63_row3_col4, #T_d6a63_row4_col0, #T_d6a63_row4_col1, #T_d6a63_row4_col3, #T_d6a63_row4_col4, #T_d6a63_row5_col0, #T_d6a63_row5_col1, #T_d6a63_row5_col3, #T_d6a63_row5_col4, #T_d6a63_row6_col0, #T_d6a63_row6_col1, #T_d6a63_row6_col2, #T_d6a63_row6_col3, #T_d6a63_row7_col0, #T_d6a63_row7_col1, #T_d6a63_row7_col3, #T_d6a63_row7_col4, #T_d6a63_row8_col0, #T_d6a63_row8_col1, #T_d6a63_row8_col2, #T_d6a63_row8_col4 {\n",
       "  color: white;\n",
       "}\n",
       "#T_d6a63_row0_col1, #T_d6a63_row5_col2, #T_d6a63_row6_col4, #T_d6a63_row8_col3 {\n",
       "  color: white;\n",
       "  background-color: yellow;\n",
       "  color: black;\n",
       "}\n",
       "#T_d6a63_row1_col0, #T_d6a63_row1_col2, #T_d6a63_row2_col1, #T_d6a63_row3_col2, #T_d6a63_row4_col2, #T_d6a63_row7_col2 {\n",
       "  background-color: green;\n",
       "}\n",
       "</style>\n",
       "<table id=\"T_d6a63_\">\n",
       "  <thead>\n",
       "    <tr>\n",
       "      <th class=\"blank level0\" >&nbsp;</th>\n",
       "      <th class=\"col_heading level0 col0\" >CNP</th>\n",
       "      <th class=\"col_heading level0 col1\" >DUK</th>\n",
       "      <th class=\"col_heading level0 col2\" >VST</th>\n",
       "      <th class=\"col_heading level0 col3\" >WEC</th>\n",
       "      <th class=\"col_heading level0 col4\" >XEL</th>\n",
       "    </tr>\n",
       "  </thead>\n",
       "  <tbody>\n",
       "    <tr>\n",
       "      <th id=\"T_d6a63_level0_row0\" class=\"row_heading level0 row0\" >AEE</th>\n",
       "      <td id=\"T_d6a63_row0_col0\" class=\"data row0 col0\" >nan</td>\n",
       "      <td id=\"T_d6a63_row0_col1\" class=\"data row0 col1\" >0.95</td>\n",
       "      <td id=\"T_d6a63_row0_col2\" class=\"data row0 col2\" >nan</td>\n",
       "      <td id=\"T_d6a63_row0_col3\" class=\"data row0 col3\" >nan</td>\n",
       "      <td id=\"T_d6a63_row0_col4\" class=\"data row0 col4\" >nan</td>\n",
       "    </tr>\n",
       "    <tr>\n",
       "      <th id=\"T_d6a63_level0_row1\" class=\"row_heading level0 row1\" >AEP</th>\n",
       "      <td id=\"T_d6a63_row1_col0\" class=\"data row1 col0\" >0.99</td>\n",
       "      <td id=\"T_d6a63_row1_col1\" class=\"data row1 col1\" >nan</td>\n",
       "      <td id=\"T_d6a63_row1_col2\" class=\"data row1 col2\" >0.99</td>\n",
       "      <td id=\"T_d6a63_row1_col3\" class=\"data row1 col3\" >nan</td>\n",
       "      <td id=\"T_d6a63_row1_col4\" class=\"data row1 col4\" >nan</td>\n",
       "    </tr>\n",
       "    <tr>\n",
       "      <th id=\"T_d6a63_level0_row2\" class=\"row_heading level0 row2\" >CMS</th>\n",
       "      <td id=\"T_d6a63_row2_col0\" class=\"data row2 col0\" >nan</td>\n",
       "      <td id=\"T_d6a63_row2_col1\" class=\"data row2 col1\" >0.99</td>\n",
       "      <td id=\"T_d6a63_row2_col2\" class=\"data row2 col2\" >nan</td>\n",
       "      <td id=\"T_d6a63_row2_col3\" class=\"data row2 col3\" >nan</td>\n",
       "      <td id=\"T_d6a63_row2_col4\" class=\"data row2 col4\" >nan</td>\n",
       "    </tr>\n",
       "    <tr>\n",
       "      <th id=\"T_d6a63_level0_row3\" class=\"row_heading level0 row3\" >CNP</th>\n",
       "      <td id=\"T_d6a63_row3_col0\" class=\"data row3 col0\" >nan</td>\n",
       "      <td id=\"T_d6a63_row3_col1\" class=\"data row3 col1\" >nan</td>\n",
       "      <td id=\"T_d6a63_row3_col2\" class=\"data row3 col2\" >0.99</td>\n",
       "      <td id=\"T_d6a63_row3_col3\" class=\"data row3 col3\" >nan</td>\n",
       "      <td id=\"T_d6a63_row3_col4\" class=\"data row3 col4\" >nan</td>\n",
       "    </tr>\n",
       "    <tr>\n",
       "      <th id=\"T_d6a63_level0_row4\" class=\"row_heading level0 row4\" >ED</th>\n",
       "      <td id=\"T_d6a63_row4_col0\" class=\"data row4 col0\" >nan</td>\n",
       "      <td id=\"T_d6a63_row4_col1\" class=\"data row4 col1\" >nan</td>\n",
       "      <td id=\"T_d6a63_row4_col2\" class=\"data row4 col2\" >0.99</td>\n",
       "      <td id=\"T_d6a63_row4_col3\" class=\"data row4 col3\" >nan</td>\n",
       "      <td id=\"T_d6a63_row4_col4\" class=\"data row4 col4\" >nan</td>\n",
       "    </tr>\n",
       "    <tr>\n",
       "      <th id=\"T_d6a63_level0_row5\" class=\"row_heading level0 row5\" >NRG</th>\n",
       "      <td id=\"T_d6a63_row5_col0\" class=\"data row5 col0\" >nan</td>\n",
       "      <td id=\"T_d6a63_row5_col1\" class=\"data row5 col1\" >nan</td>\n",
       "      <td id=\"T_d6a63_row5_col2\" class=\"data row5 col2\" >0.95</td>\n",
       "      <td id=\"T_d6a63_row5_col3\" class=\"data row5 col3\" >nan</td>\n",
       "      <td id=\"T_d6a63_row5_col4\" class=\"data row5 col4\" >nan</td>\n",
       "    </tr>\n",
       "    <tr>\n",
       "      <th id=\"T_d6a63_level0_row6\" class=\"row_heading level0 row6\" >OGE</th>\n",
       "      <td id=\"T_d6a63_row6_col0\" class=\"data row6 col0\" >nan</td>\n",
       "      <td id=\"T_d6a63_row6_col1\" class=\"data row6 col1\" >nan</td>\n",
       "      <td id=\"T_d6a63_row6_col2\" class=\"data row6 col2\" >nan</td>\n",
       "      <td id=\"T_d6a63_row6_col3\" class=\"data row6 col3\" >nan</td>\n",
       "      <td id=\"T_d6a63_row6_col4\" class=\"data row6 col4\" >0.95</td>\n",
       "    </tr>\n",
       "    <tr>\n",
       "      <th id=\"T_d6a63_level0_row7\" class=\"row_heading level0 row7\" >SO</th>\n",
       "      <td id=\"T_d6a63_row7_col0\" class=\"data row7 col0\" >nan</td>\n",
       "      <td id=\"T_d6a63_row7_col1\" class=\"data row7 col1\" >nan</td>\n",
       "      <td id=\"T_d6a63_row7_col2\" class=\"data row7 col2\" >0.99</td>\n",
       "      <td id=\"T_d6a63_row7_col3\" class=\"data row7 col3\" >nan</td>\n",
       "      <td id=\"T_d6a63_row7_col4\" class=\"data row7 col4\" >nan</td>\n",
       "    </tr>\n",
       "    <tr>\n",
       "      <th id=\"T_d6a63_level0_row8\" class=\"row_heading level0 row8\" >VST</th>\n",
       "      <td id=\"T_d6a63_row8_col0\" class=\"data row8 col0\" >nan</td>\n",
       "      <td id=\"T_d6a63_row8_col1\" class=\"data row8 col1\" >nan</td>\n",
       "      <td id=\"T_d6a63_row8_col2\" class=\"data row8 col2\" >nan</td>\n",
       "      <td id=\"T_d6a63_row8_col3\" class=\"data row8 col3\" >0.95</td>\n",
       "      <td id=\"T_d6a63_row8_col4\" class=\"data row8 col4\" >nan</td>\n",
       "    </tr>\n",
       "  </tbody>\n",
       "</table>\n"
      ],
      "text/plain": [
       "<pandas.io.formats.style.Styler at 0x23a8e6de0d0>"
      ]
     },
     "execution_count": 993,
     "metadata": {},
     "output_type": "execute_result"
    },
    {
     "data": {
      "image/png": "[encoded data removed]",
      "text/plain": [
       "<Figure size 720x720 with 2 Axes>"
      ]
     },
     "metadata": {
      "needs_background": "light"
     },
     "output_type": "display_data"
    }
   ],
   "source": [
    "conf_int = 0.95\n",
    "\n",
    "def green_apply(x):\n",
    "    green = {True: \"background-color: green\", False: \"color : white\"}\n",
    "    is_color = (x > conf_int).replace(green)\n",
    "    return is_color\n",
    "\n",
    "def yellow_apply(x):\n",
    "    yellow = {True: \"background-color: yellow; color : black\"}\n",
    "    is_color = (x <= conf_int).replace(yellow)\n",
    "    return is_color\n",
    "\n",
    "def red_apply(x):\n",
    "    red = {True: \"background-color: red\"}\n",
    "    is_color = (x <= 0.90).replace(red)\n",
    "    return is_color\n",
    "\n",
    "fig, ax = plt.subplots(figsize=(10, 10))\n",
    "seaborn.heatmap(\n",
    "    df_c_adf,\n",
    "    xticklabels=df_c.columns,\n",
    "    yticklabels=df_c.index,\n",
    "    cmap=\"RdYlGn\",\n",
    "    #mask=(df_c_adf < conf_int),\n",
    "    square=True,\n",
    "    vmin=0.90,\n",
    "    vmax=0.99\n",
    ")\n",
    "df_c_adf.style.format(precision=2)\\\n",
    ".apply(green_apply)\\\n",
    ".apply(yellow_apply)\\\n",
    ".apply(red_apply)"
   ]
  },
  {
   "cell_type": "markdown",
   "id": "22a7f7e1",
   "metadata": {},
   "source": [
    "Heatmap PP"
   ]
  },
  {
   "cell_type": "code",
   "execution_count": 994,
   "id": "478d440c",
   "metadata": {
    "ExecuteTime": {
     "end_time": "2022-10-26T20:47:43.826340Z",
     "start_time": "2022-10-26T20:47:42.997707Z"
    }
   },
   "outputs": [
    {
     "data": {
      "text/html": [
       "<style type=\"text/css\">\n",
       "#T_b3a84_row0_col0, #T_b3a84_row0_col2, #T_b3a84_row0_col3, #T_b3a84_row0_col4, #T_b3a84_row1_col1, #T_b3a84_row1_col3, #T_b3a84_row1_col4, #T_b3a84_row2_col0, #T_b3a84_row2_col2, #T_b3a84_row2_col3, #T_b3a84_row2_col4, #T_b3a84_row3_col0, #T_b3a84_row3_col1, #T_b3a84_row3_col3, #T_b3a84_row3_col4, #T_b3a84_row4_col0, #T_b3a84_row4_col1, #T_b3a84_row4_col3, #T_b3a84_row4_col4, #T_b3a84_row5_col0, #T_b3a84_row5_col1, #T_b3a84_row5_col3, #T_b3a84_row5_col4, #T_b3a84_row6_col0, #T_b3a84_row6_col1, #T_b3a84_row6_col2, #T_b3a84_row6_col3, #T_b3a84_row7_col0, #T_b3a84_row7_col1, #T_b3a84_row7_col3, #T_b3a84_row7_col4, #T_b3a84_row8_col0, #T_b3a84_row8_col1, #T_b3a84_row8_col2, #T_b3a84_row8_col4 {\n",
       "  color: white;\n",
       "}\n",
       "#T_b3a84_row0_col1 {\n",
       "  color: white;\n",
       "  background-color: yellow;\n",
       "  color: black;\n",
       "  background-color: red;\n",
       "}\n",
       "#T_b3a84_row1_col0, #T_b3a84_row2_col1, #T_b3a84_row5_col2, #T_b3a84_row6_col4 {\n",
       "  color: white;\n",
       "  background-color: yellow;\n",
       "  color: black;\n",
       "}\n",
       "#T_b3a84_row1_col2, #T_b3a84_row3_col2, #T_b3a84_row4_col2, #T_b3a84_row7_col2, #T_b3a84_row8_col3 {\n",
       "  background-color: green;\n",
       "}\n",
       "</style>\n",
       "<table id=\"T_b3a84_\">\n",
       "  <thead>\n",
       "    <tr>\n",
       "      <th class=\"blank level0\" >&nbsp;</th>\n",
       "      <th class=\"col_heading level0 col0\" >CNP</th>\n",
       "      <th class=\"col_heading level0 col1\" >DUK</th>\n",
       "      <th class=\"col_heading level0 col2\" >VST</th>\n",
       "      <th class=\"col_heading level0 col3\" >WEC</th>\n",
       "      <th class=\"col_heading level0 col4\" >XEL</th>\n",
       "    </tr>\n",
       "  </thead>\n",
       "  <tbody>\n",
       "    <tr>\n",
       "      <th id=\"T_b3a84_level0_row0\" class=\"row_heading level0 row0\" >AEE</th>\n",
       "      <td id=\"T_b3a84_row0_col0\" class=\"data row0 col0\" >nan</td>\n",
       "      <td id=\"T_b3a84_row0_col1\" class=\"data row0 col1\" >0.90</td>\n",
       "      <td id=\"T_b3a84_row0_col2\" class=\"data row0 col2\" >nan</td>\n",
       "      <td id=\"T_b3a84_row0_col3\" class=\"data row0 col3\" >nan</td>\n",
       "      <td id=\"T_b3a84_row0_col4\" class=\"data row0 col4\" >nan</td>\n",
       "    </tr>\n",
       "    <tr>\n",
       "      <th id=\"T_b3a84_level0_row1\" class=\"row_heading level0 row1\" >AEP</th>\n",
       "      <td id=\"T_b3a84_row1_col0\" class=\"data row1 col0\" >0.95</td>\n",
       "      <td id=\"T_b3a84_row1_col1\" class=\"data row1 col1\" >nan</td>\n",
       "      <td id=\"T_b3a84_row1_col2\" class=\"data row1 col2\" >0.99</td>\n",
       "      <td id=\"T_b3a84_row1_col3\" class=\"data row1 col3\" >nan</td>\n",
       "      <td id=\"T_b3a84_row1_col4\" class=\"data row1 col4\" >nan</td>\n",
       "    </tr>\n",
       "    <tr>\n",
       "      <th id=\"T_b3a84_level0_row2\" class=\"row_heading level0 row2\" >CMS</th>\n",
       "      <td id=\"T_b3a84_row2_col0\" class=\"data row2 col0\" >nan</td>\n",
       "      <td id=\"T_b3a84_row2_col1\" class=\"data row2 col1\" >0.95</td>\n",
       "      <td id=\"T_b3a84_row2_col2\" class=\"data row2 col2\" >nan</td>\n",
       "      <td id=\"T_b3a84_row2_col3\" class=\"data row2 col3\" >nan</td>\n",
       "      <td id=\"T_b3a84_row2_col4\" class=\"data row2 col4\" >nan</td>\n",
       "    </tr>\n",
       "    <tr>\n",
       "      <th id=\"T_b3a84_level0_row3\" class=\"row_heading level0 row3\" >CNP</th>\n",
       "      <td id=\"T_b3a84_row3_col0\" class=\"data row3 col0\" >nan</td>\n",
       "      <td id=\"T_b3a84_row3_col1\" class=\"data row3 col1\" >nan</td>\n",
       "      <td id=\"T_b3a84_row3_col2\" class=\"data row3 col2\" >0.99</td>\n",
       "      <td id=\"T_b3a84_row3_col3\" class=\"data row3 col3\" >nan</td>\n",
       "      <td id=\"T_b3a84_row3_col4\" class=\"data row3 col4\" >nan</td>\n",
       "    </tr>\n",
       "    <tr>\n",
       "      <th id=\"T_b3a84_level0_row4\" class=\"row_heading level0 row4\" >ED</th>\n",
       "      <td id=\"T_b3a84_row4_col0\" class=\"data row4 col0\" >nan</td>\n",
       "      <td id=\"T_b3a84_row4_col1\" class=\"data row4 col1\" >nan</td>\n",
       "      <td id=\"T_b3a84_row4_col2\" class=\"data row4 col2\" >0.99</td>\n",
       "      <td id=\"T_b3a84_row4_col3\" class=\"data row4 col3\" >nan</td>\n",
       "      <td id=\"T_b3a84_row4_col4\" class=\"data row4 col4\" >nan</td>\n",
       "    </tr>\n",
       "    <tr>\n",
       "      <th id=\"T_b3a84_level0_row5\" class=\"row_heading level0 row5\" >NRG</th>\n",
       "      <td id=\"T_b3a84_row5_col0\" class=\"data row5 col0\" >nan</td>\n",
       "      <td id=\"T_b3a84_row5_col1\" class=\"data row5 col1\" >nan</td>\n",
       "      <td id=\"T_b3a84_row5_col2\" class=\"data row5 col2\" >0.95</td>\n",
       "      <td id=\"T_b3a84_row5_col3\" class=\"data row5 col3\" >nan</td>\n",
       "      <td id=\"T_b3a84_row5_col4\" class=\"data row5 col4\" >nan</td>\n",
       "    </tr>\n",
       "    <tr>\n",
       "      <th id=\"T_b3a84_level0_row6\" class=\"row_heading level0 row6\" >OGE</th>\n",
       "      <td id=\"T_b3a84_row6_col0\" class=\"data row6 col0\" >nan</td>\n",
       "      <td id=\"T_b3a84_row6_col1\" class=\"data row6 col1\" >nan</td>\n",
       "      <td id=\"T_b3a84_row6_col2\" class=\"data row6 col2\" >nan</td>\n",
       "      <td id=\"T_b3a84_row6_col3\" class=\"data row6 col3\" >nan</td>\n",
       "      <td id=\"T_b3a84_row6_col4\" class=\"data row6 col4\" >0.95</td>\n",
       "    </tr>\n",
       "    <tr>\n",
       "      <th id=\"T_b3a84_level0_row7\" class=\"row_heading level0 row7\" >SO</th>\n",
       "      <td id=\"T_b3a84_row7_col0\" class=\"data row7 col0\" >nan</td>\n",
       "      <td id=\"T_b3a84_row7_col1\" class=\"data row7 col1\" >nan</td>\n",
       "      <td id=\"T_b3a84_row7_col2\" class=\"data row7 col2\" >0.99</td>\n",
       "      <td id=\"T_b3a84_row7_col3\" class=\"data row7 col3\" >nan</td>\n",
       "      <td id=\"T_b3a84_row7_col4\" class=\"data row7 col4\" >nan</td>\n",
       "    </tr>\n",
       "    <tr>\n",
       "      <th id=\"T_b3a84_level0_row8\" class=\"row_heading level0 row8\" >VST</th>\n",
       "      <td id=\"T_b3a84_row8_col0\" class=\"data row8 col0\" >nan</td>\n",
       "      <td id=\"T_b3a84_row8_col1\" class=\"data row8 col1\" >nan</td>\n",
       "      <td id=\"T_b3a84_row8_col2\" class=\"data row8 col2\" >nan</td>\n",
       "      <td id=\"T_b3a84_row8_col3\" class=\"data row8 col3\" >0.99</td>\n",
       "      <td id=\"T_b3a84_row8_col4\" class=\"data row8 col4\" >nan</td>\n",
       "    </tr>\n",
       "  </tbody>\n",
       "</table>\n"
      ],
      "text/plain": [
       "<pandas.io.formats.style.Styler at 0x23a8eb5cd60>"
      ]
     },
     "execution_count": 994,
     "metadata": {},
     "output_type": "execute_result"
    },
    {
     "data": {
      "image/png": "[encoded data removed]",
      "text/plain": [
       "<Figure size 720x720 with 2 Axes>"
      ]
     },
     "metadata": {
      "needs_background": "light"
     },
     "output_type": "display_data"
    }
   ],
   "source": [
    "conf_int = 0.95\n",
    "\n",
    "def green_apply(x):\n",
    "    green = {True: \"background-color: green\", False: \"color : white\"}\n",
    "    is_color = (x > conf_int).replace(green)\n",
    "    return is_color\n",
    "\n",
    "def yellow_apply(x):\n",
    "    yellow = {True: \"background-color: yellow; color : black\"}\n",
    "    is_color = (x <= conf_int).replace(yellow)\n",
    "    return is_color\n",
    "\n",
    "def red_apply(x):\n",
    "    red = {True: \"background-color: red\"}\n",
    "    is_color = (x <= 0.90).replace(red)\n",
    "    return is_color\n",
    "\n",
    "fig, ax = plt.subplots(figsize=(10, 10))\n",
    "seaborn.heatmap(\n",
    "    df_c_pp,\n",
    "    xticklabels=df_p.columns,\n",
    "    yticklabels=df_p.index,\n",
    "    cmap=\"RdYlGn\",\n",
    "    #mask=(df_c_adf < conf_int),\n",
    "    square=True,\n",
    "    vmin=0.90,\n",
    "    vmax=0.99\n",
    ")\n",
    "df_c_pp.style.format(precision=2)\\\n",
    ".apply(green_apply)\\\n",
    ".apply(yellow_apply)\\\n",
    ".apply(red_apply)"
   ]
  },
  {
   "cell_type": "markdown",
   "id": "a9642662",
   "metadata": {
    "ExecuteTime": {
     "end_time": "2022-10-26T23:10:13.032744Z",
     "start_time": "2022-10-26T23:10:13.021748Z"
    }
   },
   "source": [
    "#### DROP PAIRS"
   ]
  },
  {
   "cell_type": "markdown",
   "id": "1efe22ea",
   "metadata": {
    "ExecuteTime": {
     "end_time": "2022-10-26T20:47:43.842333Z",
     "start_time": "2022-10-26T20:47:43.835334Z"
    }
   },
   "source": [
    "Drop all %90 conf int values"
   ]
  },
  {
   "cell_type": "code",
   "execution_count": 996,
   "id": "b255db93",
   "metadata": {
    "ExecuteTime": {
     "end_time": "2022-10-26T20:47:43.936334Z",
     "start_time": "2022-10-26T20:47:43.861418Z"
    }
   },
   "outputs": [
    {
     "name": "stdout",
     "output_type": "stream",
     "text": [
      "dropped pairs:\n",
      "{('AEE', 'DUK'), ('OGE', 'XEL')}\n",
      "remaining 8 pairs from 10\n"
     ]
    },
    {
     "data": {
      "text/plain": [
       "[('CMS', 'DUK'),\n",
       " ('CNP', 'VST'),\n",
       " ('VST', 'WEC'),\n",
       " ('NRG', 'VST'),\n",
       " ('SO', 'VST'),\n",
       " ('AEP', 'VST'),\n",
       " ('ED', 'VST'),\n",
       " ('AEP', 'CNP')]"
      ]
     },
     "execution_count": 996,
     "metadata": {},
     "output_type": "execute_result"
    }
   ],
   "source": [
    "# check for %90 conf intervals\n",
    "mask_90 = df_c.isin([0.90])\n",
    "mask_90_pp = df_c_pp.isin([0.90])\n",
    "mask_90_adf = df_c_adf.isin([0.90])\n",
    "\n",
    "# get col names\n",
    "cols= mask_90.any()\n",
    "cols_pp = mask_90_pp.any()\n",
    "cols_adf= mask_90_adf.any()\n",
    "columns = list(cols[cols == True].index)\n",
    "columns_pp = list(cols_pp[cols_pp == True].index)\n",
    "columns_adf = list(cols_adf[cols_adf == True].index)\n",
    "\n",
    "drop_pairs_list= []\n",
    "\n",
    "# get rows\n",
    "for col in columns:\n",
    "    rows = list(mask_90[col][mask_90[col] == True].index)\n",
    "    for row in rows:\n",
    "        drop_pairs_list.append((row, col))\n",
    "\n",
    "for col in columns_adf:\n",
    "    rows = list(mask_90_adf[col][mask_90_adf[col] == True].index)\n",
    "    for row in rows:\n",
    "        drop_pairs_list.append((row, col))\n",
    "\n",
    "for col in columns_pp:\n",
    "    rows = list(mask_90_pp[col][mask_90_pp[col] == True].index)\n",
    "    for row in rows:\n",
    "        drop_pairs_list.append((row, col))\n",
    "        \n",
    "print(\"dropped pairs:\")\n",
    "drop_pairs_list = list(set(drop_pairs_list))\n",
    "print(set(drop_pairs_list))\n",
    "\n",
    "new_pairs_list = list(set(pairs_list) - set(drop_pairs_list))\n",
    "\n",
    "print(f\"remaining {len(new_pairs_list)} pairs from {df_c.count().sum()}\")\n",
    "list(new_pairs_list)"
   ]
  },
  {
   "cell_type": "code",
   "execution_count": 997,
   "id": "d529842b",
   "metadata": {
    "ExecuteTime": {
     "end_time": "2022-10-26T20:47:43.966333Z",
     "start_time": "2022-10-26T20:47:43.941334Z"
    }
   },
   "outputs": [
    {
     "name": "stdout",
     "output_type": "stream",
     "text": [
      "selected: \n",
      "EQUATION: DUK=1.6*CMS\n",
      "EQUATION: VST=0.78*CNP\n",
      "EQUATION: WEC=4.17*VST\n",
      "EQUATION: VST=0.59*NRG\n",
      "EQUATION: VST=0.32*SO\n",
      "EQUATION: VST=0.25*AEP\n",
      "EQUATION: VST=0.25*ED\n",
      "EQUATION: CNP=0.31*AEP\n",
      "dropped: \n",
      "EQUATION: DUK=1.17*AEE\n",
      "EQUATION: XEL=1.8*OGE\n"
     ]
    }
   ],
   "source": [
    "pairs_final ={}\n",
    "dropped_final ={}\n",
    "\n",
    "print(\"selected: \")\n",
    "for i in range(len(new_pairs_list)):\n",
    "    # print pair equation\n",
    "    pairs_final[new_pairs_list[i]] = hedges[new_pairs_list[i]]\n",
    "    print(f\"EQUATION: {new_pairs_list[i][1]}={hedges[new_pairs_list[i]]}*{new_pairs_list[i][0]}\")\n",
    "\n",
    "print(\"dropped: \")\n",
    "for i in range(len(drop_pairs_list)):\n",
    "    dropped_final[drop_pairs_list[i]] = hedges[drop_pairs_list[i]]\n",
    "    print(f\"EQUATION: {drop_pairs_list[i][1]}={hedges[drop_pairs_list[i]]}*{drop_pairs_list[i][0]}\")"
   ]
  },
  {
   "cell_type": "markdown",
   "id": "dcf63521",
   "metadata": {},
   "source": [
    "Save to file to be used for the next step"
   ]
  },
  {
   "cell_type": "code",
   "execution_count": 998,
   "id": "51bdc9ae",
   "metadata": {
    "ExecuteTime": {
     "end_time": "2022-10-26T20:47:43.998334Z",
     "start_time": "2022-10-26T20:47:43.975339Z"
    }
   },
   "outputs": [],
   "source": [
    "with open('pairs_final.pkl', 'wb') as f:\n",
    "    pickle.dump(pairs_final, f)\n",
    "with open('pairs_dropped.pkl', 'wb') as f:\n",
    "    pickle.dump(dropped_final, f)"
   ]
  },
  {
   "cell_type": "markdown",
   "id": "f5693b32",
   "metadata": {
    "ExecuteTime": {
     "end_time": "2022-10-26T20:47:44.014336Z",
     "start_time": "2022-10-26T20:47:44.001333Z"
    }
   },
   "source": [
    "#### Exercise\n",
    "Drop if a pair has more than one %90 conf. out of 3 tests; i.e 2 or more %95 or %99 remains"
   ]
  },
  {
   "cell_type": "code",
   "execution_count": 1000,
   "id": "01a0ea55",
   "metadata": {
    "ExecuteTime": {
     "end_time": "2022-10-26T20:47:44.076335Z",
     "start_time": "2022-10-26T20:47:44.018335Z"
    }
   },
   "outputs": [
    {
     "name": "stdout",
     "output_type": "stream",
     "text": [
      "dropped pairs:\n",
      "set()\n",
      "remaining 10 pairs from 10\n"
     ]
    },
    {
     "data": {
      "text/plain": [
       "[('CMS', 'DUK'),\n",
       " ('CNP', 'VST'),\n",
       " ('VST', 'WEC'),\n",
       " ('OGE', 'XEL'),\n",
       " ('NRG', 'VST'),\n",
       " ('SO', 'VST'),\n",
       " ('AEP', 'VST'),\n",
       " ('ED', 'VST'),\n",
       " ('AEE', 'DUK'),\n",
       " ('AEP', 'CNP')]"
      ]
     },
     "execution_count": 1000,
     "metadata": {},
     "output_type": "execute_result"
    }
   ],
   "source": [
    "# check for %90 conf intervals\n",
    "mask_90 = df_c.isin([0.90])\n",
    "mask_90_pp = df_c_pp.isin([0.90])\n",
    "mask_90_adf = df_c_adf.isin([0.90])\n",
    "\n",
    "# get col names\n",
    "cols= mask_90.any()\n",
    "cols_pp = mask_90_pp.any()\n",
    "cols_adf= mask_90_adf.any()\n",
    "columns = list(cols[cols == True].index)\n",
    "columns_pp = list(cols_pp[cols_pp == True].index)\n",
    "columns_adf = list(cols_adf[cols_adf == True].index)\n",
    "\n",
    "drop_pairs_1= []\n",
    "drop_pairs_2= []\n",
    "drop_pairs_3= []\n",
    "\n",
    "# get rows\n",
    "for col in columns:\n",
    "    rows = list(mask_90[col][mask_90[col] == True].index)\n",
    "    for row in rows:\n",
    "        drop_pairs_1.append((row, col))\n",
    "\n",
    "for col in columns_adf:\n",
    "    rows = list(mask_90_adf[col][mask_90_adf[col] == True].index)\n",
    "    for row in rows:\n",
    "        drop_pairs_2.append((row, col))\n",
    "\n",
    "for col in columns_pp:\n",
    "    rows = list(mask_90_pp[col][mask_90_pp[col] == True].index)\n",
    "    for row in rows:\n",
    "        drop_pairs_3.append((row, col))\n",
    "        \n",
    "drop_set = (set(drop_pairs_1) & set(drop_pairs_2)) | (set(drop_pairs_1) & set(drop_pairs_3)) | (set(drop_pairs_2) & set(drop_pairs_3))\n",
    "                                                                                                  \n",
    "print(\"dropped pairs:\")\n",
    "print(set(drop_set))\n",
    "\n",
    "new_pairs_list = set(pairs_list) - set(drop_set)\n",
    "\n",
    "print(f\"remaining {len(new_pairs_list)} pairs from {df_c.count().sum()}\")\n",
    "list(new_pairs_list)"
   ]
  },
  {
   "cell_type": "markdown",
   "id": "fbe3c628",
   "metadata": {
    "ExecuteTime": {
     "end_time": "2022-10-26T20:47:44.091334Z",
     "start_time": "2022-10-26T20:47:44.086334Z"
    }
   },
   "source": [
    "#### Exercize\n",
    "Drop based on conf. int. difference"
   ]
  },
  {
   "cell_type": "code",
   "execution_count": 1002,
   "id": "71400cd0",
   "metadata": {
    "ExecuteTime": {
     "end_time": "2022-10-26T20:47:44.344335Z",
     "start_time": "2022-10-26T20:47:44.099333Z"
    }
   },
   "outputs": [
    {
     "data": {
      "text/html": [
       "<style type=\"text/css\">\n",
       "#T_654d9_row0_col0, #T_654d9_row0_col1, #T_654d9_row0_col2, #T_654d9_row0_col3, #T_654d9_row0_col4, #T_654d9_row1_col1, #T_654d9_row1_col3, #T_654d9_row1_col4, #T_654d9_row2_col0, #T_654d9_row2_col1, #T_654d9_row2_col2, #T_654d9_row2_col3, #T_654d9_row2_col4, #T_654d9_row3_col0, #T_654d9_row3_col1, #T_654d9_row3_col3, #T_654d9_row3_col4, #T_654d9_row4_col0, #T_654d9_row4_col1, #T_654d9_row4_col2, #T_654d9_row4_col3, #T_654d9_row4_col4, #T_654d9_row5_col0, #T_654d9_row5_col1, #T_654d9_row5_col2, #T_654d9_row5_col3, #T_654d9_row5_col4, #T_654d9_row6_col0, #T_654d9_row6_col1, #T_654d9_row6_col2, #T_654d9_row6_col3, #T_654d9_row7_col0, #T_654d9_row7_col1, #T_654d9_row7_col3, #T_654d9_row7_col4, #T_654d9_row8_col0, #T_654d9_row8_col1, #T_654d9_row8_col2, #T_654d9_row8_col3, #T_654d9_row8_col4 {\n",
       "  color: white;\n",
       "}\n",
       "#T_654d9_row1_col0, #T_654d9_row1_col2, #T_654d9_row3_col2, #T_654d9_row6_col4, #T_654d9_row7_col2 {\n",
       "  background-color: green;\n",
       "}\n",
       "</style>\n",
       "<table id=\"T_654d9_\">\n",
       "  <thead>\n",
       "    <tr>\n",
       "      <th class=\"blank level0\" >&nbsp;</th>\n",
       "      <th class=\"col_heading level0 col0\" >CNP</th>\n",
       "      <th class=\"col_heading level0 col1\" >DUK</th>\n",
       "      <th class=\"col_heading level0 col2\" >VST</th>\n",
       "      <th class=\"col_heading level0 col3\" >WEC</th>\n",
       "      <th class=\"col_heading level0 col4\" >XEL</th>\n",
       "    </tr>\n",
       "  </thead>\n",
       "  <tbody>\n",
       "    <tr>\n",
       "      <th id=\"T_654d9_level0_row0\" class=\"row_heading level0 row0\" >AEE</th>\n",
       "      <td id=\"T_654d9_row0_col0\" class=\"data row0 col0\" >nan</td>\n",
       "      <td id=\"T_654d9_row0_col1\" class=\"data row0 col1\" >nan</td>\n",
       "      <td id=\"T_654d9_row0_col2\" class=\"data row0 col2\" >nan</td>\n",
       "      <td id=\"T_654d9_row0_col3\" class=\"data row0 col3\" >nan</td>\n",
       "      <td id=\"T_654d9_row0_col4\" class=\"data row0 col4\" >nan</td>\n",
       "    </tr>\n",
       "    <tr>\n",
       "      <th id=\"T_654d9_level0_row1\" class=\"row_heading level0 row1\" >AEP</th>\n",
       "      <td id=\"T_654d9_row1_col0\" class=\"data row1 col0\" >0.04</td>\n",
       "      <td id=\"T_654d9_row1_col1\" class=\"data row1 col1\" >nan</td>\n",
       "      <td id=\"T_654d9_row1_col2\" class=\"data row1 col2\" >0.04</td>\n",
       "      <td id=\"T_654d9_row1_col3\" class=\"data row1 col3\" >nan</td>\n",
       "      <td id=\"T_654d9_row1_col4\" class=\"data row1 col4\" >nan</td>\n",
       "    </tr>\n",
       "    <tr>\n",
       "      <th id=\"T_654d9_level0_row2\" class=\"row_heading level0 row2\" >CMS</th>\n",
       "      <td id=\"T_654d9_row2_col0\" class=\"data row2 col0\" >nan</td>\n",
       "      <td id=\"T_654d9_row2_col1\" class=\"data row2 col1\" >nan</td>\n",
       "      <td id=\"T_654d9_row2_col2\" class=\"data row2 col2\" >nan</td>\n",
       "      <td id=\"T_654d9_row2_col3\" class=\"data row2 col3\" >nan</td>\n",
       "      <td id=\"T_654d9_row2_col4\" class=\"data row2 col4\" >nan</td>\n",
       "    </tr>\n",
       "    <tr>\n",
       "      <th id=\"T_654d9_level0_row3\" class=\"row_heading level0 row3\" >CNP</th>\n",
       "      <td id=\"T_654d9_row3_col0\" class=\"data row3 col0\" >nan</td>\n",
       "      <td id=\"T_654d9_row3_col1\" class=\"data row3 col1\" >nan</td>\n",
       "      <td id=\"T_654d9_row3_col2\" class=\"data row3 col2\" >0.04</td>\n",
       "      <td id=\"T_654d9_row3_col3\" class=\"data row3 col3\" >nan</td>\n",
       "      <td id=\"T_654d9_row3_col4\" class=\"data row3 col4\" >nan</td>\n",
       "    </tr>\n",
       "    <tr>\n",
       "      <th id=\"T_654d9_level0_row4\" class=\"row_heading level0 row4\" >ED</th>\n",
       "      <td id=\"T_654d9_row4_col0\" class=\"data row4 col0\" >nan</td>\n",
       "      <td id=\"T_654d9_row4_col1\" class=\"data row4 col1\" >nan</td>\n",
       "      <td id=\"T_654d9_row4_col2\" class=\"data row4 col2\" >nan</td>\n",
       "      <td id=\"T_654d9_row4_col3\" class=\"data row4 col3\" >nan</td>\n",
       "      <td id=\"T_654d9_row4_col4\" class=\"data row4 col4\" >nan</td>\n",
       "    </tr>\n",
       "    <tr>\n",
       "      <th id=\"T_654d9_level0_row5\" class=\"row_heading level0 row5\" >NRG</th>\n",
       "      <td id=\"T_654d9_row5_col0\" class=\"data row5 col0\" >nan</td>\n",
       "      <td id=\"T_654d9_row5_col1\" class=\"data row5 col1\" >nan</td>\n",
       "      <td id=\"T_654d9_row5_col2\" class=\"data row5 col2\" >nan</td>\n",
       "      <td id=\"T_654d9_row5_col3\" class=\"data row5 col3\" >nan</td>\n",
       "      <td id=\"T_654d9_row5_col4\" class=\"data row5 col4\" >nan</td>\n",
       "    </tr>\n",
       "    <tr>\n",
       "      <th id=\"T_654d9_level0_row6\" class=\"row_heading level0 row6\" >OGE</th>\n",
       "      <td id=\"T_654d9_row6_col0\" class=\"data row6 col0\" >nan</td>\n",
       "      <td id=\"T_654d9_row6_col1\" class=\"data row6 col1\" >nan</td>\n",
       "      <td id=\"T_654d9_row6_col2\" class=\"data row6 col2\" >nan</td>\n",
       "      <td id=\"T_654d9_row6_col3\" class=\"data row6 col3\" >nan</td>\n",
       "      <td id=\"T_654d9_row6_col4\" class=\"data row6 col4\" >0.05</td>\n",
       "    </tr>\n",
       "    <tr>\n",
       "      <th id=\"T_654d9_level0_row7\" class=\"row_heading level0 row7\" >SO</th>\n",
       "      <td id=\"T_654d9_row7_col0\" class=\"data row7 col0\" >nan</td>\n",
       "      <td id=\"T_654d9_row7_col1\" class=\"data row7 col1\" >nan</td>\n",
       "      <td id=\"T_654d9_row7_col2\" class=\"data row7 col2\" >0.04</td>\n",
       "      <td id=\"T_654d9_row7_col3\" class=\"data row7 col3\" >nan</td>\n",
       "      <td id=\"T_654d9_row7_col4\" class=\"data row7 col4\" >nan</td>\n",
       "    </tr>\n",
       "    <tr>\n",
       "      <th id=\"T_654d9_level0_row8\" class=\"row_heading level0 row8\" >VST</th>\n",
       "      <td id=\"T_654d9_row8_col0\" class=\"data row8 col0\" >nan</td>\n",
       "      <td id=\"T_654d9_row8_col1\" class=\"data row8 col1\" >nan</td>\n",
       "      <td id=\"T_654d9_row8_col2\" class=\"data row8 col2\" >nan</td>\n",
       "      <td id=\"T_654d9_row8_col3\" class=\"data row8 col3\" >nan</td>\n",
       "      <td id=\"T_654d9_row8_col4\" class=\"data row8 col4\" >nan</td>\n",
       "    </tr>\n",
       "  </tbody>\n",
       "</table>\n"
      ],
      "text/plain": [
       "<pandas.io.formats.style.Styler at 0x23a8d829460>"
      ]
     },
     "metadata": {},
     "output_type": "display_data"
    },
    {
     "data": {
      "text/html": [
       "<style type=\"text/css\">\n",
       "#T_4711d_row0_col0, #T_4711d_row0_col2, #T_4711d_row0_col3, #T_4711d_row0_col4, #T_4711d_row1_col0, #T_4711d_row1_col1, #T_4711d_row1_col3, #T_4711d_row1_col4, #T_4711d_row2_col0, #T_4711d_row2_col2, #T_4711d_row2_col3, #T_4711d_row2_col4, #T_4711d_row3_col0, #T_4711d_row3_col1, #T_4711d_row3_col3, #T_4711d_row3_col4, #T_4711d_row4_col0, #T_4711d_row4_col1, #T_4711d_row4_col2, #T_4711d_row4_col3, #T_4711d_row4_col4, #T_4711d_row5_col0, #T_4711d_row5_col1, #T_4711d_row5_col2, #T_4711d_row5_col3, #T_4711d_row5_col4, #T_4711d_row6_col0, #T_4711d_row6_col1, #T_4711d_row6_col2, #T_4711d_row6_col3, #T_4711d_row7_col0, #T_4711d_row7_col1, #T_4711d_row7_col3, #T_4711d_row7_col4, #T_4711d_row8_col0, #T_4711d_row8_col1, #T_4711d_row8_col2, #T_4711d_row8_col4 {\n",
       "  color: white;\n",
       "}\n",
       "#T_4711d_row0_col1 {\n",
       "  color: white;\n",
       "  background-color: yellow;\n",
       "  color: black;\n",
       "  background-color: red;\n",
       "}\n",
       "#T_4711d_row1_col2, #T_4711d_row3_col2, #T_4711d_row6_col4, #T_4711d_row7_col2, #T_4711d_row8_col3 {\n",
       "  background-color: green;\n",
       "}\n",
       "#T_4711d_row2_col1 {\n",
       "  color: white;\n",
       "  background-color: yellow;\n",
       "  color: black;\n",
       "}\n",
       "</style>\n",
       "<table id=\"T_4711d_\">\n",
       "  <thead>\n",
       "    <tr>\n",
       "      <th class=\"blank level0\" >&nbsp;</th>\n",
       "      <th class=\"col_heading level0 col0\" >CNP</th>\n",
       "      <th class=\"col_heading level0 col1\" >DUK</th>\n",
       "      <th class=\"col_heading level0 col2\" >VST</th>\n",
       "      <th class=\"col_heading level0 col3\" >WEC</th>\n",
       "      <th class=\"col_heading level0 col4\" >XEL</th>\n",
       "    </tr>\n",
       "  </thead>\n",
       "  <tbody>\n",
       "    <tr>\n",
       "      <th id=\"T_4711d_level0_row0\" class=\"row_heading level0 row0\" >AEE</th>\n",
       "      <td id=\"T_4711d_row0_col0\" class=\"data row0 col0\" >nan</td>\n",
       "      <td id=\"T_4711d_row0_col1\" class=\"data row0 col1\" >-0.05</td>\n",
       "      <td id=\"T_4711d_row0_col2\" class=\"data row0 col2\" >nan</td>\n",
       "      <td id=\"T_4711d_row0_col3\" class=\"data row0 col3\" >nan</td>\n",
       "      <td id=\"T_4711d_row0_col4\" class=\"data row0 col4\" >nan</td>\n",
       "    </tr>\n",
       "    <tr>\n",
       "      <th id=\"T_4711d_level0_row1\" class=\"row_heading level0 row1\" >AEP</th>\n",
       "      <td id=\"T_4711d_row1_col0\" class=\"data row1 col0\" >nan</td>\n",
       "      <td id=\"T_4711d_row1_col1\" class=\"data row1 col1\" >nan</td>\n",
       "      <td id=\"T_4711d_row1_col2\" class=\"data row1 col2\" >0.04</td>\n",
       "      <td id=\"T_4711d_row1_col3\" class=\"data row1 col3\" >nan</td>\n",
       "      <td id=\"T_4711d_row1_col4\" class=\"data row1 col4\" >nan</td>\n",
       "    </tr>\n",
       "    <tr>\n",
       "      <th id=\"T_4711d_level0_row2\" class=\"row_heading level0 row2\" >CMS</th>\n",
       "      <td id=\"T_4711d_row2_col0\" class=\"data row2 col0\" >nan</td>\n",
       "      <td id=\"T_4711d_row2_col1\" class=\"data row2 col1\" >-0.04</td>\n",
       "      <td id=\"T_4711d_row2_col2\" class=\"data row2 col2\" >nan</td>\n",
       "      <td id=\"T_4711d_row2_col3\" class=\"data row2 col3\" >nan</td>\n",
       "      <td id=\"T_4711d_row2_col4\" class=\"data row2 col4\" >nan</td>\n",
       "    </tr>\n",
       "    <tr>\n",
       "      <th id=\"T_4711d_level0_row3\" class=\"row_heading level0 row3\" >CNP</th>\n",
       "      <td id=\"T_4711d_row3_col0\" class=\"data row3 col0\" >nan</td>\n",
       "      <td id=\"T_4711d_row3_col1\" class=\"data row3 col1\" >nan</td>\n",
       "      <td id=\"T_4711d_row3_col2\" class=\"data row3 col2\" >0.04</td>\n",
       "      <td id=\"T_4711d_row3_col3\" class=\"data row3 col3\" >nan</td>\n",
       "      <td id=\"T_4711d_row3_col4\" class=\"data row3 col4\" >nan</td>\n",
       "    </tr>\n",
       "    <tr>\n",
       "      <th id=\"T_4711d_level0_row4\" class=\"row_heading level0 row4\" >ED</th>\n",
       "      <td id=\"T_4711d_row4_col0\" class=\"data row4 col0\" >nan</td>\n",
       "      <td id=\"T_4711d_row4_col1\" class=\"data row4 col1\" >nan</td>\n",
       "      <td id=\"T_4711d_row4_col2\" class=\"data row4 col2\" >nan</td>\n",
       "      <td id=\"T_4711d_row4_col3\" class=\"data row4 col3\" >nan</td>\n",
       "      <td id=\"T_4711d_row4_col4\" class=\"data row4 col4\" >nan</td>\n",
       "    </tr>\n",
       "    <tr>\n",
       "      <th id=\"T_4711d_level0_row5\" class=\"row_heading level0 row5\" >NRG</th>\n",
       "      <td id=\"T_4711d_row5_col0\" class=\"data row5 col0\" >nan</td>\n",
       "      <td id=\"T_4711d_row5_col1\" class=\"data row5 col1\" >nan</td>\n",
       "      <td id=\"T_4711d_row5_col2\" class=\"data row5 col2\" >nan</td>\n",
       "      <td id=\"T_4711d_row5_col3\" class=\"data row5 col3\" >nan</td>\n",
       "      <td id=\"T_4711d_row5_col4\" class=\"data row5 col4\" >nan</td>\n",
       "    </tr>\n",
       "    <tr>\n",
       "      <th id=\"T_4711d_level0_row6\" class=\"row_heading level0 row6\" >OGE</th>\n",
       "      <td id=\"T_4711d_row6_col0\" class=\"data row6 col0\" >nan</td>\n",
       "      <td id=\"T_4711d_row6_col1\" class=\"data row6 col1\" >nan</td>\n",
       "      <td id=\"T_4711d_row6_col2\" class=\"data row6 col2\" >nan</td>\n",
       "      <td id=\"T_4711d_row6_col3\" class=\"data row6 col3\" >nan</td>\n",
       "      <td id=\"T_4711d_row6_col4\" class=\"data row6 col4\" >0.05</td>\n",
       "    </tr>\n",
       "    <tr>\n",
       "      <th id=\"T_4711d_level0_row7\" class=\"row_heading level0 row7\" >SO</th>\n",
       "      <td id=\"T_4711d_row7_col0\" class=\"data row7 col0\" >nan</td>\n",
       "      <td id=\"T_4711d_row7_col1\" class=\"data row7 col1\" >nan</td>\n",
       "      <td id=\"T_4711d_row7_col2\" class=\"data row7 col2\" >0.04</td>\n",
       "      <td id=\"T_4711d_row7_col3\" class=\"data row7 col3\" >nan</td>\n",
       "      <td id=\"T_4711d_row7_col4\" class=\"data row7 col4\" >nan</td>\n",
       "    </tr>\n",
       "    <tr>\n",
       "      <th id=\"T_4711d_level0_row8\" class=\"row_heading level0 row8\" >VST</th>\n",
       "      <td id=\"T_4711d_row8_col0\" class=\"data row8 col0\" >nan</td>\n",
       "      <td id=\"T_4711d_row8_col1\" class=\"data row8 col1\" >nan</td>\n",
       "      <td id=\"T_4711d_row8_col2\" class=\"data row8 col2\" >nan</td>\n",
       "      <td id=\"T_4711d_row8_col3\" class=\"data row8 col3\" >0.04</td>\n",
       "      <td id=\"T_4711d_row8_col4\" class=\"data row8 col4\" >nan</td>\n",
       "    </tr>\n",
       "  </tbody>\n",
       "</table>\n"
      ],
      "text/plain": [
       "<pandas.io.formats.style.Styler at 0x23a8e82a190>"
      ]
     },
     "metadata": {},
     "output_type": "display_data"
    },
    {
     "name": "stdout",
     "output_type": "stream",
     "text": [
      "dropped pairs:\n",
      "[('AEE', 'DUK')]\n",
      "remaining 9 pairs from 10\n"
     ]
    },
    {
     "data": {
      "text/plain": [
       "[('CMS', 'DUK'),\n",
       " ('CNP', 'VST'),\n",
       " ('VST', 'WEC'),\n",
       " ('OGE', 'XEL'),\n",
       " ('NRG', 'VST'),\n",
       " ('SO', 'VST'),\n",
       " ('AEP', 'VST'),\n",
       " ('ED', 'VST'),\n",
       " ('AEP', 'CNP')]"
      ]
     },
     "execution_count": 1002,
     "metadata": {},
     "output_type": "execute_result"
    }
   ],
   "source": [
    "# let's eliminate the pairs if any of its test result drops to %90\n",
    "\n",
    "# keep green from %95 to %99\n",
    "def green_apply(x):\n",
    "    color = {True: \"background-color: green\", False: \"color : white\"}\n",
    "    is_color = (x > 0).replace(color)\n",
    "    return is_color\n",
    "# keep yellow (from %99 to %95)\n",
    "def yellow_apply(x):\n",
    "    color = {True: \"background-color: yellow; color : black\"}\n",
    "    is_color = (x <= -0.04).replace(color)\n",
    "    return is_color\n",
    "# drop red (from %99-%95 to %90)\n",
    "def red_apply(x):\n",
    "    color = {True: \"background-color: red\"}\n",
    "    is_color = (x <= -0.05).replace(color)\n",
    "    return is_color\n",
    "\n",
    "df_diff_adf = df_c_adf.subtract(df_c).round(2)\n",
    "df_diff_adf = df_diff_adf.replace(0, np.nan)\n",
    "\n",
    "df_diff_pp = df_c_pp.subtract(df_c).round(2)\n",
    "df_diff_pp = df_diff_pp.replace(0, np.nan)\n",
    "\n",
    "display(df_diff_adf.style.format(precision=2)\\\n",
    "        .apply(green_apply)\\\n",
    "        .apply(yellow_apply)\\\n",
    "        .apply(red_apply))\n",
    "\n",
    "display(df_diff_pp.style.format(precision=2)\\\n",
    "        .apply(green_apply)\\\n",
    "        .apply(yellow_apply)\\\n",
    "        .apply(red_apply))\n",
    "\n",
    "x_list = df_c.index.tolist()\n",
    "y_list = df_c.columns.tolist()\n",
    "\n",
    "drop_pairs_list = []\n",
    "\n",
    "for i in range(len(x_list)):\n",
    "    for j in range(len(y_list)):\n",
    "        # print(x_list[i] + \"-\" + y_list[j])\n",
    "        if df_diff_adf.iloc[i,j]< -0.04:  # eliminate id drops to %90\n",
    "            drop_pairs_list.append((x_list[i], y_list[j]))\n",
    "\n",
    "for i in range(len(x_list)):\n",
    "    for j in range(len(y_list)):\n",
    "        if df_diff_pp.iloc[i,j]< -0.04:  # eliminate id drops to %90\n",
    "            drop_pairs_list.append((x_list[i], y_list[j]))\n",
    "                      \n",
    "print(\"dropped pairs:\")\n",
    "print(drop_pairs_list)\n",
    "\n",
    "new_pairs_list = set(pairs_list) - set(drop_pairs_list)\n",
    "\n",
    "print(f\"remaining {len(new_pairs_list)} pairs from {df_c.count().sum()}\")\n",
    "list(new_pairs_list)"
   ]
  },
  {
   "cell_type": "markdown",
   "id": "e7efae7f",
   "metadata": {
    "ExecuteTime": {
     "end_time": "2022-10-26T20:47:44.359333Z",
     "start_time": "2022-10-26T20:47:44.348356Z"
    }
   },
   "source": [
    "#### Exercise\n",
    "Show unique tickers in the list of selected pairs"
   ]
  },
  {
   "cell_type": "code",
   "execution_count": 1004,
   "id": "aa2dfe7e",
   "metadata": {
    "ExecuteTime": {
     "end_time": "2022-10-26T20:47:44.390994Z",
     "start_time": "2022-10-26T20:47:44.368344Z"
    }
   },
   "outputs": [
    {
     "name": "stdout",
     "output_type": "stream",
     "text": [
      "total 11 tickers\n"
     ]
    },
    {
     "data": {
      "text/plain": [
       "{'AEP', 'CMS', 'CNP', 'DUK', 'ED', 'NRG', 'OGE', 'SO', 'VST', 'WEC', 'XEL'}"
      ]
     },
     "execution_count": 1004,
     "metadata": {},
     "output_type": "execute_result"
    }
   ],
   "source": [
    "import itertools\n",
    "chain = itertools.chain(*new_pairs_list)\n",
    "new_tickers = set(chain)\n",
    "print(f\"total {len(set(new_tickers))} tickers\")\n",
    "new_tickers"
   ]
  }
 ],
 "metadata": {
  "kernelspec": {
   "display_name": "Python 3 (ipykernel)",
   "language": "python",
   "name": "python3"
  },
  "language_info": {
   "codemirror_mode": {
    "name": "ipython",
    "version": 3
   },
   "file_extension": ".py",
   "mimetype": "text/x-python",
   "name": "python",
   "nbconvert_exporter": "python",
   "pygments_lexer": "ipython3",
   "version": "3.9.7"
  }
 },
 "nbformat": 4,
 "nbformat_minor": 5
}
