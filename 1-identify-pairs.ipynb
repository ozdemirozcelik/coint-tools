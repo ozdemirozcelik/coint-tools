{
 "cells": [
  {
   "cell_type": "code",
   "execution_count": 439,
   "id": "57f7eb3c",
   "metadata": {
    "ExecuteTime": {
     "end_time": "2022-10-29T19:37:41.009358Z",
     "start_time": "2022-10-29T19:37:40.966357Z"
    }
   },
   "outputs": [],
   "source": [
    "import numpy as np\n",
    "import pandas as pd\n",
    "import pickle\n",
    "import yfinance as yf\n",
    "import matplotlib.pyplot as plt\n",
    "import seaborn\n",
    "from statsmodels.tsa.stattools import coint\n",
    "import datetime"
   ]
  },
  {
   "cell_type": "markdown",
   "id": "42f03922",
   "metadata": {},
   "source": [
    "### Find Tickers\n",
    "We would like to identify cointegrated pairs.\n",
    "One way to find them is to look into some specific sectors.\n",
    "For exp: 'utilities.csv' includes a list of active utilities."
   ]
  },
  {
   "cell_type": "code",
   "execution_count": 448,
   "id": "fb3da146",
   "metadata": {
    "ExecuteTime": {
     "end_time": "2022-10-29T19:38:05.286915Z",
     "start_time": "2022-10-29T19:38:05.246899Z"
    }
   },
   "outputs": [
    {
     "data": {
      "text/html": [
       "<div>\n",
       "<style scoped>\n",
       "    .dataframe tbody tr th:only-of-type {\n",
       "        vertical-align: middle;\n",
       "    }\n",
       "\n",
       "    .dataframe tbody tr th {\n",
       "        vertical-align: top;\n",
       "    }\n",
       "\n",
       "    .dataframe thead th {\n",
       "        text-align: right;\n",
       "    }\n",
       "</style>\n",
       "<table border=\"1\" class=\"dataframe\">\n",
       "  <thead>\n",
       "    <tr style=\"text-align: right;\">\n",
       "      <th></th>\n",
       "      <th>Ticker</th>\n",
       "      <th>Description</th>\n",
       "      <th>Price</th>\n",
       "      <th>Change %</th>\n",
       "      <th>Change</th>\n",
       "      <th>Technical Rating</th>\n",
       "      <th>Volume</th>\n",
       "      <th>Volume*Price</th>\n",
       "      <th>Market Capitalization</th>\n",
       "      <th>Price to Earnings Ratio (TTM)</th>\n",
       "      <th>Basic EPS (TTM)</th>\n",
       "      <th>Number of Employees</th>\n",
       "      <th>Sector</th>\n",
       "    </tr>\n",
       "  </thead>\n",
       "  <tbody>\n",
       "    <tr>\n",
       "      <th>0</th>\n",
       "      <td>PCG</td>\n",
       "      <td>Pacific Gas &amp; Electric Co.</td>\n",
       "      <td>13.83</td>\n",
       "      <td>-3.354298</td>\n",
       "      <td>-0.48</td>\n",
       "      <td>Buy</td>\n",
       "      <td>24222506</td>\n",
       "      <td>3.349973e+08</td>\n",
       "      <td>2.748945e+10</td>\n",
       "      <td>185.844156</td>\n",
       "      <td>0.1064</td>\n",
       "      <td>26000.0</td>\n",
       "      <td>Utilities</td>\n",
       "    </tr>\n",
       "    <tr>\n",
       "      <th>1</th>\n",
       "      <td>RUN</td>\n",
       "      <td>Sunrun Inc.</td>\n",
       "      <td>21.21</td>\n",
       "      <td>-7.621951</td>\n",
       "      <td>-1.75</td>\n",
       "      <td>Strong Sell</td>\n",
       "      <td>10480596</td>\n",
       "      <td>2.222934e+08</td>\n",
       "      <td>4.498730e+09</td>\n",
       "      <td>NaN</td>\n",
       "      <td>-0.5481</td>\n",
       "      <td>11383.0</td>\n",
       "      <td>Utilities</td>\n",
       "    </tr>\n",
       "    <tr>\n",
       "      <th>2</th>\n",
       "      <td>NEE</td>\n",
       "      <td>NextEra Energy, Inc.</td>\n",
       "      <td>71.77</td>\n",
       "      <td>-1.805993</td>\n",
       "      <td>-1.32</td>\n",
       "      <td>Sell</td>\n",
       "      <td>8735692</td>\n",
       "      <td>6.269606e+08</td>\n",
       "      <td>1.425650e+11</td>\n",
       "      <td>55.960493</td>\n",
       "      <td>1.3138</td>\n",
       "      <td>15000.0</td>\n",
       "      <td>Utilities</td>\n",
       "    </tr>\n",
       "    <tr>\n",
       "      <th>3</th>\n",
       "      <td>EXC</td>\n",
       "      <td>Exelon Corporation</td>\n",
       "      <td>36.59</td>\n",
       "      <td>-1.719044</td>\n",
       "      <td>-0.64</td>\n",
       "      <td>Sell</td>\n",
       "      <td>6830065</td>\n",
       "      <td>2.499121e+08</td>\n",
       "      <td>3.628839e+10</td>\n",
       "      <td>13.743079</td>\n",
       "      <td>2.7108</td>\n",
       "      <td>31518.0</td>\n",
       "      <td>Utilities</td>\n",
       "    </tr>\n",
       "    <tr>\n",
       "      <th>4</th>\n",
       "      <td>FE</td>\n",
       "      <td>FirstEnergy Corp.</td>\n",
       "      <td>36.17</td>\n",
       "      <td>-2.559267</td>\n",
       "      <td>-0.95</td>\n",
       "      <td>Strong Sell</td>\n",
       "      <td>6503663</td>\n",
       "      <td>2.352375e+08</td>\n",
       "      <td>2.066737e+10</td>\n",
       "      <td>15.636716</td>\n",
       "      <td>2.3782</td>\n",
       "      <td>12395.0</td>\n",
       "      <td>Utilities</td>\n",
       "    </tr>\n",
       "  </tbody>\n",
       "</table>\n",
       "</div>"
      ],
      "text/plain": [
       "  Ticker                 Description  Price  Change %  Change  \\\n",
       "0    PCG  Pacific Gas & Electric Co.  13.83 -3.354298   -0.48   \n",
       "1    RUN                 Sunrun Inc.  21.21 -7.621951   -1.75   \n",
       "2    NEE        NextEra Energy, Inc.  71.77 -1.805993   -1.32   \n",
       "3    EXC          Exelon Corporation  36.59 -1.719044   -0.64   \n",
       "4     FE           FirstEnergy Corp.  36.17 -2.559267   -0.95   \n",
       "\n",
       "  Technical Rating    Volume  Volume*Price  Market Capitalization  \\\n",
       "0              Buy  24222506  3.349973e+08           2.748945e+10   \n",
       "1      Strong Sell  10480596  2.222934e+08           4.498730e+09   \n",
       "2             Sell   8735692  6.269606e+08           1.425650e+11   \n",
       "3             Sell   6830065  2.499121e+08           3.628839e+10   \n",
       "4      Strong Sell   6503663  2.352375e+08           2.066737e+10   \n",
       "\n",
       "   Price to Earnings Ratio (TTM)  Basic EPS (TTM)  Number of Employees  \\\n",
       "0                     185.844156           0.1064              26000.0   \n",
       "1                            NaN          -0.5481              11383.0   \n",
       "2                      55.960493           1.3138              15000.0   \n",
       "3                      13.743079           2.7108              31518.0   \n",
       "4                      15.636716           2.3782              12395.0   \n",
       "\n",
       "      Sector  \n",
       "0  Utilities  \n",
       "1  Utilities  \n",
       "2  Utilities  \n",
       "3  Utilities  \n",
       "4  Utilities  "
      ]
     },
     "execution_count": 448,
     "metadata": {},
     "output_type": "execute_result"
    }
   ],
   "source": [
    "filename='utilities.csv'\n",
    "#filename='minerals.csv'\n",
    "#filename='reit.csv'\n",
    "#filename='etf.csv'\n",
    "#filename='banks.csv'\n",
    "df = pd.read_csv(filename)\n",
    "df.head()"
   ]
  },
  {
   "cell_type": "markdown",
   "id": "5c1b8da6",
   "metadata": {},
   "source": [
    "We want to trade with stocks with adequate demand from buyers and sellers, we can eliminate others by defining a cap for the trade volume."
   ]
  },
  {
   "cell_type": "code",
   "execution_count": 449,
   "id": "611ac0c6",
   "metadata": {
    "ExecuteTime": {
     "end_time": "2022-10-29T19:38:07.186870Z",
     "start_time": "2022-10-29T19:38:07.167872Z"
    }
   },
   "outputs": [
    {
     "data": {
      "text/plain": [
       "['PCG',\n",
       " 'RUN',\n",
       " 'NEE',\n",
       " 'EXC',\n",
       " 'FE',\n",
       " 'PPL',\n",
       " 'NI',\n",
       " 'NOVA',\n",
       " 'CNP',\n",
       " 'SO',\n",
       " 'DUK',\n",
       " 'D',\n",
       " 'AES',\n",
       " 'AEP',\n",
       " 'XEL',\n",
       " 'ED',\n",
       " 'EIX',\n",
       " 'DTE',\n",
       " 'CLNE',\n",
       " 'VST',\n",
       " 'LNT',\n",
       " 'CMS',\n",
       " 'ES',\n",
       " 'PEG',\n",
       " 'WEC',\n",
       " 'SRE',\n",
       " 'CEG',\n",
       " 'NRG',\n",
       " 'RNW',\n",
       " 'AGR',\n",
       " 'OGE',\n",
       " 'AEE',\n",
       " 'WTRG',\n",
       " 'AWK',\n",
       " 'UGI',\n",
       " 'ETR',\n",
       " 'AMPS']"
      ]
     },
     "execution_count": 449,
     "metadata": {},
     "output_type": "execute_result"
    }
   ],
   "source": [
    " # Define a volume cap\n",
    "volume_cap = 1000000\n",
    "\n",
    "df = df[['Ticker','Description','Volume','Price']].sort_values(by='Volume', ascending=False)\n",
    "high_volume = df.Volume>volume_cap\n",
    "df_h = df[high_volume]\n",
    "tickers = df_h.Ticker.tolist()\n",
    "tickers"
   ]
  },
  {
   "cell_type": "code",
   "execution_count": 450,
   "id": "67da97a3",
   "metadata": {
    "ExecuteTime": {
     "end_time": "2022-10-29T19:38:09.654384Z",
     "start_time": "2022-10-29T19:38:09.630372Z"
    }
   },
   "outputs": [
    {
     "data": {
      "text/plain": [
       "['RUN',\n",
       " 'NEE',\n",
       " 'EXC',\n",
       " 'FE',\n",
       " 'PPL',\n",
       " 'NI',\n",
       " 'CNP',\n",
       " 'SO',\n",
       " 'DUK',\n",
       " 'D',\n",
       " 'AES',\n",
       " 'AEP',\n",
       " 'XEL',\n",
       " 'ED',\n",
       " 'EIX',\n",
       " 'VST',\n",
       " 'LNT',\n",
       " 'CMS',\n",
       " 'ES',\n",
       " 'PEG',\n",
       " 'WEC',\n",
       " 'CEG',\n",
       " 'NRG',\n",
       " 'AGR',\n",
       " 'OGE',\n",
       " 'AEE',\n",
       " 'WTRG',\n",
       " 'UGI']"
      ]
     },
     "execution_count": 450,
     "metadata": {},
     "output_type": "execute_result"
    }
   ],
   "source": [
    " # Define a price interval if needed\n",
    "price_low = 20 \n",
    "price_high = 100\n",
    "\n",
    "query=\"Price>\"+str(price_low)+\" & Price<\"+str(price_high)\n",
    "df_h_p = df_h.query(query)\n",
    "tickers = df_h_p.Ticker.tolist()\n",
    "tickers"
   ]
  },
  {
   "cell_type": "markdown",
   "id": "64deed1a",
   "metadata": {
    "ExecuteTime": {
     "end_time": "2022-10-17T20:23:09.658974Z",
     "start_time": "2022-10-17T20:23:09.641937Z"
    }
   },
   "source": [
    "### Download Price Data\n",
    "We will use yfinance (https://pypi.org/project/yfinance/) to downloed the closing prices of stocks.\n",
    "More information is available on the next notebook which we will download and save a more detailed stock data."
   ]
  },
  {
   "cell_type": "code",
   "execution_count": 452,
   "id": "9f820610",
   "metadata": {
    "ExecuteTime": {
     "end_time": "2022-10-29T19:38:28.241999Z",
     "start_time": "2022-10-29T19:38:25.919655Z"
    }
   },
   "outputs": [
    {
     "name": "stdout",
     "output_type": "stream",
     "text": [
      "[*********************100%***********************]  28 of 28 completed\n",
      "<class 'pandas.core.frame.DataFrame'>\n",
      "DatetimeIndex: 253 entries, 2021-10-28 00:00:00-04:00 to 2022-10-28 00:00:00-04:00\n",
      "Data columns (total 28 columns):\n",
      " #   Column  Non-Null Count  Dtype  \n",
      "---  ------  --------------  -----  \n",
      " 0   AEE     252 non-null    float64\n",
      " 1   AEP     252 non-null    float64\n",
      " 2   AES     252 non-null    float64\n",
      " 3   AGR     252 non-null    float64\n",
      " 4   CEG     197 non-null    float64\n",
      " 5   CMS     252 non-null    float64\n",
      " 6   CNP     252 non-null    float64\n",
      " 7   D       252 non-null    float64\n",
      " 8   DUK     252 non-null    float64\n",
      " 9   ED      252 non-null    float64\n",
      " 10  EIX     252 non-null    float64\n",
      " 11  ES      252 non-null    float64\n",
      " 12  EXC     252 non-null    float64\n",
      " 13  FE      252 non-null    float64\n",
      " 14  LNT     252 non-null    float64\n",
      " 15  NEE     252 non-null    float64\n",
      " 16  NI      252 non-null    float64\n",
      " 17  NRG     252 non-null    float64\n",
      " 18  OGE     252 non-null    float64\n",
      " 19  PEG     252 non-null    float64\n",
      " 20  PPL     252 non-null    float64\n",
      " 21  RUN     252 non-null    float64\n",
      " 22  SO      252 non-null    float64\n",
      " 23  UGI     252 non-null    float64\n",
      " 24  VST     252 non-null    float64\n",
      " 25  WEC     252 non-null    float64\n",
      " 26  WTRG    252 non-null    float64\n",
      " 27  XEL     252 non-null    float64\n",
      "dtypes: float64(28)\n",
      "memory usage: 57.3 KB\n"
     ]
    }
   ],
   "source": [
    "# Enable to use start & end dates:\n",
    "# start = datetime.datetime(2018, 1, 1)\n",
    "# end = datetime.datetime(2022, 1, 1)\n",
    "\n",
    "#df = yf.download(tickers, start, end)[\"Close\"]\n",
    "\n",
    "# enable to use periods & intervals\n",
    "period = '1y'\n",
    "interval = '1d'\n",
    "df = yf.download(tickers, period=period, interval=interval)[\"Close\"]\n",
    "\n",
    "df.info()"
   ]
  },
  {
   "cell_type": "markdown",
   "id": "5b0a5a80",
   "metadata": {},
   "source": [
    "Check for null values and eliminate them:"
   ]
  },
  {
   "cell_type": "markdown",
   "id": "506114cf",
   "metadata": {},
   "source": [
    "It is important to check the dataframe for Na rows & columns before moving forward. Downloaded data may not be consistent all the time, so better doing it manually before proceeding:"
   ]
  },
  {
   "cell_type": "code",
   "execution_count": 454,
   "id": "d6edecaa",
   "metadata": {
    "ExecuteTime": {
     "end_time": "2022-10-29T19:39:34.247912Z",
     "start_time": "2022-10-29T19:39:34.171907Z"
    }
   },
   "outputs": [
    {
     "data": {
      "text/html": [
       "<div>\n",
       "<style scoped>\n",
       "    .dataframe tbody tr th:only-of-type {\n",
       "        vertical-align: middle;\n",
       "    }\n",
       "\n",
       "    .dataframe tbody tr th {\n",
       "        vertical-align: top;\n",
       "    }\n",
       "\n",
       "    .dataframe thead th {\n",
       "        text-align: right;\n",
       "    }\n",
       "</style>\n",
       "<table border=\"1\" class=\"dataframe\">\n",
       "  <thead>\n",
       "    <tr style=\"text-align: right;\">\n",
       "      <th></th>\n",
       "      <th>AEE</th>\n",
       "      <th>AEP</th>\n",
       "      <th>AES</th>\n",
       "      <th>AGR</th>\n",
       "      <th>CEG</th>\n",
       "      <th>CMS</th>\n",
       "      <th>CNP</th>\n",
       "      <th>D</th>\n",
       "      <th>DUK</th>\n",
       "      <th>ED</th>\n",
       "      <th>...</th>\n",
       "      <th>OGE</th>\n",
       "      <th>PEG</th>\n",
       "      <th>PPL</th>\n",
       "      <th>RUN</th>\n",
       "      <th>SO</th>\n",
       "      <th>UGI</th>\n",
       "      <th>VST</th>\n",
       "      <th>WEC</th>\n",
       "      <th>WTRG</th>\n",
       "      <th>XEL</th>\n",
       "    </tr>\n",
       "    <tr>\n",
       "      <th>Date</th>\n",
       "      <th></th>\n",
       "      <th></th>\n",
       "      <th></th>\n",
       "      <th></th>\n",
       "      <th></th>\n",
       "      <th></th>\n",
       "      <th></th>\n",
       "      <th></th>\n",
       "      <th></th>\n",
       "      <th></th>\n",
       "      <th></th>\n",
       "      <th></th>\n",
       "      <th></th>\n",
       "      <th></th>\n",
       "      <th></th>\n",
       "      <th></th>\n",
       "      <th></th>\n",
       "      <th></th>\n",
       "      <th></th>\n",
       "      <th></th>\n",
       "      <th></th>\n",
       "    </tr>\n",
       "  </thead>\n",
       "  <tbody>\n",
       "    <tr>\n",
       "      <th>2021-10-28 00:00:00-04:00</th>\n",
       "      <td>NaN</td>\n",
       "      <td>NaN</td>\n",
       "      <td>NaN</td>\n",
       "      <td>NaN</td>\n",
       "      <td>NaN</td>\n",
       "      <td>NaN</td>\n",
       "      <td>NaN</td>\n",
       "      <td>NaN</td>\n",
       "      <td>NaN</td>\n",
       "      <td>NaN</td>\n",
       "      <td>...</td>\n",
       "      <td>NaN</td>\n",
       "      <td>NaN</td>\n",
       "      <td>NaN</td>\n",
       "      <td>NaN</td>\n",
       "      <td>NaN</td>\n",
       "      <td>NaN</td>\n",
       "      <td>NaN</td>\n",
       "      <td>NaN</td>\n",
       "      <td>NaN</td>\n",
       "      <td>NaN</td>\n",
       "    </tr>\n",
       "    <tr>\n",
       "      <th>2021-10-29 00:00:00-04:00</th>\n",
       "      <td>84.290001</td>\n",
       "      <td>84.709999</td>\n",
       "      <td>25.129999</td>\n",
       "      <td>52.700001</td>\n",
       "      <td>NaN</td>\n",
       "      <td>60.349998</td>\n",
       "      <td>26.040001</td>\n",
       "      <td>75.930000</td>\n",
       "      <td>102.010002</td>\n",
       "      <td>75.400002</td>\n",
       "      <td>...</td>\n",
       "      <td>34.070000</td>\n",
       "      <td>63.799999</td>\n",
       "      <td>28.799999</td>\n",
       "      <td>57.680000</td>\n",
       "      <td>62.320000</td>\n",
       "      <td>43.410000</td>\n",
       "      <td>19.590000</td>\n",
       "      <td>90.059998</td>\n",
       "      <td>47.070000</td>\n",
       "      <td>64.589996</td>\n",
       "    </tr>\n",
       "    <tr>\n",
       "      <th>2021-11-01 00:00:00-04:00</th>\n",
       "      <td>84.279999</td>\n",
       "      <td>85.129997</td>\n",
       "      <td>25.370001</td>\n",
       "      <td>52.580002</td>\n",
       "      <td>NaN</td>\n",
       "      <td>60.290001</td>\n",
       "      <td>26.290001</td>\n",
       "      <td>75.410004</td>\n",
       "      <td>102.309998</td>\n",
       "      <td>76.110001</td>\n",
       "      <td>...</td>\n",
       "      <td>34.669998</td>\n",
       "      <td>64.360001</td>\n",
       "      <td>29.299999</td>\n",
       "      <td>58.189999</td>\n",
       "      <td>62.480000</td>\n",
       "      <td>44.389999</td>\n",
       "      <td>20.010000</td>\n",
       "      <td>90.339996</td>\n",
       "      <td>47.049999</td>\n",
       "      <td>64.500000</td>\n",
       "    </tr>\n",
       "    <tr>\n",
       "      <th>2021-11-02 00:00:00-04:00</th>\n",
       "      <td>84.330002</td>\n",
       "      <td>85.300003</td>\n",
       "      <td>25.370001</td>\n",
       "      <td>52.619999</td>\n",
       "      <td>NaN</td>\n",
       "      <td>60.439999</td>\n",
       "      <td>26.190001</td>\n",
       "      <td>75.489998</td>\n",
       "      <td>102.449997</td>\n",
       "      <td>76.440002</td>\n",
       "      <td>...</td>\n",
       "      <td>34.480000</td>\n",
       "      <td>63.980000</td>\n",
       "      <td>29.240000</td>\n",
       "      <td>57.720001</td>\n",
       "      <td>62.490002</td>\n",
       "      <td>44.349998</td>\n",
       "      <td>19.870001</td>\n",
       "      <td>90.889999</td>\n",
       "      <td>47.270000</td>\n",
       "      <td>64.709999</td>\n",
       "    </tr>\n",
       "    <tr>\n",
       "      <th>2021-11-03 00:00:00-04:00</th>\n",
       "      <td>84.190002</td>\n",
       "      <td>84.930000</td>\n",
       "      <td>25.299999</td>\n",
       "      <td>51.599998</td>\n",
       "      <td>NaN</td>\n",
       "      <td>60.150002</td>\n",
       "      <td>26.290001</td>\n",
       "      <td>75.480003</td>\n",
       "      <td>102.540001</td>\n",
       "      <td>76.980003</td>\n",
       "      <td>...</td>\n",
       "      <td>34.590000</td>\n",
       "      <td>63.369999</td>\n",
       "      <td>29.309999</td>\n",
       "      <td>58.310001</td>\n",
       "      <td>62.549999</td>\n",
       "      <td>44.520000</td>\n",
       "      <td>19.680000</td>\n",
       "      <td>89.870003</td>\n",
       "      <td>47.259998</td>\n",
       "      <td>63.500000</td>\n",
       "    </tr>\n",
       "  </tbody>\n",
       "</table>\n",
       "<p>5 rows × 28 columns</p>\n",
       "</div>"
      ],
      "text/plain": [
       "                                 AEE        AEP        AES        AGR  CEG  \\\n",
       "Date                                                                         \n",
       "2021-10-28 00:00:00-04:00        NaN        NaN        NaN        NaN  NaN   \n",
       "2021-10-29 00:00:00-04:00  84.290001  84.709999  25.129999  52.700001  NaN   \n",
       "2021-11-01 00:00:00-04:00  84.279999  85.129997  25.370001  52.580002  NaN   \n",
       "2021-11-02 00:00:00-04:00  84.330002  85.300003  25.370001  52.619999  NaN   \n",
       "2021-11-03 00:00:00-04:00  84.190002  84.930000  25.299999  51.599998  NaN   \n",
       "\n",
       "                                 CMS        CNP          D         DUK  \\\n",
       "Date                                                                     \n",
       "2021-10-28 00:00:00-04:00        NaN        NaN        NaN         NaN   \n",
       "2021-10-29 00:00:00-04:00  60.349998  26.040001  75.930000  102.010002   \n",
       "2021-11-01 00:00:00-04:00  60.290001  26.290001  75.410004  102.309998   \n",
       "2021-11-02 00:00:00-04:00  60.439999  26.190001  75.489998  102.449997   \n",
       "2021-11-03 00:00:00-04:00  60.150002  26.290001  75.480003  102.540001   \n",
       "\n",
       "                                  ED  ...        OGE        PEG        PPL  \\\n",
       "Date                                  ...                                    \n",
       "2021-10-28 00:00:00-04:00        NaN  ...        NaN        NaN        NaN   \n",
       "2021-10-29 00:00:00-04:00  75.400002  ...  34.070000  63.799999  28.799999   \n",
       "2021-11-01 00:00:00-04:00  76.110001  ...  34.669998  64.360001  29.299999   \n",
       "2021-11-02 00:00:00-04:00  76.440002  ...  34.480000  63.980000  29.240000   \n",
       "2021-11-03 00:00:00-04:00  76.980003  ...  34.590000  63.369999  29.309999   \n",
       "\n",
       "                                 RUN         SO        UGI        VST  \\\n",
       "Date                                                                    \n",
       "2021-10-28 00:00:00-04:00        NaN        NaN        NaN        NaN   \n",
       "2021-10-29 00:00:00-04:00  57.680000  62.320000  43.410000  19.590000   \n",
       "2021-11-01 00:00:00-04:00  58.189999  62.480000  44.389999  20.010000   \n",
       "2021-11-02 00:00:00-04:00  57.720001  62.490002  44.349998  19.870001   \n",
       "2021-11-03 00:00:00-04:00  58.310001  62.549999  44.520000  19.680000   \n",
       "\n",
       "                                 WEC       WTRG        XEL  \n",
       "Date                                                        \n",
       "2021-10-28 00:00:00-04:00        NaN        NaN        NaN  \n",
       "2021-10-29 00:00:00-04:00  90.059998  47.070000  64.589996  \n",
       "2021-11-01 00:00:00-04:00  90.339996  47.049999  64.500000  \n",
       "2021-11-02 00:00:00-04:00  90.889999  47.270000  64.709999  \n",
       "2021-11-03 00:00:00-04:00  89.870003  47.259998  63.500000  \n",
       "\n",
       "[5 rows x 28 columns]"
      ]
     },
     "execution_count": 454,
     "metadata": {},
     "output_type": "execute_result"
    }
   ],
   "source": [
    "df.head()"
   ]
  },
  {
   "cell_type": "code",
   "execution_count": 463,
   "id": "6b404832",
   "metadata": {
    "ExecuteTime": {
     "end_time": "2022-10-29T19:41:43.807579Z",
     "start_time": "2022-10-29T19:41:43.765532Z"
    }
   },
   "outputs": [
    {
     "name": "stdout",
     "output_type": "stream",
     "text": [
      "we have 27 tickers left\n",
      "<class 'pandas.core.frame.DataFrame'>\n",
      "DatetimeIndex: 252 entries, 2021-10-29 00:00:00-04:00 to 2022-10-28 00:00:00-04:00\n",
      "Data columns (total 27 columns):\n",
      " #   Column  Non-Null Count  Dtype  \n",
      "---  ------  --------------  -----  \n",
      " 0   AEE     252 non-null    float64\n",
      " 1   AEP     252 non-null    float64\n",
      " 2   AES     252 non-null    float64\n",
      " 3   AGR     252 non-null    float64\n",
      " 4   CMS     252 non-null    float64\n",
      " 5   CNP     252 non-null    float64\n",
      " 6   D       252 non-null    float64\n",
      " 7   DUK     252 non-null    float64\n",
      " 8   ED      252 non-null    float64\n",
      " 9   EIX     252 non-null    float64\n",
      " 10  ES      252 non-null    float64\n",
      " 11  EXC     252 non-null    float64\n",
      " 12  FE      252 non-null    float64\n",
      " 13  LNT     252 non-null    float64\n",
      " 14  NEE     252 non-null    float64\n",
      " 15  NI      252 non-null    float64\n",
      " 16  NRG     252 non-null    float64\n",
      " 17  OGE     252 non-null    float64\n",
      " 18  PEG     252 non-null    float64\n",
      " 19  PPL     252 non-null    float64\n",
      " 20  RUN     252 non-null    float64\n",
      " 21  SO      252 non-null    float64\n",
      " 22  UGI     252 non-null    float64\n",
      " 23  VST     252 non-null    float64\n",
      " 24  WEC     252 non-null    float64\n",
      " 25  WTRG    252 non-null    float64\n",
      " 26  XEL     252 non-null    float64\n",
      "dtypes: float64(27)\n",
      "memory usage: 55.1 KB\n"
     ]
    }
   ],
   "source": [
    "df = df.dropna(axis=0, how='all') # check if necessary\n",
    "df = df.dropna(axis=1) # check if necessary\n",
    "new_tickers = df.columns.tolist()\n",
    "print(f\"we have {len(new_tickers)} tickers left\")\n",
    "df.to_pickle(\"close_prices.pkl\")\n",
    "df.info()"
   ]
  },
  {
   "cell_type": "markdown",
   "id": "59fa8f68",
   "metadata": {},
   "source": [
    "### Find Cointegrated Pairs\n",
    "\n",
    "We will perfom cointegration tests for all of the pairs that we can produce from the available tickers. We still need to perform more detailed tests for stationarity in the following notebooks."
   ]
  },
  {
   "cell_type": "code",
   "execution_count": 464,
   "id": "28ee704f",
   "metadata": {
    "ExecuteTime": {
     "end_time": "2022-10-29T19:41:51.217095Z",
     "start_time": "2022-10-29T19:41:51.190095Z"
    }
   },
   "outputs": [],
   "source": [
    "# let's define a function to loop through the tickers and do a cointegration test for each combination\n",
    "def cointegration_test(data, p_value=0.05):\n",
    "    n = data.shape[1]\n",
    "    # create matrix to be filled later\n",
    "    stats = np.zeros((n, n))\n",
    "    pvalues = np.ones((n, n))\n",
    "    keys = data.keys() # get the info axis, returns columns if object is a dataframe\n",
    "    pairs = []\n",
    "    for i in range(n):\n",
    "        for j in range(i+1, n):\n",
    "            result = coint(data[keys[i]], data[keys[j]])\n",
    "            test_stat = result[0]\n",
    "            pvalue = result[1]\n",
    "            stats[i, j] = test_stat\n",
    "            pvalues[i, j] = pvalue\n",
    "            \n",
    "            if pvalue < p_value: # pick only statistically significant ones\n",
    "                pairs.append((keys[i], keys[j]))\n",
    "                \n",
    "    return stats, pvalues, pairs"
   ]
  },
  {
   "cell_type": "markdown",
   "id": "5d45ef0a",
   "metadata": {},
   "source": [
    "See the result on a heatmap"
   ]
  },
  {
   "cell_type": "code",
   "execution_count": 465,
   "id": "e47bbac1",
   "metadata": {
    "ExecuteTime": {
     "end_time": "2022-10-29T19:41:58.923725Z",
     "start_time": "2022-10-29T19:41:53.345012Z"
    }
   },
   "outputs": [
    {
     "name": "stdout",
     "output_type": "stream",
     "text": [
      "[('AEE', 'DUK'), ('AEP', 'CNP'), ('AEP', 'OGE'), ('AEP', 'VST'), ('CMS', 'DUK'), ('CNP', 'VST'), ('ED', 'VST'), ('OGE', 'XEL')]\n"
     ]
    },
    {
     "data": {
      "image/png": "[encoded data removed]",
      "text/plain": [
       "<Figure size 720x720 with 2 Axes>"
      ]
     },
     "metadata": {
      "needs_background": "light"
     },
     "output_type": "display_data"
    }
   ],
   "source": [
    "p_value = 0.05  # A p-value less than 0.05 is typically considered to be statistically significant\n",
    "\n",
    "scores, pvalues, pairs = cointegration_test(df,p_value)\n",
    "\n",
    "fig, ax = plt.subplots(figsize=(10, 10))\n",
    "seaborn.heatmap(\n",
    "    pvalues,\n",
    "    xticklabels=new_tickers,\n",
    "    yticklabels=new_tickers,\n",
    "    cmap=\"ocean\",\n",
    "    mask=(pvalues >= 0.05),\n",
    "    square=True\n",
    ")\n",
    "print(pairs)"
   ]
  },
  {
   "cell_type": "markdown",
   "id": "5b49bb66",
   "metadata": {},
   "source": [
    "### Filter For More Significant Pairs\n",
    "Filter more to get more significant pairs, and eliminate empty cells."
   ]
  },
  {
   "cell_type": "code",
   "execution_count": 466,
   "id": "5087abc9",
   "metadata": {
    "ExecuteTime": {
     "end_time": "2022-10-29T19:42:03.121214Z",
     "start_time": "2022-10-29T19:42:02.811984Z"
    }
   },
   "outputs": [
    {
     "data": {
      "text/html": [
       "<style type=\"text/css\">\n",
       "#T_1ad10_row0_col0, #T_1ad10_row0_col2, #T_1ad10_row0_col3, #T_1ad10_row0_col4, #T_1ad10_row1_col1, #T_1ad10_row1_col4, #T_1ad10_row2_col0, #T_1ad10_row2_col2, #T_1ad10_row2_col3, #T_1ad10_row2_col4, #T_1ad10_row3_col0, #T_1ad10_row3_col1, #T_1ad10_row3_col2, #T_1ad10_row3_col4, #T_1ad10_row4_col0, #T_1ad10_row4_col1, #T_1ad10_row4_col2, #T_1ad10_row4_col4, #T_1ad10_row5_col0, #T_1ad10_row5_col1, #T_1ad10_row5_col2, #T_1ad10_row5_col3 {\n",
       "  color: white;\n",
       "}\n",
       "#T_1ad10_row0_col1, #T_1ad10_row1_col0, #T_1ad10_row1_col2, #T_1ad10_row1_col3, #T_1ad10_row2_col1, #T_1ad10_row3_col3, #T_1ad10_row4_col3, #T_1ad10_row5_col4 {\n",
       "  background-color: #c78f2e;\n",
       "}\n",
       "</style>\n",
       "<table id=\"T_1ad10_\">\n",
       "  <thead>\n",
       "    <tr>\n",
       "      <th class=\"blank level0\" >&nbsp;</th>\n",
       "      <th class=\"col_heading level0 col0\" >CNP</th>\n",
       "      <th class=\"col_heading level0 col1\" >DUK</th>\n",
       "      <th class=\"col_heading level0 col2\" >OGE</th>\n",
       "      <th class=\"col_heading level0 col3\" >VST</th>\n",
       "      <th class=\"col_heading level0 col4\" >XEL</th>\n",
       "    </tr>\n",
       "  </thead>\n",
       "  <tbody>\n",
       "    <tr>\n",
       "      <th id=\"T_1ad10_level0_row0\" class=\"row_heading level0 row0\" >AEE</th>\n",
       "      <td id=\"T_1ad10_row0_col0\" class=\"data row0 col0\" >nan</td>\n",
       "      <td id=\"T_1ad10_row0_col1\" class=\"data row0 col1\" >0.042</td>\n",
       "      <td id=\"T_1ad10_row0_col2\" class=\"data row0 col2\" >nan</td>\n",
       "      <td id=\"T_1ad10_row0_col3\" class=\"data row0 col3\" >nan</td>\n",
       "      <td id=\"T_1ad10_row0_col4\" class=\"data row0 col4\" >nan</td>\n",
       "    </tr>\n",
       "    <tr>\n",
       "      <th id=\"T_1ad10_level0_row1\" class=\"row_heading level0 row1\" >AEP</th>\n",
       "      <td id=\"T_1ad10_row1_col0\" class=\"data row1 col0\" >0.045</td>\n",
       "      <td id=\"T_1ad10_row1_col1\" class=\"data row1 col1\" >nan</td>\n",
       "      <td id=\"T_1ad10_row1_col2\" class=\"data row1 col2\" >0.041</td>\n",
       "      <td id=\"T_1ad10_row1_col3\" class=\"data row1 col3\" >0.029</td>\n",
       "      <td id=\"T_1ad10_row1_col4\" class=\"data row1 col4\" >nan</td>\n",
       "    </tr>\n",
       "    <tr>\n",
       "      <th id=\"T_1ad10_level0_row2\" class=\"row_heading level0 row2\" >CMS</th>\n",
       "      <td id=\"T_1ad10_row2_col0\" class=\"data row2 col0\" >nan</td>\n",
       "      <td id=\"T_1ad10_row2_col1\" class=\"data row2 col1\" >0.001</td>\n",
       "      <td id=\"T_1ad10_row2_col2\" class=\"data row2 col2\" >nan</td>\n",
       "      <td id=\"T_1ad10_row2_col3\" class=\"data row2 col3\" >nan</td>\n",
       "      <td id=\"T_1ad10_row2_col4\" class=\"data row2 col4\" >nan</td>\n",
       "    </tr>\n",
       "    <tr>\n",
       "      <th id=\"T_1ad10_level0_row3\" class=\"row_heading level0 row3\" >CNP</th>\n",
       "      <td id=\"T_1ad10_row3_col0\" class=\"data row3 col0\" >nan</td>\n",
       "      <td id=\"T_1ad10_row3_col1\" class=\"data row3 col1\" >nan</td>\n",
       "      <td id=\"T_1ad10_row3_col2\" class=\"data row3 col2\" >nan</td>\n",
       "      <td id=\"T_1ad10_row3_col3\" class=\"data row3 col3\" >0.017</td>\n",
       "      <td id=\"T_1ad10_row3_col4\" class=\"data row3 col4\" >nan</td>\n",
       "    </tr>\n",
       "    <tr>\n",
       "      <th id=\"T_1ad10_level0_row4\" class=\"row_heading level0 row4\" >ED</th>\n",
       "      <td id=\"T_1ad10_row4_col0\" class=\"data row4 col0\" >nan</td>\n",
       "      <td id=\"T_1ad10_row4_col1\" class=\"data row4 col1\" >nan</td>\n",
       "      <td id=\"T_1ad10_row4_col2\" class=\"data row4 col2\" >nan</td>\n",
       "      <td id=\"T_1ad10_row4_col3\" class=\"data row4 col3\" >0.003</td>\n",
       "      <td id=\"T_1ad10_row4_col4\" class=\"data row4 col4\" >nan</td>\n",
       "    </tr>\n",
       "    <tr>\n",
       "      <th id=\"T_1ad10_level0_row5\" class=\"row_heading level0 row5\" >OGE</th>\n",
       "      <td id=\"T_1ad10_row5_col0\" class=\"data row5 col0\" >nan</td>\n",
       "      <td id=\"T_1ad10_row5_col1\" class=\"data row5 col1\" >nan</td>\n",
       "      <td id=\"T_1ad10_row5_col2\" class=\"data row5 col2\" >nan</td>\n",
       "      <td id=\"T_1ad10_row5_col3\" class=\"data row5 col3\" >nan</td>\n",
       "      <td id=\"T_1ad10_row5_col4\" class=\"data row5 col4\" >0.016</td>\n",
       "    </tr>\n",
       "  </tbody>\n",
       "</table>\n"
      ],
      "text/plain": [
       "<pandas.io.formats.style.Styler at 0x264643fbbe0>"
      ]
     },
     "execution_count": 466,
     "metadata": {},
     "output_type": "execute_result"
    },
    {
     "data": {
      "image/png": "[encoded data removed]",
      "text/plain": [
       "<Figure size 720x720 with 2 Axes>"
      ]
     },
     "metadata": {
      "needs_background": "light"
     },
     "output_type": "display_data"
    }
   ],
   "source": [
    "mask_matrix = (pvalues >= 0.05) # possible to increase the level of significance\n",
    "\n",
    "mask_df = pd.DataFrame(mask_matrix, index= new_tickers, columns = new_tickers)\n",
    "scores_df = pd.DataFrame(scores, index= new_tickers, columns = new_tickers)\n",
    "pvalues_df = pd.DataFrame(pvalues, index= new_tickers, columns = new_tickers)\n",
    "\n",
    "df_f = pvalues_df[~mask_df].dropna(how='all', axis=1)\n",
    "df_f = df_f.dropna(how='all')\n",
    "\n",
    "def gold_apply(x):\n",
    "    color = {True: \"background-color: #c78f2e\", False: \"color : white\"}\n",
    "    is_color = (x > 0).replace(color)\n",
    "    return is_color\n",
    "\n",
    "# Another way to format table is applymap\n",
    "# def color_map(x):\n",
    "#     return f\"color: {'red' if x > 0 else 'white'}\"\n",
    "\n",
    "# df_f.style.applymap(color_map)\n",
    "\n",
    "fig, ax = plt.subplots(figsize=(10, 10))\n",
    "seaborn.heatmap(\n",
    "    df_f,\n",
    "    xticklabels=df_f.columns,\n",
    "    yticklabels=df_f.index,\n",
    "    cmap=\"summer\",\n",
    "    square=True\n",
    ")\n",
    "df_f.style.format(precision=3)\\\n",
    ".apply(gold_apply)"
   ]
  },
  {
   "cell_type": "markdown",
   "id": "e911f7f9",
   "metadata": {},
   "source": [
    "### EXERCISE: Get List/Dic of Pairs"
   ]
  },
  {
   "cell_type": "code",
   "execution_count": 467,
   "id": "0500de2a",
   "metadata": {
    "ExecuteTime": {
     "end_time": "2022-10-29T19:42:07.502016Z",
     "start_time": "2022-10-29T19:42:07.472452Z"
    }
   },
   "outputs": [
    {
     "data": {
      "text/plain": [
       "[('AEE', 'DUK'),\n",
       " ('AEP', 'CNP'),\n",
       " ('AEP', 'OGE'),\n",
       " ('AEP', 'VST'),\n",
       " ('CMS', 'DUK'),\n",
       " ('CNP', 'VST'),\n",
       " ('ED', 'VST'),\n",
       " ('OGE', 'XEL')]"
      ]
     },
     "execution_count": 467,
     "metadata": {},
     "output_type": "execute_result"
    }
   ],
   "source": [
    "x_list = df_f.index.tolist()\n",
    "y_list = df_f.columns.tolist()\n",
    "\n",
    "new_pairs_list = [] # list of pairs as tuples (A,B)\n",
    "\n",
    "for i in range(len(x_list)):\n",
    "    for j in range(len(y_list)):\n",
    "        if df_f.iloc[i,j]>0:\n",
    "            new_pairs_list.append((x_list[i], y_list[j]))\n",
    "\n",
    "new_pairs_list"
   ]
  },
  {
   "cell_type": "code",
   "execution_count": 468,
   "id": "8c231e13",
   "metadata": {
    "ExecuteTime": {
     "end_time": "2022-10-29T19:42:08.986501Z",
     "start_time": "2022-10-29T19:42:08.962471Z"
    }
   },
   "outputs": [
    {
     "data": {
      "text/plain": [
       "[['CNP-AEP'],\n",
       " ['DUK-AEE', 'DUK-CMS'],\n",
       " ['OGE-AEP'],\n",
       " ['VST-AEP', 'VST-CNP', 'VST-ED'],\n",
       " ['XEL-OGE']]"
      ]
     },
     "execution_count": 468,
     "metadata": {},
     "output_type": "execute_result"
    }
   ],
   "source": [
    "new_pairs_str =[] # list of pairs as string A-B\n",
    "\n",
    "for column in df_f:\n",
    "    toprint = df_f.index[df_f[column]>0].tolist()\n",
    "    new_pairs_str.append([column + \"-\" + s for s in toprint])\n",
    "    \n",
    "new_pairs_str"
   ]
  },
  {
   "cell_type": "code",
   "execution_count": 469,
   "id": "e6658014",
   "metadata": {
    "ExecuteTime": {
     "end_time": "2022-10-29T19:42:11.134593Z",
     "start_time": "2022-10-29T19:42:11.109627Z"
    }
   },
   "outputs": [
    {
     "data": {
      "text/plain": [
       "{'CNP': ['AEP'],\n",
       " 'DUK': ['AEE', 'CMS'],\n",
       " 'OGE': ['AEP'],\n",
       " 'VST': ['AEP', 'CNP', 'ED'],\n",
       " 'XEL': ['OGE']}"
      ]
     },
     "execution_count": 469,
     "metadata": {},
     "output_type": "execute_result"
    }
   ],
   "source": [
    "new_pairs_dic= {} # list of pairs as dictionary {'A':['B','C']}\n",
    "\n",
    "for column in df_f:\n",
    "    new_pairs_dic[column] = df_f.index[df_f[column]>0].tolist()\n",
    "\n",
    "new_pairs_dic"
   ]
  },
  {
   "cell_type": "markdown",
   "id": "fb9477a3",
   "metadata": {},
   "source": [
    "### Save to file\n",
    "Save dataframa as pickle to use for the next steps"
   ]
  },
  {
   "cell_type": "code",
   "execution_count": 470,
   "id": "402ec1ea",
   "metadata": {
    "ExecuteTime": {
     "end_time": "2022-10-29T19:42:14.073854Z",
     "start_time": "2022-10-29T19:42:14.059841Z"
    }
   },
   "outputs": [],
   "source": [
    "df_f.to_pickle(\"pairs_to_download.pkl\")"
   ]
  }
 ],
 "metadata": {
  "kernelspec": {
   "display_name": "Python 3 (ipykernel)",
   "language": "python",
   "name": "python3"
  },
  "language_info": {
   "codemirror_mode": {
    "name": "ipython",
    "version": 3
   },
   "file_extension": ".py",
   "mimetype": "text/x-python",
   "name": "python",
   "nbconvert_exporter": "python",
   "pygments_lexer": "ipython3",
   "version": "3.9.7"
  }
 },
 "nbformat": 4,
 "nbformat_minor": 5
}
