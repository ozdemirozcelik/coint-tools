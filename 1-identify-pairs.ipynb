{
 "cells": [
  {
   "cell_type": "code",
   "execution_count": 57,
   "id": "e0d8dd16",
   "metadata": {
    "ExecuteTime": {
     "end_time": "2022-10-31T18:57:14.534964Z",
     "start_time": "2022-10-31T18:57:14.515979Z"
    }
   },
   "outputs": [],
   "source": [
    "import numpy as np\n",
    "import pandas as pd\n",
    "import pickle\n",
    "import yfinance as yf\n",
    "import matplotlib.pyplot as plt\n",
    "import seaborn\n",
    "from statsmodels.tsa.stattools import coint\n",
    "import datetime"
   ]
  },
  {
   "cell_type": "markdown",
   "id": "29c93d9b",
   "metadata": {},
   "source": [
    "### Find Tickers\n",
    "We would like to identify cointegrated pairs.\n",
    "One way to find them is to look into some specific sectors.\n",
    "For exp: 'utilities.csv' includes a list of active utilities."
   ]
  },
  {
   "cell_type": "code",
   "execution_count": 58,
   "id": "c8914871",
   "metadata": {
    "ExecuteTime": {
     "end_time": "2022-10-31T18:57:14.598962Z",
     "start_time": "2022-10-31T18:57:14.539972Z"
    }
   },
   "outputs": [
    {
     "data": {
      "text/html": [
       "<div>\n",
       "<style scoped>\n",
       "    .dataframe tbody tr th:only-of-type {\n",
       "        vertical-align: middle;\n",
       "    }\n",
       "\n",
       "    .dataframe tbody tr th {\n",
       "        vertical-align: top;\n",
       "    }\n",
       "\n",
       "    .dataframe thead th {\n",
       "        text-align: right;\n",
       "    }\n",
       "</style>\n",
       "<table border=\"1\" class=\"dataframe\">\n",
       "  <thead>\n",
       "    <tr style=\"text-align: right;\">\n",
       "      <th></th>\n",
       "      <th>Ticker</th>\n",
       "      <th>Description</th>\n",
       "      <th>Price</th>\n",
       "      <th>Change %</th>\n",
       "      <th>Change</th>\n",
       "      <th>Technical Rating</th>\n",
       "      <th>Volume</th>\n",
       "      <th>Volume*Price</th>\n",
       "      <th>Market Capitalization</th>\n",
       "      <th>Price to Earnings Ratio (TTM)</th>\n",
       "      <th>Basic EPS (TTM)</th>\n",
       "      <th>Number of Employees</th>\n",
       "      <th>Sector</th>\n",
       "    </tr>\n",
       "  </thead>\n",
       "  <tbody>\n",
       "    <tr>\n",
       "      <th>0</th>\n",
       "      <td>BAC</td>\n",
       "      <td>Bank of America Corporation</td>\n",
       "      <td>31.70</td>\n",
       "      <td>0.031556</td>\n",
       "      <td>0.01</td>\n",
       "      <td>Neutral</td>\n",
       "      <td>58171005</td>\n",
       "      <td>1.844021e+09</td>\n",
       "      <td>2.547171e+11</td>\n",
       "      <td>9.897867</td>\n",
       "      <td>3.2260</td>\n",
       "      <td>208000.0</td>\n",
       "      <td>Finance</td>\n",
       "    </tr>\n",
       "    <tr>\n",
       "      <th>1</th>\n",
       "      <td>WFC</td>\n",
       "      <td>Wells Fargo &amp; Company</td>\n",
       "      <td>43.17</td>\n",
       "      <td>1.864087</td>\n",
       "      <td>0.79</td>\n",
       "      <td>Buy</td>\n",
       "      <td>33977458</td>\n",
       "      <td>1.466807e+09</td>\n",
       "      <td>1.637459e+11</td>\n",
       "      <td>10.162582</td>\n",
       "      <td>4.2068</td>\n",
       "      <td>247848.0</td>\n",
       "      <td>Finance</td>\n",
       "    </tr>\n",
       "    <tr>\n",
       "      <th>2</th>\n",
       "      <td>JPM</td>\n",
       "      <td>JP Morgan Chase &amp; Co.</td>\n",
       "      <td>111.19</td>\n",
       "      <td>1.664076</td>\n",
       "      <td>1.82</td>\n",
       "      <td>Neutral</td>\n",
       "      <td>33420027</td>\n",
       "      <td>3.715973e+09</td>\n",
       "      <td>3.260727e+11</td>\n",
       "      <td>8.777548</td>\n",
       "      <td>12.4791</td>\n",
       "      <td>271025.0</td>\n",
       "      <td>Finance</td>\n",
       "    </tr>\n",
       "    <tr>\n",
       "      <th>3</th>\n",
       "      <td>C</td>\n",
       "      <td>Citigroup, Inc.</td>\n",
       "      <td>43.23</td>\n",
       "      <td>0.651921</td>\n",
       "      <td>0.28</td>\n",
       "      <td>Sell</td>\n",
       "      <td>28895317</td>\n",
       "      <td>1.249145e+09</td>\n",
       "      <td>8.394922e+10</td>\n",
       "      <td>5.490993</td>\n",
       "      <td>7.8706</td>\n",
       "      <td>223400.0</td>\n",
       "      <td>Finance</td>\n",
       "    </tr>\n",
       "    <tr>\n",
       "      <th>4</th>\n",
       "      <td>USB</td>\n",
       "      <td>U.S. Bancorp</td>\n",
       "      <td>42.76</td>\n",
       "      <td>3.359923</td>\n",
       "      <td>1.39</td>\n",
       "      <td>Buy</td>\n",
       "      <td>19272693</td>\n",
       "      <td>8.241004e+08</td>\n",
       "      <td>6.353212e+10</td>\n",
       "      <td>9.856806</td>\n",
       "      <td>4.2585</td>\n",
       "      <td>68796.0</td>\n",
       "      <td>Finance</td>\n",
       "    </tr>\n",
       "  </tbody>\n",
       "</table>\n",
       "</div>"
      ],
      "text/plain": [
       "  Ticker                  Description   Price  Change %  Change  \\\n",
       "0    BAC  Bank of America Corporation   31.70  0.031556    0.01   \n",
       "1    WFC        Wells Fargo & Company   43.17  1.864087    0.79   \n",
       "2    JPM        JP Morgan Chase & Co.  111.19  1.664076    1.82   \n",
       "3      C              Citigroup, Inc.   43.23  0.651921    0.28   \n",
       "4    USB                 U.S. Bancorp   42.76  3.359923    1.39   \n",
       "\n",
       "  Technical Rating    Volume  Volume*Price  Market Capitalization  \\\n",
       "0          Neutral  58171005  1.844021e+09           2.547171e+11   \n",
       "1              Buy  33977458  1.466807e+09           1.637459e+11   \n",
       "2          Neutral  33420027  3.715973e+09           3.260727e+11   \n",
       "3             Sell  28895317  1.249145e+09           8.394922e+10   \n",
       "4              Buy  19272693  8.241004e+08           6.353212e+10   \n",
       "\n",
       "   Price to Earnings Ratio (TTM)  Basic EPS (TTM)  Number of Employees  \\\n",
       "0                       9.897867           3.2260             208000.0   \n",
       "1                      10.162582           4.2068             247848.0   \n",
       "2                       8.777548          12.4791             271025.0   \n",
       "3                       5.490993           7.8706             223400.0   \n",
       "4                       9.856806           4.2585              68796.0   \n",
       "\n",
       "    Sector  \n",
       "0  Finance  \n",
       "1  Finance  \n",
       "2  Finance  \n",
       "3  Finance  \n",
       "4  Finance  "
      ]
     },
     "execution_count": 58,
     "metadata": {},
     "output_type": "execute_result"
    }
   ],
   "source": [
    "# filename='utilities.csv'\n",
    "# filename='minerals.csv'\n",
    "# filename='reit.csv'\n",
    "# filename='etf.csv'\n",
    "filename='banks.csv'\n",
    "df = pd.read_csv(filename)\n",
    "df.head()"
   ]
  },
  {
   "cell_type": "markdown",
   "id": "37c46bdb",
   "metadata": {},
   "source": [
    "We want to trade with stocks with adequate demand from buyers and sellers, we can eliminate others by defining a cap for the trade volume."
   ]
  },
  {
   "cell_type": "code",
   "execution_count": 59,
   "id": "050ed489",
   "metadata": {
    "ExecuteTime": {
     "end_time": "2022-10-31T18:57:14.662963Z",
     "start_time": "2022-10-31T18:57:14.601965Z"
    }
   },
   "outputs": [
    {
     "data": {
      "text/plain": [
       "['BAC',\n",
       " 'WFC',\n",
       " 'JPM',\n",
       " 'C',\n",
       " 'USB',\n",
       " 'KEY',\n",
       " 'MS',\n",
       " 'SCHW',\n",
       " 'TOP',\n",
       " 'RF',\n",
       " 'OWL',\n",
       " 'BK',\n",
       " 'PNC',\n",
       " 'IVZ',\n",
       " 'NDAQ',\n",
       " 'BAM',\n",
       " 'ICE',\n",
       " 'BX',\n",
       " 'COF',\n",
       " 'BEN',\n",
       " 'KKR',\n",
       " 'STT',\n",
       " 'GS',\n",
       " 'APO',\n",
       " 'MEGL',\n",
       " 'CG',\n",
       " 'TROW',\n",
       " 'CMA',\n",
       " 'PFG',\n",
       " 'JEF',\n",
       " 'JHG',\n",
       " 'CRBG',\n",
       " 'IBKR',\n",
       " 'RJF',\n",
       " 'CME',\n",
       " 'BLK',\n",
       " 'CADE',\n",
       " 'BGCP',\n",
       " 'ATCO',\n",
       " 'TW',\n",
       " 'FSK',\n",
       " 'LPLA']"
      ]
     },
     "execution_count": 59,
     "metadata": {},
     "output_type": "execute_result"
    }
   ],
   "source": [
    " # Define a volume cap\n",
    "volume_cap = 1000000\n",
    "\n",
    "df = df[['Ticker','Description','Volume','Price']].sort_values(by='Volume', ascending=False)\n",
    "high_volume = df.Volume>volume_cap\n",
    "df_h = df[high_volume]\n",
    "tickers = df_h.Ticker.tolist()\n",
    "tickers"
   ]
  },
  {
   "cell_type": "code",
   "execution_count": 60,
   "id": "66b7e3c5",
   "metadata": {
    "ExecuteTime": {
     "end_time": "2022-10-31T18:57:14.694963Z",
     "start_time": "2022-10-31T18:57:14.666965Z"
    }
   },
   "outputs": [
    {
     "data": {
      "text/plain": [
       "['BAC',\n",
       " 'WFC',\n",
       " 'C',\n",
       " 'USB',\n",
       " 'MS',\n",
       " 'SCHW',\n",
       " 'RF',\n",
       " 'BK',\n",
       " 'NDAQ',\n",
       " 'BAM',\n",
       " 'ICE',\n",
       " 'BX',\n",
       " 'COF',\n",
       " 'BEN',\n",
       " 'KKR',\n",
       " 'STT',\n",
       " 'APO',\n",
       " 'CG',\n",
       " 'TROW',\n",
       " 'CMA',\n",
       " 'PFG',\n",
       " 'JEF',\n",
       " 'JHG',\n",
       " 'CRBG',\n",
       " 'IBKR',\n",
       " 'CADE',\n",
       " 'TW']"
      ]
     },
     "execution_count": 60,
     "metadata": {},
     "output_type": "execute_result"
    }
   ],
   "source": [
    " # Define a price interval if needed\n",
    "price_low = 20 \n",
    "price_high = 100\n",
    "\n",
    "query=\"Price>\"+str(price_low)+\" & Price<\"+str(price_high)\n",
    "df_h_p = df_h.query(query)\n",
    "tickers = df_h_p.Ticker.tolist()\n",
    "tickers"
   ]
  },
  {
   "cell_type": "markdown",
   "id": "58c7087d",
   "metadata": {
    "ExecuteTime": {
     "end_time": "2022-10-17T20:23:09.658974Z",
     "start_time": "2022-10-17T20:23:09.641937Z"
    }
   },
   "source": [
    "### Download Price Data\n",
    "We will use yfinance (https://pypi.org/project/yfinance/) to downloed the closing prices of stocks.\n",
    "More information is available on the next notebook which we will download and save a more detailed stock data."
   ]
  },
  {
   "cell_type": "code",
   "execution_count": 61,
   "id": "dc2f71c8",
   "metadata": {
    "ExecuteTime": {
     "end_time": "2022-10-31T18:57:16.733539Z",
     "start_time": "2022-10-31T18:57:14.700970Z"
    }
   },
   "outputs": [
    {
     "name": "stdout",
     "output_type": "stream",
     "text": [
      "[*********************100%***********************]  27 of 27 completed\n",
      "<class 'pandas.core.frame.DataFrame'>\n",
      "DatetimeIndex: 252 entries, 2021-11-01 00:00:00-04:00 to 2022-10-31 00:00:00-04:00\n",
      "Data columns (total 27 columns):\n",
      " #   Column  Non-Null Count  Dtype  \n",
      "---  ------  --------------  -----  \n",
      " 0   APO     252 non-null    float64\n",
      " 1   BAC     252 non-null    float64\n",
      " 2   BAM     252 non-null    float64\n",
      " 3   BEN     252 non-null    float64\n",
      " 4   BK      252 non-null    float64\n",
      " 5   BX      252 non-null    float64\n",
      " 6   C       252 non-null    float64\n",
      " 7   CADE    252 non-null    float64\n",
      " 8   CG      252 non-null    float64\n",
      " 9   CMA     252 non-null    float64\n",
      " 10  COF     252 non-null    float64\n",
      " 11  CRBG    32 non-null     float64\n",
      " 12  IBKR    252 non-null    float64\n",
      " 13  ICE     252 non-null    float64\n",
      " 14  JEF     252 non-null    float64\n",
      " 15  JHG     252 non-null    float64\n",
      " 16  KKR     252 non-null    float64\n",
      " 17  MS      252 non-null    float64\n",
      " 18  NDAQ    252 non-null    float64\n",
      " 19  PFG     252 non-null    float64\n",
      " 20  RF      252 non-null    float64\n",
      " 21  SCHW    252 non-null    float64\n",
      " 22  STT     252 non-null    float64\n",
      " 23  TROW    252 non-null    float64\n",
      " 24  TW      252 non-null    float64\n",
      " 25  USB     252 non-null    float64\n",
      " 26  WFC     252 non-null    float64\n",
      "dtypes: float64(27)\n",
      "memory usage: 55.1 KB\n"
     ]
    }
   ],
   "source": [
    "period = '1y' #valid periods: 1d,5d,1mo,3mo,6mo,1y,2y,5y,10y,ytd,max\n",
    "interval = '1d' #valid intervals: 1m,2m,5m,15m,30m,60m,90m,1h,1d,5d,1wk,1mo,3mo\n",
    "df = yf.download(tickers, period=period, interval=interval)[\"Close\"]\n",
    "\n",
    "# Enable to use start & end dates:\n",
    "# start = datetime.datetime(2018, 1, 1)\n",
    "# end = datetime.datetime(2022, 1, 1)\n",
    "#df = yf.download(tickers, start, end)[\"Close\"]\n",
    "\n",
    "df.info()"
   ]
  },
  {
   "cell_type": "markdown",
   "id": "bfacef73",
   "metadata": {},
   "source": [
    "Check for null values and eliminate them:"
   ]
  },
  {
   "cell_type": "markdown",
   "id": "03fae61d",
   "metadata": {},
   "source": [
    "It is important to check the dataframe for Na rows & columns before moving forward. Downloaded data may not be consistent all the time, so better doing it manually before proceeding:"
   ]
  },
  {
   "cell_type": "code",
   "execution_count": 62,
   "id": "830633e6",
   "metadata": {
    "ExecuteTime": {
     "end_time": "2022-10-31T18:57:16.829018Z",
     "start_time": "2022-10-31T18:57:16.737500Z"
    }
   },
   "outputs": [
    {
     "data": {
      "text/html": [
       "<div>\n",
       "<style scoped>\n",
       "    .dataframe tbody tr th:only-of-type {\n",
       "        vertical-align: middle;\n",
       "    }\n",
       "\n",
       "    .dataframe tbody tr th {\n",
       "        vertical-align: top;\n",
       "    }\n",
       "\n",
       "    .dataframe thead th {\n",
       "        text-align: right;\n",
       "    }\n",
       "</style>\n",
       "<table border=\"1\" class=\"dataframe\">\n",
       "  <thead>\n",
       "    <tr style=\"text-align: right;\">\n",
       "      <th></th>\n",
       "      <th>APO</th>\n",
       "      <th>BAC</th>\n",
       "      <th>BAM</th>\n",
       "      <th>BEN</th>\n",
       "      <th>BK</th>\n",
       "      <th>BX</th>\n",
       "      <th>C</th>\n",
       "      <th>CADE</th>\n",
       "      <th>CG</th>\n",
       "      <th>CMA</th>\n",
       "      <th>...</th>\n",
       "      <th>MS</th>\n",
       "      <th>NDAQ</th>\n",
       "      <th>PFG</th>\n",
       "      <th>RF</th>\n",
       "      <th>SCHW</th>\n",
       "      <th>STT</th>\n",
       "      <th>TROW</th>\n",
       "      <th>TW</th>\n",
       "      <th>USB</th>\n",
       "      <th>WFC</th>\n",
       "    </tr>\n",
       "    <tr>\n",
       "      <th>Date</th>\n",
       "      <th></th>\n",
       "      <th></th>\n",
       "      <th></th>\n",
       "      <th></th>\n",
       "      <th></th>\n",
       "      <th></th>\n",
       "      <th></th>\n",
       "      <th></th>\n",
       "      <th></th>\n",
       "      <th></th>\n",
       "      <th></th>\n",
       "      <th></th>\n",
       "      <th></th>\n",
       "      <th></th>\n",
       "      <th></th>\n",
       "      <th></th>\n",
       "      <th></th>\n",
       "      <th></th>\n",
       "      <th></th>\n",
       "      <th></th>\n",
       "      <th></th>\n",
       "    </tr>\n",
       "  </thead>\n",
       "  <tbody>\n",
       "    <tr>\n",
       "      <th>2021-11-01 00:00:00-04:00</th>\n",
       "      <td>76.330002</td>\n",
       "      <td>47.849998</td>\n",
       "      <td>60.290001</td>\n",
       "      <td>35.150002</td>\n",
       "      <td>60.020000</td>\n",
       "      <td>137.570007</td>\n",
       "      <td>69.610001</td>\n",
       "      <td>29.559999</td>\n",
       "      <td>55.430000</td>\n",
       "      <td>87.269997</td>\n",
       "      <td>...</td>\n",
       "      <td>104.000000</td>\n",
       "      <td>69.966667</td>\n",
       "      <td>67.839996</td>\n",
       "      <td>24.150000</td>\n",
       "      <td>81.870003</td>\n",
       "      <td>99.330002</td>\n",
       "      <td>215.860001</td>\n",
       "      <td>89.660004</td>\n",
       "      <td>60.779999</td>\n",
       "      <td>51.709999</td>\n",
       "    </tr>\n",
       "    <tr>\n",
       "      <th>2021-11-02 00:00:00-04:00</th>\n",
       "      <td>76.419998</td>\n",
       "      <td>47.880001</td>\n",
       "      <td>60.389999</td>\n",
       "      <td>37.680000</td>\n",
       "      <td>59.930000</td>\n",
       "      <td>143.929993</td>\n",
       "      <td>68.599998</td>\n",
       "      <td>28.879999</td>\n",
       "      <td>55.320000</td>\n",
       "      <td>87.209999</td>\n",
       "      <td>...</td>\n",
       "      <td>104.660004</td>\n",
       "      <td>70.406670</td>\n",
       "      <td>68.279999</td>\n",
       "      <td>23.959999</td>\n",
       "      <td>81.769997</td>\n",
       "      <td>99.440002</td>\n",
       "      <td>216.830002</td>\n",
       "      <td>91.449997</td>\n",
       "      <td>60.860001</td>\n",
       "      <td>51.299999</td>\n",
       "    </tr>\n",
       "    <tr>\n",
       "      <th>2021-11-03 00:00:00-04:00</th>\n",
       "      <td>77.970001</td>\n",
       "      <td>48.369999</td>\n",
       "      <td>60.700001</td>\n",
       "      <td>37.250000</td>\n",
       "      <td>60.090000</td>\n",
       "      <td>144.500000</td>\n",
       "      <td>69.000000</td>\n",
       "      <td>30.330000</td>\n",
       "      <td>57.639999</td>\n",
       "      <td>89.699997</td>\n",
       "      <td>...</td>\n",
       "      <td>102.610001</td>\n",
       "      <td>69.826668</td>\n",
       "      <td>69.160004</td>\n",
       "      <td>24.709999</td>\n",
       "      <td>83.330002</td>\n",
       "      <td>99.599998</td>\n",
       "      <td>219.470001</td>\n",
       "      <td>92.800003</td>\n",
       "      <td>61.830002</td>\n",
       "      <td>52.000000</td>\n",
       "    </tr>\n",
       "    <tr>\n",
       "      <th>2021-11-04 00:00:00-04:00</th>\n",
       "      <td>77.290001</td>\n",
       "      <td>47.330002</td>\n",
       "      <td>60.560001</td>\n",
       "      <td>36.270000</td>\n",
       "      <td>59.060001</td>\n",
       "      <td>144.529999</td>\n",
       "      <td>67.000000</td>\n",
       "      <td>31.190001</td>\n",
       "      <td>58.950001</td>\n",
       "      <td>87.660004</td>\n",
       "      <td>...</td>\n",
       "      <td>99.790001</td>\n",
       "      <td>70.756668</td>\n",
       "      <td>68.459999</td>\n",
       "      <td>24.270000</td>\n",
       "      <td>81.449997</td>\n",
       "      <td>96.529999</td>\n",
       "      <td>219.630005</td>\n",
       "      <td>93.400002</td>\n",
       "      <td>60.279999</td>\n",
       "      <td>50.619999</td>\n",
       "    </tr>\n",
       "    <tr>\n",
       "      <th>2021-11-05 00:00:00-04:00</th>\n",
       "      <td>76.940002</td>\n",
       "      <td>46.970001</td>\n",
       "      <td>61.580002</td>\n",
       "      <td>35.880001</td>\n",
       "      <td>58.820000</td>\n",
       "      <td>142.550003</td>\n",
       "      <td>66.989998</td>\n",
       "      <td>31.760000</td>\n",
       "      <td>59.830002</td>\n",
       "      <td>87.550003</td>\n",
       "      <td>...</td>\n",
       "      <td>99.870003</td>\n",
       "      <td>70.943336</td>\n",
       "      <td>68.949997</td>\n",
       "      <td>24.309999</td>\n",
       "      <td>81.150002</td>\n",
       "      <td>95.669998</td>\n",
       "      <td>221.070007</td>\n",
       "      <td>94.500000</td>\n",
       "      <td>60.689999</td>\n",
       "      <td>50.439999</td>\n",
       "    </tr>\n",
       "  </tbody>\n",
       "</table>\n",
       "<p>5 rows × 27 columns</p>\n",
       "</div>"
      ],
      "text/plain": [
       "                                 APO        BAC        BAM        BEN  \\\n",
       "Date                                                                    \n",
       "2021-11-01 00:00:00-04:00  76.330002  47.849998  60.290001  35.150002   \n",
       "2021-11-02 00:00:00-04:00  76.419998  47.880001  60.389999  37.680000   \n",
       "2021-11-03 00:00:00-04:00  77.970001  48.369999  60.700001  37.250000   \n",
       "2021-11-04 00:00:00-04:00  77.290001  47.330002  60.560001  36.270000   \n",
       "2021-11-05 00:00:00-04:00  76.940002  46.970001  61.580002  35.880001   \n",
       "\n",
       "                                  BK          BX          C       CADE  \\\n",
       "Date                                                                     \n",
       "2021-11-01 00:00:00-04:00  60.020000  137.570007  69.610001  29.559999   \n",
       "2021-11-02 00:00:00-04:00  59.930000  143.929993  68.599998  28.879999   \n",
       "2021-11-03 00:00:00-04:00  60.090000  144.500000  69.000000  30.330000   \n",
       "2021-11-04 00:00:00-04:00  59.060001  144.529999  67.000000  31.190001   \n",
       "2021-11-05 00:00:00-04:00  58.820000  142.550003  66.989998  31.760000   \n",
       "\n",
       "                                  CG        CMA  ...          MS       NDAQ  \\\n",
       "Date                                             ...                          \n",
       "2021-11-01 00:00:00-04:00  55.430000  87.269997  ...  104.000000  69.966667   \n",
       "2021-11-02 00:00:00-04:00  55.320000  87.209999  ...  104.660004  70.406670   \n",
       "2021-11-03 00:00:00-04:00  57.639999  89.699997  ...  102.610001  69.826668   \n",
       "2021-11-04 00:00:00-04:00  58.950001  87.660004  ...   99.790001  70.756668   \n",
       "2021-11-05 00:00:00-04:00  59.830002  87.550003  ...   99.870003  70.943336   \n",
       "\n",
       "                                 PFG         RF       SCHW        STT  \\\n",
       "Date                                                                    \n",
       "2021-11-01 00:00:00-04:00  67.839996  24.150000  81.870003  99.330002   \n",
       "2021-11-02 00:00:00-04:00  68.279999  23.959999  81.769997  99.440002   \n",
       "2021-11-03 00:00:00-04:00  69.160004  24.709999  83.330002  99.599998   \n",
       "2021-11-04 00:00:00-04:00  68.459999  24.270000  81.449997  96.529999   \n",
       "2021-11-05 00:00:00-04:00  68.949997  24.309999  81.150002  95.669998   \n",
       "\n",
       "                                 TROW         TW        USB        WFC  \n",
       "Date                                                                    \n",
       "2021-11-01 00:00:00-04:00  215.860001  89.660004  60.779999  51.709999  \n",
       "2021-11-02 00:00:00-04:00  216.830002  91.449997  60.860001  51.299999  \n",
       "2021-11-03 00:00:00-04:00  219.470001  92.800003  61.830002  52.000000  \n",
       "2021-11-04 00:00:00-04:00  219.630005  93.400002  60.279999  50.619999  \n",
       "2021-11-05 00:00:00-04:00  221.070007  94.500000  60.689999  50.439999  \n",
       "\n",
       "[5 rows x 27 columns]"
      ]
     },
     "execution_count": 62,
     "metadata": {},
     "output_type": "execute_result"
    }
   ],
   "source": [
    "df.head()"
   ]
  },
  {
   "cell_type": "code",
   "execution_count": 63,
   "id": "872d77e1",
   "metadata": {
    "ExecuteTime": {
     "end_time": "2022-10-31T18:57:16.948040Z",
     "start_time": "2022-10-31T18:57:16.834024Z"
    }
   },
   "outputs": [
    {
     "name": "stdout",
     "output_type": "stream",
     "text": [
      "we have 26 tickers left\n",
      "<class 'pandas.core.frame.DataFrame'>\n",
      "DatetimeIndex: 252 entries, 2021-11-01 00:00:00-04:00 to 2022-10-31 00:00:00-04:00\n",
      "Data columns (total 26 columns):\n",
      " #   Column  Non-Null Count  Dtype  \n",
      "---  ------  --------------  -----  \n",
      " 0   APO     252 non-null    float64\n",
      " 1   BAC     252 non-null    float64\n",
      " 2   BAM     252 non-null    float64\n",
      " 3   BEN     252 non-null    float64\n",
      " 4   BK      252 non-null    float64\n",
      " 5   BX      252 non-null    float64\n",
      " 6   C       252 non-null    float64\n",
      " 7   CADE    252 non-null    float64\n",
      " 8   CG      252 non-null    float64\n",
      " 9   CMA     252 non-null    float64\n",
      " 10  COF     252 non-null    float64\n",
      " 11  IBKR    252 non-null    float64\n",
      " 12  ICE     252 non-null    float64\n",
      " 13  JEF     252 non-null    float64\n",
      " 14  JHG     252 non-null    float64\n",
      " 15  KKR     252 non-null    float64\n",
      " 16  MS      252 non-null    float64\n",
      " 17  NDAQ    252 non-null    float64\n",
      " 18  PFG     252 non-null    float64\n",
      " 19  RF      252 non-null    float64\n",
      " 20  SCHW    252 non-null    float64\n",
      " 21  STT     252 non-null    float64\n",
      " 22  TROW    252 non-null    float64\n",
      " 23  TW      252 non-null    float64\n",
      " 24  USB     252 non-null    float64\n",
      " 25  WFC     252 non-null    float64\n",
      "dtypes: float64(26)\n",
      "memory usage: 53.2 KB\n"
     ]
    }
   ],
   "source": [
    "df = df.dropna(axis=0, how='all') # check if necessary\n",
    "df = df.dropna(axis=1) # check if necessary\n",
    "new_tickers = df.columns.tolist()\n",
    "print(f\"we have {len(new_tickers)} tickers left\")\n",
    "df.to_pickle(\"close_prices.pkl\")\n",
    "df.info()"
   ]
  },
  {
   "cell_type": "markdown",
   "id": "83c3bea8",
   "metadata": {},
   "source": [
    "### Find Cointegrated Pairs\n",
    "\n",
    "We will perfom cointegration tests for all of the pairs that we can produce from the available tickers. We still need to perform more detailed tests for stationarity in the following notebooks."
   ]
  },
  {
   "cell_type": "code",
   "execution_count": 64,
   "id": "29213b5f",
   "metadata": {
    "ExecuteTime": {
     "end_time": "2022-10-31T18:57:17.025716Z",
     "start_time": "2022-10-31T18:57:16.954020Z"
    }
   },
   "outputs": [],
   "source": [
    "# let's define a function to loop through the tickers and do a cointegration test for each combination\n",
    "def cointegration_test(data, p_value=0.05):\n",
    "    n = data.shape[1]\n",
    "    # create matrix to be filled later\n",
    "    stats = np.zeros((n, n))\n",
    "    pvalues = np.ones((n, n))\n",
    "    keys = data.keys() # get the info axis, returns columns if object is a dataframe\n",
    "    pairs = []\n",
    "    for i in range(n):\n",
    "        for j in range(i+1, n):\n",
    "            result = coint(data[keys[i]], data[keys[j]])\n",
    "            test_stat = result[0]\n",
    "            pvalue = result[1]\n",
    "            stats[i, j] = test_stat\n",
    "            pvalues[i, j] = pvalue\n",
    "            \n",
    "            if pvalue < p_value: # pick only statistically significant ones\n",
    "                pairs.append((keys[i], keys[j]))\n",
    "                \n",
    "    return stats, pvalues, pairs"
   ]
  },
  {
   "cell_type": "markdown",
   "id": "0aad911b",
   "metadata": {},
   "source": [
    "See the result on a heatmap"
   ]
  },
  {
   "cell_type": "code",
   "execution_count": 65,
   "id": "4dc9df43",
   "metadata": {
    "ExecuteTime": {
     "end_time": "2022-10-31T18:57:22.904936Z",
     "start_time": "2022-10-31T18:57:17.032267Z"
    }
   },
   "outputs": [
    {
     "name": "stdout",
     "output_type": "stream",
     "text": [
      "[('APO', 'BEN'), ('APO', 'C'), ('APO', 'STT'), ('BAC', 'STT'), ('BAM', 'TW'), ('BEN', 'KKR'), ('BX', 'CG'), ('BX', 'COF'), ('BX', 'JHG'), ('BX', 'TW'), ('BX', 'USB'), ('CADE', 'MS'), ('CADE', 'SCHW'), ('CADE', 'STT'), ('CG', 'JHG'), ('CG', 'USB'), ('COF', 'USB'), ('KKR', 'TROW'), ('MS', 'STT'), ('RF', 'SCHW'), ('RF', 'STT')]\n"
     ]
    },
    {
     "data": {
      "image/png": "[encoded data removed]",
      "text/plain": [
       "<Figure size 720x720 with 2 Axes>"
      ]
     },
     "metadata": {
      "needs_background": "light"
     },
     "output_type": "display_data"
    }
   ],
   "source": [
    "p_value = 0.05  # A p-value less than 0.05 is typically considered to be statistically significant\n",
    "\n",
    "scores, pvalues, pairs = cointegration_test(df,p_value)\n",
    "\n",
    "fig, ax = plt.subplots(figsize=(10, 10))\n",
    "seaborn.heatmap(\n",
    "    pvalues,\n",
    "    xticklabels=new_tickers,\n",
    "    yticklabels=new_tickers,\n",
    "    cmap=\"ocean\",\n",
    "    mask=(pvalues >= 0.05),\n",
    "    square=True\n",
    ")\n",
    "print(pairs)"
   ]
  },
  {
   "cell_type": "markdown",
   "id": "aa61da6c",
   "metadata": {},
   "source": [
    "### Filter For More Significant Pairs\n",
    "Filter more to get more significant pairs, and eliminate empty cells."
   ]
  },
  {
   "cell_type": "code",
   "execution_count": 66,
   "id": "225dd586",
   "metadata": {
    "ExecuteTime": {
     "end_time": "2022-10-31T18:57:23.539668Z",
     "start_time": "2022-10-31T18:57:22.915966Z"
    }
   },
   "outputs": [
    {
     "data": {
      "text/html": [
       "<style type=\"text/css\">\n",
       "#T_5bad4_row0_col0, #T_5bad4_row0_col1, #T_5bad4_row0_col8, #T_5bad4_row1_col8, #T_5bad4_row2_col10, #T_5bad4_row3_col5, #T_5bad4_row4_col2, #T_5bad4_row4_col3, #T_5bad4_row4_col4, #T_5bad4_row4_col10, #T_5bad4_row4_col11, #T_5bad4_row5_col6, #T_5bad4_row5_col7, #T_5bad4_row5_col8, #T_5bad4_row6_col4, #T_5bad4_row6_col11, #T_5bad4_row7_col11, #T_5bad4_row8_col9, #T_5bad4_row9_col8, #T_5bad4_row10_col7, #T_5bad4_row10_col8 {\n",
       "  background-color: #c78f2e;\n",
       "}\n",
       "#T_5bad4_row0_col2, #T_5bad4_row0_col3, #T_5bad4_row0_col4, #T_5bad4_row0_col5, #T_5bad4_row0_col6, #T_5bad4_row0_col7, #T_5bad4_row0_col9, #T_5bad4_row0_col10, #T_5bad4_row0_col11, #T_5bad4_row1_col0, #T_5bad4_row1_col1, #T_5bad4_row1_col2, #T_5bad4_row1_col3, #T_5bad4_row1_col4, #T_5bad4_row1_col5, #T_5bad4_row1_col6, #T_5bad4_row1_col7, #T_5bad4_row1_col9, #T_5bad4_row1_col10, #T_5bad4_row1_col11, #T_5bad4_row2_col0, #T_5bad4_row2_col1, #T_5bad4_row2_col2, #T_5bad4_row2_col3, #T_5bad4_row2_col4, #T_5bad4_row2_col5, #T_5bad4_row2_col6, #T_5bad4_row2_col7, #T_5bad4_row2_col8, #T_5bad4_row2_col9, #T_5bad4_row2_col11, #T_5bad4_row3_col0, #T_5bad4_row3_col1, #T_5bad4_row3_col2, #T_5bad4_row3_col3, #T_5bad4_row3_col4, #T_5bad4_row3_col6, #T_5bad4_row3_col7, #T_5bad4_row3_col8, #T_5bad4_row3_col9, #T_5bad4_row3_col10, #T_5bad4_row3_col11, #T_5bad4_row4_col0, #T_5bad4_row4_col1, #T_5bad4_row4_col5, #T_5bad4_row4_col6, #T_5bad4_row4_col7, #T_5bad4_row4_col8, #T_5bad4_row4_col9, #T_5bad4_row5_col0, #T_5bad4_row5_col1, #T_5bad4_row5_col2, #T_5bad4_row5_col3, #T_5bad4_row5_col4, #T_5bad4_row5_col5, #T_5bad4_row5_col9, #T_5bad4_row5_col10, #T_5bad4_row5_col11, #T_5bad4_row6_col0, #T_5bad4_row6_col1, #T_5bad4_row6_col2, #T_5bad4_row6_col3, #T_5bad4_row6_col5, #T_5bad4_row6_col6, #T_5bad4_row6_col7, #T_5bad4_row6_col8, #T_5bad4_row6_col9, #T_5bad4_row6_col10, #T_5bad4_row7_col0, #T_5bad4_row7_col1, #T_5bad4_row7_col2, #T_5bad4_row7_col3, #T_5bad4_row7_col4, #T_5bad4_row7_col5, #T_5bad4_row7_col6, #T_5bad4_row7_col7, #T_5bad4_row7_col8, #T_5bad4_row7_col9, #T_5bad4_row7_col10, #T_5bad4_row8_col0, #T_5bad4_row8_col1, #T_5bad4_row8_col2, #T_5bad4_row8_col3, #T_5bad4_row8_col4, #T_5bad4_row8_col5, #T_5bad4_row8_col6, #T_5bad4_row8_col7, #T_5bad4_row8_col8, #T_5bad4_row8_col10, #T_5bad4_row8_col11, #T_5bad4_row9_col0, #T_5bad4_row9_col1, #T_5bad4_row9_col2, #T_5bad4_row9_col3, #T_5bad4_row9_col4, #T_5bad4_row9_col5, #T_5bad4_row9_col6, #T_5bad4_row9_col7, #T_5bad4_row9_col9, #T_5bad4_row9_col10, #T_5bad4_row9_col11, #T_5bad4_row10_col0, #T_5bad4_row10_col1, #T_5bad4_row10_col2, #T_5bad4_row10_col3, #T_5bad4_row10_col4, #T_5bad4_row10_col5, #T_5bad4_row10_col6, #T_5bad4_row10_col9, #T_5bad4_row10_col10, #T_5bad4_row10_col11 {\n",
       "  color: white;\n",
       "}\n",
       "</style>\n",
       "<table id=\"T_5bad4_\">\n",
       "  <thead>\n",
       "    <tr>\n",
       "      <th class=\"blank level0\" >&nbsp;</th>\n",
       "      <th class=\"col_heading level0 col0\" >BEN</th>\n",
       "      <th class=\"col_heading level0 col1\" >C</th>\n",
       "      <th class=\"col_heading level0 col2\" >CG</th>\n",
       "      <th class=\"col_heading level0 col3\" >COF</th>\n",
       "      <th class=\"col_heading level0 col4\" >JHG</th>\n",
       "      <th class=\"col_heading level0 col5\" >KKR</th>\n",
       "      <th class=\"col_heading level0 col6\" >MS</th>\n",
       "      <th class=\"col_heading level0 col7\" >SCHW</th>\n",
       "      <th class=\"col_heading level0 col8\" >STT</th>\n",
       "      <th class=\"col_heading level0 col9\" >TROW</th>\n",
       "      <th class=\"col_heading level0 col10\" >TW</th>\n",
       "      <th class=\"col_heading level0 col11\" >USB</th>\n",
       "    </tr>\n",
       "  </thead>\n",
       "  <tbody>\n",
       "    <tr>\n",
       "      <th id=\"T_5bad4_level0_row0\" class=\"row_heading level0 row0\" >APO</th>\n",
       "      <td id=\"T_5bad4_row0_col0\" class=\"data row0 col0\" >0.008</td>\n",
       "      <td id=\"T_5bad4_row0_col1\" class=\"data row0 col1\" >0.029</td>\n",
       "      <td id=\"T_5bad4_row0_col2\" class=\"data row0 col2\" >nan</td>\n",
       "      <td id=\"T_5bad4_row0_col3\" class=\"data row0 col3\" >nan</td>\n",
       "      <td id=\"T_5bad4_row0_col4\" class=\"data row0 col4\" >nan</td>\n",
       "      <td id=\"T_5bad4_row0_col5\" class=\"data row0 col5\" >nan</td>\n",
       "      <td id=\"T_5bad4_row0_col6\" class=\"data row0 col6\" >nan</td>\n",
       "      <td id=\"T_5bad4_row0_col7\" class=\"data row0 col7\" >nan</td>\n",
       "      <td id=\"T_5bad4_row0_col8\" class=\"data row0 col8\" >0.023</td>\n",
       "      <td id=\"T_5bad4_row0_col9\" class=\"data row0 col9\" >nan</td>\n",
       "      <td id=\"T_5bad4_row0_col10\" class=\"data row0 col10\" >nan</td>\n",
       "      <td id=\"T_5bad4_row0_col11\" class=\"data row0 col11\" >nan</td>\n",
       "    </tr>\n",
       "    <tr>\n",
       "      <th id=\"T_5bad4_level0_row1\" class=\"row_heading level0 row1\" >BAC</th>\n",
       "      <td id=\"T_5bad4_row1_col0\" class=\"data row1 col0\" >nan</td>\n",
       "      <td id=\"T_5bad4_row1_col1\" class=\"data row1 col1\" >nan</td>\n",
       "      <td id=\"T_5bad4_row1_col2\" class=\"data row1 col2\" >nan</td>\n",
       "      <td id=\"T_5bad4_row1_col3\" class=\"data row1 col3\" >nan</td>\n",
       "      <td id=\"T_5bad4_row1_col4\" class=\"data row1 col4\" >nan</td>\n",
       "      <td id=\"T_5bad4_row1_col5\" class=\"data row1 col5\" >nan</td>\n",
       "      <td id=\"T_5bad4_row1_col6\" class=\"data row1 col6\" >nan</td>\n",
       "      <td id=\"T_5bad4_row1_col7\" class=\"data row1 col7\" >nan</td>\n",
       "      <td id=\"T_5bad4_row1_col8\" class=\"data row1 col8\" >0.004</td>\n",
       "      <td id=\"T_5bad4_row1_col9\" class=\"data row1 col9\" >nan</td>\n",
       "      <td id=\"T_5bad4_row1_col10\" class=\"data row1 col10\" >nan</td>\n",
       "      <td id=\"T_5bad4_row1_col11\" class=\"data row1 col11\" >nan</td>\n",
       "    </tr>\n",
       "    <tr>\n",
       "      <th id=\"T_5bad4_level0_row2\" class=\"row_heading level0 row2\" >BAM</th>\n",
       "      <td id=\"T_5bad4_row2_col0\" class=\"data row2 col0\" >nan</td>\n",
       "      <td id=\"T_5bad4_row2_col1\" class=\"data row2 col1\" >nan</td>\n",
       "      <td id=\"T_5bad4_row2_col2\" class=\"data row2 col2\" >nan</td>\n",
       "      <td id=\"T_5bad4_row2_col3\" class=\"data row2 col3\" >nan</td>\n",
       "      <td id=\"T_5bad4_row2_col4\" class=\"data row2 col4\" >nan</td>\n",
       "      <td id=\"T_5bad4_row2_col5\" class=\"data row2 col5\" >nan</td>\n",
       "      <td id=\"T_5bad4_row2_col6\" class=\"data row2 col6\" >nan</td>\n",
       "      <td id=\"T_5bad4_row2_col7\" class=\"data row2 col7\" >nan</td>\n",
       "      <td id=\"T_5bad4_row2_col8\" class=\"data row2 col8\" >nan</td>\n",
       "      <td id=\"T_5bad4_row2_col9\" class=\"data row2 col9\" >nan</td>\n",
       "      <td id=\"T_5bad4_row2_col10\" class=\"data row2 col10\" >0.027</td>\n",
       "      <td id=\"T_5bad4_row2_col11\" class=\"data row2 col11\" >nan</td>\n",
       "    </tr>\n",
       "    <tr>\n",
       "      <th id=\"T_5bad4_level0_row3\" class=\"row_heading level0 row3\" >BEN</th>\n",
       "      <td id=\"T_5bad4_row3_col0\" class=\"data row3 col0\" >nan</td>\n",
       "      <td id=\"T_5bad4_row3_col1\" class=\"data row3 col1\" >nan</td>\n",
       "      <td id=\"T_5bad4_row3_col2\" class=\"data row3 col2\" >nan</td>\n",
       "      <td id=\"T_5bad4_row3_col3\" class=\"data row3 col3\" >nan</td>\n",
       "      <td id=\"T_5bad4_row3_col4\" class=\"data row3 col4\" >nan</td>\n",
       "      <td id=\"T_5bad4_row3_col5\" class=\"data row3 col5\" >0.001</td>\n",
       "      <td id=\"T_5bad4_row3_col6\" class=\"data row3 col6\" >nan</td>\n",
       "      <td id=\"T_5bad4_row3_col7\" class=\"data row3 col7\" >nan</td>\n",
       "      <td id=\"T_5bad4_row3_col8\" class=\"data row3 col8\" >nan</td>\n",
       "      <td id=\"T_5bad4_row3_col9\" class=\"data row3 col9\" >nan</td>\n",
       "      <td id=\"T_5bad4_row3_col10\" class=\"data row3 col10\" >nan</td>\n",
       "      <td id=\"T_5bad4_row3_col11\" class=\"data row3 col11\" >nan</td>\n",
       "    </tr>\n",
       "    <tr>\n",
       "      <th id=\"T_5bad4_level0_row4\" class=\"row_heading level0 row4\" >BX</th>\n",
       "      <td id=\"T_5bad4_row4_col0\" class=\"data row4 col0\" >nan</td>\n",
       "      <td id=\"T_5bad4_row4_col1\" class=\"data row4 col1\" >nan</td>\n",
       "      <td id=\"T_5bad4_row4_col2\" class=\"data row4 col2\" >0.016</td>\n",
       "      <td id=\"T_5bad4_row4_col3\" class=\"data row4 col3\" >0.024</td>\n",
       "      <td id=\"T_5bad4_row4_col4\" class=\"data row4 col4\" >0.017</td>\n",
       "      <td id=\"T_5bad4_row4_col5\" class=\"data row4 col5\" >nan</td>\n",
       "      <td id=\"T_5bad4_row4_col6\" class=\"data row4 col6\" >nan</td>\n",
       "      <td id=\"T_5bad4_row4_col7\" class=\"data row4 col7\" >nan</td>\n",
       "      <td id=\"T_5bad4_row4_col8\" class=\"data row4 col8\" >nan</td>\n",
       "      <td id=\"T_5bad4_row4_col9\" class=\"data row4 col9\" >nan</td>\n",
       "      <td id=\"T_5bad4_row4_col10\" class=\"data row4 col10\" >0.027</td>\n",
       "      <td id=\"T_5bad4_row4_col11\" class=\"data row4 col11\" >0.010</td>\n",
       "    </tr>\n",
       "    <tr>\n",
       "      <th id=\"T_5bad4_level0_row5\" class=\"row_heading level0 row5\" >CADE</th>\n",
       "      <td id=\"T_5bad4_row5_col0\" class=\"data row5 col0\" >nan</td>\n",
       "      <td id=\"T_5bad4_row5_col1\" class=\"data row5 col1\" >nan</td>\n",
       "      <td id=\"T_5bad4_row5_col2\" class=\"data row5 col2\" >nan</td>\n",
       "      <td id=\"T_5bad4_row5_col3\" class=\"data row5 col3\" >nan</td>\n",
       "      <td id=\"T_5bad4_row5_col4\" class=\"data row5 col4\" >nan</td>\n",
       "      <td id=\"T_5bad4_row5_col5\" class=\"data row5 col5\" >nan</td>\n",
       "      <td id=\"T_5bad4_row5_col6\" class=\"data row5 col6\" >0.012</td>\n",
       "      <td id=\"T_5bad4_row5_col7\" class=\"data row5 col7\" >0.002</td>\n",
       "      <td id=\"T_5bad4_row5_col8\" class=\"data row5 col8\" >0.039</td>\n",
       "      <td id=\"T_5bad4_row5_col9\" class=\"data row5 col9\" >nan</td>\n",
       "      <td id=\"T_5bad4_row5_col10\" class=\"data row5 col10\" >nan</td>\n",
       "      <td id=\"T_5bad4_row5_col11\" class=\"data row5 col11\" >nan</td>\n",
       "    </tr>\n",
       "    <tr>\n",
       "      <th id=\"T_5bad4_level0_row6\" class=\"row_heading level0 row6\" >CG</th>\n",
       "      <td id=\"T_5bad4_row6_col0\" class=\"data row6 col0\" >nan</td>\n",
       "      <td id=\"T_5bad4_row6_col1\" class=\"data row6 col1\" >nan</td>\n",
       "      <td id=\"T_5bad4_row6_col2\" class=\"data row6 col2\" >nan</td>\n",
       "      <td id=\"T_5bad4_row6_col3\" class=\"data row6 col3\" >nan</td>\n",
       "      <td id=\"T_5bad4_row6_col4\" class=\"data row6 col4\" >0.002</td>\n",
       "      <td id=\"T_5bad4_row6_col5\" class=\"data row6 col5\" >nan</td>\n",
       "      <td id=\"T_5bad4_row6_col6\" class=\"data row6 col6\" >nan</td>\n",
       "      <td id=\"T_5bad4_row6_col7\" class=\"data row6 col7\" >nan</td>\n",
       "      <td id=\"T_5bad4_row6_col8\" class=\"data row6 col8\" >nan</td>\n",
       "      <td id=\"T_5bad4_row6_col9\" class=\"data row6 col9\" >nan</td>\n",
       "      <td id=\"T_5bad4_row6_col10\" class=\"data row6 col10\" >nan</td>\n",
       "      <td id=\"T_5bad4_row6_col11\" class=\"data row6 col11\" >0.005</td>\n",
       "    </tr>\n",
       "    <tr>\n",
       "      <th id=\"T_5bad4_level0_row7\" class=\"row_heading level0 row7\" >COF</th>\n",
       "      <td id=\"T_5bad4_row7_col0\" class=\"data row7 col0\" >nan</td>\n",
       "      <td id=\"T_5bad4_row7_col1\" class=\"data row7 col1\" >nan</td>\n",
       "      <td id=\"T_5bad4_row7_col2\" class=\"data row7 col2\" >nan</td>\n",
       "      <td id=\"T_5bad4_row7_col3\" class=\"data row7 col3\" >nan</td>\n",
       "      <td id=\"T_5bad4_row7_col4\" class=\"data row7 col4\" >nan</td>\n",
       "      <td id=\"T_5bad4_row7_col5\" class=\"data row7 col5\" >nan</td>\n",
       "      <td id=\"T_5bad4_row7_col6\" class=\"data row7 col6\" >nan</td>\n",
       "      <td id=\"T_5bad4_row7_col7\" class=\"data row7 col7\" >nan</td>\n",
       "      <td id=\"T_5bad4_row7_col8\" class=\"data row7 col8\" >nan</td>\n",
       "      <td id=\"T_5bad4_row7_col9\" class=\"data row7 col9\" >nan</td>\n",
       "      <td id=\"T_5bad4_row7_col10\" class=\"data row7 col10\" >nan</td>\n",
       "      <td id=\"T_5bad4_row7_col11\" class=\"data row7 col11\" >0.021</td>\n",
       "    </tr>\n",
       "    <tr>\n",
       "      <th id=\"T_5bad4_level0_row8\" class=\"row_heading level0 row8\" >KKR</th>\n",
       "      <td id=\"T_5bad4_row8_col0\" class=\"data row8 col0\" >nan</td>\n",
       "      <td id=\"T_5bad4_row8_col1\" class=\"data row8 col1\" >nan</td>\n",
       "      <td id=\"T_5bad4_row8_col2\" class=\"data row8 col2\" >nan</td>\n",
       "      <td id=\"T_5bad4_row8_col3\" class=\"data row8 col3\" >nan</td>\n",
       "      <td id=\"T_5bad4_row8_col4\" class=\"data row8 col4\" >nan</td>\n",
       "      <td id=\"T_5bad4_row8_col5\" class=\"data row8 col5\" >nan</td>\n",
       "      <td id=\"T_5bad4_row8_col6\" class=\"data row8 col6\" >nan</td>\n",
       "      <td id=\"T_5bad4_row8_col7\" class=\"data row8 col7\" >nan</td>\n",
       "      <td id=\"T_5bad4_row8_col8\" class=\"data row8 col8\" >nan</td>\n",
       "      <td id=\"T_5bad4_row8_col9\" class=\"data row8 col9\" >0.023</td>\n",
       "      <td id=\"T_5bad4_row8_col10\" class=\"data row8 col10\" >nan</td>\n",
       "      <td id=\"T_5bad4_row8_col11\" class=\"data row8 col11\" >nan</td>\n",
       "    </tr>\n",
       "    <tr>\n",
       "      <th id=\"T_5bad4_level0_row9\" class=\"row_heading level0 row9\" >MS</th>\n",
       "      <td id=\"T_5bad4_row9_col0\" class=\"data row9 col0\" >nan</td>\n",
       "      <td id=\"T_5bad4_row9_col1\" class=\"data row9 col1\" >nan</td>\n",
       "      <td id=\"T_5bad4_row9_col2\" class=\"data row9 col2\" >nan</td>\n",
       "      <td id=\"T_5bad4_row9_col3\" class=\"data row9 col3\" >nan</td>\n",
       "      <td id=\"T_5bad4_row9_col4\" class=\"data row9 col4\" >nan</td>\n",
       "      <td id=\"T_5bad4_row9_col5\" class=\"data row9 col5\" >nan</td>\n",
       "      <td id=\"T_5bad4_row9_col6\" class=\"data row9 col6\" >nan</td>\n",
       "      <td id=\"T_5bad4_row9_col7\" class=\"data row9 col7\" >nan</td>\n",
       "      <td id=\"T_5bad4_row9_col8\" class=\"data row9 col8\" >0.021</td>\n",
       "      <td id=\"T_5bad4_row9_col9\" class=\"data row9 col9\" >nan</td>\n",
       "      <td id=\"T_5bad4_row9_col10\" class=\"data row9 col10\" >nan</td>\n",
       "      <td id=\"T_5bad4_row9_col11\" class=\"data row9 col11\" >nan</td>\n",
       "    </tr>\n",
       "    <tr>\n",
       "      <th id=\"T_5bad4_level0_row10\" class=\"row_heading level0 row10\" >RF</th>\n",
       "      <td id=\"T_5bad4_row10_col0\" class=\"data row10 col0\" >nan</td>\n",
       "      <td id=\"T_5bad4_row10_col1\" class=\"data row10 col1\" >nan</td>\n",
       "      <td id=\"T_5bad4_row10_col2\" class=\"data row10 col2\" >nan</td>\n",
       "      <td id=\"T_5bad4_row10_col3\" class=\"data row10 col3\" >nan</td>\n",
       "      <td id=\"T_5bad4_row10_col4\" class=\"data row10 col4\" >nan</td>\n",
       "      <td id=\"T_5bad4_row10_col5\" class=\"data row10 col5\" >nan</td>\n",
       "      <td id=\"T_5bad4_row10_col6\" class=\"data row10 col6\" >nan</td>\n",
       "      <td id=\"T_5bad4_row10_col7\" class=\"data row10 col7\" >0.012</td>\n",
       "      <td id=\"T_5bad4_row10_col8\" class=\"data row10 col8\" >0.038</td>\n",
       "      <td id=\"T_5bad4_row10_col9\" class=\"data row10 col9\" >nan</td>\n",
       "      <td id=\"T_5bad4_row10_col10\" class=\"data row10 col10\" >nan</td>\n",
       "      <td id=\"T_5bad4_row10_col11\" class=\"data row10 col11\" >nan</td>\n",
       "    </tr>\n",
       "  </tbody>\n",
       "</table>\n"
      ],
      "text/plain": [
       "<pandas.io.formats.style.Styler at 0x291c7275a60>"
      ]
     },
     "execution_count": 66,
     "metadata": {},
     "output_type": "execute_result"
    },
    {
     "data": {
      "image/png": "[encoded data removed]",
      "text/plain": [
       "<Figure size 720x720 with 2 Axes>"
      ]
     },
     "metadata": {
      "needs_background": "light"
     },
     "output_type": "display_data"
    }
   ],
   "source": [
    "mask_matrix = (pvalues >= 0.05) # possible to increase the level of significance\n",
    "\n",
    "mask_df = pd.DataFrame(mask_matrix, index= new_tickers, columns = new_tickers)\n",
    "scores_df = pd.DataFrame(scores, index= new_tickers, columns = new_tickers)\n",
    "pvalues_df = pd.DataFrame(pvalues, index= new_tickers, columns = new_tickers)\n",
    "\n",
    "df_f = pvalues_df[~mask_df].dropna(how='all', axis=1)\n",
    "df_f = df_f.dropna(how='all')\n",
    "\n",
    "def gold_apply(x):\n",
    "    color = {True: \"background-color: #c78f2e\", False: \"color : white\"}\n",
    "    is_color = (x > 0).replace(color)\n",
    "    return is_color\n",
    "\n",
    "# Another way to format table is applymap\n",
    "# def color_map(x):\n",
    "#     return f\"color: {'red' if x > 0 else 'white'}\"\n",
    "\n",
    "# df_f.style.applymap(color_map)\n",
    "\n",
    "fig, ax = plt.subplots(figsize=(10, 10))\n",
    "seaborn.heatmap(\n",
    "    df_f,\n",
    "    xticklabels=df_f.columns,\n",
    "    yticklabels=df_f.index,\n",
    "    cmap=\"summer\",\n",
    "    square=True\n",
    ")\n",
    "df_f.style.format(precision=3)\\\n",
    ".apply(gold_apply)"
   ]
  },
  {
   "cell_type": "markdown",
   "id": "6091be26",
   "metadata": {},
   "source": [
    "### EXERCISE: Get List/Dic of Pairs"
   ]
  },
  {
   "cell_type": "code",
   "execution_count": 67,
   "id": "95aefcbd",
   "metadata": {
    "ExecuteTime": {
     "end_time": "2022-10-31T18:57:23.617690Z",
     "start_time": "2022-10-31T18:57:23.552681Z"
    }
   },
   "outputs": [
    {
     "data": {
      "text/plain": [
       "[('APO', 'BEN'),\n",
       " ('APO', 'C'),\n",
       " ('APO', 'STT'),\n",
       " ('BAC', 'STT'),\n",
       " ('BAM', 'TW'),\n",
       " ('BEN', 'KKR'),\n",
       " ('BX', 'CG'),\n",
       " ('BX', 'COF'),\n",
       " ('BX', 'JHG'),\n",
       " ('BX', 'TW'),\n",
       " ('BX', 'USB'),\n",
       " ('CADE', 'MS'),\n",
       " ('CADE', 'SCHW'),\n",
       " ('CADE', 'STT'),\n",
       " ('CG', 'JHG'),\n",
       " ('CG', 'USB'),\n",
       " ('COF', 'USB'),\n",
       " ('KKR', 'TROW'),\n",
       " ('MS', 'STT'),\n",
       " ('RF', 'SCHW'),\n",
       " ('RF', 'STT')]"
      ]
     },
     "execution_count": 67,
     "metadata": {},
     "output_type": "execute_result"
    }
   ],
   "source": [
    "x_list = df_f.index.tolist()\n",
    "y_list = df_f.columns.tolist()\n",
    "\n",
    "new_pairs_list = [] # list of pairs as tuples (A,B)\n",
    "\n",
    "for i in range(len(x_list)):\n",
    "    for j in range(len(y_list)):\n",
    "        if df_f.iloc[i,j]>0:\n",
    "            new_pairs_list.append((x_list[i], y_list[j]))\n",
    "\n",
    "new_pairs_list"
   ]
  },
  {
   "cell_type": "code",
   "execution_count": 68,
   "id": "f13070ef",
   "metadata": {
    "ExecuteTime": {
     "end_time": "2022-10-31T18:57:23.695510Z",
     "start_time": "2022-10-31T18:57:23.621186Z"
    }
   },
   "outputs": [
    {
     "data": {
      "text/plain": [
       "[['BEN-APO'],\n",
       " ['C-APO'],\n",
       " ['CG-BX'],\n",
       " ['COF-BX'],\n",
       " ['JHG-BX', 'JHG-CG'],\n",
       " ['KKR-BEN'],\n",
       " ['MS-CADE'],\n",
       " ['SCHW-CADE', 'SCHW-RF'],\n",
       " ['STT-APO', 'STT-BAC', 'STT-CADE', 'STT-MS', 'STT-RF'],\n",
       " ['TROW-KKR'],\n",
       " ['TW-BAM', 'TW-BX'],\n",
       " ['USB-BX', 'USB-CG', 'USB-COF']]"
      ]
     },
     "execution_count": 68,
     "metadata": {},
     "output_type": "execute_result"
    }
   ],
   "source": [
    "new_pairs_str =[] # list of pairs as string A-B\n",
    "\n",
    "for column in df_f:\n",
    "    toprint = df_f.index[df_f[column]>0].tolist()\n",
    "    new_pairs_str.append([column + \"-\" + s for s in toprint])\n",
    "    \n",
    "new_pairs_str"
   ]
  },
  {
   "cell_type": "code",
   "execution_count": 69,
   "id": "6b3f6469",
   "metadata": {
    "ExecuteTime": {
     "end_time": "2022-10-31T18:57:23.757864Z",
     "start_time": "2022-10-31T18:57:23.700506Z"
    }
   },
   "outputs": [
    {
     "data": {
      "text/plain": [
       "{'BEN': ['APO'],\n",
       " 'C': ['APO'],\n",
       " 'CG': ['BX'],\n",
       " 'COF': ['BX'],\n",
       " 'JHG': ['BX', 'CG'],\n",
       " 'KKR': ['BEN'],\n",
       " 'MS': ['CADE'],\n",
       " 'SCHW': ['CADE', 'RF'],\n",
       " 'STT': ['APO', 'BAC', 'CADE', 'MS', 'RF'],\n",
       " 'TROW': ['KKR'],\n",
       " 'TW': ['BAM', 'BX'],\n",
       " 'USB': ['BX', 'CG', 'COF']}"
      ]
     },
     "execution_count": 69,
     "metadata": {},
     "output_type": "execute_result"
    }
   ],
   "source": [
    "new_pairs_dic= {} # list of pairs as dictionary {'A':['B','C']}\n",
    "\n",
    "for column in df_f:\n",
    "    new_pairs_dic[column] = df_f.index[df_f[column]>0].tolist()\n",
    "\n",
    "new_pairs_dic"
   ]
  },
  {
   "cell_type": "markdown",
   "id": "6680d767",
   "metadata": {},
   "source": [
    "### Save to file\n",
    "Save dataframa as pickle to use for the next steps"
   ]
  },
  {
   "cell_type": "code",
   "execution_count": 70,
   "id": "4a323e8c",
   "metadata": {
    "ExecuteTime": {
     "end_time": "2022-10-31T18:57:23.803937Z",
     "start_time": "2022-10-31T18:57:23.770161Z"
    }
   },
   "outputs": [],
   "source": [
    "df_f.to_pickle(\"pairs_to_download.pkl\")"
   ]
  }
 ],
 "metadata": {
  "kernelspec": {
   "display_name": "Python 3 (ipykernel)",
   "language": "python",
   "name": "python3"
  },
  "language_info": {
   "codemirror_mode": {
    "name": "ipython",
    "version": 3
   },
   "file_extension": ".py",
   "mimetype": "text/x-python",
   "name": "python",
   "nbconvert_exporter": "python",
   "pygments_lexer": "ipython3",
   "version": "3.9.7"
  }
 },
 "nbformat": 4,
 "nbformat_minor": 5
}
