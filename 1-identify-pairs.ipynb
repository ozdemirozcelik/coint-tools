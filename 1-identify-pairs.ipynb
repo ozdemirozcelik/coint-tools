{
 "cells": [
  {
   "cell_type": "code",
   "execution_count": 59,
   "id": "793fef61",
   "metadata": {
    "ExecuteTime": {
     "end_time": "2022-10-18T16:50:04.170737Z",
     "start_time": "2022-10-18T16:50:04.154738Z"
    }
   },
   "outputs": [],
   "source": [
    "import numpy as np\n",
    "import pandas as pd\n",
    "import pickle\n",
    "import yfinance as yf\n",
    "import matplotlib.pyplot as plt\n",
    "import seaborn\n",
    "from statsmodels.tsa.stattools import coint\n",
    "import datetime"
   ]
  },
  {
   "cell_type": "markdown",
   "id": "fb943c44",
   "metadata": {},
   "source": [
    "### Find Tickers\n",
    "We would like to identify cointegrated pairs.\n",
    "One way to find them is to look into some specific sectors.\n",
    "For exp: 'utilities.csv' includes a list of active utilities."
   ]
  },
  {
   "cell_type": "code",
   "execution_count": 76,
   "id": "af613c7b",
   "metadata": {
    "ExecuteTime": {
     "end_time": "2022-10-18T17:00:48.262656Z",
     "start_time": "2022-10-18T17:00:48.216555Z"
    }
   },
   "outputs": [
    {
     "data": {
      "text/html": [
       "<div>\n",
       "<style scoped>\n",
       "    .dataframe tbody tr th:only-of-type {\n",
       "        vertical-align: middle;\n",
       "    }\n",
       "\n",
       "    .dataframe tbody tr th {\n",
       "        vertical-align: top;\n",
       "    }\n",
       "\n",
       "    .dataframe thead th {\n",
       "        text-align: right;\n",
       "    }\n",
       "</style>\n",
       "<table border=\"1\" class=\"dataframe\">\n",
       "  <thead>\n",
       "    <tr style=\"text-align: right;\">\n",
       "      <th></th>\n",
       "      <th>Ticker</th>\n",
       "      <th>Description</th>\n",
       "      <th>Price</th>\n",
       "      <th>Change %</th>\n",
       "      <th>Change</th>\n",
       "      <th>Technical Rating</th>\n",
       "      <th>Volume</th>\n",
       "      <th>Volume*Price</th>\n",
       "      <th>Market Capitalization</th>\n",
       "      <th>Price to Earnings Ratio (TTM)</th>\n",
       "      <th>Basic EPS (TTM)</th>\n",
       "      <th>Number of Employees</th>\n",
       "      <th>Sector</th>\n",
       "    </tr>\n",
       "  </thead>\n",
       "  <tbody>\n",
       "    <tr>\n",
       "      <th>0</th>\n",
       "      <td>PCG</td>\n",
       "      <td>Pacific Gas &amp; Electric Co.</td>\n",
       "      <td>13.83</td>\n",
       "      <td>-3.354298</td>\n",
       "      <td>-0.48</td>\n",
       "      <td>Buy</td>\n",
       "      <td>24222506</td>\n",
       "      <td>3.349973e+08</td>\n",
       "      <td>2.748945e+10</td>\n",
       "      <td>185.844156</td>\n",
       "      <td>0.1064</td>\n",
       "      <td>26000.0</td>\n",
       "      <td>Utilities</td>\n",
       "    </tr>\n",
       "    <tr>\n",
       "      <th>1</th>\n",
       "      <td>RUN</td>\n",
       "      <td>Sunrun Inc.</td>\n",
       "      <td>21.21</td>\n",
       "      <td>-7.621951</td>\n",
       "      <td>-1.75</td>\n",
       "      <td>Strong Sell</td>\n",
       "      <td>10480596</td>\n",
       "      <td>2.222934e+08</td>\n",
       "      <td>4.498730e+09</td>\n",
       "      <td>NaN</td>\n",
       "      <td>-0.5481</td>\n",
       "      <td>11383.0</td>\n",
       "      <td>Utilities</td>\n",
       "    </tr>\n",
       "    <tr>\n",
       "      <th>2</th>\n",
       "      <td>NEE</td>\n",
       "      <td>NextEra Energy, Inc.</td>\n",
       "      <td>71.77</td>\n",
       "      <td>-1.805993</td>\n",
       "      <td>-1.32</td>\n",
       "      <td>Sell</td>\n",
       "      <td>8735692</td>\n",
       "      <td>6.269606e+08</td>\n",
       "      <td>1.425650e+11</td>\n",
       "      <td>55.960493</td>\n",
       "      <td>1.3138</td>\n",
       "      <td>15000.0</td>\n",
       "      <td>Utilities</td>\n",
       "    </tr>\n",
       "    <tr>\n",
       "      <th>3</th>\n",
       "      <td>EXC</td>\n",
       "      <td>Exelon Corporation</td>\n",
       "      <td>36.59</td>\n",
       "      <td>-1.719044</td>\n",
       "      <td>-0.64</td>\n",
       "      <td>Sell</td>\n",
       "      <td>6830065</td>\n",
       "      <td>2.499121e+08</td>\n",
       "      <td>3.628839e+10</td>\n",
       "      <td>13.743079</td>\n",
       "      <td>2.7108</td>\n",
       "      <td>31518.0</td>\n",
       "      <td>Utilities</td>\n",
       "    </tr>\n",
       "    <tr>\n",
       "      <th>4</th>\n",
       "      <td>FE</td>\n",
       "      <td>FirstEnergy Corp.</td>\n",
       "      <td>36.17</td>\n",
       "      <td>-2.559267</td>\n",
       "      <td>-0.95</td>\n",
       "      <td>Strong Sell</td>\n",
       "      <td>6503663</td>\n",
       "      <td>2.352375e+08</td>\n",
       "      <td>2.066737e+10</td>\n",
       "      <td>15.636716</td>\n",
       "      <td>2.3782</td>\n",
       "      <td>12395.0</td>\n",
       "      <td>Utilities</td>\n",
       "    </tr>\n",
       "  </tbody>\n",
       "</table>\n",
       "</div>"
      ],
      "text/plain": [
       "  Ticker                 Description  Price  Change %  Change  \\\n",
       "0    PCG  Pacific Gas & Electric Co.  13.83 -3.354298   -0.48   \n",
       "1    RUN                 Sunrun Inc.  21.21 -7.621951   -1.75   \n",
       "2    NEE        NextEra Energy, Inc.  71.77 -1.805993   -1.32   \n",
       "3    EXC          Exelon Corporation  36.59 -1.719044   -0.64   \n",
       "4     FE           FirstEnergy Corp.  36.17 -2.559267   -0.95   \n",
       "\n",
       "  Technical Rating    Volume  Volume*Price  Market Capitalization  \\\n",
       "0              Buy  24222506  3.349973e+08           2.748945e+10   \n",
       "1      Strong Sell  10480596  2.222934e+08           4.498730e+09   \n",
       "2             Sell   8735692  6.269606e+08           1.425650e+11   \n",
       "3             Sell   6830065  2.499121e+08           3.628839e+10   \n",
       "4      Strong Sell   6503663  2.352375e+08           2.066737e+10   \n",
       "\n",
       "   Price to Earnings Ratio (TTM)  Basic EPS (TTM)  Number of Employees  \\\n",
       "0                     185.844156           0.1064              26000.0   \n",
       "1                            NaN          -0.5481              11383.0   \n",
       "2                      55.960493           1.3138              15000.0   \n",
       "3                      13.743079           2.7108              31518.0   \n",
       "4                      15.636716           2.3782              12395.0   \n",
       "\n",
       "      Sector  \n",
       "0  Utilities  \n",
       "1  Utilities  \n",
       "2  Utilities  \n",
       "3  Utilities  \n",
       "4  Utilities  "
      ]
     },
     "execution_count": 76,
     "metadata": {},
     "output_type": "execute_result"
    }
   ],
   "source": [
    "filename='utilities.csv'\n",
    "df = pd.read_csv(filename)\n",
    "df.head()"
   ]
  },
  {
   "cell_type": "markdown",
   "id": "f93e83db",
   "metadata": {},
   "source": [
    "We want to trade with stocks with adequate demand from buyers and sellers, we can eliminate others by defining a cap for the trade volume."
   ]
  },
  {
   "cell_type": "code",
   "execution_count": 84,
   "id": "7d19a168",
   "metadata": {
    "ExecuteTime": {
     "end_time": "2022-10-18T17:04:45.129184Z",
     "start_time": "2022-10-18T17:04:45.108186Z"
    }
   },
   "outputs": [
    {
     "data": {
      "text/plain": [
       "['PCG',\n",
       " 'RUN',\n",
       " 'NEE',\n",
       " 'EXC',\n",
       " 'FE',\n",
       " 'PPL',\n",
       " 'NI',\n",
       " 'NOVA',\n",
       " 'CNP',\n",
       " 'SO',\n",
       " 'DUK',\n",
       " 'D',\n",
       " 'AES',\n",
       " 'AEP',\n",
       " 'XEL',\n",
       " 'ED',\n",
       " 'EIX',\n",
       " 'DTE',\n",
       " 'CLNE',\n",
       " 'VST',\n",
       " 'LNT',\n",
       " 'CMS',\n",
       " 'ES',\n",
       " 'PEG',\n",
       " 'WEC',\n",
       " 'SRE',\n",
       " 'CEG',\n",
       " 'NRG',\n",
       " 'RNW',\n",
       " 'AGR',\n",
       " 'OGE',\n",
       " 'AEE',\n",
       " 'WTRG',\n",
       " 'AWK',\n",
       " 'UGI',\n",
       " 'ETR',\n",
       " 'AMPS']"
      ]
     },
     "execution_count": 84,
     "metadata": {},
     "output_type": "execute_result"
    }
   ],
   "source": [
    " # Define a volume cap\n",
    "volume_cap = 1000000\n",
    "\n",
    "df = df[['Ticker','Description','Volume','Price']].sort_values(by='Volume', ascending=False)\n",
    "high_volume = df.Volume>volume_cap\n",
    "df_h = df[high_volume]\n",
    "tickers = df_h.Ticker.tolist()\n",
    "tickers"
   ]
  },
  {
   "cell_type": "code",
   "execution_count": 88,
   "id": "39e5f162",
   "metadata": {
    "ExecuteTime": {
     "end_time": "2022-10-18T17:08:04.022268Z",
     "start_time": "2022-10-18T17:08:03.984262Z"
    }
   },
   "outputs": [
    {
     "data": {
      "text/plain": [
       "['RUN',\n",
       " 'NEE',\n",
       " 'EXC',\n",
       " 'FE',\n",
       " 'PPL',\n",
       " 'NI',\n",
       " 'CNP',\n",
       " 'SO',\n",
       " 'DUK',\n",
       " 'D',\n",
       " 'AES',\n",
       " 'AEP',\n",
       " 'XEL',\n",
       " 'ED',\n",
       " 'EIX',\n",
       " 'VST',\n",
       " 'LNT',\n",
       " 'CMS',\n",
       " 'ES',\n",
       " 'PEG',\n",
       " 'WEC',\n",
       " 'CEG',\n",
       " 'NRG',\n",
       " 'AGR',\n",
       " 'OGE',\n",
       " 'AEE',\n",
       " 'WTRG',\n",
       " 'UGI']"
      ]
     },
     "execution_count": 88,
     "metadata": {},
     "output_type": "execute_result"
    }
   ],
   "source": [
    " # Define a price interval if needed\n",
    "price_low = 20 \n",
    "price_high = 100\n",
    "\n",
    "query=\"Price>\"+str(price_low)+\" & Price<\"+str(price_high)\n",
    "df_h_p = df_h.query(query)\n",
    "tickers = df_h_p.Ticker.tolist()\n",
    "tickers"
   ]
  },
  {
   "cell_type": "markdown",
   "id": "4ec01124",
   "metadata": {
    "ExecuteTime": {
     "end_time": "2022-10-17T20:23:09.658974Z",
     "start_time": "2022-10-17T20:23:09.641937Z"
    }
   },
   "source": [
    "### Download Price Data\n",
    "We will use yfinance (https://pypi.org/project/yfinance/) to downloed the closing princes of stocks.\n",
    "More information is available on the next notebook which we will download and save a more detailed stock data."
   ]
  },
  {
   "cell_type": "code",
   "execution_count": 89,
   "id": "82d46838",
   "metadata": {
    "ExecuteTime": {
     "end_time": "2022-10-18T17:08:48.546856Z",
     "start_time": "2022-10-18T17:08:44.514925Z"
    }
   },
   "outputs": [
    {
     "name": "stdout",
     "output_type": "stream",
     "text": [
      "[*********************100%***********************]  28 of 28 completed\n",
      "\n",
      "1 Failed download:\n",
      "- CEG: Data doesn't exist for startDate = 1514782800, endDate = 1641013200\n",
      "<class 'pandas.core.frame.DataFrame'>\n",
      "DatetimeIndex: 1008 entries, 2018-01-02 00:00:00-05:00 to 2021-12-31 00:00:00-05:00\n",
      "Data columns (total 28 columns):\n",
      " #   Column  Non-Null Count  Dtype  \n",
      "---  ------  --------------  -----  \n",
      " 0   AEE     1008 non-null   float64\n",
      " 1   AEP     1008 non-null   float64\n",
      " 2   AES     1008 non-null   float64\n",
      " 3   AGR     1008 non-null   float64\n",
      " 4   CEG     0 non-null      float64\n",
      " 5   CMS     1008 non-null   float64\n",
      " 6   CNP     1008 non-null   float64\n",
      " 7   D       1008 non-null   float64\n",
      " 8   DUK     1008 non-null   float64\n",
      " 9   ED      1008 non-null   float64\n",
      " 10  EIX     1008 non-null   float64\n",
      " 11  ES      1008 non-null   float64\n",
      " 12  EXC     1008 non-null   float64\n",
      " 13  FE      1008 non-null   float64\n",
      " 14  LNT     1008 non-null   float64\n",
      " 15  NEE     1008 non-null   float64\n",
      " 16  NI      1008 non-null   float64\n",
      " 17  NRG     1008 non-null   float64\n",
      " 18  OGE     1008 non-null   float64\n",
      " 19  PEG     1008 non-null   float64\n",
      " 20  PPL     1008 non-null   float64\n",
      " 21  RUN     1008 non-null   float64\n",
      " 22  SO      1008 non-null   float64\n",
      " 23  UGI     1008 non-null   float64\n",
      " 24  VST     1008 non-null   float64\n",
      " 25  WEC     1008 non-null   float64\n",
      " 26  WTRG    1008 non-null   float64\n",
      " 27  XEL     1008 non-null   float64\n",
      "dtypes: float64(28)\n",
      "memory usage: 228.4 KB\n"
     ]
    }
   ],
   "source": [
    "# Enable to use start & end dates:\n",
    "start = datetime.datetime(2018, 1, 1)\n",
    "end = datetime.datetime(2022, 1, 1)\n",
    "\n",
    "df = yf.download(tickers, start, end)[\"Close\"]\n",
    "\n",
    "# enable to use periods & intervals\n",
    "# period = '3y'\n",
    "# interval = '1d'\n",
    "# df = yf.download(tickers, period=period, interval=interval)[\"Close\"]\n",
    "\n",
    "df.info()"
   ]
  },
  {
   "cell_type": "markdown",
   "id": "8766b7c0",
   "metadata": {},
   "source": [
    "Check for null values and eliminate them:"
   ]
  },
  {
   "cell_type": "code",
   "execution_count": 90,
   "id": "8ea4a262",
   "metadata": {
    "ExecuteTime": {
     "end_time": "2022-10-18T17:08:51.291129Z",
     "start_time": "2022-10-18T17:08:51.276096Z"
    }
   },
   "outputs": [
    {
     "name": "stdout",
     "output_type": "stream",
     "text": [
      "we have 27 tickers left\n"
     ]
    }
   ],
   "source": [
    "df = df.dropna(axis=1)\n",
    "new_tickers = df.columns.tolist()\n",
    "print(f\"we have {len(new_tickers)} tickers left\")"
   ]
  },
  {
   "cell_type": "markdown",
   "id": "cae391bc",
   "metadata": {},
   "source": [
    "### Find Cointegrated Pairs\n",
    "\n",
    "We will perfom cointegration tests for all of the pairs that we can produce from the available tickers. We still need to perform more detailed tests for stationarity in the following notebooks."
   ]
  },
  {
   "cell_type": "code",
   "execution_count": 91,
   "id": "8941f243",
   "metadata": {
    "ExecuteTime": {
     "end_time": "2022-10-18T17:08:53.262897Z",
     "start_time": "2022-10-18T17:08:53.247897Z"
    }
   },
   "outputs": [],
   "source": [
    "# let's define a function to loop through the tickers and do a cointegration test for each combination\n",
    "def cointegration_test(data, p_value=0.05):\n",
    "    n = data.shape[1]\n",
    "    # create matrix to be filled later\n",
    "    stats = np.zeros((n, n))\n",
    "    pvalues = np.ones((n, n))\n",
    "    keys = data.keys() # get the info axis, returns columns if object is a dataframe\n",
    "    pairs = []\n",
    "    for i in range(n):\n",
    "        for j in range(i+1, n):\n",
    "            result = coint(data[keys[i]], data[keys[j]])\n",
    "            test_stat = result[0]\n",
    "            pvalue = result[1]\n",
    "            stats[i, j] = test_stat\n",
    "            pvalues[i, j] = pvalue\n",
    "            \n",
    "            if pvalue < p_value: # pick only statistically significant ones\n",
    "                pairs.append((keys[i], keys[j]))\n",
    "                \n",
    "    return stats, pvalues, pairs"
   ]
  },
  {
   "cell_type": "markdown",
   "id": "19a55b25",
   "metadata": {},
   "source": [
    "See the result on a heatmap"
   ]
  },
  {
   "cell_type": "code",
   "execution_count": 92,
   "id": "1bf904d4",
   "metadata": {
    "ExecuteTime": {
     "end_time": "2022-10-18T17:09:16.691984Z",
     "start_time": "2022-10-18T17:08:55.535738Z"
    }
   },
   "outputs": [
    {
     "name": "stdout",
     "output_type": "stream",
     "text": [
      "[('AES', 'DUK'), ('AGR', 'CNP'), ('AGR', 'UGI'), ('CMS', 'D'), ('D', 'ES'), ('D', 'UGI'), ('D', 'WEC'), ('D', 'XEL'), ('ED', 'EIX'), ('ED', 'FE'), ('ED', 'OGE'), ('ED', 'PPL'), ('EIX', 'FE'), ('EIX', 'NI'), ('EIX', 'OGE'), ('EIX', 'PPL'), ('EIX', 'RUN'), ('EIX', 'VST'), ('ES', 'WEC'), ('FE', 'NI'), ('LNT', 'WTRG'), ('NI', 'OGE'), ('PPL', 'RUN'), ('PPL', 'VST'), ('SO', 'WTRG'), ('WEC', 'XEL')]\n"
     ]
    },
    {
     "data": {
      "image/png": "[encoded data removed]",
      "text/plain": [
       "<Figure size 720x720 with 2 Axes>"
      ]
     },
     "metadata": {
      "needs_background": "light"
     },
     "output_type": "display_data"
    }
   ],
   "source": [
    "p_value = 0.05  # A p-value less than 0.05 is typically considered to be statistically significant\n",
    "\n",
    "scores, pvalues, pairs = cointegration_test(df,p_value)\n",
    "\n",
    "fig, ax = plt.subplots(figsize=(10, 10))\n",
    "seaborn.heatmap(\n",
    "    pvalues,\n",
    "    xticklabels=new_tickers,\n",
    "    yticklabels=new_tickers,\n",
    "    cmap=\"ocean\",\n",
    "    mask=(pvalues >= 0.05),\n",
    "    square=True\n",
    ")\n",
    "print(pairs)"
   ]
  },
  {
   "cell_type": "markdown",
   "id": "3a47a2e8",
   "metadata": {},
   "source": [
    "### Filter For More Significant Pairs\n",
    "Filter more to get more significant pairs, and eliminate empty cells."
   ]
  },
  {
   "cell_type": "code",
   "execution_count": 95,
   "id": "67e97a5d",
   "metadata": {
    "ExecuteTime": {
     "end_time": "2022-10-18T17:10:00.003804Z",
     "start_time": "2022-10-18T17:09:59.687844Z"
    }
   },
   "outputs": [
    {
     "data": {
      "text/html": [
       "<style type=\"text/css\">\n",
       "#T_3a567_row0_col0, #T_3a567_row0_col2, #T_3a567_row0_col4, #T_3a567_row1_col2, #T_3a567_row2_col1, #T_3a567_row3_col3 {\n",
       "  background-color: #c78f2e;\n",
       "}\n",
       "#T_3a567_row0_col1, #T_3a567_row0_col3, #T_3a567_row1_col0, #T_3a567_row1_col1, #T_3a567_row1_col3, #T_3a567_row1_col4, #T_3a567_row2_col0, #T_3a567_row2_col2, #T_3a567_row2_col3, #T_3a567_row2_col4, #T_3a567_row3_col0, #T_3a567_row3_col1, #T_3a567_row3_col2, #T_3a567_row3_col4 {\n",
       "  color: white;\n",
       "}\n",
       "</style>\n",
       "<table id=\"T_3a567_\">\n",
       "  <thead>\n",
       "    <tr>\n",
       "      <th class=\"blank level0\" >&nbsp;</th>\n",
       "      <th class=\"col_heading level0 col0\" >ES</th>\n",
       "      <th class=\"col_heading level0 col1\" >OGE</th>\n",
       "      <th class=\"col_heading level0 col2\" >WEC</th>\n",
       "      <th class=\"col_heading level0 col3\" >WTRG</th>\n",
       "      <th class=\"col_heading level0 col4\" >XEL</th>\n",
       "    </tr>\n",
       "  </thead>\n",
       "  <tbody>\n",
       "    <tr>\n",
       "      <th id=\"T_3a567_level0_row0\" class=\"row_heading level0 row0\" >D</th>\n",
       "      <td id=\"T_3a567_row0_col0\" class=\"data row0 col0\" >0.011</td>\n",
       "      <td id=\"T_3a567_row0_col1\" class=\"data row0 col1\" >nan</td>\n",
       "      <td id=\"T_3a567_row0_col2\" class=\"data row0 col2\" >0.005</td>\n",
       "      <td id=\"T_3a567_row0_col3\" class=\"data row0 col3\" >nan</td>\n",
       "      <td id=\"T_3a567_row0_col4\" class=\"data row0 col4\" >0.019</td>\n",
       "    </tr>\n",
       "    <tr>\n",
       "      <th id=\"T_3a567_level0_row1\" class=\"row_heading level0 row1\" >ES</th>\n",
       "      <td id=\"T_3a567_row1_col0\" class=\"data row1 col0\" >nan</td>\n",
       "      <td id=\"T_3a567_row1_col1\" class=\"data row1 col1\" >nan</td>\n",
       "      <td id=\"T_3a567_row1_col2\" class=\"data row1 col2\" >0.010</td>\n",
       "      <td id=\"T_3a567_row1_col3\" class=\"data row1 col3\" >nan</td>\n",
       "      <td id=\"T_3a567_row1_col4\" class=\"data row1 col4\" >nan</td>\n",
       "    </tr>\n",
       "    <tr>\n",
       "      <th id=\"T_3a567_level0_row2\" class=\"row_heading level0 row2\" >NI</th>\n",
       "      <td id=\"T_3a567_row2_col0\" class=\"data row2 col0\" >nan</td>\n",
       "      <td id=\"T_3a567_row2_col1\" class=\"data row2 col1\" >0.001</td>\n",
       "      <td id=\"T_3a567_row2_col2\" class=\"data row2 col2\" >nan</td>\n",
       "      <td id=\"T_3a567_row2_col3\" class=\"data row2 col3\" >nan</td>\n",
       "      <td id=\"T_3a567_row2_col4\" class=\"data row2 col4\" >nan</td>\n",
       "    </tr>\n",
       "    <tr>\n",
       "      <th id=\"T_3a567_level0_row3\" class=\"row_heading level0 row3\" >SO</th>\n",
       "      <td id=\"T_3a567_row3_col0\" class=\"data row3 col0\" >nan</td>\n",
       "      <td id=\"T_3a567_row3_col1\" class=\"data row3 col1\" >nan</td>\n",
       "      <td id=\"T_3a567_row3_col2\" class=\"data row3 col2\" >nan</td>\n",
       "      <td id=\"T_3a567_row3_col3\" class=\"data row3 col3\" >0.004</td>\n",
       "      <td id=\"T_3a567_row3_col4\" class=\"data row3 col4\" >nan</td>\n",
       "    </tr>\n",
       "  </tbody>\n",
       "</table>\n"
      ],
      "text/plain": [
       "<pandas.io.formats.style.Styler at 0x144ba77d520>"
      ]
     },
     "execution_count": 95,
     "metadata": {},
     "output_type": "execute_result"
    },
    {
     "data": {
      "image/png": "[encoded data removed]",
      "text/plain": [
       "<Figure size 720x720 with 2 Axes>"
      ]
     },
     "metadata": {
      "needs_background": "light"
     },
     "output_type": "display_data"
    }
   ],
   "source": [
    "mask_matrix = (pvalues >= 0.02) # increase the level of significance\n",
    "\n",
    "mask_df = pd.DataFrame(mask_matrix, index= new_tickers, columns = new_tickers)\n",
    "scores_df = pd.DataFrame(scores, index= new_tickers, columns = new_tickers)\n",
    "pvalues_df = pd.DataFrame(pvalues, index= new_tickers, columns = new_tickers)\n",
    "\n",
    "df_f = pvalues_df[~mask_df].dropna(how='all', axis=1)\n",
    "df_f = df_f.dropna(how='all')\n",
    "\n",
    "def gold_apply(x):\n",
    "    color = {True: \"background-color: #c78f2e\", False: \"color : white\"}\n",
    "    is_color = (x > 0).replace(color)\n",
    "    return is_color\n",
    "\n",
    "# Another way to format table is applymap\n",
    "# def color_map(x):\n",
    "#     return f\"color: {'red' if x > 0 else 'white'}\"\n",
    "\n",
    "# df_f.style.applymap(color_map)\n",
    "\n",
    "fig, ax = plt.subplots(figsize=(10, 10))\n",
    "seaborn.heatmap(\n",
    "    df_f,\n",
    "    xticklabels=df_f.columns,\n",
    "    yticklabels=df_f.index,\n",
    "    cmap=\"summer\",\n",
    "    square=True\n",
    ")\n",
    "df_f.style.format(precision=3)\\\n",
    ".apply(gold_apply)"
   ]
  },
  {
   "cell_type": "markdown",
   "id": "4614131c",
   "metadata": {},
   "source": [
    "### Get List/Dic of Pairs"
   ]
  },
  {
   "cell_type": "code",
   "execution_count": 96,
   "id": "1781c8d9",
   "metadata": {
    "ExecuteTime": {
     "end_time": "2022-10-18T17:10:05.901669Z",
     "start_time": "2022-10-18T17:10:05.875627Z"
    }
   },
   "outputs": [
    {
     "data": {
      "text/plain": [
       "[('D', 'ES'),\n",
       " ('D', 'WEC'),\n",
       " ('D', 'XEL'),\n",
       " ('ES', 'WEC'),\n",
       " ('NI', 'OGE'),\n",
       " ('SO', 'WTRG')]"
      ]
     },
     "execution_count": 96,
     "metadata": {},
     "output_type": "execute_result"
    }
   ],
   "source": [
    "x_list = df_f.index.tolist()\n",
    "y_list = df_f.columns.tolist()\n",
    "\n",
    "new_pairs_list = [] # list of pairs as tuples (A,B)\n",
    "\n",
    "for i in range(len(x_list)):\n",
    "    for j in range(len(y_list)):\n",
    "        if df_f.iloc[i,j]>0:\n",
    "            new_pairs_list.append((x_list[i], y_list[j]))\n",
    "\n",
    "new_pairs_list"
   ]
  },
  {
   "cell_type": "code",
   "execution_count": 97,
   "id": "f00b57ed",
   "metadata": {
    "ExecuteTime": {
     "end_time": "2022-10-18T17:10:08.153127Z",
     "start_time": "2022-10-18T17:10:08.136127Z"
    }
   },
   "outputs": [
    {
     "data": {
      "text/plain": [
       "[['ES-D'], ['OGE-NI'], ['WEC-D', 'WEC-ES'], ['WTRG-SO'], ['XEL-D']]"
      ]
     },
     "execution_count": 97,
     "metadata": {},
     "output_type": "execute_result"
    }
   ],
   "source": [
    "new_pairs_str =[] # list of pairs as string A-B\n",
    "\n",
    "for column in df_f:\n",
    "    toprint = df_f.index[df_f[column]>0].tolist()\n",
    "    new_pairs_str.append([column + \"-\" + s for s in toprint])\n",
    "    \n",
    "new_pairs_str"
   ]
  },
  {
   "cell_type": "code",
   "execution_count": 98,
   "id": "e49949a9",
   "metadata": {
    "ExecuteTime": {
     "end_time": "2022-10-18T17:10:14.105624Z",
     "start_time": "2022-10-18T17:10:14.086630Z"
    }
   },
   "outputs": [
    {
     "data": {
      "text/plain": [
       "{'ES': ['D'], 'OGE': ['NI'], 'WEC': ['D', 'ES'], 'WTRG': ['SO'], 'XEL': ['D']}"
      ]
     },
     "execution_count": 98,
     "metadata": {},
     "output_type": "execute_result"
    }
   ],
   "source": [
    "new_pairs_dic= {} # list of pairs as dictionary {'A':['B','C']}\n",
    "\n",
    "for column in df_f:\n",
    "    new_pairs_dic[column] = df_f.index[df_f[column]>0].tolist()\n",
    "\n",
    "new_pairs_dic"
   ]
  },
  {
   "cell_type": "markdown",
   "id": "076eef21",
   "metadata": {},
   "source": [
    "### Save to file\n",
    "Save dataframa as pickle to use for the next steps"
   ]
  },
  {
   "cell_type": "code",
   "execution_count": 99,
   "id": "de86246e",
   "metadata": {
    "ExecuteTime": {
     "end_time": "2022-10-18T17:10:17.542286Z",
     "start_time": "2022-10-18T17:10:17.525302Z"
    }
   },
   "outputs": [],
   "source": [
    "df_f.to_pickle(\"pairs_to_download.pkl\")"
   ]
  },
  {
   "cell_type": "code",
   "execution_count": null,
   "id": "daab1717",
   "metadata": {},
   "outputs": [],
   "source": []
  }
 ],
 "metadata": {
  "kernelspec": {
   "display_name": "Python 3 (ipykernel)",
   "language": "python",
   "name": "python3"
  },
  "language_info": {
   "codemirror_mode": {
    "name": "ipython",
    "version": 3
   },
   "file_extension": ".py",
   "mimetype": "text/x-python",
   "name": "python",
   "nbconvert_exporter": "python",
   "pygments_lexer": "ipython3",
   "version": "3.9.7"
  }
 },
 "nbformat": 4,
 "nbformat_minor": 5
}
